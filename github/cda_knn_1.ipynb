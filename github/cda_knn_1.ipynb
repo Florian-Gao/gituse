{
 "cells": [
  {
   "cell_type": "markdown",
   "metadata": {},
   "source": [
    "# k_近邻算法\n",
    "- 1.优点\n",
    "  * 简单好用，容易理解，精度高，理论成熟，既可以用来做分类也可以用来做回归\n",
    "  * 可用于数值型数据和离散型数据\n",
    "  * 无数据输入假定\n",
    "  * 适合对稀有事件进行分类\n",
    "- 2.缺点\n",
    "  * 计算复杂性高;空间复杂性高;\n",
    "  * 计算量太大，所以一般数值很大的时候不用这个\n",
    "  * 样本不平衡问题(即有些类别的样本数量很多，而其它样本的数量很少)\n",
    "  * 可理解性比较差，无法给出数据的内在含义"
   ]
  },
  {
   "cell_type": "markdown",
   "metadata": {},
   "source": [
    "### 1.k 近邻算法 python 实现"
   ]
  },
  {
   "cell_type": "markdown",
   "metadata": {},
   "source": [
    "#### 1.1构建数据集"
   ]
  },
  {
   "cell_type": "code",
   "execution_count": 2,
   "metadata": {},
   "outputs": [
    {
     "data": {
      "text/html": [
       "<div>\n",
       "<style scoped>\n",
       "    .dataframe tbody tr th:only-of-type {\n",
       "        vertical-align: middle;\n",
       "    }\n",
       "\n",
       "    .dataframe tbody tr th {\n",
       "        vertical-align: top;\n",
       "    }\n",
       "\n",
       "    .dataframe thead th {\n",
       "        text-align: right;\n",
       "    }\n",
       "</style>\n",
       "<table border=\"1\" class=\"dataframe\">\n",
       "  <thead>\n",
       "    <tr style=\"text-align: right;\">\n",
       "      <th></th>\n",
       "      <th>电影名称</th>\n",
       "      <th>打斗镜头</th>\n",
       "      <th>接吻镜头</th>\n",
       "      <th>电影类型</th>\n",
       "    </tr>\n",
       "  </thead>\n",
       "  <tbody>\n",
       "    <tr>\n",
       "      <th>0</th>\n",
       "      <td>无问西东</td>\n",
       "      <td>1</td>\n",
       "      <td>101</td>\n",
       "      <td>爱情片</td>\n",
       "    </tr>\n",
       "    <tr>\n",
       "      <th>1</th>\n",
       "      <td>后来的我们</td>\n",
       "      <td>5</td>\n",
       "      <td>89</td>\n",
       "      <td>爱情片</td>\n",
       "    </tr>\n",
       "    <tr>\n",
       "      <th>2</th>\n",
       "      <td>前任3</td>\n",
       "      <td>12</td>\n",
       "      <td>97</td>\n",
       "      <td>爱情片</td>\n",
       "    </tr>\n",
       "    <tr>\n",
       "      <th>3</th>\n",
       "      <td>红海行动</td>\n",
       "      <td>108</td>\n",
       "      <td>5</td>\n",
       "      <td>动作片</td>\n",
       "    </tr>\n",
       "    <tr>\n",
       "      <th>4</th>\n",
       "      <td>唐人街探案</td>\n",
       "      <td>112</td>\n",
       "      <td>9</td>\n",
       "      <td>动作片</td>\n",
       "    </tr>\n",
       "    <tr>\n",
       "      <th>5</th>\n",
       "      <td>战狼2</td>\n",
       "      <td>115</td>\n",
       "      <td>8</td>\n",
       "      <td>动作片</td>\n",
       "    </tr>\n",
       "  </tbody>\n",
       "</table>\n",
       "</div>"
      ],
      "text/plain": [
       "    电影名称  打斗镜头  接吻镜头 电影类型\n",
       "0   无问西东     1   101  爱情片\n",
       "1  后来的我们     5    89  爱情片\n",
       "2    前任3    12    97  爱情片\n",
       "3   红海行动   108     5  动作片\n",
       "4  唐人街探案   112     9  动作片\n",
       "5    战狼2   115     8  动作片"
      ]
     },
     "execution_count": 2,
     "metadata": {},
     "output_type": "execute_result"
    }
   ],
   "source": [
    "import pandas as pd\n",
    "#先创建字典\n",
    "rowdata={'电影名称':['无问西东','后来的我们','前任3','红海行动','唐人街探案','战狼2'], \n",
    "         '打斗镜头':[1,5,12,108,112,115],\n",
    "         '接吻镜头':[101,89,97,5,9,8],\n",
    "         '电影类型':['爱情片','爱情片','爱情片','动作片','动作片','动作片']} \n",
    "#创建成表格a\n",
    "movie_data= pd.DataFrame(rowdata)\n",
    "movie_data"
   ]
  },
  {
   "cell_type": "markdown",
   "metadata": {},
   "source": [
    "#### 1.2计算已知类别数据集中的点与当前点之间的距离"
   ]
  },
  {
   "cell_type": "code",
   "execution_count": 5,
   "metadata": {},
   "outputs": [
    {
     "data": {
      "text/plain": [
       "[41.048751503547585,\n",
       " 29.068883707497267,\n",
       " 32.31098884280702,\n",
       " 104.4030650891055,\n",
       " 105.39449701004318,\n",
       " 108.45275469069469]"
      ]
     },
     "execution_count": 5,
     "metadata": {},
     "output_type": "execute_result"
    }
   ],
   "source": [
    "new_data=[24,67]\n",
    "#iloc 选取行和列 打斗镜头和接吻镜头 运用到矩阵运算 行相加为 axis=1 \n",
    "dist=list((((movie_data.iloc[:6,1:3]-new_data)**2).sum(1))**0.5)\n",
    "dist     "
   ]
  },
  {
   "cell_type": "markdown",
   "metadata": {},
   "source": [
    "#### 1.3 将距离升序排列，选取值最小的k个点"
   ]
  },
  {
   "cell_type": "code",
   "execution_count": 6,
   "metadata": {},
   "outputs": [
    {
     "data": {
      "text/html": [
       "<div>\n",
       "<style scoped>\n",
       "    .dataframe tbody tr th:only-of-type {\n",
       "        vertical-align: middle;\n",
       "    }\n",
       "\n",
       "    .dataframe tbody tr th {\n",
       "        vertical-align: top;\n",
       "    }\n",
       "\n",
       "    .dataframe thead th {\n",
       "        text-align: right;\n",
       "    }\n",
       "</style>\n",
       "<table border=\"1\" class=\"dataframe\">\n",
       "  <thead>\n",
       "    <tr style=\"text-align: right;\">\n",
       "      <th></th>\n",
       "      <th>dist</th>\n",
       "      <th>labels</th>\n",
       "    </tr>\n",
       "  </thead>\n",
       "  <tbody>\n",
       "    <tr>\n",
       "      <th>1</th>\n",
       "      <td>29.068884</td>\n",
       "      <td>爱情片</td>\n",
       "    </tr>\n",
       "    <tr>\n",
       "      <th>2</th>\n",
       "      <td>32.310989</td>\n",
       "      <td>爱情片</td>\n",
       "    </tr>\n",
       "    <tr>\n",
       "      <th>0</th>\n",
       "      <td>41.048752</td>\n",
       "      <td>爱情片</td>\n",
       "    </tr>\n",
       "    <tr>\n",
       "      <th>3</th>\n",
       "      <td>104.403065</td>\n",
       "      <td>动作片</td>\n",
       "    </tr>\n",
       "  </tbody>\n",
       "</table>\n",
       "</div>"
      ],
      "text/plain": [
       "         dist labels\n",
       "1   29.068884    爱情片\n",
       "2   32.310989    爱情片\n",
       "0   41.048752    爱情片\n",
       "3  104.403065    动作片"
      ]
     },
     "execution_count": 6,
     "metadata": {},
     "output_type": "execute_result"
    }
   ],
   "source": [
    "#把dist和电影类型进行联系，组成数据结构\n",
    "dist_1=pd.DataFrame({'dist':dist,'labels':(movie_data.iloc[:6,3])})\n",
    "#按照dist数值进行排序，选出前四个数字\n",
    "dr=dist_1.sort_values(by='dist')[:4]\n",
    "dr"
   ]
  },
  {
   "cell_type": "markdown",
   "metadata": {},
   "source": [
    "#### 1.4确定前k个点所在类别的出现频率"
   ]
  },
  {
   "cell_type": "code",
   "execution_count": 9,
   "metadata": {},
   "outputs": [
    {
     "name": "stderr",
     "output_type": "stream",
     "text": [
      "/Users/Florian_Gao/anaconda3/lib/python3.7/site-packages/ipykernel_launcher.py:2: DeprecationWarning: \n",
      ".ix is deprecated. Please use\n",
      ".loc for label based indexing or\n",
      ".iloc for positional indexing\n",
      "\n",
      "See the documentation here:\n",
      "http://pandas.pydata.org/pandas-docs/stable/indexing.html#ix-indexer-is-deprecated\n",
      "  \n"
     ]
    },
    {
     "data": {
      "text/plain": [
       "爱情片    3\n",
       "动作片    1\n",
       "Name: labels, dtype: int64"
      ]
     },
     "execution_count": 9,
     "metadata": {},
     "output_type": "execute_result"
    }
   ],
   "source": [
    "#把dr的数据进行统计\n",
    "re=dr.ix[:,'labels'].value_counts()\n",
    "re"
   ]
  },
  {
   "cell_type": "markdown",
   "metadata": {},
   "source": [
    "#### 1.5选择频率最高的类别当作当前点的预测类别"
   ]
  },
  {
   "cell_type": "code",
   "execution_count": 10,
   "metadata": {},
   "outputs": [
    {
     "data": {
      "text/plain": [
       "['爱情片']"
      ]
     },
     "execution_count": 10,
     "metadata": {},
     "output_type": "execute_result"
    }
   ],
   "source": [
    "result=[]\n",
    "#选择re里面的第一个，也就是出现次数最多的那一个\n",
    "result.append(re.index[0])\n",
    "result"
   ]
  },
  {
   "cell_type": "markdown",
   "metadata": {},
   "source": [
    "### 2.封装函数"
   ]
  },
  {
   "cell_type": "code",
   "execution_count": 13,
   "metadata": {},
   "outputs": [],
   "source": [
    " import pandas as pd \n",
    "''' \n",
    "    函数功能:KNN分类器 \n",
    "    参数说明:\n",
    "            new_data:需要预测分类的数据集 \n",
    "            dataSet:已知分类标签的数据集(训练集) \n",
    "            k:k-近邻算法参数，选择距离最小的k个点\n",
    "    返回: \n",
    "            result:分类结果\n",
    "'''\n",
    "def  classify0(inX,dataSet,k):\n",
    "    #先定义一个空列表\n",
    "    result = []\n",
    "    #计算距离\n",
    "    dist = list((((dataSet.iloc[:,1:3]-inX)**2).sum(1))**0.5)\n",
    "    #建立距离与电影类别的dataframe\n",
    "    dist_l = pd.DataFrame({'dist':dist,'labels':(dataSet.iloc[:, 3])})\n",
    "    #sort排序，选择前k个数据\n",
    "    dr = dist_l.sort_values(by = 'dist')[: k]\n",
    "    #进行统计\n",
    "    re = dr.loc[:, 'labels'].value_counts()\n",
    "    #找到数据最多的，分类完成\n",
    "    result.append(re.index[0])\n",
    "    return result"
   ]
  },
  {
   "cell_type": "code",
   "execution_count": 14,
   "metadata": {},
   "outputs": [
    {
     "data": {
      "text/plain": [
       "['爱情片']"
      ]
     },
     "execution_count": 14,
     "metadata": {},
     "output_type": "execute_result"
    }
   ],
   "source": [
    "inX = new_data\n",
    "dataSet = movie_data\n",
    "k=3 \n",
    "classify0(inX,dataSet,k)\n",
    " "
   ]
  },
  {
   "cell_type": "markdown",
   "metadata": {},
   "source": [
    "### 3.k-近邻算法-约会网站配对效果判定"
   ]
  },
  {
   "cell_type": "markdown",
   "metadata": {},
   "source": [
    "海伦一直使用在线约会网站寻找适合自己的约会对象，尽管约会网站会推荐不同的人选，但她并不是每一个都喜\n",
    "欢，经过一番总结，她发现曾经交往的对象可以分为三类:\n",
    "  * 不喜欢的人\n",
    "  * 魅力一般的人\n",
    "  * 极具魅力得人\n",
    "\n",
    "海伦收集约会数据已经有了一段时间，她把这些数据存放在文本文件datingTestSet.txt中，其中各字段分别为:\n",
    "- 1. 每年飞行常客里程\n",
    "- 2. 玩游戏视频所占时间比 \n",
    "- 3. 每周消费冰淇淋公升数"
   ]
  },
  {
   "cell_type": "markdown",
   "metadata": {},
   "source": [
    "#### 3.1 准备数据"
   ]
  },
  {
   "cell_type": "code",
   "execution_count": 20,
   "metadata": {},
   "outputs": [
    {
     "name": "stderr",
     "output_type": "stream",
     "text": [
      "/Users/Florian_Gao/anaconda3/lib/python3.7/site-packages/ipykernel_launcher.py:2: FutureWarning: read_table is deprecated, use read_csv instead, passing sep='\\t'.\n",
      "  \n"
     ]
    },
    {
     "data": {
      "text/html": [
       "<div>\n",
       "<style scoped>\n",
       "    .dataframe tbody tr th:only-of-type {\n",
       "        vertical-align: middle;\n",
       "    }\n",
       "\n",
       "    .dataframe tbody tr th {\n",
       "        vertical-align: top;\n",
       "    }\n",
       "\n",
       "    .dataframe thead th {\n",
       "        text-align: right;\n",
       "    }\n",
       "</style>\n",
       "<table border=\"1\" class=\"dataframe\">\n",
       "  <thead>\n",
       "    <tr style=\"text-align: right;\">\n",
       "      <th></th>\n",
       "      <th>0</th>\n",
       "      <th>1</th>\n",
       "      <th>2</th>\n",
       "      <th>3</th>\n",
       "    </tr>\n",
       "  </thead>\n",
       "  <tbody>\n",
       "    <tr>\n",
       "      <th>0</th>\n",
       "      <td>40920</td>\n",
       "      <td>8.326976</td>\n",
       "      <td>0.953952</td>\n",
       "      <td>largeDoses</td>\n",
       "    </tr>\n",
       "    <tr>\n",
       "      <th>1</th>\n",
       "      <td>14488</td>\n",
       "      <td>7.153469</td>\n",
       "      <td>1.673904</td>\n",
       "      <td>smallDoses</td>\n",
       "    </tr>\n",
       "    <tr>\n",
       "      <th>2</th>\n",
       "      <td>26052</td>\n",
       "      <td>1.441871</td>\n",
       "      <td>0.805124</td>\n",
       "      <td>didntLike</td>\n",
       "    </tr>\n",
       "    <tr>\n",
       "      <th>3</th>\n",
       "      <td>75136</td>\n",
       "      <td>13.147394</td>\n",
       "      <td>0.428964</td>\n",
       "      <td>didntLike</td>\n",
       "    </tr>\n",
       "    <tr>\n",
       "      <th>4</th>\n",
       "      <td>38344</td>\n",
       "      <td>1.669788</td>\n",
       "      <td>0.134296</td>\n",
       "      <td>didntLike</td>\n",
       "    </tr>\n",
       "  </tbody>\n",
       "</table>\n",
       "</div>"
      ],
      "text/plain": [
       "       0          1         2           3\n",
       "0  40920   8.326976  0.953952  largeDoses\n",
       "1  14488   7.153469  1.673904  smallDoses\n",
       "2  26052   1.441871  0.805124   didntLike\n",
       "3  75136  13.147394  0.428964   didntLike\n",
       "4  38344   1.669788  0.134296   didntLike"
      ]
     },
     "execution_count": 20,
     "metadata": {},
     "output_type": "execute_result"
    }
   ],
   "source": [
    "#将数据读取,绝对路径\n",
    "datingTest = pd.read_table('/Users/Florian_Gao/Documents/13-菊安酱机器学习/数据集/datingTestSet.txt',header=None)\n",
    "datingTest.head()"
   ]
  },
  {
   "cell_type": "code",
   "execution_count": 21,
   "metadata": {},
   "outputs": [
    {
     "data": {
      "text/plain": [
       "(1000, 4)"
      ]
     },
     "execution_count": 21,
     "metadata": {},
     "output_type": "execute_result"
    }
   ],
   "source": [
    "datingTest.shape"
   ]
  },
  {
   "cell_type": "code",
   "execution_count": 59,
   "metadata": {},
   "outputs": [],
   "source": [
    "#详细信息\n",
    "#datingTest.info"
   ]
  },
  {
   "cell_type": "markdown",
   "metadata": {},
   "source": [
    "#### 3.2 分析数据"
   ]
  },
  {
   "cell_type": "code",
   "execution_count": 35,
   "metadata": {},
   "outputs": [
    {
     "data": {
      "text/plain": [
       "Text(0, 0.5, '每周消费冰淇淋公升数')"
      ]
     },
     "execution_count": 35,
     "metadata": {},
     "output_type": "execute_result"
    },
    {
     "data": {
      "image/png": "[encoded data removed]",
      "text/plain": [
       "<Figure size 864x576 with 1 Axes>"
      ]
     },
     "metadata": {
      "needs_background": "light"
     },
     "output_type": "display_data"
    }
   ],
   "source": [
    "#建立plt\n",
    "%matplotlib inline\n",
    "import matplotlib as mpl\n",
    "#mpl.matplotlib_fname()\n",
    "import matplotlib.pyplot as plt\n",
    "#与下面联系\n",
    "from matplotlib.font_manager import FontManager, FontProperties\n",
    "\n",
    "\n",
    "#把不同标签用颜色区分\n",
    "Colors = []\n",
    "#shape[0]是行\n",
    "for i in range(datingTest.shape[0]):\n",
    "    #m是最后一行的属性，喜欢，一般，还是不喜欢\n",
    "    m = datingTest.iloc[i,-1]\n",
    "    if m=='didntLike':\n",
    "        Colors.append('black')\n",
    "    if m=='smallDoses':\n",
    "        Colors.append('orange')\n",
    "    if m=='largeDoses':\n",
    "        Colors.append('red')\n",
    "\n",
    "#配置字体 解决matplotlib不显示中文的问题\n",
    "#plt.rc('font', family='SimHei', size=13)\n",
    "#plt.rcParams['font.sans-serif']=['KaiTi'] #用来正常显示中文标签\n",
    "#plt.rcParams['axes.unicode_minus']=False #用来正常显示负号\n",
    "#唯一解决的办法\n",
    "def getChineseFont():\n",
    "    return FontProperties(fname='/System/Library/Fonts/PingFang.ttc')\n",
    "''' \n",
    "if __name__ == '__main__':\n",
    "    plot.title(u\"我是道哥\", fontproperties=getChineseFont())\n",
    "    plot.show()\n",
    "'''\n",
    "    \n",
    "#绘制两两特征之间的散点图\n",
    "#设置图片的大小\n",
    "pl=plt.figure(figsize=(12,8))\n",
    "#参数 ，第一个是总行数，第二个总列数，第三个此图位置\n",
    "fig1=pl.add_subplot(221) \n",
    "\n",
    "plt.scatter(datingTest.iloc[:,1],datingTest.iloc[:,2],marker='.',c=Colors) \n",
    "plt.xlabel('玩游戏视频所占时间比',fontproperties=getChineseFont())\n",
    "plt.ylabel('每周消费冰淇淋公升数',fontproperties=getChineseFont())"
   ]
  },
  {
   "cell_type": "code",
   "execution_count": 38,
   "metadata": {},
   "outputs": [
    {
     "name": "stderr",
     "output_type": "stream",
     "text": [
      "/Users/Florian_Gao/anaconda3/lib/python3.7/site-packages/matplotlib/figure.py:98: MatplotlibDeprecationWarning: \n",
      "Adding an axes using the same arguments as a previous axes currently reuses the earlier instance.  In a future version, a new instance will always be created and returned.  Meanwhile, this warning can be suppressed, and the future behavior ensured, by passing a unique label to each axes instance.\n",
      "  \"Adding an axes using the same arguments as a previous axes \"\n"
     ]
    },
    {
     "data": {
      "text/plain": [
       "Text(0, 0.5, '玩游戏视频所占时间比')"
      ]
     },
     "execution_count": 38,
     "metadata": {},
     "output_type": "execute_result"
    },
    {
     "data": {
      "image/png": "[encoded data removed]",
      "text/plain": [
       "<Figure size 432x288 with 1 Axes>"
      ]
     },
     "metadata": {
      "needs_background": "light"
     },
     "output_type": "display_data"
    }
   ],
   "source": [
    "fig2=pl.add_subplot(222) \n",
    "plt.scatter(datingTest.iloc[:,0],datingTest.iloc[:,1],marker='.',c=Colors) \n",
    "plt.xlabel('每年飞行常客里程',fontproperties=getChineseFont())\n",
    "plt.ylabel('玩游戏视频所占时间比',fontproperties=getChineseFont())"
   ]
  },
  {
   "cell_type": "code",
   "execution_count": 41,
   "metadata": {},
   "outputs": [
    {
     "data": {
      "image/png": "[encoded data removed]",
      "text/plain": [
       "<Figure size 432x288 with 1 Axes>"
      ]
     },
     "metadata": {
      "needs_background": "light"
     },
     "output_type": "display_data"
    }
   ],
   "source": [
    "fig3=pl.add_subplot(223) \n",
    "plt.scatter(datingTest.iloc[:,0],datingTest.iloc[:,2],marker='.',c=Colors) \n",
    "plt.xlabel('每年飞行常客里程',fontproperties=getChineseFont())\n",
    "plt.ylabel('每周消费冰淇淋公升数',fontproperties=getChineseFont())\n",
    "plt.show()"
   ]
  },
  {
   "cell_type": "markdown",
   "metadata": {},
   "source": [
    "#### 3.3 数据归一化"
   ]
  },
  {
   "cell_type": "markdown",
   "metadata": {},
   "source": [
    "我们很容易发现，上面公式中差值最大的属性对计算结果的影响最大，也就是说每年飞行常客里程对计算结果的影\n",
    "响远远大于其他两个特征，原因仅仅是因为它的数值比较大，但是在海伦看来这三个特征是同等重要的，所以接下\n",
    "来我们要进行数值归一化的处理，使得这三个特征的权重相等。\n",
    "\n",
    "###### 数据归一化的处理方法有很多种，\n",
    "比如0-1标准化、Z-score标准化、Sigmoid压缩法等等，在这里我们使用最简单 的0-1标准化，公式如下:        \n",
    "                                             $x_{normalization}=\\frac{x-Min}{Max-Min}$"
   ]
  },
  {
   "cell_type": "code",
   "execution_count": 42,
   "metadata": {},
   "outputs": [
    {
     "data": {
      "text/html": [
       "<div>\n",
       "<style scoped>\n",
       "    .dataframe tbody tr th:only-of-type {\n",
       "        vertical-align: middle;\n",
       "    }\n",
       "\n",
       "    .dataframe tbody tr th {\n",
       "        vertical-align: top;\n",
       "    }\n",
       "\n",
       "    .dataframe thead th {\n",
       "        text-align: right;\n",
       "    }\n",
       "</style>\n",
       "<table border=\"1\" class=\"dataframe\">\n",
       "  <thead>\n",
       "    <tr style=\"text-align: right;\">\n",
       "      <th></th>\n",
       "      <th>0</th>\n",
       "      <th>1</th>\n",
       "      <th>2</th>\n",
       "      <th>3</th>\n",
       "    </tr>\n",
       "  </thead>\n",
       "  <tbody>\n",
       "    <tr>\n",
       "      <th>0</th>\n",
       "      <td>0.448325</td>\n",
       "      <td>0.398051</td>\n",
       "      <td>0.562334</td>\n",
       "      <td>largeDoses</td>\n",
       "    </tr>\n",
       "    <tr>\n",
       "      <th>1</th>\n",
       "      <td>0.158733</td>\n",
       "      <td>0.341955</td>\n",
       "      <td>0.987244</td>\n",
       "      <td>smallDoses</td>\n",
       "    </tr>\n",
       "    <tr>\n",
       "      <th>2</th>\n",
       "      <td>0.285429</td>\n",
       "      <td>0.068925</td>\n",
       "      <td>0.474496</td>\n",
       "      <td>didntLike</td>\n",
       "    </tr>\n",
       "    <tr>\n",
       "      <th>3</th>\n",
       "      <td>0.823201</td>\n",
       "      <td>0.628480</td>\n",
       "      <td>0.252489</td>\n",
       "      <td>didntLike</td>\n",
       "    </tr>\n",
       "    <tr>\n",
       "      <th>4</th>\n",
       "      <td>0.420102</td>\n",
       "      <td>0.079820</td>\n",
       "      <td>0.078578</td>\n",
       "      <td>didntLike</td>\n",
       "    </tr>\n",
       "  </tbody>\n",
       "</table>\n",
       "</div>"
      ],
      "text/plain": [
       "          0         1         2           3\n",
       "0  0.448325  0.398051  0.562334  largeDoses\n",
       "1  0.158733  0.341955  0.987244  smallDoses\n",
       "2  0.285429  0.068925  0.474496   didntLike\n",
       "3  0.823201  0.628480  0.252489   didntLike\n",
       "4  0.420102  0.079820  0.078578   didntLike"
      ]
     },
     "execution_count": 42,
     "metadata": {},
     "output_type": "execute_result"
    }
   ],
   "source": [
    "\"\"\"\n",
    "函数功能:归一化\n",
    "参数说明:\n",
    "dataSet:原始数据集 返回:0-1标准化之后的数据集 \n",
    "\"\"\"\n",
    "def minmax(dataSet):\n",
    "    minDf = dataSet.min()\n",
    "    maxDf = dataSet.max()\n",
    "    normSet = (dataSet - minDf )/(maxDf - minDf)\n",
    "    return normSet\n",
    "\n",
    "#concat 是拼合 axis=1是列拼接\n",
    "datingT = pd.concat([minmax(datingTest.iloc[:, :3]), datingTest.iloc[:,3]], axis=1)\n",
    "datingT.head()"
   ]
  },
  {
   "cell_type": "markdown",
   "metadata": {},
   "source": [
    "#### 3.4划分训练集和测试集"
   ]
  },
  {
   "cell_type": "markdown",
   "metadata": {},
   "source": [
    "为了测试分类器的效果，我们可以把原始数据集分为训练集和测试集两部分，训练集用来训练模型，测试集用来验证模型准确率\n",
    "#### <font color='red'>Scikit Learn官网上也有相应的函数比如model_selection 类中的train_test_split 函数也可以完成训练集和测试集的切分</font>\n",
    "通常来说，我们只提供已有数据的90%作为训练样本来训练模型，其余10%的数据用来测试模型。这里需要注意的 10%的测试数据一定要是随机选择出来的，由于海伦提供的数据并没有按照特定的目的来排序，所以我们这里可以 随意选择10%的数据而不影响其随机性。"
   ]
  },
  {
   "cell_type": "code",
   "execution_count": 43,
   "metadata": {},
   "outputs": [],
   "source": [
    "\"\"\"\n",
    "函数功能:切分训练集和测试集\n",
    "参数说明:\n",
    "dataSet:原始数据集\n",
    "rate:训练集所占比例 返回:切分好的训练集和测试集 \"\"\"\n",
    "def randSplit(dataSet,rate=0.9):\n",
    "    n = dataSet.shape[0]\n",
    "    m = int(n*rate)\n",
    "    train = dataSet.iloc[:m,:]\n",
    "    test = dataSet.iloc[m:,:]\n",
    "    test.index = range(test.shape[0])\n",
    "    return train,test"
   ]
  },
  {
   "cell_type": "code",
   "execution_count": 60,
   "metadata": {},
   "outputs": [
    {
     "data": {
      "text/plain": [
       "RangeIndex(start=0, stop=100, step=1)"
      ]
     },
     "execution_count": 60,
     "metadata": {},
     "output_type": "execute_result"
    }
   ],
   "source": [
    "#datingT是已经数据归一化的df\n",
    "train,test = randSplit(datingT)\n",
    "#train有900，test有100\n",
    "#train\n",
    "#test\n",
    "test.index"
   ]
  },
  {
   "cell_type": "markdown",
   "metadata": {},
   "source": [
    "#### 3.5 分类器针对于约会网站的测试代码"
   ]
  },
  {
   "cell_type": "markdown",
   "metadata": {},
   "source": [
    "接下来，我们一起来构建针对于这个约会网站数据的分类器，上面我们已经将原始数据集进行归一化处理然后也切 分了训练集和测试集，所以我们的函数的输入参数就可以是train、test和k(k-近邻算法的参数，也就是选择的距离 最小的k个点)"
   ]
  },
  {
   "cell_type": "code",
   "execution_count": 63,
   "metadata": {},
   "outputs": [],
   "source": [
    "\"\"\" \n",
    "函数功能:k-近邻算法分类器 参数说明:\n",
    "train:训练集\n",
    "test:测试集 k:k-近邻参数，即选择距离最小的k个点\n",
    "返回:预测好分类的测试集\n",
    "\"\"\"\n",
    "def datingClass(train,test,k):\n",
    "    n = train.shape[1] - 1\n",
    "    m = test.shape[0]\n",
    "    result = []\n",
    "    for i in range(m):\n",
    "        #这里n是不包括最后一列的,因为先比较数字，然后得出一个是什么类来\n",
    "        dist = list((((test.iloc[i, :n]-train.iloc[:, :n]) ** 2).sum(1))**0.5)\n",
    "        dist_l = pd.DataFrame({'dist': dist, 'labels': (train.iloc[:, n])})\n",
    "        dr = dist_l.sort_values(by = 'dist')[: k]\n",
    "        #统计label的数量\n",
    "        re = dr.loc[:, 'labels'].value_counts()\n",
    "        result.append(re.index[0])\n",
    "    \n",
    "    #把result变成一个列表\n",
    "    result = pd.Series(result)\n",
    "    #新增一列\n",
    "    test['predict'] = result\n",
    "    acc = (test.iloc[:,-1]==test.iloc[:,-2]).mean() \n",
    "    print('模型预测准确率为%f' %acc)\n",
    "    print(f'模型预测准确率为{acc}')\n",
    "    return test"
   ]
  },
  {
   "cell_type": "code",
   "execution_count": 64,
   "metadata": {},
   "outputs": [
    {
     "name": "stdout",
     "output_type": "stream",
     "text": [
      "模型预测准确率为0.950000\n",
      "模型预测准确率为0.95\n"
     ]
    },
    {
     "name": "stderr",
     "output_type": "stream",
     "text": [
      "/Users/Florian_Gao/anaconda3/lib/python3.7/site-packages/ipykernel_launcher.py:22: SettingWithCopyWarning: \n",
      "A value is trying to be set on a copy of a slice from a DataFrame.\n",
      "Try using .loc[row_indexer,col_indexer] = value instead\n",
      "\n",
      "See the caveats in the documentation: http://pandas.pydata.org/pandas-docs/stable/indexing.html#indexing-view-versus-copy\n"
     ]
    },
    {
     "data": {
      "text/html": [
       "<div>\n",
       "<style scoped>\n",
       "    .dataframe tbody tr th:only-of-type {\n",
       "        vertical-align: middle;\n",
       "    }\n",
       "\n",
       "    .dataframe tbody tr th {\n",
       "        vertical-align: top;\n",
       "    }\n",
       "\n",
       "    .dataframe thead th {\n",
       "        text-align: right;\n",
       "    }\n",
       "</style>\n",
       "<table border=\"1\" class=\"dataframe\">\n",
       "  <thead>\n",
       "    <tr style=\"text-align: right;\">\n",
       "      <th></th>\n",
       "      <th>0</th>\n",
       "      <th>1</th>\n",
       "      <th>2</th>\n",
       "      <th>3</th>\n",
       "      <th>predict</th>\n",
       "    </tr>\n",
       "  </thead>\n",
       "  <tbody>\n",
       "    <tr>\n",
       "      <th>0</th>\n",
       "      <td>0.513766</td>\n",
       "      <td>0.170320</td>\n",
       "      <td>0.262181</td>\n",
       "      <td>didntLike</td>\n",
       "      <td>didntLike</td>\n",
       "    </tr>\n",
       "    <tr>\n",
       "      <th>1</th>\n",
       "      <td>0.089599</td>\n",
       "      <td>0.154426</td>\n",
       "      <td>0.785277</td>\n",
       "      <td>smallDoses</td>\n",
       "      <td>smallDoses</td>\n",
       "    </tr>\n",
       "    <tr>\n",
       "      <th>2</th>\n",
       "      <td>0.611167</td>\n",
       "      <td>0.172689</td>\n",
       "      <td>0.915245</td>\n",
       "      <td>didntLike</td>\n",
       "      <td>didntLike</td>\n",
       "    </tr>\n",
       "    <tr>\n",
       "      <th>3</th>\n",
       "      <td>0.012578</td>\n",
       "      <td>0.000000</td>\n",
       "      <td>0.195477</td>\n",
       "      <td>smallDoses</td>\n",
       "      <td>smallDoses</td>\n",
       "    </tr>\n",
       "    <tr>\n",
       "      <th>4</th>\n",
       "      <td>0.110241</td>\n",
       "      <td>0.187926</td>\n",
       "      <td>0.287082</td>\n",
       "      <td>smallDoses</td>\n",
       "      <td>smallDoses</td>\n",
       "    </tr>\n",
       "    <tr>\n",
       "      <th>5</th>\n",
       "      <td>0.812113</td>\n",
       "      <td>0.705201</td>\n",
       "      <td>0.681085</td>\n",
       "      <td>didntLike</td>\n",
       "      <td>didntLike</td>\n",
       "    </tr>\n",
       "    <tr>\n",
       "      <th>6</th>\n",
       "      <td>0.729712</td>\n",
       "      <td>0.490545</td>\n",
       "      <td>0.960202</td>\n",
       "      <td>didntLike</td>\n",
       "      <td>didntLike</td>\n",
       "    </tr>\n",
       "    <tr>\n",
       "      <th>7</th>\n",
       "      <td>0.130301</td>\n",
       "      <td>0.133239</td>\n",
       "      <td>0.926158</td>\n",
       "      <td>smallDoses</td>\n",
       "      <td>smallDoses</td>\n",
       "    </tr>\n",
       "    <tr>\n",
       "      <th>8</th>\n",
       "      <td>0.557755</td>\n",
       "      <td>0.722409</td>\n",
       "      <td>0.780811</td>\n",
       "      <td>largeDoses</td>\n",
       "      <td>largeDoses</td>\n",
       "    </tr>\n",
       "    <tr>\n",
       "      <th>9</th>\n",
       "      <td>0.437051</td>\n",
       "      <td>0.247835</td>\n",
       "      <td>0.131156</td>\n",
       "      <td>largeDoses</td>\n",
       "      <td>didntLike</td>\n",
       "    </tr>\n",
       "    <tr>\n",
       "      <th>10</th>\n",
       "      <td>0.722174</td>\n",
       "      <td>0.184918</td>\n",
       "      <td>0.074908</td>\n",
       "      <td>didntLike</td>\n",
       "      <td>didntLike</td>\n",
       "    </tr>\n",
       "    <tr>\n",
       "      <th>11</th>\n",
       "      <td>0.719578</td>\n",
       "      <td>0.167690</td>\n",
       "      <td>0.016377</td>\n",
       "      <td>didntLike</td>\n",
       "      <td>didntLike</td>\n",
       "    </tr>\n",
       "    <tr>\n",
       "      <th>12</th>\n",
       "      <td>0.690193</td>\n",
       "      <td>0.526749</td>\n",
       "      <td>0.251657</td>\n",
       "      <td>didntLike</td>\n",
       "      <td>didntLike</td>\n",
       "    </tr>\n",
       "    <tr>\n",
       "      <th>13</th>\n",
       "      <td>0.403745</td>\n",
       "      <td>0.182242</td>\n",
       "      <td>0.386039</td>\n",
       "      <td>didntLike</td>\n",
       "      <td>didntLike</td>\n",
       "    </tr>\n",
       "    <tr>\n",
       "      <th>14</th>\n",
       "      <td>0.401751</td>\n",
       "      <td>0.528543</td>\n",
       "      <td>0.222839</td>\n",
       "      <td>largeDoses</td>\n",
       "      <td>largeDoses</td>\n",
       "    </tr>\n",
       "    <tr>\n",
       "      <th>15</th>\n",
       "      <td>0.425931</td>\n",
       "      <td>0.421948</td>\n",
       "      <td>0.590885</td>\n",
       "      <td>largeDoses</td>\n",
       "      <td>largeDoses</td>\n",
       "    </tr>\n",
       "    <tr>\n",
       "      <th>16</th>\n",
       "      <td>0.294479</td>\n",
       "      <td>0.534140</td>\n",
       "      <td>0.871767</td>\n",
       "      <td>largeDoses</td>\n",
       "      <td>largeDoses</td>\n",
       "    </tr>\n",
       "    <tr>\n",
       "      <th>17</th>\n",
       "      <td>0.506678</td>\n",
       "      <td>0.550039</td>\n",
       "      <td>0.248375</td>\n",
       "      <td>largeDoses</td>\n",
       "      <td>largeDoses</td>\n",
       "    </tr>\n",
       "    <tr>\n",
       "      <th>18</th>\n",
       "      <td>0.139811</td>\n",
       "      <td>0.372772</td>\n",
       "      <td>0.086617</td>\n",
       "      <td>largeDoses</td>\n",
       "      <td>smallDoses</td>\n",
       "    </tr>\n",
       "    <tr>\n",
       "      <th>19</th>\n",
       "      <td>0.386555</td>\n",
       "      <td>0.485440</td>\n",
       "      <td>0.807905</td>\n",
       "      <td>largeDoses</td>\n",
       "      <td>largeDoses</td>\n",
       "    </tr>\n",
       "    <tr>\n",
       "      <th>20</th>\n",
       "      <td>0.748370</td>\n",
       "      <td>0.508872</td>\n",
       "      <td>0.408589</td>\n",
       "      <td>didntLike</td>\n",
       "      <td>didntLike</td>\n",
       "    </tr>\n",
       "    <tr>\n",
       "      <th>21</th>\n",
       "      <td>0.342511</td>\n",
       "      <td>0.461926</td>\n",
       "      <td>0.897321</td>\n",
       "      <td>largeDoses</td>\n",
       "      <td>largeDoses</td>\n",
       "    </tr>\n",
       "    <tr>\n",
       "      <th>22</th>\n",
       "      <td>0.380770</td>\n",
       "      <td>0.515810</td>\n",
       "      <td>0.774052</td>\n",
       "      <td>largeDoses</td>\n",
       "      <td>largeDoses</td>\n",
       "    </tr>\n",
       "    <tr>\n",
       "      <th>23</th>\n",
       "      <td>0.146900</td>\n",
       "      <td>0.134351</td>\n",
       "      <td>0.129138</td>\n",
       "      <td>smallDoses</td>\n",
       "      <td>smallDoses</td>\n",
       "    </tr>\n",
       "    <tr>\n",
       "      <th>24</th>\n",
       "      <td>0.332683</td>\n",
       "      <td>0.469709</td>\n",
       "      <td>0.818801</td>\n",
       "      <td>largeDoses</td>\n",
       "      <td>largeDoses</td>\n",
       "    </tr>\n",
       "    <tr>\n",
       "      <th>25</th>\n",
       "      <td>0.117329</td>\n",
       "      <td>0.067943</td>\n",
       "      <td>0.399234</td>\n",
       "      <td>smallDoses</td>\n",
       "      <td>smallDoses</td>\n",
       "    </tr>\n",
       "    <tr>\n",
       "      <th>26</th>\n",
       "      <td>0.266585</td>\n",
       "      <td>0.531719</td>\n",
       "      <td>0.476847</td>\n",
       "      <td>largeDoses</td>\n",
       "      <td>largeDoses</td>\n",
       "    </tr>\n",
       "    <tr>\n",
       "      <th>27</th>\n",
       "      <td>0.498691</td>\n",
       "      <td>0.640661</td>\n",
       "      <td>0.389745</td>\n",
       "      <td>largeDoses</td>\n",
       "      <td>largeDoses</td>\n",
       "    </tr>\n",
       "    <tr>\n",
       "      <th>28</th>\n",
       "      <td>0.067687</td>\n",
       "      <td>0.057949</td>\n",
       "      <td>0.493195</td>\n",
       "      <td>smallDoses</td>\n",
       "      <td>smallDoses</td>\n",
       "    </tr>\n",
       "    <tr>\n",
       "      <th>29</th>\n",
       "      <td>0.116562</td>\n",
       "      <td>0.074976</td>\n",
       "      <td>0.765075</td>\n",
       "      <td>smallDoses</td>\n",
       "      <td>smallDoses</td>\n",
       "    </tr>\n",
       "    <tr>\n",
       "      <th>...</th>\n",
       "      <td>...</td>\n",
       "      <td>...</td>\n",
       "      <td>...</td>\n",
       "      <td>...</td>\n",
       "      <td>...</td>\n",
       "    </tr>\n",
       "    <tr>\n",
       "      <th>70</th>\n",
       "      <td>0.588465</td>\n",
       "      <td>0.580790</td>\n",
       "      <td>0.819148</td>\n",
       "      <td>largeDoses</td>\n",
       "      <td>largeDoses</td>\n",
       "    </tr>\n",
       "    <tr>\n",
       "      <th>71</th>\n",
       "      <td>0.705258</td>\n",
       "      <td>0.437379</td>\n",
       "      <td>0.515681</td>\n",
       "      <td>didntLike</td>\n",
       "      <td>didntLike</td>\n",
       "    </tr>\n",
       "    <tr>\n",
       "      <th>72</th>\n",
       "      <td>0.101772</td>\n",
       "      <td>0.462088</td>\n",
       "      <td>0.808077</td>\n",
       "      <td>smallDoses</td>\n",
       "      <td>smallDoses</td>\n",
       "    </tr>\n",
       "    <tr>\n",
       "      <th>73</th>\n",
       "      <td>0.664085</td>\n",
       "      <td>0.173051</td>\n",
       "      <td>0.169156</td>\n",
       "      <td>didntLike</td>\n",
       "      <td>didntLike</td>\n",
       "    </tr>\n",
       "    <tr>\n",
       "      <th>74</th>\n",
       "      <td>0.200914</td>\n",
       "      <td>0.250428</td>\n",
       "      <td>0.739211</td>\n",
       "      <td>smallDoses</td>\n",
       "      <td>smallDoses</td>\n",
       "    </tr>\n",
       "    <tr>\n",
       "      <th>75</th>\n",
       "      <td>0.250293</td>\n",
       "      <td>0.703453</td>\n",
       "      <td>0.886825</td>\n",
       "      <td>largeDoses</td>\n",
       "      <td>largeDoses</td>\n",
       "    </tr>\n",
       "    <tr>\n",
       "      <th>76</th>\n",
       "      <td>0.818161</td>\n",
       "      <td>0.690544</td>\n",
       "      <td>0.714136</td>\n",
       "      <td>didntLike</td>\n",
       "      <td>didntLike</td>\n",
       "    </tr>\n",
       "    <tr>\n",
       "      <th>77</th>\n",
       "      <td>0.374076</td>\n",
       "      <td>0.650571</td>\n",
       "      <td>0.214290</td>\n",
       "      <td>largeDoses</td>\n",
       "      <td>largeDoses</td>\n",
       "    </tr>\n",
       "    <tr>\n",
       "      <th>78</th>\n",
       "      <td>0.155062</td>\n",
       "      <td>0.150176</td>\n",
       "      <td>0.249725</td>\n",
       "      <td>smallDoses</td>\n",
       "      <td>smallDoses</td>\n",
       "    </tr>\n",
       "    <tr>\n",
       "      <th>79</th>\n",
       "      <td>0.102188</td>\n",
       "      <td>0.000000</td>\n",
       "      <td>0.070700</td>\n",
       "      <td>smallDoses</td>\n",
       "      <td>smallDoses</td>\n",
       "    </tr>\n",
       "    <tr>\n",
       "      <th>80</th>\n",
       "      <td>0.208068</td>\n",
       "      <td>0.021738</td>\n",
       "      <td>0.609152</td>\n",
       "      <td>smallDoses</td>\n",
       "      <td>smallDoses</td>\n",
       "    </tr>\n",
       "    <tr>\n",
       "      <th>81</th>\n",
       "      <td>0.100720</td>\n",
       "      <td>0.024394</td>\n",
       "      <td>0.008994</td>\n",
       "      <td>smallDoses</td>\n",
       "      <td>smallDoses</td>\n",
       "    </tr>\n",
       "    <tr>\n",
       "      <th>82</th>\n",
       "      <td>0.025035</td>\n",
       "      <td>0.184718</td>\n",
       "      <td>0.363083</td>\n",
       "      <td>smallDoses</td>\n",
       "      <td>smallDoses</td>\n",
       "    </tr>\n",
       "    <tr>\n",
       "      <th>83</th>\n",
       "      <td>0.104007</td>\n",
       "      <td>0.321426</td>\n",
       "      <td>0.331622</td>\n",
       "      <td>smallDoses</td>\n",
       "      <td>smallDoses</td>\n",
       "    </tr>\n",
       "    <tr>\n",
       "      <th>84</th>\n",
       "      <td>0.025977</td>\n",
       "      <td>0.205043</td>\n",
       "      <td>0.006732</td>\n",
       "      <td>smallDoses</td>\n",
       "      <td>smallDoses</td>\n",
       "    </tr>\n",
       "    <tr>\n",
       "      <th>85</th>\n",
       "      <td>0.152981</td>\n",
       "      <td>0.000000</td>\n",
       "      <td>0.847443</td>\n",
       "      <td>smallDoses</td>\n",
       "      <td>smallDoses</td>\n",
       "    </tr>\n",
       "    <tr>\n",
       "      <th>86</th>\n",
       "      <td>0.025188</td>\n",
       "      <td>0.178477</td>\n",
       "      <td>0.411431</td>\n",
       "      <td>smallDoses</td>\n",
       "      <td>smallDoses</td>\n",
       "    </tr>\n",
       "    <tr>\n",
       "      <th>87</th>\n",
       "      <td>0.057651</td>\n",
       "      <td>0.095729</td>\n",
       "      <td>0.813893</td>\n",
       "      <td>smallDoses</td>\n",
       "      <td>smallDoses</td>\n",
       "    </tr>\n",
       "    <tr>\n",
       "      <th>88</th>\n",
       "      <td>0.051045</td>\n",
       "      <td>0.119632</td>\n",
       "      <td>0.108045</td>\n",
       "      <td>smallDoses</td>\n",
       "      <td>smallDoses</td>\n",
       "    </tr>\n",
       "    <tr>\n",
       "      <th>89</th>\n",
       "      <td>0.192631</td>\n",
       "      <td>0.305083</td>\n",
       "      <td>0.516670</td>\n",
       "      <td>smallDoses</td>\n",
       "      <td>smallDoses</td>\n",
       "    </tr>\n",
       "    <tr>\n",
       "      <th>90</th>\n",
       "      <td>0.304033</td>\n",
       "      <td>0.408557</td>\n",
       "      <td>0.075279</td>\n",
       "      <td>largeDoses</td>\n",
       "      <td>largeDoses</td>\n",
       "    </tr>\n",
       "    <tr>\n",
       "      <th>91</th>\n",
       "      <td>0.108115</td>\n",
       "      <td>0.128827</td>\n",
       "      <td>0.254764</td>\n",
       "      <td>smallDoses</td>\n",
       "      <td>smallDoses</td>\n",
       "    </tr>\n",
       "    <tr>\n",
       "      <th>92</th>\n",
       "      <td>0.200859</td>\n",
       "      <td>0.188880</td>\n",
       "      <td>0.196029</td>\n",
       "      <td>smallDoses</td>\n",
       "      <td>smallDoses</td>\n",
       "    </tr>\n",
       "    <tr>\n",
       "      <th>93</th>\n",
       "      <td>0.041414</td>\n",
       "      <td>0.471152</td>\n",
       "      <td>0.193598</td>\n",
       "      <td>smallDoses</td>\n",
       "      <td>smallDoses</td>\n",
       "    </tr>\n",
       "    <tr>\n",
       "      <th>94</th>\n",
       "      <td>0.199292</td>\n",
       "      <td>0.098902</td>\n",
       "      <td>0.253058</td>\n",
       "      <td>smallDoses</td>\n",
       "      <td>smallDoses</td>\n",
       "    </tr>\n",
       "    <tr>\n",
       "      <th>95</th>\n",
       "      <td>0.122106</td>\n",
       "      <td>0.163037</td>\n",
       "      <td>0.372224</td>\n",
       "      <td>smallDoses</td>\n",
       "      <td>smallDoses</td>\n",
       "    </tr>\n",
       "    <tr>\n",
       "      <th>96</th>\n",
       "      <td>0.754287</td>\n",
       "      <td>0.476818</td>\n",
       "      <td>0.394621</td>\n",
       "      <td>didntLike</td>\n",
       "      <td>didntLike</td>\n",
       "    </tr>\n",
       "    <tr>\n",
       "      <th>97</th>\n",
       "      <td>0.291159</td>\n",
       "      <td>0.509103</td>\n",
       "      <td>0.510795</td>\n",
       "      <td>largeDoses</td>\n",
       "      <td>largeDoses</td>\n",
       "    </tr>\n",
       "    <tr>\n",
       "      <th>98</th>\n",
       "      <td>0.527111</td>\n",
       "      <td>0.436655</td>\n",
       "      <td>0.429005</td>\n",
       "      <td>largeDoses</td>\n",
       "      <td>largeDoses</td>\n",
       "    </tr>\n",
       "    <tr>\n",
       "      <th>99</th>\n",
       "      <td>0.479408</td>\n",
       "      <td>0.376809</td>\n",
       "      <td>0.785718</td>\n",
       "      <td>largeDoses</td>\n",
       "      <td>largeDoses</td>\n",
       "    </tr>\n",
       "  </tbody>\n",
       "</table>\n",
       "<p>100 rows × 5 columns</p>\n",
       "</div>"
      ],
      "text/plain": [
       "           0         1         2           3     predict\n",
       "0   0.513766  0.170320  0.262181   didntLike   didntLike\n",
       "1   0.089599  0.154426  0.785277  smallDoses  smallDoses\n",
       "2   0.611167  0.172689  0.915245   didntLike   didntLike\n",
       "3   0.012578  0.000000  0.195477  smallDoses  smallDoses\n",
       "4   0.110241  0.187926  0.287082  smallDoses  smallDoses\n",
       "5   0.812113  0.705201  0.681085   didntLike   didntLike\n",
       "6   0.729712  0.490545  0.960202   didntLike   didntLike\n",
       "7   0.130301  0.133239  0.926158  smallDoses  smallDoses\n",
       "8   0.557755  0.722409  0.780811  largeDoses  largeDoses\n",
       "9   0.437051  0.247835  0.131156  largeDoses   didntLike\n",
       "10  0.722174  0.184918  0.074908   didntLike   didntLike\n",
       "11  0.719578  0.167690  0.016377   didntLike   didntLike\n",
       "12  0.690193  0.526749  0.251657   didntLike   didntLike\n",
       "13  0.403745  0.182242  0.386039   didntLike   didntLike\n",
       "14  0.401751  0.528543  0.222839  largeDoses  largeDoses\n",
       "15  0.425931  0.421948  0.590885  largeDoses  largeDoses\n",
       "16  0.294479  0.534140  0.871767  largeDoses  largeDoses\n",
       "17  0.506678  0.550039  0.248375  largeDoses  largeDoses\n",
       "18  0.139811  0.372772  0.086617  largeDoses  smallDoses\n",
       "19  0.386555  0.485440  0.807905  largeDoses  largeDoses\n",
       "20  0.748370  0.508872  0.408589   didntLike   didntLike\n",
       "21  0.342511  0.461926  0.897321  largeDoses  largeDoses\n",
       "22  0.380770  0.515810  0.774052  largeDoses  largeDoses\n",
       "23  0.146900  0.134351  0.129138  smallDoses  smallDoses\n",
       "24  0.332683  0.469709  0.818801  largeDoses  largeDoses\n",
       "25  0.117329  0.067943  0.399234  smallDoses  smallDoses\n",
       "26  0.266585  0.531719  0.476847  largeDoses  largeDoses\n",
       "27  0.498691  0.640661  0.389745  largeDoses  largeDoses\n",
       "28  0.067687  0.057949  0.493195  smallDoses  smallDoses\n",
       "29  0.116562  0.074976  0.765075  smallDoses  smallDoses\n",
       "..       ...       ...       ...         ...         ...\n",
       "70  0.588465  0.580790  0.819148  largeDoses  largeDoses\n",
       "71  0.705258  0.437379  0.515681   didntLike   didntLike\n",
       "72  0.101772  0.462088  0.808077  smallDoses  smallDoses\n",
       "73  0.664085  0.173051  0.169156   didntLike   didntLike\n",
       "74  0.200914  0.250428  0.739211  smallDoses  smallDoses\n",
       "75  0.250293  0.703453  0.886825  largeDoses  largeDoses\n",
       "76  0.818161  0.690544  0.714136   didntLike   didntLike\n",
       "77  0.374076  0.650571  0.214290  largeDoses  largeDoses\n",
       "78  0.155062  0.150176  0.249725  smallDoses  smallDoses\n",
       "79  0.102188  0.000000  0.070700  smallDoses  smallDoses\n",
       "80  0.208068  0.021738  0.609152  smallDoses  smallDoses\n",
       "81  0.100720  0.024394  0.008994  smallDoses  smallDoses\n",
       "82  0.025035  0.184718  0.363083  smallDoses  smallDoses\n",
       "83  0.104007  0.321426  0.331622  smallDoses  smallDoses\n",
       "84  0.025977  0.205043  0.006732  smallDoses  smallDoses\n",
       "85  0.152981  0.000000  0.847443  smallDoses  smallDoses\n",
       "86  0.025188  0.178477  0.411431  smallDoses  smallDoses\n",
       "87  0.057651  0.095729  0.813893  smallDoses  smallDoses\n",
       "88  0.051045  0.119632  0.108045  smallDoses  smallDoses\n",
       "89  0.192631  0.305083  0.516670  smallDoses  smallDoses\n",
       "90  0.304033  0.408557  0.075279  largeDoses  largeDoses\n",
       "91  0.108115  0.128827  0.254764  smallDoses  smallDoses\n",
       "92  0.200859  0.188880  0.196029  smallDoses  smallDoses\n",
       "93  0.041414  0.471152  0.193598  smallDoses  smallDoses\n",
       "94  0.199292  0.098902  0.253058  smallDoses  smallDoses\n",
       "95  0.122106  0.163037  0.372224  smallDoses  smallDoses\n",
       "96  0.754287  0.476818  0.394621   didntLike   didntLike\n",
       "97  0.291159  0.509103  0.510795  largeDoses  largeDoses\n",
       "98  0.527111  0.436655  0.429005  largeDoses  largeDoses\n",
       "99  0.479408  0.376809  0.785718  largeDoses  largeDoses\n",
       "\n",
       "[100 rows x 5 columns]"
      ]
     },
     "execution_count": 64,
     "metadata": {},
     "output_type": "execute_result"
    }
   ],
   "source": [
    "datingClass(train,test,5)"
   ]
  },
  {
   "cell_type": "code",
   "execution_count": null,
   "metadata": {},
   "outputs": [],
   "source": []
  }
 ],
 "metadata": {
  "kernelspec": {
   "display_name": "Python 3",
   "language": "python",
   "name": "python3"
  },
  "language_info": {
   "codemirror_mode": {
    "name": "ipython",
    "version": 3
   },
   "file_extension": ".py",
   "mimetype": "text/x-python",
   "name": "python",
   "nbconvert_exporter": "python",
   "pygments_lexer": "ipython3",
   "version": "3.7.3"
  }
 },
 "nbformat": 4,
 "nbformat_minor": 2
}
