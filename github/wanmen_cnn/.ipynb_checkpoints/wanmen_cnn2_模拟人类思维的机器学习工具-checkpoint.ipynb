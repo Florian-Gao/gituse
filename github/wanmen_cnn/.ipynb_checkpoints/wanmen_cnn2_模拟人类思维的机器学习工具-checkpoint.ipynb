{
 "cells": [
  {
   "cell_type": "markdown",
   "metadata": {},
   "source": [
    "# 模拟人类思维的机器学习工具"
   ]
  },
  {
   "cell_type": "code",
   "execution_count": null,
   "metadata": {},
   "outputs": [],
   "source": [
    "AI的引擎--人工神经网络\n",
    "人类认知载体--神经网络"
   ]
  },
  {
   "cell_type": "markdown",
   "metadata": {},
   "source": [
    "# 用机器来预测--线性回归模型\n",
    "# 引入分类-- K近邻算法\n",
    "# 概率的思维-- 朴素贝叶斯\n",
    "# 优先级处理-- 决策树\n",
    "# 降维思维-- pca（特征的数量）"
   ]
  },
  {
   "cell_type": "markdown",
   "metadata": {},
   "source": [
    "## 让神经网络听懂故事"
   ]
  }
 ],
 "metadata": {
  "kernelspec": {
   "display_name": "Python 3",
   "language": "python",
   "name": "python3"
  },
  "language_info": {
   "codemirror_mode": {
    "name": "ipython",
    "version": 3
   },
   "file_extension": ".py",
   "mimetype": "text/x-python",
   "name": "python",
   "nbconvert_exporter": "python",
   "pygments_lexer": "ipython3",
   "version": "3.7.3"
  }
 },
 "nbformat": 4,
 "nbformat_minor": 2
}
