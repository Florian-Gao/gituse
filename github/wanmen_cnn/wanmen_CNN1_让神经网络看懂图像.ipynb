{
 "cells": [
  {
   "cell_type": "markdown",
   "metadata": {},
   "source": [
    "# 让神经网络看懂图像"
   ]
  },
  {
   "cell_type": "markdown",
   "metadata": {},
   "source": [
    "祖母细胞：层级编码假设"
   ]
  },
  {
   "cell_type": "markdown",
   "metadata": {},
   "source": [
    "三维是图像，四维是加了时间，就是视频"
   ]
  },
  {
   "cell_type": "markdown",
   "metadata": {},
   "source": [
    "## 卷积"
   ]
  },
  {
   "cell_type": "markdown",
   "metadata": {},
   "source": [
    "卷积是什么："
   ]
  },
  {
   "cell_type": "markdown",
   "metadata": {},
   "source": [
    "一维：A✖️B=C  B比较短，，如果B的长度为3，则C的长度为len（A）-2"
   ]
  },
  {
   "cell_type": "markdown",
   "metadata": {},
   "source": [
    "二维：A✖️B=C B比较短，如果B是3✖️3，C是（len（A）-2）✖️（len（A）-2）"
   ]
  },
  {
   "cell_type": "markdown",
   "metadata": {},
   "source": [
    "卷积实现滤镜功能"
   ]
  },
  {
   "cell_type": "markdown",
   "metadata": {},
   "source": [
    "# 构建卷积网络"
   ]
  },
  {
   "cell_type": "markdown",
   "metadata": {},
   "source": [
    "<font color='green'>手写数字识别 MNIST</font>\n",
    "图像处理的核心：从拟合到泛化，不变性（这就利用了卷积，平移不变，<font color='red'>（放大缩小，旋转不变都做不到，需要在加强)</font>"
   ]
  },
  {
   "cell_type": "markdown",
   "metadata": {},
   "source": [
    "## 设计卷积，来提取他的边缘"
   ]
  },
  {
   "cell_type": "markdown",
   "metadata": {},
   "source": [
    "k1=[[1 -2 1],[1 -2 1],[1 -2 1]]  # 利用k1来提取横条纹\n",
    "k2=[[1,1,1],[-2,-2,-2],[1,1,1]]  # 利用k2来提取纵条纹\n",
    "k1✖️【图像】=y1 #得到只有横条纹的一个列表\n",
    "k2✖️【图像】=y2 #得到只有纵条纹的一个列表\n",
    "k3/k4    #这些可以看作提取图像不同特征的列表\n",
    "k5✖️（y1,y2） #可以得到既有横条纹，又有纵条纹的点，也就是角。\n",
    "### k1,k2,k3...相当于chamel通道"
   ]
  },
  {
   "cell_type": "markdown",
   "metadata": {},
   "source": [
    "## 最大池化：丢掉 局部信息(抓大放小，因为很多信息是没有用的，去掉冗余)"
   ]
  },
  {
   "cell_type": "code",
   "execution_count": 9,
   "metadata": {},
   "outputs": [
    {
     "data": {
      "text/plain": [
       "[[[1, 0], [4, 6]], [[2, 3], [6, 8]], [[3, 1], [1, 2]], [[1, 0], [2, 4]]]"
      ]
     },
     "execution_count": 9,
     "metadata": {},
     "output_type": "execute_result"
    }
   ],
   "source": [
    "[\n",
    "[[1,0],[4,6]],[[2,3],[6,8]],\n",
    "[[3,1],[1,2]],[[1,0],[2,4]]\n",
    "]"
   ]
  },
  {
   "cell_type": "code",
   "execution_count": 10,
   "metadata": {},
   "outputs": [],
   "source": [
    "#转化成"
   ]
  },
  {
   "cell_type": "code",
   "execution_count": 11,
   "metadata": {},
   "outputs": [
    {
     "data": {
      "text/plain": [
       "[[6, 8], [3, 4]]"
      ]
     },
     "execution_count": 11,
     "metadata": {},
     "output_type": "execute_result"
    }
   ],
   "source": [
    "[\n",
    "[6,8],[3,4]\n",
    "]"
   ]
  },
  {
   "cell_type": "markdown",
   "metadata": {},
   "source": [
    "# 感受野，3*3的  因此下一层比前一层要少2，依次类推往下一层推进"
   ]
  },
  {
   "cell_type": "markdown",
   "metadata": {},
   "source": [
    "## 卷积网络的逻辑链\n",
    "- 平移不变->权值共享\n",
    "- 局部信息->稀疏交互\n",
    "- 抓大放小->加入池化"
   ]
  },
  {
   "cell_type": "markdown",
   "metadata": {},
   "source": [
    "## 逐级抽象+最终整合\n",
    "## 最终决策：softmax分类概率\n"
   ]
  },
  {
   "cell_type": "code",
   "execution_count": null,
   "metadata": {},
   "outputs": [],
   "source": []
  },
  {
   "cell_type": "code",
   "execution_count": null,
   "metadata": {},
   "outputs": [],
   "source": []
  },
  {
   "cell_type": "markdown",
   "metadata": {},
   "source": [
    "# 对抗网络 （机器创造图片，可以混合特征进行创作）\n",
    "图像到猫，正向的，卷积\n",
    "猫到图像，反转卷积"
   ]
  },
  {
   "cell_type": "code",
   "execution_count": null,
   "metadata": {},
   "outputs": [],
   "source": []
  },
  {
   "cell_type": "code",
   "execution_count": 14,
   "metadata": {},
   "outputs": [],
   "source": [
    "## 许铁《机器学习vs复杂系统》"
   ]
  },
  {
   "cell_type": "code",
   "execution_count": null,
   "metadata": {},
   "outputs": [],
   "source": []
  }
 ],
 "metadata": {
  "kernelspec": {
   "display_name": "Python 3",
   "language": "python",
   "name": "python3"
  },
  "language_info": {
   "codemirror_mode": {
    "name": "ipython",
    "version": 3
   },
   "file_extension": ".py",
   "mimetype": "text/x-python",
   "name": "python",
   "nbconvert_exporter": "python",
   "pygments_lexer": "ipython3",
   "version": "3.7.3"
  }
 },
 "nbformat": 4,
 "nbformat_minor": 2
}
