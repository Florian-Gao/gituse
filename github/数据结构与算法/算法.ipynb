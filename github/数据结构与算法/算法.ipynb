{
 "cells": [
  {
   "cell_type": "markdown",
   "metadata": {},
   "source": [
    "# 1.intriduction"
   ]
  },
  {
   "cell_type": "code",
   "execution_count": 3,
   "metadata": {},
   "outputs": [
    {
     "name": "stdout",
     "output_type": "stream",
     "text": [
      "a, b, c: 0, 500, 500\n",
      "a, b, c: 200, 375, 425\n",
      "a, b, c: 375, 200, 425\n",
      "a, b, c: 500, 0, 500\n",
      "elapsed: 1036.461796\n",
      "complete!\n"
     ]
    }
   ],
   "source": [
    "import time\n",
    "\n",
    "start_time = time.time()\n",
    "\n",
    "# 注意是三重循环\n",
    "for a in range(0, 1001):\n",
    "    for b in range(0, 1001):\n",
    "        for c in range(0, 1001):\n",
    "            if a**2 + b**2 == c**2 and a+b+c == 1000:\n",
    "                print(\"a, b, c: %d, %d, %d\" % (a, b, c))\n",
    "\n",
    "end_time = time.time()\n",
    "print(\"elapsed: %f\" % (end_time - start_time))\n",
    "print(\"complete!\")\n",
    "\n",
    "# 时间复杂度 T(n) = O(n*n*n) = O(n3)"
   ]
  },
  {
   "cell_type": "markdown",
   "metadata": {},
   "source": [
    "## 算法的五大特性\n",
    "- 输入: 算法具有0个或多个输入\n",
    "- 输出: 算法至少有1个或多个输出\n",
    "- 有穷性: 算法在有限的步骤之后会自动结束而不会无限循环，并且每一个步骤可以在可接受的时间内完成\n",
    "- 确定性：算法中的每一步都有确定的含义，不会出现二义性\n",
    "- 可行性：算法的每一步都是可行的，也就是说每一步都能够执行有限的次数完成"
   ]
  },
  {
   "cell_type": "code",
   "execution_count": null,
   "metadata": {},
   "outputs": [],
   "source": [
    "import time\n",
    "\n",
    "start_time = time.time()\n",
    "\n",
    "# 注意是两重循环\n",
    "for a in range(0, 1001):\n",
    "    for b in range(0, 1001-a):\n",
    "        c = 1000 - a - b\n",
    "        if a**2 + b**2 == c**2:\n",
    "            print(\"a, b, c: %d, %d, %d\" % (a, b, c))\n",
    "\n",
    "end_time = time.time()\n",
    "print(\"elapsed: %f\" % (end_time - start_time))\n",
    "print(\"complete!\")\n",
    "\n",
    "# 时间复杂度 T(n) = O(n*n*(1+1)) = O(n*n) = O(n2)"
   ]
  },
  {
   "cell_type": "markdown",
   "metadata": {},
   "source": [
    "## 时间复杂度的几条基本计算规则\n",
    "- 基本操作，即只有常数项，认为其时间复杂度为O(1)\n",
    "- 顺序结构，时间复杂度按加法进行计算\n",
    "- 循环结构，时间复杂度按乘法进行计算\n",
    "- 分支结构，时间复杂度取最大值\n",
    "- 判断一个算法的效率时，往往只需要关注操作数量的最高次项，其它次要项和常数项可以忽略\n",
    "- 在没有特殊说明时，我们所分析的算法的时间复杂度都是指最坏时间复杂度"
   ]
  },
  {
   "cell_type": "markdown",
   "metadata": {},
   "source": [
    "O(1) < O(logn) < O(n) < O(nlogn) < O(n2) < O(n3) < O(2n) < O(n!) < O(nn)"
   ]
  },
  {
   "cell_type": "markdown",
   "metadata": {},
   "source": [
    "## python 内置类型性能分析\n",
    "### timeit模块\n",
    "class timeit.Timer(stmt='pass', setup='pass', timer=<timer function>)\n",
    "Timer是测量小段代码执行速度的类。\n",
    "\n",
    "stmt参数是要测试的代码语句（statment）；\n",
    "\n",
    "setup参数是运行代码时需要的设置；\n",
    "\n",
    "timer参数是一个定时器函数，与平台有关。\n",
    "\n",
    "timeit.Timer.timeit(number=1000000)\n",
    "Timer类中测试语句执行速度的对象方法。number参数是测试代码时的测试次数，默认为1000000次。方法返回执行代码的平均耗时，一个float类型的秒数。"
   ]
  },
  {
   "cell_type": "code",
   "execution_count": 5,
   "metadata": {},
   "outputs": [
    {
     "name": "stdout",
     "output_type": "stream",
     "text": [
      "concat  1.4802565640000012 seconds\n",
      "append  0.13757398000007015 seconds\n",
      "comprehension  0.05366305500001545 seconds\n",
      "list range  0.02071984600001997 seconds\n"
     ]
    }
   ],
   "source": [
    "def test1():\n",
    "   l = []\n",
    "   for i in range(1000):\n",
    "      l = l + [i]\n",
    "def test2():\n",
    "   l = []\n",
    "   for i in range(1000):\n",
    "      l.append(i)\n",
    "def test3():\n",
    "   l = [i for i in range(1000)]\n",
    "def test4():\n",
    "   l = list(range(1000))\n",
    "\n",
    "from timeit import Timer\n",
    "\n",
    "t1 = Timer(\"test1()\", \"from __main__ import test1\")\n",
    "print(\"concat \",t1.timeit(number=1000), \"seconds\")\n",
    "t2 = Timer(\"test2()\", \"from __main__ import test2\")\n",
    "print(\"append \",t2.timeit(number=1000), \"seconds\")\n",
    "t3 = Timer(\"test3()\", \"from __main__ import test3\")\n",
    "print(\"comprehension \",t3.timeit(number=1000), \"seconds\")\n",
    "t4 = Timer(\"test4()\", \"from __main__ import test4\")\n",
    "print(\"list range \",t4.timeit(number=1000), \"seconds\")"
   ]
  },
  {
   "cell_type": "markdown",
   "metadata": {},
   "source": [
    "## 算法与数据结构的区别\n",
    "- 数据结构只是静态的描述了数据元素之间的关系。\n",
    "\n",
    "- 高效的程序需要在数据结构的基础上设计和选择算法。\n",
    "\n",
    "- 程序 = 数据结构 + 算法\n",
    "\n",
    "- ## 总结：算法是为了解决实际问题而设计的，数据结构是算法需要处理的问题载体"
   ]
  },
  {
   "cell_type": "markdown",
   "metadata": {},
   "source": [
    "### 最常用的数据运算有五种：\n",
    "- 插入\n",
    "- 删除\n",
    "- 修改\n",
    "- 查找\n",
    "- 排序"
   ]
  },
  {
   "cell_type": "markdown",
   "metadata": {},
   "source": [
    "# 2.sequence table（顺序表）"
   ]
  },
  {
   "cell_type": "code",
   "execution_count": 15,
   "metadata": {},
   "outputs": [
    {
     "name": "stdout",
     "output_type": "stream",
     "text": [
      "4\n",
      "3\n",
      "2\n",
      "1\n"
     ]
    }
   ],
   "source": []
  },
  {
   "cell_type": "code",
   "execution_count": 5,
   "metadata": {},
   "outputs": [
    {
     "name": "stdout",
     "output_type": "stream",
     "text": [
      "A->B\n",
      "A->C\n",
      "B->C\n"
     ]
    }
   ],
   "source": [
    "def haoni(n,A,B,C):\n",
    "    if n>0:\n",
    "        haoni(n-1,A,C,B)\n",
    "        print('%s->%s' %(A,C))\n",
    "        haoni(n-1,B,A,C)\n",
    "        \n",
    "haoni(2,'A','B','C')"
   ]
  },
  {
   "cell_type": "code",
   "execution_count": 6,
   "metadata": {},
   "outputs": [],
   "source": [
    "def bubble_sort(li):\n",
    "    for i in range(len(li)-1):\n",
    "        exchange=False\n",
    "        for j in range(len(li)-i-1):\n",
    "            if li[j]>li[j+1]:\n",
    "                li[j],li[j+1]=li[j+1],li[j]\n",
    "                exchange=True\n",
    "        if not exchange:\n",
    "            return "
   ]
  },
  {
   "cell_type": "code",
   "execution_count": 14,
   "metadata": {},
   "outputs": [
    {
     "name": "stdout",
     "output_type": "stream",
     "text": [
      "[44, 1, 92, 74, 70, 34, 83, 95, 78, 39, 43, 18, 76, 69, 86, 41, 59, 14, 33, 40, 64, 79, 82, 23, 72, 71, 15, 42, 36, 51, 88, 17, 55, 50, 45, 67, 16, 91, 22, 77, 54, 49, 19, 3, 4, 26, 30, 62, 58, 24, 98, 2, 60, 53, 47, 48, 12, 56, 29, 11, 84, 65, 81, 0, 21, 94, 57, 87, 85, 9, 32, 63, 93, 90, 6, 8, 73, 13, 89, 66, 96, 10, 97, 37, 35, 80, 31, 28, 99, 20, 75, 38, 61, 7, 46, 27, 5, 68, 52, 25]\n",
      "[0, 1, 2, 3, 4, 5, 6, 7, 8, 9, 10, 11, 12, 13, 14, 15, 16, 17, 18, 19, 20, 21, 22, 23, 24, 25, 26, 27, 28, 29, 30, 31, 32, 33, 34, 35, 36, 37, 38, 39, 40, 41, 42, 43, 44, 45, 46, 47, 48, 49, 50, 51, 52, 53, 54, 55, 56, 57, 58, 59, 60, 61, 62, 63, 64, 65, 66, 67, 68, 69, 70, 71, 72, 73, 74, 75, 76, 77, 78, 79, 80, 81, 82, 83, 84, 85, 86, 87, 88, 89, 90, 91, 92, 93, 94, 95, 96, 97, 98, 99]\n"
     ]
    }
   ],
   "source": [
    "import random\n",
    "li=list(range(100))\n",
    "random.shuffle(li)\n",
    "print(li)\n",
    "bubble_sort(li)\n",
    "print(li)"
   ]
  },
  {
   "cell_type": "code",
   "execution_count": 18,
   "metadata": {},
   "outputs": [
    {
     "data": {
      "text/plain": [
       "[0, 1, 2, 3, 4, 5, 6, 7, 8]"
      ]
     },
     "execution_count": 18,
     "metadata": {},
     "output_type": "execute_result"
    }
   ],
   "source": [
    "list(range(9))"
   ]
  },
  {
   "cell_type": "code",
   "execution_count": 46,
   "metadata": {},
   "outputs": [],
   "source": [
    "def select_sort(li):\n",
    "    for i in range(len(li)-1):\n",
    "        min_pos=i\n",
    "        for j in range(i+1,len(li)):\n",
    "            if li[j]<li[min_pos]:\n",
    "                min_pos=j  #先找到最小值所在的位置，再进行交换\n",
    "        li[i],li[min_pos]=li[min_pos],li[i]\n",
    "        #print(li)\n",
    "            "
   ]
  },
  {
   "cell_type": "code",
   "execution_count": 47,
   "metadata": {},
   "outputs": [
    {
     "name": "stdout",
     "output_type": "stream",
     "text": [
      "[2, 18, 6, 7, 4, 19, 5, 3, 1, 11, 8, 15, 13, 10, 0, 9, 14, 17, 16, 12]\n",
      "[0, 1, 2, 3, 4, 5, 6, 7, 8, 9, 10, 11, 12, 13, 14, 15, 16, 17, 18, 19]\n"
     ]
    }
   ],
   "source": [
    "import random\n",
    "li=list(range(20))\n",
    "random.shuffle(li)\n",
    "print(li)\n",
    "select_sort(li)\n",
    "print(li)"
   ]
  },
  {
   "cell_type": "code",
   "execution_count": 57,
   "metadata": {},
   "outputs": [],
   "source": [
    "def insert_sort(li):\n",
    "    for i in range(1,len(li)):\n",
    "        tmp=li[i]\n",
    "        j=i-1\n",
    "        while j>=0 and tmp<li[j]:\n",
    "            li[j+1]=li[j]\n",
    "            j-=1\n",
    "        li[j+1]=tmp\n",
    "        \n",
    "        "
   ]
  },
  {
   "cell_type": "code",
   "execution_count": 58,
   "metadata": {},
   "outputs": [
    {
     "name": "stdout",
     "output_type": "stream",
     "text": [
      "[9, 6, 18, 11, 10, 4, 7, 1, 0, 8, 16, 17, 15, 14, 12, 19, 13, 5, 3, 2]\n",
      "[0, 1, 2, 3, 4, 5, 6, 7, 8, 9, 10, 11, 12, 13, 14, 15, 16, 17, 18, 19]\n"
     ]
    }
   ],
   "source": [
    "import random\n",
    "li=list(range(20))\n",
    "random.shuffle(li)\n",
    "print(li)\n",
    "insert_sort(li)\n",
    "print(li)"
   ]
  },
  {
   "cell_type": "code",
   "execution_count": 59,
   "metadata": {},
   "outputs": [
    {
     "data": {
      "text/plain": [
       "'0b11000000'"
      ]
     },
     "execution_count": 59,
     "metadata": {},
     "output_type": "execute_result"
    }
   ],
   "source": [
    "bin(192)"
   ]
  },
  {
   "cell_type": "code",
   "execution_count": 62,
   "metadata": {},
   "outputs": [
    {
     "name": "stdout",
     "output_type": "stream",
     "text": [
      "3\n"
     ]
    }
   ],
   "source": [
    "#异或用法\n",
    "li=[1,2,1,2,3,3,3] #找到里面单着的一个\n",
    "a=0\n",
    "for i in li:\n",
    "    a=a ^ i  #^异或 11->0 00->0 01->1\n",
    "print(a)"
   ]
  },
  {
   "cell_type": "code",
   "execution_count": 72,
   "metadata": {},
   "outputs": [],
   "source": [
    "#快速排序\n",
    "def quick_sort(data,left,right):\n",
    "    if left<right:\n",
    "        mid=partition(data,left,right)\n",
    "        #print(data)\n",
    "        quick_sort(data,left,mid-1)\n",
    "        quick_sort(data,mid+1,right)\n",
    "        \n",
    "def partition(data,left,right):\n",
    "    tmp=data[left]\n",
    "    while left<right:\n",
    "        while left<right and data[right]>=tmp:\n",
    "            right-=1\n",
    "        data[left]=data[right]\n",
    "        while left<right and data[left]<=tmp:\n",
    "            left+=1\n",
    "        data[right]=data[left]\n",
    "    data[left]=tmp\n",
    "    return left"
   ]
  },
  {
   "cell_type": "code",
   "execution_count": 73,
   "metadata": {},
   "outputs": [
    {
     "name": "stdout",
     "output_type": "stream",
     "text": [
      "[4, 1, 3, 5, 7, 8, 9]\n",
      "[3, 1, 4, 5, 7, 8, 9]\n",
      "[1, 3, 4, 5, 7, 8, 9]\n",
      "[1, 3, 4, 5, 7, 8, 9]\n",
      "[1, 3, 4, 5, 7, 8, 9]\n",
      "[1, 3, 4, 5, 7, 8, 9]\n"
     ]
    }
   ],
   "source": [
    "li=[5,1,3,7,4,8,9]\n",
    "quick_sort(li,0,len(li)-1)\n",
    "print(li)"
   ]
  },
  {
   "cell_type": "code",
   "execution_count": 77,
   "metadata": {},
   "outputs": [],
   "source": [
    "#堆排序\n",
    "def heap_sort(data):\n",
    "    n=len(data)\n",
    "    #构建堆\n",
    "    for low in range((n-1)//2-1,-1,-1):\n",
    "        sift(data,low,n-1) #先从最后面的两层进行调整\n",
    "    #挨个出数\n",
    "    for i in range(n-1,-1,-1):\n",
    "        data[0],data[i]=data[i],data[0]\n",
    "        sift(data,0,i-1) #把剩下的棋子进行调整\n",
    "    #print(data)\n",
    "        \n",
    "def sift(data,low,high): #把数组变成完全二叉树\n",
    "    i=low\n",
    "    j=2*i+1\n",
    "    tmp=data[i]\n",
    "    while j<=high:\n",
    "        if j+1<=high and data[j]<data[j+1]:\n",
    "            j+=1\n",
    "        if data[j]>tmp:\n",
    "            data[i]=data[j]\n",
    "            i=j\n",
    "            j=2*i+1\n",
    "        else:\n",
    "            break\n",
    "    data[i]=tmp\n",
    "        "
   ]
  },
  {
   "cell_type": "code",
   "execution_count": 78,
   "metadata": {},
   "outputs": [
    {
     "name": "stdout",
     "output_type": "stream",
     "text": [
      "[1, 2, 3, 3, 4, 5, 5, 6, 7]\n"
     ]
    }
   ],
   "source": [
    "li=[1,2,3,5,7,3,4,5,6]\n",
    "heap_sort(li)"
   ]
  },
  {
   "cell_type": "code",
   "execution_count": 81,
   "metadata": {},
   "outputs": [],
   "source": [
    "#顺序查找\n",
    "def search(data,value):\n",
    "    for i in data:\n",
    "        if i==value:\n",
    "            return i\n",
    "    return"
   ]
  },
  {
   "cell_type": "code",
   "execution_count": 82,
   "metadata": {},
   "outputs": [
    {
     "data": {
      "text/plain": [
       "2"
      ]
     },
     "execution_count": 82,
     "metadata": {},
     "output_type": "execute_result"
    }
   ],
   "source": [
    "li=[1,2,3]\n",
    "search(li,2)"
   ]
  },
  {
   "cell_type": "code",
   "execution_count": 93,
   "metadata": {},
   "outputs": [],
   "source": [
    "#二分查找/前提是有序的\n",
    "def bin_search(data,value):\n",
    "    low=0\n",
    "    high=len(data)-1\n",
    "    while low<=high:\n",
    "        mid=(low+high)//2\n",
    "        if data[mid]==value:\n",
    "            return data[mid]\n",
    "        elif data[mid]<value:\n",
    "            low=mid+1\n",
    "        else:\n",
    "            high=mid-1\n",
    "    #return -1"
   ]
  },
  {
   "cell_type": "code",
   "execution_count": 98,
   "metadata": {},
   "outputs": [],
   "source": [
    "#递归二分查找\n",
    "def bin_search_2(data,value,low,high):\n",
    "    if low<=high:\n",
    "        mid=(low+high)//2\n",
    "        if data[mid]==value:\n",
    "            return data[mid]\n",
    "        elif data[mid]<value:\n",
    "            return bin_search_2(data,value,mid+1,high)\n",
    "        else:\n",
    "            return bin_search_2(data,value,low,mid-1)\n",
    "    else:\n",
    "        return "
   ]
  },
  {
   "cell_type": "code",
   "execution_count": 99,
   "metadata": {},
   "outputs": [
    {
     "data": {
      "text/plain": [
       "2"
      ]
     },
     "execution_count": 99,
     "metadata": {},
     "output_type": "execute_result"
    }
   ],
   "source": [
    "li=[1,2,3,4]\n",
    "#bin_search(li,3)\n",
    "bin_search_2(li,2,0,len(li)-1)"
   ]
  },
  {
   "cell_type": "code",
   "execution_count": 101,
   "metadata": {},
   "outputs": [],
   "source": [
    "#冒泡排序\n",
    "def bubble_sort(data):\n",
    "    for i in range(len(data)-1):\n",
    "        for j in range(len(data)-i-1):\n",
    "            if data[j]<data[j+1]:\n",
    "                data[j],data[j+1]=data[j+1],data[j]\n",
    "                "
   ]
  },
  {
   "cell_type": "code",
   "execution_count": 103,
   "metadata": {},
   "outputs": [
    {
     "name": "stdout",
     "output_type": "stream",
     "text": [
      "[6, 5, 4, 3, 2, 1]\n"
     ]
    }
   ],
   "source": [
    "li=[1,3,4,2,5,6]\n",
    "bubble_sort(li)\n",
    "print(li)"
   ]
  },
  {
   "cell_type": "code",
   "execution_count": 105,
   "metadata": {},
   "outputs": [
    {
     "name": "stdout",
     "output_type": "stream",
     "text": [
      "[1, 0, 2, 8, 7, 4, 9, 3, 5, 6]\n",
      "[9, 8, 7, 6, 5, 4, 3, 2, 1, 0]\n"
     ]
    }
   ],
   "source": [
    "li=list(range(10))\n",
    "random.shuffle(li)\n",
    "print(li)\n",
    "bubble_sort(li)\n",
    "print(li)"
   ]
  },
  {
   "cell_type": "code",
   "execution_count": 112,
   "metadata": {},
   "outputs": [],
   "source": [
    "#冒泡优化，如果一次没有调整，说明已经排好顺序\n",
    "def bubble_sort(data):\n",
    "    for i in range(len(data)-1):\n",
    "        exchange=False\n",
    "        for j in range(len(data)-i-1):\n",
    "            if data[j]<data[j+1]:\n",
    "                data[j],data[j+1]=data[j+1],data[j]\n",
    "                exchange=True\n",
    "        print(data)\n",
    "        if not exchange:\n",
    "            return"
   ]
  },
  {
   "cell_type": "code",
   "execution_count": 113,
   "metadata": {},
   "outputs": [
    {
     "name": "stdout",
     "output_type": "stream",
     "text": [
      "[9, 8, 7, 6, 5]\n",
      "[9, 8, 7, 6, 5]\n"
     ]
    }
   ],
   "source": [
    "li=[9,8,7,5,6]\n",
    "bubble_sort(li)"
   ]
  },
  {
   "cell_type": "code",
   "execution_count": 115,
   "metadata": {},
   "outputs": [],
   "source": [
    "#选择排序算法，找最大的或者找最小的\n",
    "def select_sort(data):\n",
    "    for i in range(len(data)-1): #跑n趟或者n-1趟都可以\n",
    "        min_place=i\n",
    "        for j in range(i+1,len(data)):\n",
    "            if data[min_place]<data[j]:\n",
    "                min_place=j #重点找到最大值的位置，然后进行交换\n",
    "        if min_place!=i:\n",
    "            data[i],data[min_place]=data[min_place],data[i]\n",
    "            "
   ]
  },
  {
   "cell_type": "code",
   "execution_count": 116,
   "metadata": {},
   "outputs": [
    {
     "name": "stdout",
     "output_type": "stream",
     "text": [
      "[9, 7, 6, 4, 3, 2, 1]\n"
     ]
    }
   ],
   "source": [
    "li=[1,2,4,7,6,9,3]\n",
    "select_sort(li)\n",
    "print(li)"
   ]
  },
  {
   "cell_type": "code",
   "execution_count": 117,
   "metadata": {},
   "outputs": [],
   "source": [
    "#插入排序法\n",
    "def insert_sort(data):\n",
    "    for i in range(1,len(data)):\n",
    "        tmp=data[i]\n",
    "        j=i-1\n",
    "        while j>=0 and data[j]<tmp:\n",
    "            data[j+1],data[j]=data[j],data[j+1]\n",
    "            j-=1\n",
    "        data[j+1]=tmp"
   ]
  },
  {
   "cell_type": "code",
   "execution_count": 118,
   "metadata": {},
   "outputs": [
    {
     "name": "stdout",
     "output_type": "stream",
     "text": [
      "[9, 8, 7, 6, 5, 4, 3, 2, 1, 0]\n"
     ]
    }
   ],
   "source": [
    "li=list(range(10))\n",
    "random.shuffle(li)\n",
    "insert_sort(li)\n",
    "print(li)"
   ]
  },
  {
   "cell_type": "code",
   "execution_count": 122,
   "metadata": {},
   "outputs": [],
   "source": [
    "#快速排序\n",
    "def quick_sort(data,low,high):\n",
    "    if low<high:\n",
    "        mid =patition(data,low,high)\n",
    "        quick_sort(data,low,mid-1)\n",
    "        quick_sort(data,mid+1,high)\n",
    "        \n",
    "def patition(data,low,high):\n",
    "    tmp=data[low]\n",
    "    while low<high:\n",
    "        while  low<high and data[high]<=tmp:#最右边的数小于tmp，就不换 5 2 8 4 7 3 -> 7 8 8 4 2 3\n",
    "            high-=1\n",
    "        data[low]=data[high]\n",
    "        while low<high and data[low]>=tmp:\n",
    "            low+=1\n",
    "        data[high]=data[low]\n",
    "    data[low]=tmp\n",
    "    return low\n",
    "        "
   ]
  },
  {
   "cell_type": "code",
   "execution_count": 123,
   "metadata": {},
   "outputs": [
    {
     "name": "stdout",
     "output_type": "stream",
     "text": [
      "[0, 1, 2, 3, 4, 5, 6, 7, 8, 9]\n",
      "[9, 8, 7, 6, 5, 4, 3, 2, 1, 0]\n"
     ]
    }
   ],
   "source": [
    "li=list(range(10))\n",
    "print(li)\n",
    "random.shuffle(li)\n",
    "quick_sort(li,0,len(li)-1)\n",
    "print(li)"
   ]
  },
  {
   "cell_type": "code",
   "execution_count": 137,
   "metadata": {},
   "outputs": [],
   "source": [
    "#快速排序简易写法\n",
    "def quick_sort(data):\n",
    "    if len(data)<2:\n",
    "        return data\n",
    "    tmp=data[0]\n",
    "    left=[v for v in data[1:] if v<=tmp]\n",
    "    right=[v for v in data[1:] if v>tmp]\n",
    "    left=quick_sort(left)\n",
    "    right=quick_sort(right)\n",
    "    #print(data)\n",
    "    return left+[tmp]+right"
   ]
  },
  {
   "cell_type": "code",
   "execution_count": 139,
   "metadata": {},
   "outputs": [
    {
     "name": "stdout",
     "output_type": "stream",
     "text": [
      "[8, 7]\n",
      "[6, 5, 8, 7]\n",
      "[4, 3, 6, 5, 8, 7]\n",
      "[2, 1, 4, 3, 6, 5, 8, 7]\n",
      "[1, 2, 3, 4, 5, 6, 7, 8]\n"
     ]
    }
   ],
   "source": [
    "li=[2,1,4,3,6,5,8,7]\n",
    "li=quick_sort(li) #因为不是在数据基础上进行更改的，所以最后出来的需要赋值到新数组上面\n",
    "print(li)"
   ]
  },
  {
   "cell_type": "code",
   "execution_count": 10,
   "metadata": {},
   "outputs": [],
   "source": [
    "#堆排序\n",
    "def heap_sort(data):\n",
    "    n=len(data) #这里面的n是比list中的大1\n",
    "    #运用sift构建堆\n",
    "    for i in range((n-1-1)//2,-1,-1):\n",
    "        sift(data,i,n-1)\n",
    "    #运用sift将数字取出\n",
    "    for i in range(n-1,-1,-1):\n",
    "        data[0],data[i]=data[i],data[0]\n",
    "        sift(data,0,i-1)\n",
    "        \n",
    "def sift(data,low,high):\n",
    "    i=low\n",
    "    j=2*i+1\n",
    "    tmp=data[low]\n",
    "    while j<=high:\n",
    "        if j+1<=high and data[j+1]>data[j]:\n",
    "            j+=1\n",
    "        if  data[j]>tmp:\n",
    "            data[j],data[i]=data[i],data[j]\n",
    "            i=j\n",
    "            j=2*i+1\n",
    "        else:\n",
    "            break\n",
    "    data[i]=tmp"
   ]
  },
  {
   "cell_type": "code",
   "execution_count": 11,
   "metadata": {},
   "outputs": [
    {
     "name": "stdout",
     "output_type": "stream",
     "text": [
      "[0, 1, 2, 3, 4, 5, 6, 7, 8, 9]\n"
     ]
    }
   ],
   "source": [
    "import random\n",
    "li=list(range(10))\n",
    "random.shuffle(li)\n",
    "heap_sort(li)\n",
    "print(li)"
   ]
  },
  {
   "cell_type": "code",
   "execution_count": 40,
   "metadata": {},
   "outputs": [],
   "source": [
    "#堆应用 取前k大的数字\n",
    "#冒泡\n",
    "def bubble_sort(data,k):\n",
    "    for i in range(k):\n",
    "        for j in range(len(data)-i-1):\n",
    "            if data[j]>data[j+1]:\n",
    "                data[j],data[j+1]=data[j+1],data[j]\n",
    "    print(data[len(data)-k:])"
   ]
  },
  {
   "cell_type": "code",
   "execution_count": 41,
   "metadata": {},
   "outputs": [
    {
     "name": "stdout",
     "output_type": "stream",
     "text": [
      "[4, 5, 6]\n"
     ]
    },
    {
     "data": {
      "text/plain": [
       "1"
      ]
     },
     "execution_count": 41,
     "metadata": {},
     "output_type": "execute_result"
    }
   ],
   "source": [
    "li=[1,2,4,3,5,6]\n",
    "bubble_sort(li,3)\n",
    "li[0]"
   ]
  },
  {
   "cell_type": "code",
   "execution_count": 55,
   "metadata": {},
   "outputs": [],
   "source": [
    "#堆排序\n",
    "def heap(data,k):\n",
    "    n=len(data)\n",
    "    new=data[0:k]\n",
    "    #构建堆,只构建前面的k个数字\n",
    "    for i in range((k-1-1)//2,-1,-1):\n",
    "        sift(new,i,k-1)\n",
    "    #将后面的与前面的进行对比，如果比他们大就进行替换\n",
    "    for i in range(k,n): #如果要是靠最后一个数进行比较，不准确，所以需要把sift变成一个小根堆\n",
    "        if data[i]>new[0]:\n",
    "            new[0],data[i]=data[i],new[0]\n",
    "            sift(new,0,k-1)\n",
    "    #在将new进行排序，把大的排在上面就可以了\n",
    "    for i in range(k-1,-1,-1):\n",
    "        new[0],new[i]=new[i],new[0]\n",
    "        sift(new,0,i-1)\n",
    "    print(new)       \n",
    "\n",
    "'''\n",
    "def heap(data):\n",
    "    n=len(data)\n",
    "    #构建堆\n",
    "    for i in range((n-1-1)//2,-1,-1):\n",
    "        sift(data,i,n-1)\n",
    "    #进行排序\n",
    "    for i in range(n-1,-1,-1):\n",
    "        data[0],data[i]=data[i],data[0]\n",
    "        sift(data,0,i-1)\n",
    "''' \n",
    "'''\n",
    "#这个是把最大的排在面，这是大根堆，要换成小根堆\n",
    "def sift(data,low,high):\n",
    "    i=low\n",
    "    j=2*i+1\n",
    "    tmp=data[i]\n",
    "    while j<=high:\n",
    "        if j+1<=high and data[j+1]>data[j]:\n",
    "            j+=1\n",
    "        if data[j]>tmp:\n",
    "            data[i],data[j]=data[j],data[i]\n",
    "            i=j\n",
    "            j=2*i+1\n",
    "        else:\n",
    "            break\n",
    "    #data[i]=tmp\n",
    "'''\n",
    "#小根堆\n",
    "def sift(data,low,high):\n",
    "    i=low\n",
    "    j=2*i+1\n",
    "    tmp=data[i]\n",
    "    while j<=high:\n",
    "        if j+1<=high and data[j+1]<data[j]:\n",
    "            j+=1\n",
    "        if data[j]<tmp:\n",
    "            data[i],data[j]=data[j],data[i]\n",
    "            i=j\n",
    "            j=2*i+1\n",
    "        else:\n",
    "            break\n",
    "    #data[i]=tmp"
   ]
  },
  {
   "cell_type": "code",
   "execution_count": 56,
   "metadata": {},
   "outputs": [
    {
     "name": "stdout",
     "output_type": "stream",
     "text": [
      "[7, 16, 2, 21, 19, 25, 22, 13, 3, 12, 0, 5, 27, 4, 10, 1, 18, 8, 28, 15, 6, 26, 14, 9, 20, 23, 29, 24, 17, 11]\n",
      "[29, 28, 27, 26, 25]\n"
     ]
    }
   ],
   "source": [
    "import random\n",
    "li=list(range(30))\n",
    "random.shuffle(li)\n",
    "print(li)\n",
    "heap(li,5)"
   ]
  },
  {
   "cell_type": "code",
   "execution_count": 59,
   "metadata": {},
   "outputs": [],
   "source": [
    "#归并排序，将两个有序的列表进行合并\n",
    "def merge(data,low,mid,high):\n",
    "    i=low\n",
    "    j=mid+1\n",
    "    new=[]\n",
    "    while i<=mid and j<=high:\n",
    "        if data[i]<=data[j]:\n",
    "            new.append(data[i])\n",
    "            i+=1\n",
    "        else:\n",
    "            new.append(data[j])\n",
    "            j+=1\n",
    "    while i<=mid:\n",
    "        new.append(data[i])\n",
    "        i+=1\n",
    "    while j<=high:\n",
    "        new.append(data[j])\n",
    "        j+=1\n",
    "    data[low:high+1]=new"
   ]
  },
  {
   "cell_type": "code",
   "execution_count": 62,
   "metadata": {},
   "outputs": [
    {
     "name": "stdout",
     "output_type": "stream",
     "text": [
      "[1, 2, 3, 4, 5, 5, 6, 7, 8]\n"
     ]
    }
   ],
   "source": [
    "li=[1,3,5,7,2,4,5,6,8]\n",
    "merge(li,0,3,len(li)-1)\n",
    "print(li)"
   ]
  },
  {
   "cell_type": "code",
   "execution_count": 63,
   "metadata": {},
   "outputs": [],
   "source": [
    "#归并排序的应用\n",
    "#先将list拆分，然后在运用归并来合起来\n",
    "def mergesort(data,low,high):\n",
    "    if low<high:\n",
    "        mid=(low+high)//2\n",
    "        mergesort(data,low,mid)\n",
    "        mergesort(data,mid+1,high)\n",
    "        merge(data,low,mid,high)\n",
    "        \n",
    "def merge(data,low,mid,high):\n",
    "    i=low\n",
    "    j=mid+1\n",
    "    new=[]\n",
    "    while i<=mid and j<=high:\n",
    "        if data[i]<=data[j]:\n",
    "            new.append(data[i])\n",
    "            i+=1\n",
    "        else:\n",
    "            new.append(data[j])\n",
    "            j+=1\n",
    "    while i<=mid:\n",
    "        new.append(data[i])\n",
    "        i+=1\n",
    "    while j<=high:\n",
    "        new.append(data[j])\n",
    "        j+=1\n",
    "    data[low:high+1]=new"
   ]
  },
  {
   "cell_type": "code",
   "execution_count": 65,
   "metadata": {},
   "outputs": [
    {
     "name": "stdout",
     "output_type": "stream",
     "text": [
      "[6, 5, 12, 15, 18, 17, 3, 11, 26, 1, 13, 21, 28, 25, 29, 24, 23, 4, 8, 19, 10, 2, 0, 9, 22, 27, 7, 20, 14, 16]\n",
      "[0, 1, 2, 3, 4, 5, 6, 7, 8, 9, 10, 11, 12, 13, 14, 15, 16, 17, 18, 19, 20, 21, 22, 23, 24, 25, 26, 27, 28, 29]\n"
     ]
    }
   ],
   "source": [
    "import random\n",
    "li=list(range(30))\n",
    "random.shuffle(li)\n",
    "print(li)\n",
    "mergesort(li,0,29)\n",
    "print(li)"
   ]
  },
  {
   "cell_type": "code",
   "execution_count": 69,
   "metadata": {},
   "outputs": [],
   "source": [
    "#插入排序\n",
    "def insert_sort(data):\n",
    "    for i in range(1,len(data)):\n",
    "        j=i-1\n",
    "        while j>=0 and data[j]>data[j+1]:\n",
    "            data[j+1],data[j]=data[j],data[j+1]\n",
    "            j-=1\n",
    "        \n",
    "    print(data)"
   ]
  },
  {
   "cell_type": "code",
   "execution_count": 70,
   "metadata": {},
   "outputs": [
    {
     "name": "stdout",
     "output_type": "stream",
     "text": [
      "[1, 2, 2, 3, 3, 4, 6, 7]\n"
     ]
    }
   ],
   "source": [
    "li=[1,2,4,3,6,2,7,3]\n",
    "insert_sort(li)"
   ]
  },
  {
   "cell_type": "code",
   "execution_count": 71,
   "metadata": {},
   "outputs": [],
   "source": [
    "#希尔插入排序\n",
    "def shell_sort(data):\n",
    "    gap=len(data)//2\n",
    "    while gap>0:\n",
    "        for i in range(gap,len(data)):\n",
    "            j=i-gap\n",
    "            while j>=0 and data[j]>data[j+gap]:\n",
    "                data[j],data[j+gap]=data[j+gap],data[j]\n",
    "                j-=gap\n",
    "        gap=gap//2"
   ]
  },
  {
   "cell_type": "code",
   "execution_count": 72,
   "metadata": {},
   "outputs": [
    {
     "name": "stdout",
     "output_type": "stream",
     "text": [
      "[25, 27, 21, 12, 24, 0, 29, 19, 10, 22, 16, 17, 2, 14, 7, 6, 28, 4, 9, 23, 5, 26, 1, 18, 8, 11, 20, 15, 13, 3]\n",
      "[0, 1, 2, 3, 4, 5, 6, 7, 8, 9, 10, 11, 12, 13, 14, 15, 16, 17, 18, 19, 20, 21, 22, 23, 24, 25, 26, 27, 28, 29]\n"
     ]
    }
   ],
   "source": [
    "import random\n",
    "li=list(range(30))\n",
    "random.shuffle(li)\n",
    "print(li)\n",
    "shell_sort(li)\n",
    "print(li)"
   ]
  },
  {
   "cell_type": "code",
   "execution_count": 79,
   "metadata": {},
   "outputs": [],
   "source": [
    "#计数排序\n",
    "def count_sort(data,max_num):\n",
    "    count=[0 for i in range(max_num+1)]\n",
    "    for i in data:\n",
    "        count[i]+=1\n",
    "    data.clear()\n",
    "    for num,val in enumerate(count):\n",
    "        for i in range(val):\n",
    "            data.append(num)"
   ]
  },
  {
   "cell_type": "code",
   "execution_count": 81,
   "metadata": {},
   "outputs": [
    {
     "name": "stdout",
     "output_type": "stream",
     "text": [
      "[1, 2, 2, 3, 3, 3, 4, 4, 4, 5, 5]\n"
     ]
    }
   ],
   "source": [
    "li=[1,3,2,4,5,4,3,2,4,5,3]\n",
    "count_sort(li,5)\n",
    "print(li)"
   ]
  },
  {
   "cell_type": "code",
   "execution_count": 75,
   "metadata": {},
   "outputs": [
    {
     "name": "stdout",
     "output_type": "stream",
     "text": [
      "[0, 0, 0, 0, 0]\n"
     ]
    }
   ],
   "source": [
    "count=[0 for i in range(5)]\n",
    "print(count)"
   ]
  },
  {
   "cell_type": "code",
   "execution_count": 83,
   "metadata": {},
   "outputs": [],
   "source": [
    "#基数排序\n",
    "def radix_sort(data):\n",
    "    max_num=max(data)\n",
    "    i=0\n",
    "    while 10**i<=max_num:\n",
    "        #do something\n",
    "        #先把数据放在桶里,因为是数字排序，所以分10个桶，0-9即可\n",
    "        buckets=[[] for _ in range(10)]\n",
    "        #把数据放进来\n",
    "        for val in data:\n",
    "            num=val//(10**i)%10\n",
    "            buckets[num].append(val)\n",
    "        #data clear\n",
    "        data.clear()\n",
    "        #再把数据放回data中\n",
    "        for bucket in buckets:\n",
    "            for val in bucket:\n",
    "                data.append(val)\n",
    "        \n",
    "        i+=1\n",
    "    return data"
   ]
  },
  {
   "cell_type": "code",
   "execution_count": 85,
   "metadata": {},
   "outputs": [
    {
     "data": {
      "text/plain": [
       "[375,\n",
       " 635,\n",
       " 641,\n",
       " 956,\n",
       " 1048,\n",
       " 1119,\n",
       " 1216,\n",
       " 1240,\n",
       " 1265,\n",
       " 1326,\n",
       " 1466,\n",
       " 1634,\n",
       " 1655,\n",
       " 1662,\n",
       " 1692,\n",
       " 1718,\n",
       " 1782,\n",
       " 1821,\n",
       " 1930,\n",
       " 2218,\n",
       " 2261,\n",
       " 2460,\n",
       " 2470,\n",
       " 2485,\n",
       " 2597,\n",
       " 2610,\n",
       " 2862,\n",
       " 3088,\n",
       " 3296,\n",
       " 3327,\n",
       " 3351,\n",
       " 3368,\n",
       " 3439,\n",
       " 3461,\n",
       " 3471,\n",
       " 3484,\n",
       " 3545,\n",
       " 3561,\n",
       " 3691,\n",
       " 3710,\n",
       " 3757,\n",
       " 3767,\n",
       " 3808,\n",
       " 3918,\n",
       " 4093,\n",
       " 4242,\n",
       " 4294,\n",
       " 4346,\n",
       " 4409,\n",
       " 4551,\n",
       " 4594,\n",
       " 4677,\n",
       " 4771,\n",
       " 4928,\n",
       " 5183,\n",
       " 5194,\n",
       " 5298,\n",
       " 5448,\n",
       " 5473,\n",
       " 5701,\n",
       " 5831,\n",
       " 5869,\n",
       " 6074,\n",
       " 6214,\n",
       " 6217,\n",
       " 6317,\n",
       " 6453,\n",
       " 6559,\n",
       " 6665,\n",
       " 6823,\n",
       " 6881,\n",
       " 7130,\n",
       " 7217,\n",
       " 7220,\n",
       " 7393,\n",
       " 7597,\n",
       " 7717,\n",
       " 7721,\n",
       " 7727,\n",
       " 7771,\n",
       " 7790,\n",
       " 7981,\n",
       " 8002,\n",
       " 8069,\n",
       " 8283,\n",
       " 8355,\n",
       " 8472,\n",
       " 8507,\n",
       " 8921,\n",
       " 8995,\n",
       " 9126,\n",
       " 9134,\n",
       " 9248,\n",
       " 9321,\n",
       " 9334,\n",
       " 9416,\n",
       " 9598,\n",
       " 9649,\n",
       " 9730,\n",
       " 9910]"
      ]
     },
     "execution_count": 85,
     "metadata": {},
     "output_type": "execute_result"
    }
   ],
   "source": [
    "li=[random.randint(0,10000) for _ in range(100)]\n",
    "radix_sort(li)"
   ]
  },
  {
   "cell_type": "code",
   "execution_count": null,
   "metadata": {},
   "outputs": [],
   "source": []
  }
 ],
 "metadata": {
  "kernelspec": {
   "display_name": "Python 3",
   "language": "python",
   "name": "python3"
  },
  "language_info": {
   "codemirror_mode": {
    "name": "ipython",
    "version": 3
   },
   "file_extension": ".py",
   "mimetype": "text/x-python",
   "name": "python",
   "nbconvert_exporter": "python",
   "pygments_lexer": "ipython3",
   "version": "3.7.3"
  }
 },
 "nbformat": 4,
 "nbformat_minor": 2
}
