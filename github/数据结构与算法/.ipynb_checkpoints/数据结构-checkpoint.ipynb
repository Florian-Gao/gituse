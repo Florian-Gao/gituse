{
 "cells": [
  {
   "cell_type": "code",
   "execution_count": 1,
   "metadata": {},
   "outputs": [],
   "source": [
    " #利用栈进行括号问题\n",
    "def kuohao(s):\n",
    "    stack=[]\n",
    "    d={'(':')','[':']','{':'}'}\n",
    "    for i in s:\n",
    "        if i in ['(','{','[']:\n",
    "            stack.append(i)\n",
    "        elif len(stack)==0:\n",
    "            print('右边多出%s' %i)\n",
    "            return False\n",
    "        elif d[stack[-1]]==i:\n",
    "            stack.pop()\n",
    "        else:\n",
    "            print('%s括号不匹配' %i)\n",
    "    if len(stack)==0:\n",
    "        return True\n",
    "    else:\n",
    "        print('含有左半边括号未匹配')\n",
    "        return False"
   ]
  },
  {
   "cell_type": "code",
   "execution_count": 2,
   "metadata": {},
   "outputs": [
    {
     "name": "stdout",
     "output_type": "stream",
     "text": [
      "右边多出}\n"
     ]
    },
    {
     "data": {
      "text/plain": [
       "False"
      ]
     },
     "execution_count": 2,
     "metadata": {},
     "output_type": "execute_result"
    }
   ],
   "source": [
    "s=['(','[',']',')','}']\n",
    "kuohao(s)"
   ]
  },
  {
   "cell_type": "code",
   "execution_count": null,
   "metadata": {},
   "outputs": [],
   "source": []
  },
  {
   "cell_type": "code",
   "execution_count": 3,
   "metadata": {},
   "outputs": [],
   "source": [
    "#深度优先搜索-迷宫问题\n",
    "\n",
    "\n",
    "def solve_maze(x1,y1,x2,y2): #初始地址和末地址\n",
    "    maze = [\n",
    "    [1,1,1,1,1,1,1,1,1,1],\n",
    "    [1,0,0,1,0,0,0,1,0,1],\n",
    "    [1,0,0,1,0,0,0,1,0,1],\n",
    "    [1,0,0,0,0,1,1,0,0,1],\n",
    "    [1,0,1,1,1,0,0,0,0,1],\n",
    "    [1,0,0,0,1,0,0,0,0,1],\n",
    "    [1,0,1,0,0,0,1,0,0,1],\n",
    "    [1,0,1,1,1,1,1,1,0,1],\n",
    "    [1,1,0,0,0,0,0,0,0,1],\n",
    "    [1,1,1,1,1,1,1,1,1,1]\n",
    "    ]\n",
    "\n",
    "    dirs = [\n",
    "        lambda x, y: (x - 1, y), #上\n",
    "        lambda x, y: (x,y+1), #右\n",
    "        lambda x, y: (x + 1, y), #下\n",
    "        lambda x, y: (x, y - 1), #左\n",
    "        ]\n",
    "    stack=[] \n",
    "    stack.append((x1,y1))\n",
    "    maze[x1][y1]=2\n",
    "    while len(stack)>0: #当栈不空时循环\n",
    "        cur_node=stack[-1] #得栈最后一个节点\n",
    "        if cur_node==(x2,y2): #到终点了\n",
    "            print(stack)\n",
    "            return True\n",
    "        for dir in dirs:\n",
    "            next_node=dir(*cur_node) #加上 * 是让其去掉外面的括号\n",
    "            if maze[next_node[0]][next_node[1]]==0:\n",
    "                stack.append(next_node)\n",
    "                maze[next_node[0]][next_node[1]]=2  #2表示已经走过\n",
    "                break\n",
    "        else:\n",
    "            stack.pop()\n",
    "    else:\n",
    "        print('无路')\n",
    "        return False\n",
    "        \n"
   ]
  },
  {
   "cell_type": "code",
   "execution_count": 4,
   "metadata": {},
   "outputs": [
    {
     "name": "stdout",
     "output_type": "stream",
     "text": [
      "[(1, 1), (1, 2), (2, 2), (3, 2), (3, 1), (4, 1), (5, 1), (5, 2), (5, 3), (6, 3), (6, 4), (6, 5), (5, 5), (4, 5), (4, 6), (4, 7), (3, 7), (3, 8), (4, 8), (5, 8), (6, 8), (7, 8), (8, 8)]\n"
     ]
    },
    {
     "data": {
      "text/plain": [
       "True"
      ]
     },
     "execution_count": 4,
     "metadata": {},
     "output_type": "execute_result"
    }
   ],
   "source": [
    "solve_maze(1,1,8,8)"
   ]
  },
  {
   "cell_type": "code",
   "execution_count": 5,
   "metadata": {},
   "outputs": [
    {
     "name": "stdout",
     "output_type": "stream",
     "text": [
      "(2, 1)\n",
      "(3, 2)\n",
      "(2, 3)\n",
      "(1, 2)\n"
     ]
    }
   ],
   "source": [
    "dirs = [\n",
    "    lambda x, y: (x, y - 1), #上\n",
    "    lambda x, y: (x + 1, y), #右\n",
    "    lambda x, y: (x, y + 1), #下\n",
    "    lambda x, y: (x - 1, y) #左\n",
    "]\n",
    "for _ in dirs:\n",
    "    nextNode = _(*(2,2))\n",
    "    print(nextNode)"
   ]
  },
  {
   "cell_type": "code",
   "execution_count": 6,
   "metadata": {},
   "outputs": [],
   "source": [
    "dirs = [\n",
    "    lambda x, y: (x, y - 1), #上\n",
    "    lambda x, y: (x + 1, y), #右\n",
    "    lambda x, y: (x, y + 1), #下\n",
    "    lambda x, y: (x - 1, y) #左\n",
    "]"
   ]
  },
  {
   "cell_type": "code",
   "execution_count": 7,
   "metadata": {},
   "outputs": [
    {
     "name": "stdout",
     "output_type": "stream",
     "text": [
      "['a', 'g', 'i', 'k']\n",
      "{24, 33, 52, 12}\n",
      "{24: 'a', 52: 'g', 12: 'i', 33: 'k'}\n",
      "[('a', 24), ('g', 52), ('i', 12), ('k', 33)]\n"
     ]
    }
   ],
   "source": [
    "d= {'a':24,'g':52,'i':12,'k':33}\n",
    "# 以列表形式输出字典d的key\n",
    "# d.items()为字典d的键值对\n",
    "b1=[key for key,value in d.items()]\n",
    "print(b1)\n",
    "# 以列表的形式输出字典d的value\n",
    "b2={value for key,value in d.items()}\n",
    "print(b2)\n",
    "# 颠倒字典d的key:value位置\n",
    "b3={value : key for key,value in d.items()}\n",
    "print(b3)\n",
    " \n",
    "# 将字典d按value的值进行排序\n",
    "b4=sorted(d.items(), key=lambda x: x[0])\n",
    "print(b4)"
   ]
  },
  {
   "cell_type": "code",
   "execution_count": 8,
   "metadata": {},
   "outputs": [
    {
     "name": "stdout",
     "output_type": "stream",
     "text": [
      "[(1, 1), (1, 2), (2, 2), (3, 2), (3, 1), (4, 1), (5, 1), (5, 2), (5, 3), (6, 3), (6, 4), (6, 5), (5, 5), (4, 5), (4, 6), (4, 7), (3, 7), (3, 8), (4, 8), (5, 8), (6, 8), (7, 8), (8, 8)]\n"
     ]
    },
    {
     "data": {
      "text/plain": [
       "True"
      ]
     },
     "execution_count": 8,
     "metadata": {},
     "output_type": "execute_result"
    }
   ],
   "source": [
    "maze = [\n",
    "    [1,1,1,1,1,1,1,1,1,1],\n",
    "    [1,0,0,1,0,0,0,1,0,1],\n",
    "    [1,0,0,1,0,0,0,1,0,1],\n",
    "    [1,0,0,0,0,1,1,0,0,1],\n",
    "    [1,0,1,1,1,0,0,0,0,1],\n",
    "    [1,0,0,0,1,0,0,0,0,1],\n",
    "    [1,0,1,0,0,0,1,0,0,1],\n",
    "    [1,0,1,1,1,1,1,1,0,1],\n",
    "    [1,1,0,0,0,0,0,0,0,1],\n",
    "    [1,1,1,1,1,1,1,1,1,1]\n",
    "    ]\n",
    "\n",
    "def solve_maze(x1,y1,x2,y2):\n",
    "    stack=[]\n",
    "    stack.append((x1,y1))\n",
    "    maze[x1][y1]=2\n",
    "    dirs=[\n",
    "        lambda x,y:(x-1,y),#上\n",
    "        lambda x,y:(x,y+1),#右\n",
    "        lambda x,y:(x+1,y),#下\n",
    "        lambda x,y:(x,y-1)#左\n",
    "    ]\n",
    "    while len(stack)>0:\n",
    "        cur_node=stack[-1]\n",
    "        if cur_node==(x2,y2):\n",
    "            print(stack)\n",
    "            return True\n",
    "        for dir in dirs: #需要写一下dirs的列表\n",
    "            next_node=dir(*cur_node)\n",
    "            if maze[next_node[0]][next_node[1]]==0:\n",
    "                stack.append(next_node)\n",
    "                maze[next_node[0]][next_node[1]]=2\n",
    "                break   \n",
    "        else:\n",
    "            stack.pop()\n",
    "    else:\n",
    "        print('no way to go')\n",
    "        return False\n",
    "\n",
    "    \n",
    "solve_maze(1,1,8,8)"
   ]
  },
  {
   "cell_type": "code",
   "execution_count": 9,
   "metadata": {},
   "outputs": [
    {
     "name": "stdout",
     "output_type": "stream",
     "text": [
      "[(1, 1), (2, 1), (3, 1), (4, 1), (5, 1), (5, 2), (5, 3), (6, 3), (6, 4), (6, 5), (5, 5), (5, 6), (5, 7), (5, 8), (6, 8), (7, 8), (8, 8)]\n"
     ]
    },
    {
     "data": {
      "text/plain": [
       "True"
      ]
     },
     "execution_count": 9,
     "metadata": {},
     "output_type": "execute_result"
    }
   ],
   "source": [
    "#广度优先算法 queue\n",
    "maze = [\n",
    "    [1,1,1,1,1,1,1,1,1,1],\n",
    "    [1,0,0,1,0,0,0,1,0,1],\n",
    "    [1,0,0,1,0,0,0,1,0,1],\n",
    "    [1,0,0,0,0,1,1,0,0,1],\n",
    "    [1,0,1,1,1,0,0,0,0,1],\n",
    "    [1,0,0,0,1,0,0,0,0,1],\n",
    "    [1,0,1,0,0,0,1,0,0,1],\n",
    "    [1,0,1,1,1,1,1,1,0,1],\n",
    "    [1,1,0,0,0,0,0,0,0,1],\n",
    "    [1,1,1,1,1,1,1,1,1,1]\n",
    "    ]\n",
    "from collections import deque\n",
    "def solve_maze_queue(x1,y1,x2,y2):\n",
    "    q=deque()\n",
    "    q.append((x1,y1,-1))\n",
    "    maze[x1][y1]=2\n",
    "    traceback=[]\n",
    "    dirs=[\n",
    "        lambda x,y:(x-1,y),#上\n",
    "        lambda x,y:(x,y+1),#右\n",
    "        lambda x,y:(x+1,y),#下\n",
    "        lambda x,y:(x,y-1)#左\n",
    "    ]\n",
    "    while len(q)>0:\n",
    "        cur_node=q.popleft() #把队列中最前面的那个踢出来\n",
    "        traceback.append(cur_node) #把踢出q的元素放入新的列表中\n",
    "        if cur_node[:-1]==(x2,y2):#达到终点的条件\n",
    "            path=[]\n",
    "            i=len(traceback)-1\n",
    "            \n",
    "            while i>=0:\n",
    "                path.append(traceback[i][0:2])\n",
    "                i=traceback[i][2]\n",
    "                \n",
    "            path.reverse()\n",
    "            print(path)\n",
    "            return True\n",
    "            \n",
    "            #for i,v in enumerate(traceback): #把存在traceback的元素打出来\n",
    "                #print(i,v)\n",
    "        for d in dirs:\n",
    "            next_x,next_y=d(cur_node[0],cur_node[1])\n",
    "            if maze[next_x][next_y]==0:\n",
    "                q.append((next_x,next_y,len(traceback)-1))\n",
    "                maze[next_x][next_y]=2\n",
    "    else:\n",
    "        print('no way')\n",
    "        return False\n",
    "                \n",
    "solve_maze_queue(1,1,8,8)"
   ]
  },
  {
   "cell_type": "code",
   "execution_count": 10,
   "metadata": {},
   "outputs": [
    {
     "name": "stdout",
     "output_type": "stream",
     "text": [
      "[(1, 1), (1, 2), (2, 2), (3, 2), (3, 1), (4, 1), (5, 1), (5, 2), (5, 3), (6, 3), (6, 4), (6, 5), (5, 5), (4, 5), (4, 6), (4, 7), (3, 7), (3, 8), (4, 8), (5, 8), (6, 8), (7, 8), (8, 8)]\n",
      "====================================================================================================\n",
      "[(1, 1), (2, 1), (3, 1), (4, 1), (5, 1), (5, 2), (5, 3), (6, 3), (6, 4), (6, 5), (5, 5), (5, 6), (5, 7), (5, 8), (6, 8), (7, 8), (8, 8)]\n"
     ]
    },
    {
     "data": {
      "text/plain": [
       "True"
      ]
     },
     "execution_count": 10,
     "metadata": {},
     "output_type": "execute_result"
    }
   ],
   "source": [
    "maze = [\n",
    "    [1,1,1,1,1,1,1,1,1,1],\n",
    "    [1,0,0,1,0,0,0,1,0,1],\n",
    "    [1,0,0,1,0,0,0,1,0,1],\n",
    "    [1,0,0,0,0,1,1,0,0,1],\n",
    "    [1,0,1,1,1,0,0,0,0,1],\n",
    "    [1,0,0,0,1,0,0,0,0,1],\n",
    "    [1,0,1,0,0,0,1,0,0,1],\n",
    "    [1,0,1,1,1,1,1,1,0,1],\n",
    "    [1,1,0,0,0,0,0,0,0,1],\n",
    "    [1,1,1,1,1,1,1,1,1,1]\n",
    "    ]\n",
    "dirs=[\n",
    "        lambda x,y:(x-1,y),#向上\n",
    "        lambda x,y:(x,y+1),#向右\n",
    "        lambda x,y:(x+1,y),#向下\n",
    "        lambda x,y:(x,y-1),#向左\n",
    "    ]\n",
    "#深度优先搜索-栈\n",
    "def solve_maze(x1,y1,x2,y2):\n",
    "    stack=[] \n",
    "    stack.append((x1,y1))\n",
    "    maze[x1][y1]=2\n",
    "    while len(stack)>0:#当长度不为0时，就循环\n",
    "        cur_node=stack[-1]\n",
    "        #如果到达目标点\n",
    "        if cur_node==(x2,y2):\n",
    "            print(stack)\n",
    "            return True\n",
    "        #想办法通过cur_node进行下一步next_node，要确定dirs\n",
    "        for dir in dirs:\n",
    "            next_x,next_y=dir(*cur_node)\n",
    "            if maze[next_x][next_y]==0:\n",
    "                stack.append((next_x,next_y))\n",
    "                maze[next_x][next_y]=2\n",
    "                break\n",
    "        else:\n",
    "            stack.pop()\n",
    "    else:#如果最后stack为空了\n",
    "        print('no way')\n",
    "        return False\n",
    "\n",
    "\n",
    "#广度优先搜索-queue\n",
    "from collections import deque\n",
    "def solve_maze_queue(x1,y1,x2,y2):\n",
    "    q=deque()\n",
    "    q.append((x1,y1,-1))\n",
    "    traceback=[]\n",
    "    while len(q)>0:\n",
    "        cur_node=q.popleft()\n",
    "        traceback.append(cur_node)\n",
    "        #到达终点\n",
    "        if cur_node[0:2]==(x2,y2):\n",
    "            #do something \n",
    "            path=[]#单独拿出一个list装路径\n",
    "            i=len(traceback)-1\n",
    "            while i >=0:\n",
    "                path.append(traceback[i][0:2])\n",
    "                i=traceback[i][2]\n",
    "            path.reverse()\n",
    "            print(path)\n",
    "            return True\n",
    "                \n",
    "        #运行过程中\n",
    "        for dir in dirs:\n",
    "            next_x,next_y=dir(*cur_node[0:2])\n",
    "            if maze[next_x][next_y]==0:\n",
    "                q.append((next_x,next_y,len(traceback)-1))\n",
    "                maze[next_x][next_y]=2\n",
    "                \n",
    "        #else:#如果没有找到下一个节点\n",
    "            #q.pop() \n",
    "    else:#最后队伍为空\n",
    "        print('no way')\n",
    "        return False\n",
    "        \n",
    "\n",
    "\n",
    "\n",
    "\n",
    "solve_maze(1,1,8,8)\n",
    "print(100*'=')\n",
    "maze = [\n",
    "    [1,1,1,1,1,1,1,1,1,1],\n",
    "    [1,0,0,1,0,0,0,1,0,1],\n",
    "    [1,0,0,1,0,0,0,1,0,1],\n",
    "    [1,0,0,0,0,1,1,0,0,1],\n",
    "    [1,0,1,1,1,0,0,0,0,1],\n",
    "    [1,0,0,0,1,0,0,0,0,1],\n",
    "    [1,0,1,0,0,0,1,0,0,1],\n",
    "    [1,0,1,1,1,1,1,1,0,1],\n",
    "    [1,1,0,0,0,0,0,0,0,1],\n",
    "    [1,1,1,1,1,1,1,1,1,1]\n",
    "    ]\n",
    "solve_maze_queue(1,1,8,8)            \n",
    "#广度优先搜索能找到最快的路径           \n"
   ]
  },
  {
   "cell_type": "code",
   "execution_count": 11,
   "metadata": {},
   "outputs": [],
   "source": [
    "#创建链表\n",
    "class Node(object):\n",
    "    def __init__(self,data):\n",
    "        self.data=data\n",
    "        self.next=None\n",
    "        \n",
    "class LinkList(object):\n",
    "    def __init__(self,li,method='tail'):\n",
    "        self.head=None\n",
    "        self.tail=None\n",
    "        if method=='tail':\n",
    "            self.create_linklist_tail(li)\n",
    "        elif method=='head':\n",
    "            self.create_linklist_head(li)\n",
    "        else:\n",
    "            raise ValueError('Unsupport value %s' %method)\n",
    "            \n",
    "    def create_linklist_head(self,li):  #头插法\n",
    "        self.head=Node(0) #这是为了计数，计算有几个数据\n",
    "        for i in li:\n",
    "            n=Node(i)\n",
    "            n.next=self.head.next\n",
    "            self.head.next=n\n",
    "            self.head.data+=1\n",
    "    \n",
    "    def create_linklist_tail(self,li):\n",
    "        self.head=Node(0)\n",
    "        self.tail=self.head\n",
    "        for i in li:\n",
    "            p=Node(i)\n",
    "            self.tail.next=p\n",
    "            self.tail=p\n",
    "            self.head.data+=1\n",
    "            \n",
    "\n",
    "    def traverse_linklist(self): #输出链表的值\n",
    "        p=self.head.next\n",
    "        while p:\n",
    "            print(p.data)\n",
    "            p=p.next\n",
    "            \n",
    "    def __len__(self):\n",
    "        return self.head.data"
   ]
  },
  {
   "cell_type": "code",
   "execution_count": 12,
   "metadata": {},
   "outputs": [
    {
     "name": "stdout",
     "output_type": "stream",
     "text": [
      "1\n",
      "2\n",
      "3\n",
      "4\n",
      "5\n",
      "====================================================================================================\n",
      "5\n",
      "4\n",
      "3\n",
      "2\n",
      "1\n",
      "====================================================================================================\n",
      "5\n"
     ]
    }
   ],
   "source": [
    "ll=LinkList([1,2,3,4,5],method='tail')\n",
    "ll.traverse_linklist()\n",
    "print(100*'=')\n",
    "ll=LinkList([1,2,3,4,5],method='head')\n",
    "ll.traverse_linklist()\n",
    "print(100*'=')\n",
    "print(len(ll))"
   ]
  },
  {
   "cell_type": "code",
   "execution_count": 13,
   "metadata": {},
   "outputs": [
    {
     "name": "stdout",
     "output_type": "stream",
     "text": [
      "[(1, 1), (1, 2), (2, 2), (3, 2), (3, 1), (4, 1), (5, 1), (5, 2), (5, 3), (6, 3), (6, 4), (6, 5), (5, 5), (4, 5), (4, 6), (4, 7), (3, 7), (3, 8), (4, 8), (5, 8), (6, 8), (7, 8), (8, 8)]\n"
     ]
    },
    {
     "data": {
      "text/plain": [
       "True"
      ]
     },
     "execution_count": 13,
     "metadata": {},
     "output_type": "execute_result"
    }
   ],
   "source": [
    "#深度优先搜索\n",
    "dirs=[\n",
    "    lambda x,y:(x-1,y),\n",
    "    lambda x,y:(x,y+1),\n",
    "    lambda x,y:(x+1,y),\n",
    "    lambda x,y:(x,y-1)\n",
    "]\n",
    "maze = [\n",
    "    [1,1,1,1,1,1,1,1,1,1],\n",
    "    [1,0,0,1,0,0,0,1,0,1],\n",
    "    [1,0,0,1,0,0,0,1,0,1],\n",
    "    [1,0,0,0,0,1,1,0,0,1],\n",
    "    [1,0,1,1,1,0,0,0,0,1],\n",
    "    [1,0,0,0,1,0,0,0,0,1],\n",
    "    [1,0,1,0,0,0,1,0,0,1],\n",
    "    [1,0,1,1,1,1,1,1,0,1],\n",
    "    [1,1,0,0,0,0,0,0,0,1],\n",
    "    [1,1,1,1,1,1,1,1,1,1]\n",
    "    ]\n",
    "\n",
    "def solve_maze(x1,y1,x2,y2):\n",
    "    stack=[]\n",
    "    stack.append((x1,y1))\n",
    "    maze[x1][y1]=2\n",
    "    while len(stack)>0:\n",
    "        cur_node=stack[-1]\n",
    "        if cur_node==(x2,y2):\n",
    "            print(stack)\n",
    "            return True\n",
    "        for dir in dirs:\n",
    "            next_x,next_y=dir(*cur_node)\n",
    "            if maze[next_x][next_y]==0:\n",
    "                stack.append((next_x,next_y))\n",
    "                maze[next_x][next_y]=2\n",
    "                break\n",
    "        else:\n",
    "            stack.pop()\n",
    "    else:\n",
    "        print('no way')\n",
    "        return False\n",
    "\n",
    "solve_maze(1,1,8,8)"
   ]
  },
  {
   "cell_type": "code",
   "execution_count": 14,
   "metadata": {},
   "outputs": [
    {
     "name": "stdout",
     "output_type": "stream",
     "text": [
      "[(1, 1), (2, 1), (3, 1), (4, 1), (5, 1), (5, 2), (5, 3), (6, 3), (6, 4), (6, 5), (5, 5), (5, 6), (5, 7), (5, 8), (6, 8), (7, 8), (8, 8)]\n"
     ]
    },
    {
     "data": {
      "text/plain": [
       "True"
      ]
     },
     "execution_count": 14,
     "metadata": {},
     "output_type": "execute_result"
    }
   ],
   "source": [
    "#广度优先搜索\n",
    "from collections import deque\n",
    "dirs=[\n",
    "    lambda x,y:(x-1,y),\n",
    "    lambda x,y:(x,y+1),\n",
    "    lambda x,y:(x+1,y),\n",
    "    lambda x,y:(x,y-1)\n",
    "]\n",
    "maze = [\n",
    "    [1,1,1,1,1,1,1,1,1,1],\n",
    "    [1,0,0,1,0,0,0,1,0,1],\n",
    "    [1,0,0,1,0,0,0,1,0,1],\n",
    "    [1,0,0,0,0,1,1,0,0,1],\n",
    "    [1,0,1,1,1,0,0,0,0,1],\n",
    "    [1,0,0,0,1,0,0,0,0,1],\n",
    "    [1,0,1,0,0,0,1,0,0,1],\n",
    "    [1,0,1,1,1,1,1,1,0,1],\n",
    "    [1,1,0,0,0,0,0,0,0,1],\n",
    "    [1,1,1,1,1,1,1,1,1,1]\n",
    "    ]\n",
    "\n",
    "def solve_maze_queue(x1,y1,x2,y2):\n",
    "    q=deque()\n",
    "    q.append((x1,y1,-1))\n",
    "    traceback=[]\n",
    "    while len(q)>0:\n",
    "        cur_node=q.popleft()\n",
    "        traceback.append(cur_node)\n",
    "        if cur_node[0:2]==(x2,y2):\n",
    "            #do something\n",
    "            path=[]\n",
    "            i=len(traceback)-1\n",
    "            while i>=0:\n",
    "                path.append(traceback[i][0:2])\n",
    "                i=traceback[i][2]\n",
    "            path.reverse()\n",
    "            print(path)\n",
    "            return True\n",
    "        for dir in dirs:\n",
    "            next_x,next_y=dir(*cur_node[0:2])\n",
    "            if maze[next_x][next_y]==0:\n",
    "                q.append((next_x,next_y,len(traceback)-1))\n",
    "                maze[next_x][next_y]=2\n",
    "    else:\n",
    "        print('no way')\n",
    "        return False\n",
    "\n",
    "solve_maze_queue(1,1,8,8)"
   ]
  },
  {
   "cell_type": "code",
   "execution_count": 15,
   "metadata": {},
   "outputs": [],
   "source": [
    "#链表\n",
    "class Node:\n",
    "    def __init__(self,data):\n",
    "        self.data=data\n",
    "        self.next=None\n",
    "        \n",
    "class LinkList:\n",
    "    def __init__(self,li,method='head'):\n",
    "        self.head=None\n",
    "        self.tail=None\n",
    "        if method=='head':\n",
    "            self.creat_linklist_head(li)\n",
    "        elif method=='tail':\n",
    "            self.creat_linklist_tail(li)\n",
    "        else:\n",
    "            raise ValueError('Unsupport value %s' %method)\n",
    "        \n",
    "            \n",
    "    def creat_linklist_head(self,li):\n",
    "        self.head=Node(0)#count\n",
    "        for i in li:\n",
    "            n=Node(i)\n",
    "            n.next=self.head.next\n",
    "            self.head.next=n\n",
    "            self.head.data+=1\n",
    "    \n",
    "    def creat_linklist_tail(self,li):\n",
    "        self.head=Node(0)\n",
    "        self.tail=self.head\n",
    "        for i in li:\n",
    "            n=Node(i)\n",
    "            self.tail.next=n\n",
    "            self.tail=n\n",
    "            self.head.data+=1\n",
    "    \n",
    "    def traverse_linklist(self):\n",
    "        p=self.head.next\n",
    "        while p:\n",
    "            print(p.data)\n",
    "            p=p.next\n",
    "        \n",
    "    def __len__(self):\n",
    "        return self.head.data"
   ]
  },
  {
   "cell_type": "code",
   "execution_count": 16,
   "metadata": {},
   "outputs": [
    {
     "name": "stdout",
     "output_type": "stream",
     "text": [
      "5\n",
      "4\n",
      "3\n",
      "2\n",
      "1\n",
      "====================================================================================================\n",
      "1\n",
      "2\n",
      "3\n",
      "4\n",
      "5\n",
      "====================================================================================================\n"
     ]
    },
    {
     "data": {
      "text/plain": [
       "5"
      ]
     },
     "execution_count": 16,
     "metadata": {},
     "output_type": "execute_result"
    }
   ],
   "source": [
    "li=[1,2,3,4,5]\n",
    "ll=LinkList(li,method='head')\n",
    "ll.traverse_linklist()\n",
    "print(100*'=')\n",
    "ll=LinkList(li,method='tail')\n",
    "ll.traverse_linklist()\n",
    "print(100*'=')\n",
    "len(ll)"
   ]
  },
  {
   "cell_type": "code",
   "execution_count": 1,
   "metadata": {},
   "outputs": [],
   "source": [
    "def kuohao(s):\n",
    "    stack=[]\n",
    "    d={'(':')','[':']','{':'}'}\n",
    "    for i in s:\n",
    "        if i in {'(','{','['}:\n",
    "            print('1')\n",
    "            stack.append(i)\n",
    "            print(stack)\n",
    "        elif len(stack)==0:\n",
    "            print('3')\n",
    "            print('后面的没有匹配对象')\n",
    "            return False\n",
    "        elif d[stack[-1]]==i:\n",
    "            print('2')\n",
    "            stack.pop()\n",
    "            print(stack)\n",
    "        else:\n",
    "            print('4')\n",
    "            print('前后不匹配')\n",
    "            return False\n",
    "    if len(stack)==0:\n",
    "        return True\n",
    "    else:\n",
    "        print('前面有符号不匹配')\n",
    "        return False"
   ]
  },
  {
   "cell_type": "code",
   "execution_count": 2,
   "metadata": {},
   "outputs": [
    {
     "name": "stdout",
     "output_type": "stream",
     "text": [
      "1\n",
      "['(']\n",
      "1\n",
      "['(', '{']\n",
      "2\n",
      "['(']\n",
      "2\n",
      "[]\n",
      "3\n",
      "后面的没有匹配对象\n"
     ]
    },
    {
     "data": {
      "text/plain": [
       "False"
      ]
     },
     "execution_count": 2,
     "metadata": {},
     "output_type": "execute_result"
    }
   ],
   "source": [
    "s=['(','{','}',')',')']\n",
    "kuohao(s)"
   ]
  },
  {
   "cell_type": "code",
   "execution_count": null,
   "metadata": {},
   "outputs": [],
   "source": [
    "#深度优先搜索\n",
    "dirs=[\n",
    "        lambda x,y:(x-1,y),\n",
    "        lambda x,y:(x,y+1),\n",
    "        lambda x,y:(x+1,y),\n",
    "        lambda x,y:(x,y-1)\n",
    "    ]\n",
    "\n",
    "maze = [\n",
    "        [1,1,1,1,1,1,1,1,1,1],\n",
    "        [1,0,0,1,0,0,0,1,0,1],\n",
    "        [1,0,0,1,0,0,0,1,0,1],\n",
    "        [1,0,0,0,0,1,1,0,0,1],\n",
    "        [1,0,1,1,1,0,0,0,0,1],\n",
    "        [1,0,0,0,1,0,0,0,0,1],\n",
    "        [1,0,1,0,0,0,1,0,0,1],\n",
    "        [1,0,1,1,1,1,1,1,0,1],\n",
    "        [1,1,0,0,0,0,0,0,0,1],\n",
    "        [1,1,1,1,1,1,1,1,1,1]\n",
    "        ]\n",
    "def select_maze_stack(x1,y1,x2,y2):\n",
    "    stack=[]\n",
    "    stack.append((x1,y1))\n",
    "    maze[x1][y1]=2\n",
    "    while len(stack)>0:\n",
    "        cur_node=stack[-1]\n",
    "        if cur_node==(x2,y2):\n",
    "            print(stack)\n",
    "            return True\n",
    "        for dir in dirs:\n",
    "            next_x,next_y=dir(*cur_node)\n",
    "            if maze[next_x][next_y]==0:\n",
    "                stack.append((next_x,next_y))\n",
    "                maze[next_x][next_y]=2\n",
    "                break\n",
    "        else:\n",
    "            stack.pop()\n",
    "    else:\n",
    "        print('no way')\n",
    "        return False\n",
    "\n",
    "\n",
    "select_maze_stack(1,1,8,8)"
   ]
  },
  {
   "cell_type": "code",
   "execution_count": null,
   "metadata": {},
   "outputs": [],
   "source": [
    "#广度优先搜索\n",
    "from collections import deque\n",
    "def select_maze_deque(x1,y1,x2,y2):\n",
    "    q=deque()\n",
    "    q.append((x1,y1,-1))\n",
    "    traceback=[]\n",
    "    while len(q)>0:\n",
    "        cur_node=q.popleft()\n",
    "        traceback.append(cur_node)\n",
    "        if cur_node[0:2]==(x2,y2):\n",
    "            #do something \n",
    "            i=len(traceback)-1\n",
    "            path=[]\n",
    "            while i>=0:\n",
    "                path.append(traceback[i][0:2])\n",
    "                i=traceback[i][2]\n",
    "            path.reverse()\n",
    "            print(path)\n",
    "            return True\n",
    "        \n",
    "        for dir in dirs:\n",
    "            next_x,next_y=dir(*cur_node[0:2])\n",
    "            if maze[next_x][next_y]==0:\n",
    "                q.append((next_x,next_y,len(traceback)-1))\n",
    "                maze[next_x][next_y]=2\n",
    "                #print(q)\n",
    "        \n",
    "    else:\n",
    "        print('no way')\n",
    "        return False\n",
    "dirs=[\n",
    "        lambda x,y:(x-1,y),\n",
    "        lambda x,y:(x,y+1),\n",
    "        lambda x,y:(x+1,y),\n",
    "        lambda x,y:(x,y-1)\n",
    "    ]\n",
    "\n",
    "maze = [\n",
    "        [1,1,1,1,1,1,1,1,1,1],\n",
    "        [1,0,0,1,0,0,0,1,0,1],\n",
    "        [1,0,0,1,0,0,0,1,0,1],\n",
    "        [1,0,0,0,0,1,1,0,0,1],\n",
    "        [1,0,1,1,1,0,0,0,0,1],\n",
    "        [1,0,0,0,1,0,0,0,0,1],\n",
    "        [1,0,1,0,0,0,1,0,0,1],\n",
    "        [1,0,1,1,1,1,1,1,0,1],\n",
    "        [1,1,0,0,0,0,0,0,0,1],\n",
    "        [1,1,1,1,1,1,1,1,1,1]\n",
    "        ]\n",
    "select_maze_deque(1,1,8,8)"
   ]
  },
  {
   "cell_type": "code",
   "execution_count": 12,
   "metadata": {},
   "outputs": [],
   "source": [
    "class Node(object):\n",
    "    def __init__(self,data):\n",
    "        self.data=data\n",
    "        self.next=None\n",
    "\n",
    "class LinkList:\n",
    "    def __init__(self,li,method='head'):\n",
    "        self.head=None\n",
    "        self.tail=None\n",
    "        if method=='head':\n",
    "            self.create_linklist_head(li)\n",
    "        if method=='tail':\n",
    "            self.create_linklist_tail(li)\n",
    "        \n",
    "    def create_linklist_head(self,li):\n",
    "        self.head=Node(0)\n",
    "        for i in li:\n",
    "            n=Node(i)\n",
    "            n.next=self.head.next\n",
    "            self.head.next=n\n",
    "            self.head.data+=1\n",
    "            \n",
    "    def create_linklist_tail(self,li):\n",
    "        self.head=Node(0)\n",
    "        self.tail=self.head\n",
    "        for i in li:\n",
    "            n=Node(i)\n",
    "            self.tail.next=n\n",
    "            self.tail=n\n",
    "            self.head.data+=1\n",
    "            \n",
    "    def traverse_linklist(self):\n",
    "        p=self.head.next\n",
    "        while p:\n",
    "            print(p.data)\n",
    "            p=p.next\n",
    "    \n",
    "    def __len__(self):\n",
    "        return self.head.data"
   ]
  },
  {
   "cell_type": "code",
   "execution_count": 13,
   "metadata": {},
   "outputs": [
    {
     "name": "stdout",
     "output_type": "stream",
     "text": [
      "5\n",
      "4\n",
      "3\n",
      "2\n",
      "1\n",
      "****************************************************************************************************\n",
      "1\n",
      "2\n",
      "3\n",
      "4\n",
      "5\n",
      "****************************************************************************************************\n"
     ]
    },
    {
     "data": {
      "text/plain": [
       "5"
      ]
     },
     "execution_count": 13,
     "metadata": {},
     "output_type": "execute_result"
    }
   ],
   "source": [
    "li=[1,2,3,4,5]\n",
    "ll=LinkList(li,method='head')\n",
    "ll.traverse_linklist()\n",
    "print(100*'*')\n",
    "ll=LinkList(li,method='tail')\n",
    "ll.traverse_linklist()\n",
    "print(100*'*')\n",
    "len(ll)"
   ]
  },
  {
   "cell_type": "code",
   "execution_count": 22,
   "metadata": {},
   "outputs": [
    {
     "name": "stdout",
     "output_type": "stream",
     "text": [
      "前序遍历\n",
      "E A C B D G F \n",
      "\n",
      "层次遍历\n",
      "['E', 'A', 'G', 'C', 'F', 'B', 'D']\n"
     ]
    }
   ],
   "source": [
    "class BiTreeNode:\n",
    "    def __init__(self,data):\n",
    "        self.data=data\n",
    "        self.lchild=None\n",
    "        self.rchild=None\n",
    "        \n",
    "a=BiTreeNode('A')\n",
    "b=BiTreeNode('B')\n",
    "c=BiTreeNode('C')\n",
    "d=BiTreeNode('D')\n",
    "e=BiTreeNode('E')\n",
    "f=BiTreeNode('F')\n",
    "g=BiTreeNode('G')\n",
    "\n",
    "e.lchild=a\n",
    "e.rchild=g\n",
    "a.rchild=c\n",
    "c.lchild=b\n",
    "c.rchild=d\n",
    "g.rchild=f\n",
    "\n",
    "root=e\n",
    "\n",
    "def pre_order(root):\n",
    "    if root:\n",
    "        print(root.data,end=' ')\n",
    "        pre_order(root.lchild)\n",
    "        pre_order(root.rchild)\n",
    "\n",
    "def mid_order(root):\n",
    "    if root:\n",
    "        mid_order(root.lchild)\n",
    "        print(root.data,end=' ')\n",
    "        mid_order(root.rchild)\n",
    "        \n",
    "def post_order(root):\n",
    "    if root:\n",
    "        post_order(root.lchild)\n",
    "        post_order(root.rchild)\n",
    "        print(root.data,end=' ') \n",
    "        \n",
    "from collections import deque\n",
    "def level_order(root):\n",
    "    q=deque()\n",
    "    q.append(root)\n",
    "    path=[]\n",
    "    while len(q)>0:\n",
    "        cur_node=q.popleft()\n",
    "        #print(cur_node.data)\n",
    "        path.append(cur_node.data)\n",
    "        if cur_node.lchild:\n",
    "            q.append(cur_node.lchild)\n",
    "        if cur_node.rchild:\n",
    "            q.append(cur_node.rchild)\n",
    "    print(path)\n",
    "            \n",
    "        \n",
    "        \n",
    "        \n",
    "print('前序遍历')     \n",
    "pre_order(root)\n",
    "\n",
    "print('\\n')\n",
    "\n",
    "print('层次遍历')\n",
    "level_order(root)\n"
   ]
  },
  {
   "cell_type": "code",
   "execution_count": null,
   "metadata": {},
   "outputs": [],
   "source": [
    "#二叉搜索树 binary search tree\n",
    "\n",
    "class BiTreeNode:\n",
    "    def __init__(self,data):\n",
    "        self.data=data\n",
    "        self.lchild=None\n",
    "        self.rchild=None\n",
    "        \n",
    "class BST:\n",
    "    def __init__(self):\n",
    "        self.root=None\n",
    "        \n",
    "    \n"
   ]
  },
  {
   "cell_type": "code",
   "execution_count": null,
   "metadata": {},
   "outputs": [],
   "source": []
  },
  {
   "cell_type": "code",
   "execution_count": null,
   "metadata": {},
   "outputs": [],
   "source": []
  },
  {
   "cell_type": "code",
   "execution_count": null,
   "metadata": {},
   "outputs": [],
   "source": []
  }
 ],
 "metadata": {
  "kernelspec": {
   "display_name": "Python 3",
   "language": "python",
   "name": "python3"
  },
  "language_info": {
   "codemirror_mode": {
    "name": "ipython",
    "version": 3
   },
   "file_extension": ".py",
   "mimetype": "text/x-python",
   "name": "python",
   "nbconvert_exporter": "python",
   "pygments_lexer": "ipython3",
   "version": "3.7.3"
  }
 },
 "nbformat": 4,
 "nbformat_minor": 2
}
