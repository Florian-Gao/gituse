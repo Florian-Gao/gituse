{
 "cells": [
  {
   "cell_type": "code",
   "execution_count": 1,
   "metadata": {},
   "outputs": [
    {
     "name": "stdout",
     "output_type": "stream",
     "text": [
      "['/Users/Florian_Gao/Desktop/myexcel/48、2019年LIMS系统收入明细/TAO Sales List 20190430.xls', '/Users/Florian_Gao/Desktop/myexcel/48、2019年LIMS系统收入明细/TAO Sales List 20190630.xls', '/Users/Florian_Gao/Desktop/myexcel/48、2019年LIMS系统收入明细/TAO Sales List 20190131.xls', '/Users/Florian_Gao/Desktop/myexcel/48、2019年LIMS系统收入明细/TAO Sales List 20190331.xls', '/Users/Florian_Gao/Desktop/myexcel/48、2019年LIMS系统收入明细/TAO Sales List 20190731.xls', '/Users/Florian_Gao/Desktop/myexcel/48、2019年LIMS系统收入明细/TAO Sales List 20190531.xls', '/Users/Florian_Gao/Desktop/myexcel/48、2019年LIMS系统收入明细/TAO Sales List 20190930.xls', '/Users/Florian_Gao/Desktop/myexcel/48、2019年LIMS系统收入明细/TAO Sales List 20191031.xls', '/Users/Florian_Gao/Desktop/myexcel/48、2019年LIMS系统收入明细/TAO Sales List 20191230.xls', '/Users/Florian_Gao/Desktop/myexcel/48、2019年LIMS系统收入明细/TAO Sales List 20190831.xls', '/Users/Florian_Gao/Desktop/myexcel/48、2019年LIMS系统收入明细/TAO Sales List 20191130.xls', '/Users/Florian_Gao/Desktop/myexcel/48、2019年LIMS系统收入明细/TAO Sales List 20190228.xls']\n"
     ]
    },
    {
     "name": "stderr",
     "output_type": "stream",
     "text": [
      "/Users/Florian_Gao/anaconda3/lib/python3.7/site-packages/ipykernel_launcher.py:22: FutureWarning: Sorting because non-concatenation axis is not aligned. A future version\n",
      "of pandas will change to not sort by default.\n",
      "\n",
      "To accept the future behavior, pass 'sort=False'.\n",
      "\n",
      "To retain the current behavior and silence the warning, pass 'sort=True'.\n",
      "\n"
     ]
    }
   ],
   "source": [
    "import os\n",
    "import pandas as pd\n",
    "import numpy as np\n",
    "\n",
    "dir = \"/Users/Florian_Gao/Desktop/myexcel/48、2019年LIMS系统收入明细\"#设置工作路径\n",
    "\n",
    "#新建列表，存放文件名（可以忽略，但是为了做的过程能心里有数，先放上）\n",
    "filename_excel = []\n",
    "\n",
    "#新建列表，存放每个文件数据框（每一个excel读取后存放在数据框）\n",
    "frames = []\n",
    "\n",
    "for root, dirs, files in os.walk(dir):\n",
    "    for file in files:\n",
    "        #print(os.path.join(root,file))\n",
    "        filename_excel.append(os.path.join(root,file))\n",
    "        df = pd.read_excel(os.path.join(root,file)) #excel转换成DataFrame\n",
    "        frames.append(df)\n",
    "#打印文件名\n",
    "print(filename_excel)   \n",
    " #合并所有数据\n",
    "result = pd.concat(frames)    \n",
    "\n",
    "#查看合并后的数据\n",
    "result.head()\n",
    "result.shape\n",
    "\n",
    "result.to_csv('/Users/Florian_Gao/Desktop/myexcel/48_2019年LIMS系统收入明细.csv',sep=',',index = False)#保存合并的数据到电脑D盘的merge文件夹中，并把合并后的文件命名为a12.csv"
   ]
  },
  {
   "cell_type": "code",
   "execution_count": null,
   "metadata": {},
   "outputs": [],
   "source": []
  }
 ],
 "metadata": {
  "kernelspec": {
   "display_name": "Python 3",
   "language": "python",
   "name": "python3"
  },
  "language_info": {
   "codemirror_mode": {
    "name": "ipython",
    "version": 3
   },
   "file_extension": ".py",
   "mimetype": "text/x-python",
   "name": "python",
   "nbconvert_exporter": "python",
   "pygments_lexer": "ipython3",
   "version": "3.7.3"
  }
 },
 "nbformat": 4,
 "nbformat_minor": 2
}
