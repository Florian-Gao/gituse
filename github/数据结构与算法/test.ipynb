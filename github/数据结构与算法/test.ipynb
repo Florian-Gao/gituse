{
 "cells": [
  {
   "cell_type": "code",
   "execution_count": 19,
   "metadata": {},
   "outputs": [
    {
     "ename": "TypeError",
     "evalue": "int() can't convert non-string with explicit base",
     "output_type": "error",
     "traceback": [
      "\u001b[0;31m---------------------------------------------------------------------------\u001b[0m",
      "\u001b[0;31mTypeError\u001b[0m                                 Traceback (most recent call last)",
      "\u001b[0;32m<ipython-input-19-9c352ae1c704>\u001b[0m in \u001b[0;36m<module>\u001b[0;34m\u001b[0m\n\u001b[1;32m      2\u001b[0m \u001b[0;32mimport\u001b[0m \u001b[0mrandom\u001b[0m\u001b[0;34m\u001b[0m\u001b[0;34m\u001b[0m\u001b[0m\n\u001b[1;32m      3\u001b[0m \u001b[0ma\u001b[0m\u001b[0;34m=\u001b[0m\u001b[0;36m0b10110\u001b[0m\u001b[0;34m\u001b[0m\u001b[0;34m\u001b[0m\u001b[0m\n\u001b[0;32m----> 4\u001b[0;31m \u001b[0mx\u001b[0m\u001b[0;34m=\u001b[0m\u001b[0;34m(\u001b[0m\u001b[0mint\u001b[0m\u001b[0;34m(\u001b[0m\u001b[0ma\u001b[0m\u001b[0;34m,\u001b[0m\u001b[0;36m2\u001b[0m\u001b[0;34m)\u001b[0m\u001b[0;34m/\u001b[0m\u001b[0;36m2\u001b[0m\u001b[0;34m**\u001b[0m\u001b[0;36m18\u001b[0m\u001b[0;34m)\u001b[0m\u001b[0;34m\u001b[0m\u001b[0;34m\u001b[0m\u001b[0m\n\u001b[0m\u001b[1;32m      5\u001b[0m \u001b[0mprint\u001b[0m\u001b[0;34m(\u001b[0m\u001b[0mx\u001b[0m\u001b[0;34m)\u001b[0m\u001b[0;34m\u001b[0m\u001b[0;34m\u001b[0m\u001b[0m\n",
      "\u001b[0;31mTypeError\u001b[0m: int() can't convert non-string with explicit base"
     ]
    }
   ],
   "source": [
    "import numpy as np\n",
    "import random\n",
    "a=0b10110\n",
    "x=(int(a,2)/2**18)\n",
    "print(x)"
   ]
  },
  {
   "cell_type": "code",
   "execution_count": 26,
   "metadata": {},
   "outputs": [
    {
     "data": {
      "image/png": "[encoded data removed]",
      "text/plain": [
       "<Figure size 432x288 with 1 Axes>"
      ]
     },
     "metadata": {
      "needs_background": "light"
     },
     "output_type": "display_data"
    }
   ],
   "source": [
    "import matplotlib.pyplot as plt\n",
    "import numpy as np\n",
    "import random\n",
    " \n",
    " \n",
    "# (-1, 2)\n",
    "# 初始化原始种群\n",
    "def ori_popular(num):\n",
    "    popular = []\n",
    "    for i in range(num):\n",
    "        x = random.uniform(-1, 2)  # 在此范围内生成一个随机浮点数\n",
    "        popular.append(x)\n",
    "    return popular\n",
    " \n",
    " \n",
    "# 编码，也就是由表现型到基因型，性征到染色体\n",
    "def encode(popular):  # popular应该是float类型的列表\n",
    "    popular_gene = []\n",
    "    for i in range(0, len(popular)):\n",
    "        data = int((popular[i]-(-1)) / 3 * 2**18)  # 染色体序列为18bit\n",
    "        bin_data = bin(data)  # 整形转换成二进制是以字符串的形式存在的\n",
    "        for j in range(len(bin_data)-2, 18):  # 序列长度不足补0\n",
    "            bin_data = bin_data[0:2] + '0' + bin_data[2:]\n",
    "        popular_gene.append(bin_data)\n",
    "    return popular_gene\n",
    " \n",
    " \n",
    "# 解码，即适应度函数。通过基因，即染色体得到个体的适应度值\n",
    "def decode(popular_gene):\n",
    "    fitness = []\n",
    "    for i in range(len(popular_gene)):\n",
    "        x = (int(popular_gene[i], 2) / 2**18) * 3 - 1\n",
    "        #print(x)\n",
    "        value = x * np.sin(10 * np.pi * x) + 2\n",
    "        fitness.append(value)\n",
    "    return fitness\n",
    " \n",
    " \n",
    "# 选择and交叉。选择用轮牌赌，交叉概率为0.66\n",
    "def choice_ex(popular_gene):\n",
    "    fitness = decode(popular_gene)\n",
    "    sum_fit_value = 0\n",
    "    for i in range(len(fitness)):\n",
    "        sum_fit_value += fitness[i]\n",
    "    # 各个个体被选择的概率\n",
    "    probability = []\n",
    "    for i in range(len(fitness)):\n",
    "        probability.append(fitness[i]/sum_fit_value)\n",
    "    # 概率分布\n",
    "    probability_sum = []\n",
    "    for i in range(len(fitness)):\n",
    "        if i == 0:\n",
    "            probability_sum.append(probability[i])\n",
    "        else:\n",
    "            probability_sum.append(probability_sum[i-1] + probability[i])\n",
    " \n",
    "    # 选择\n",
    "    popular_new = []\n",
    "    for i in range(int(len(fitness)/2)):\n",
    "        temp = []\n",
    "        for j in range(2):\n",
    "            rand = random.uniform(0, 1)  # 在0-1之间随机一个浮点数\n",
    "            for k in range(len(fitness)):\n",
    "                if k == 0:\n",
    "                    if rand < probability_sum[k]:\n",
    "                        temp.append(popular_gene[k])\n",
    "                else:\n",
    "                    if (rand > probability_sum[k-1]) and (rand < probability_sum[k]):\n",
    "                        temp.append(popular_gene[k])\n",
    " \n",
    "        #print(temp)\n",
    "        # 交叉，交叉率为0.66。\n",
    "        is_change = random.randint(0, 2)\n",
    "        if is_change:\n",
    "            temp_s = temp[0][9:15]\n",
    "            temp[0] = temp[0][0:9] + temp[1][9:15] + temp[0][15:]\n",
    "            temp[1] = temp[1][0:9] + temp_s + temp[1][15:]\n",
    "\n",
    "        popular_new.append(temp[0])\n",
    "        popular_new.append(temp[1])\n",
    "    return popular_new\n",
    " \n",
    " \n",
    "# 变异.概率为0.05\n",
    "def variation(popular_new):\n",
    "    for i in range(len(popular_new)):\n",
    "        is_variation = random.uniform(0, 1)\n",
    "        # print([len(k) for k in popular_new])\n",
    "        if is_variation < 0.02:\n",
    "            rand = random.randint(2, 19)\n",
    "            if popular_new[i][rand] == '0':\n",
    "                popular_new[i] = popular_new[i][0:rand] + '1' + popular_new[i][rand+1:]\n",
    "            else:\n",
    "                popular_new[i] = popular_new[i][0:rand] + '0' + popular_new[i][rand+1:]\n",
    "    return popular_new\n",
    " \n",
    " \n",
    "if __name__ == '__main__':  # alt+enter\n",
    "    # 初始化原始种群, 一百个个体\n",
    "    num = 100\n",
    "    ori_popular = ori_popular(num)\n",
    "    # 得到原始种群的基因\n",
    "    ori_popular_gene = encode(ori_popular)  # 18位基因\n",
    "    new_popular_gene = ori_popular_gene\n",
    "    y = []\n",
    "    for i in range(1000):  # 迭代次数。繁殖1000代\n",
    "        new_popular_gene = choice_ex(new_popular_gene)  # 选择和交叉\n",
    "        new_popular_gene = variation(new_popular_gene)  # 变异\n",
    "        # 取当代所有个体适应度平均值\n",
    "        new_fitness = decode(new_popular_gene)\n",
    "        sum_new_fitness = 0\n",
    "        for j in new_fitness:\n",
    "            sum_new_fitness += j\n",
    "        y.append(sum_new_fitness/len(new_fitness))\n",
    "    \n",
    "    # 画图\n",
    "    x = np.linspace(0, 1000, 1000)\n",
    "    fig = plt.figure()  # 相当于一个画板\n",
    "    axis = fig.add_subplot(111)  # 坐标轴\n",
    "    axis.plot(x, y)\n",
    "    plt.show()"
   ]
  },
  {
   "cell_type": "code",
   "execution_count": null,
   "metadata": {},
   "outputs": [],
   "source": []
  }
 ],
 "metadata": {
  "kernelspec": {
   "display_name": "Python 3",
   "language": "python",
   "name": "python3"
  },
  "language_info": {
   "codemirror_mode": {
    "name": "ipython",
    "version": 3
   },
   "file_extension": ".py",
   "mimetype": "text/x-python",
   "name": "python",
   "nbconvert_exporter": "python",
   "pygments_lexer": "ipython3",
   "version": "3.7.3"
  }
 },
 "nbformat": 4,
 "nbformat_minor": 2
}
