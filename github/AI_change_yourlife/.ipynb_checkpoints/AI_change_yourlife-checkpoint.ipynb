{
 "cells": [
  {
   "cell_type": "markdown",
   "metadata": {},
   "source": [
    "# AI 革命解放了劳动力\n"
   ]
  },
  {
   "cell_type": "markdown",
   "metadata": {},
   "source": [
    "# 什么是算法\n"
   ]
  },
  {
   "cell_type": "markdown",
   "metadata": {},
   "source": [
    "# 什么是AI算法\n"
   ]
  },
  {
   "cell_type": "markdown",
   "metadata": {},
   "source": [
    "# AI如何塑造人类\n",
    "- AI接管人的健康，人类分为两个物种\n",
    "- AI为人挑选临时伙伴，家庭婚姻解构\n",
    "- 机器接管工厂，事业成常态\n",
    "- 政府、国家消失，AI进行调控\n",
    "- 哲学家成为最流行职业\n",
    "- 人类沦为AI宠物 "
   ]
  },
  {
   "cell_type": "markdown",
   "metadata": {},
   "source": [
    "# 标准化系统\n",
    "- 福特汽车"
   ]
  },
  {
   "cell_type": "markdown",
   "metadata": {},
   "source": [
    "# 自动化系统\n",
    "- 机器手，编程，芯片"
   ]
  },
  {
   "cell_type": "markdown",
   "metadata": {},
   "source": [
    "# 自适应系统\n",
    "- 适应学习能力"
   ]
  },
  {
   "cell_type": "markdown",
   "metadata": {},
   "source": [
    "# AI对行业影响\n",
    "- 产品整体可以看成AI算法（特斯拉）\n",
    "- 核心技术AI算法\n",
    "- 周边辅助应用算法（售后服务，AI对话，智能客服）"
   ]
  },
  {
   "cell_type": "markdown",
   "metadata": {},
   "source": [
    "# AI对互联网影响\n",
    "- 搜索引擎，推荐算法\n",
    "- 推荐算法，推荐你一直喜欢的东西， <font color='red'>适应你并且改变你</font>"
   ]
  },
  {
   "cell_type": "markdown",
   "metadata": {},
   "source": [
    "# 因AI增加和减少的职 s业\n",
    "| 增加 | 减少 |\n",
    "| :---: | :---: |\n",
    "|数据标注师|卡车司机|\n",
    "|模型工程师|简单数量分析师|\n",
    "|AI产品经理|律师助理|"
   ]
  }
 ],
 "metadata": {
  "kernelspec": {
   "display_name": "Python 3",
   "language": "python",
   "name": "python3"
  },
  "language_info": {
   "codemirror_mode": {
    "name": "ipython",
    "version": 3
   },
   "file_extension": ".py",
   "mimetype": "text/x-python",
   "name": "python",
   "nbconvert_exporter": "python",
   "pygments_lexer": "ipython3",
   "version": "3.7.3"
  }
 },
 "nbformat": 4,
 "nbformat_minor": 2
}
