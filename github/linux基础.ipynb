{
 "cells": [
  {
   "cell_type": "markdown",
   "metadata": {},
   "source": [
    "# http://man.linuxde.net\n"
   ]
  },
  {
   "cell_type": "code",
   "execution_count": null,
   "metadata": {},
   "outputs": [],
   "source": [
    "sudo adduser shazi #添加新用户\n",
    "sudo deluser shazi --remove-home#删除用户 , 后面代表文件在哪里，要写上，不然删除不了用户\n",
    "su -l shazi # 切换登录用户\n",
    "whoami\n",
    "who am i # "
   ]
  },
  {
   "cell_type": "code",
   "execution_count": 3,
   "metadata": {},
   "outputs": [
    {
     "name": "stdout",
     "output_type": "stream",
     "text": [
      "total 8\n",
      "drwxr-xr-x   4 Florian_Gao  staff   128  9 12 11:12 \u001b[34mAI_change_yourlife\u001b[m\u001b[m\n",
      "drwxr-xr-x   3 Florian_Gao  staff    96  9 24 10:02 \u001b[34mfather\u001b[m\u001b[m\n",
      "drwxr-xr-x   4 Florian_Gao  staff   128  9  6 11:04 \u001b[34mgituse\u001b[m\u001b[m\n",
      "drwxr-xr-x  12 Florian_Gao  staff   384  9  6 11:04 \u001b[34mimages\u001b[m\u001b[m\n",
      "drwxr-xr-x   6 Florian_Gao  staff   192  9  6 15:09 \u001b[34mjupyter-notebook\u001b[m\u001b[m\n",
      "-rw-r--r--   1 Florian_Gao  staff  4023  9 24 11:57 linux基础.ipynb\n",
      "drwxr-xr-x  17 Florian_Gao  staff   544  9 19 15:22 \u001b[34mwanmen-python\u001b[m\u001b[m\n",
      "drwxr-xr-x  17 Florian_Gao  staff   544  9 20 20:07 \u001b[34mwanmen_cnn\u001b[m\u001b[m\n"
     ]
    }
   ],
   "source": [
    "!ls -l\n"
   ]
  },
  {
   "cell_type": "code",
   "execution_count": 1,
   "metadata": {},
   "outputs": [],
   "source": [
    "mkdir -p father/son #同时建立父目录"
   ]
  },
  {
   "cell_type": "code",
   "execution_count": 2,
   "metadata": {},
   "outputs": [
    {
     "name": "stderr",
     "output_type": "stream",
     "text": [
      "UsageError: option -r not recognized ( allowed: \"qb\" )\n"
     ]
    }
   ],
   "source": [
    "cd -r father family  # 把father复制到family里面 用r表示递归复制"
   ]
  },
  {
   "cell_type": "code",
   "execution_count": null,
   "metadata": {},
   "outputs": [],
   "source": [
    "rm test # 删除文件\n",
    "rm -rf dir #删除文件夹"
   ]
  },
  {
   "cell_type": "code",
   "execution_count": null,
   "metadata": {},
   "outputs": [],
   "source": [
    "mkdir Doc\n",
    "touch test\n",
    "mv test Doc #将文件移动到文件夹\n",
    "\n",
    "mv test test1 #将文件重命名  ，qianqian\n",
    "\n"
   ]
  },
  {
   "cell_type": "code",
   "execution_count": null,
   "metadata": {},
   "outputs": [],
   "source": [
    "cd /home/shiyanlou\n",
    "touch file{1..5}.txt #批量创建五个txt文件\n",
    "rename 's/\\.txt/\\.c/' *.txt  # 批量更改名字  把.txt文件改名.c文件\n",
    "rename 'y/a-z/A-Z/' *.c  #把命名中所有的小写改为大写"
   ]
  },
  {
   "cell_type": "code",
   "execution_count": null,
   "metadata": {},
   "outputs": [],
   "source": [
    "# 查看文件\n",
    "cd /home/shiyanlou\n",
    "cp /etc/passwd passwd  #把etc文件夹中的passwd复制到实验楼文件夹中 命名为passwd\n",
    "cat -n passwd  #正序输出 -n显示行数\n",
    "# tac 倒叙  \n",
    "# nl最为好用， 有多种规则\n",
    "\n",
    "more passwd #查看信息，h看help，里面说明很详细\n",
    "less passwd #查看信息 \n",
    "\n",
    "head -n 2 passwd  #显示前两行带行号的信息\n",
    "# tail 看结尾的\n"
   ]
  },
  {
   "cell_type": "code",
   "execution_count": null,
   "metadata": {},
   "outputs": [],
   "source": [
    "file passwd\n",
    "# 查看文件类型\n"
   ]
  },
  {
   "cell_type": "markdown",
   "metadata": {},
   "source": [
    "# 使用vimtutor 查看使用教程"
   ]
  },
  {
   "cell_type": "code",
   "execution_count": null,
   "metadata": {},
   "outputs": [],
   "source": [
    "hjkl #光标前后左右移动\n",
    "q！ #退出\n",
    "wq #保存退出\n",
    "i #输入欲插入文本\n",
    "A #输入欲添加文本\n",
    "w #删除\n",
    "dw # 删除单词\n",
    "d$ #从光标删除到行末\n",
    "\n",
    "\n",
    "\n",
    "vim passwd #对文件passwd进行编辑\n"
   ]
  },
  {
   "cell_type": "code",
   "execution_count": null,
   "metadata": {},
   "outputs": [],
   "source": [
    "xeyes #召唤一只小眼睛\n"
   ]
  },
  {
   "cell_type": "code",
   "execution_count": null,
   "metadata": {},
   "outputs": [],
   "source": [
    "declare tmp  #声明一个变量\n",
    "tmp=shanghai\n",
    "\n",
    "echo $tmp  #读取变量\n"
   ]
  },
  {
   "cell_type": "code",
   "execution_count": null,
   "metadata": {},
   "outputs": [
    {
     "name": "stdout",
     "output_type": "stream",
     "text": [
      "Password:"
     ]
    }
   ],
   "source": [
    "!sudo chown shiyanlou iphone6  #改变文件所有者"
   ]
  },
  {
   "cell_type": "code",
   "execution_count": null,
   "metadata": {},
   "outputs": [],
   "source": [
    "# 修改文件权限"
   ]
  },
  {
   "cell_type": "code",
   "execution_count": null,
   "metadata": {},
   "outputs": [],
   "source": [
    "gedit hello.txt  #进行修改"
   ]
  },
  {
   "cell_type": "code",
   "execution_count": null,
   "metadata": {},
   "outputs": [],
   "source": [
    "gcc -o hello hello.txt  # gcc生成二进制文件具有可执行权限，不需要修改"
   ]
  },
  {
   "cell_type": "code",
   "execution_count": null,
   "metadata": {},
   "outputs": [],
   "source": [
    "# 删除变量\n",
    "unset temp"
   ]
  },
  {
   "cell_type": "code",
   "execution_count": null,
   "metadata": {},
   "outputs": [],
   "source": [
    "whereis who\n",
    "whereis find   #简单快速搜索文件"
   ]
  },
  {
   "cell_type": "code",
   "execution_count": null,
   "metadata": {},
   "outputs": [],
   "source": [
    "locate /usr/share/\\*.jpg # *前加反斜杠转义，否则无法找到 找文件"
   ]
  },
  {
   "cell_type": "code",
   "execution_count": null,
   "metadata": {},
   "outputs": [],
   "source": [
    "which hello.txt  #找文件\n",
    "find ~ -mtime 0 # 表示在n天前的‘一天之内’修改的文件\n",
    "-ation #最后访问时间\n",
    "-ctime #最后修改文件内容的时间\n",
    "-mtime #最后修改文件属性的时间\n"
   ]
  },
  {
   "cell_type": "code",
   "execution_count": null,
   "metadata": {},
   "outputs": [],
   "source": [
    "#实现黑客帝国的特效\n",
    "sudo apt-get update\n",
    "sudo apt-get install cmatrix"
   ]
  },
  {
   "cell_type": "code",
   "execution_count": null,
   "metadata": {},
   "outputs": [],
   "source": [
    "cmatrix -C red #改变字体颜色"
   ]
  },
  {
   "cell_type": "code",
   "execution_count": null,
   "metadata": {},
   "outputs": [],
   "source": [
    "#找文件\n",
    "sudo find /etc -name source.list\n",
    "sudo chown shiyanlou /etc/apt/source.list\n",
    "sudo chmod 600/etc/apt/sources.list"
   ]
  },
  {
   "cell_type": "markdown",
   "metadata": {},
   "source": [
    "### 文件打包与压缩"
   ]
  },
  {
   "cell_type": "code",
   "execution_count": null,
   "metadata": {},
   "outputs": [],
   "source": [
    "# 指定路径 -d\n",
    "cd /home/shiyanlou \n",
    "zip -r -q -o shiyanlou.zip /home/shiyanlou/Destop  # -r 表示递归函数， -q 参数为安静模式，不向外输出函数 -o 表示输出文件，需要在之后紧跟打包输出文件名\n",
    "du -h -d shiyanlou.zip   # h 人类读取 ， d所查文件的深度\n",
    "file shiyanlou.zip\n",
    "\n",
    "zip -r -9 -q -o shiyanlou_9.zip /home/shiyanlou/Destop  # -9代表压缩级别，-9表示体积最小耗时最久\n",
    "du -h -d 0 *.zip~ | sort #查看默认压缩级别，最低，最高压缩级别及压缩的文件的大小\n",
    "\n",
    "zip -r -e -o shiyanlou_9.zip /home/shiyanlou/Destop  #chuan"
   ]
  },
  {
   "cell_type": "code",
   "execution_count": null,
   "metadata": {},
   "outputs": [],
   "source": [
    "unzip -q -l shiyanlou.zip  #解压缩 -q 安静解压 -l 不想解压，只想查看压缩包内容\n",
    "unzip -O GKB shiyanlou.zip  #大写O 参数指定编码类型"
   ]
  },
  {
   "cell_type": "code",
   "execution_count": null,
   "metadata": {},
   "outputs": [],
   "source": [
    "#创建一个tar包  ,指定路径 -C\n",
    "cd /home/shiyanlou\n",
    "tar -cf shiyanlou.tar /home/shiyanlou/Desktop #c创建一个tar包，-f用于指定创建的文件名 后面紧跟文件名\n",
    "\n",
    "#解包\n",
    "mkdir tardir\n",
    "tar -xf shiyanlou.tar -C tardir # -C 保存到指定的文件夹\n",
    "\n",
    "# 只查看不解包 -t\n",
    "tar -tf shiyanlou.tar"
   ]
  },
  {
   "cell_type": "code",
   "execution_count": null,
   "metadata": {},
   "outputs": [],
   "source": [
    "#创建不同形式的压缩文件，gzip，，只需要加上-z,以及在tar标后加gz\n",
    "tar -czf shiyanlou.tar.gz /home/shiyanlou/Desktop\n",
    "\n",
    "#解压*.tar.gz文件\n",
    "tar -xzf shiyanlou.tar.gz -C tardir\n",
    "\n",
    "\n",
    "\n"
   ]
  },
  {
   "cell_type": "code",
   "execution_count": null,
   "metadata": {},
   "outputs": [],
   "source": [
    "#火炉效果，和黑客帝国类似的\n",
    "sudo apt-get install libaa-bin\n",
    "aafire"
   ]
  },
  {
   "cell_type": "markdown",
   "metadata": {},
   "source": [
    "## 文件系统管理和磁盘系统\n"
   ]
  },
  {
   "cell_type": "code",
   "execution_count": null,
   "metadata": {},
   "outputs": [],
   "source": [
    "df # 查看磁盘容量\n",
    "df -h #更容易懂\n",
    "\n",
    "\n",
    "du #查看目录的容量\n",
    "du -h\n",
    "du -a  # all\n",
    "du -s #summarize\n",
    "du -h #human readable"
   ]
  },
  {
   "cell_type": "code",
   "execution_count": null,
   "metadata": {},
   "outputs": [],
   "source": [
    "dd   #转换和复制文件"
   ]
  },
  {
   "cell_type": "markdown",
   "metadata": {},
   "source": [
    "# linux下的帮助命令"
   ]
  },
  {
   "cell_type": "code",
   "execution_count": 2,
   "metadata": {},
   "outputs": [
    {
     "name": "stdout",
     "output_type": "stream",
     "text": [
      "ls is /bin/ls\n"
     ]
    }
   ],
   "source": [
    "!type ls  # 看命令类型"
   ]
  },
  {
   "cell_type": "code",
   "execution_count": null,
   "metadata": {},
   "outputs": [],
   "source": [
    "bash\n",
    "help ls\n",
    "ls --help\n",
    "\n",
    "man ls\n",
    "\n",
    "#更详细\n",
    "sudo apt-get update\n",
    "sudo apt-get install info\n",
    "info ls"
   ]
  },
  {
   "cell_type": "markdown",
   "metadata": {},
   "source": [
    "### 实验：linux任务计划crontab"
   ]
  },
  {
   "cell_type": "code",
   "execution_count": null,
   "metadata": {},
   "outputs": [],
   "source": [
    "crontab  #用于设置周期性被执行的命令"
   ]
  },
  {
   "cell_type": "code",
   "execution_count": null,
   "metadata": {},
   "outputs": [],
   "source": [
    "sudo apt-get install -y rsyslog\n",
    "sudo service rsyslog start\n",
    "sudo cron f & #启动crontab\n"
   ]
  },
  {
   "cell_type": "code",
   "execution_count": null,
   "metadata": {},
   "outputs": [],
   "source": [
    "crontab -e #选择编辑工具"
   ]
  },
  {
   "cell_type": "code",
   "execution_count": null,
   "metadata": {},
   "outputs": [],
   "source": [
    "man crontab   # 查看"
   ]
  },
  {
   "cell_type": "code",
   "execution_count": null,
   "metadata": {},
   "outputs": [],
   "source": [
    "crontab -l #查看添加哪些东西"
   ]
  },
  {
   "cell_type": "code",
   "execution_count": null,
   "metadata": {},
   "outputs": [],
   "source": [
    "ps aux | grep cron\n",
    "pgrep cron  # 查看是否执行\n",
    "ll #进行查看\n",
    "\n",
    "\n",
    "crontab -r # 删除\n"
   ]
  },
  {
   "cell_type": "markdown",
   "metadata": {},
   "source": [
    "## 挑战\n",
    " 小明作为管理员，每天删除之前的内容，备份今天的blog\n",
    "    "
   ]
  },
  {
   "cell_type": "code",
   "execution_count": null,
   "metadata": {},
   "outputs": [],
   "source": [
    "sudo cron -f &\n",
    "crontab -e\n",
    "0 3 * * * sudo rm /home/shiyanlou/tmp/*\n",
    "0 3 * * * sudo cp /var/log/alternatives.log /home/shiyanlou/tmp/$(date +\\%Y-\\%m-\\%d)"
   ]
  },
  {
   "cell_type": "markdown",
   "metadata": {},
   "source": [
    "## 命令执行与控制"
   ]
  },
  {
   "cell_type": "code",
   "execution_count": null,
   "metadata": {},
   "outputs": [],
   "source": [
    "sudo apt-get update\n",
    "sudo apt-get install some-tool\n"
   ]
  },
  {
   "cell_type": "code",
   "execution_count": null,
   "metadata": {},
   "outputs": [],
   "source": [
    "cut /etc/passwd -d ':' -f 1,6  #打印/etc/passwd 中文件以：分隔符的第一个字段和第六个字段分别表示用户名和其家目录"
   ]
  },
  {
   "cell_type": "code",
   "execution_count": null,
   "metadata": {},
   "outputs": [],
   "source": [
    "cut /etc/passswd -c -5 #前五个，包含第五个\n",
    "#5- 前五个之后的，包含第五个\n",
    "#5 第五个\n",
    "#2-5 2-5之间的，包含第五个"
   ]
  },
  {
   "cell_type": "code",
   "execution_count": null,
   "metadata": {},
   "outputs": [],
   "source": []
  },
  {
   "cell_type": "code",
   "execution_count": null,
   "metadata": {},
   "outputs": [],
   "source": []
  },
  {
   "cell_type": "code",
   "execution_count": null,
   "metadata": {},
   "outputs": [],
   "source": []
  },
  {
   "cell_type": "code",
   "execution_count": null,
   "metadata": {},
   "outputs": [],
   "source": []
  },
  {
   "cell_type": "code",
   "execution_count": null,
   "metadata": {},
   "outputs": [],
   "source": []
  },
  {
   "cell_type": "code",
   "execution_count": null,
   "metadata": {},
   "outputs": [],
   "source": []
  },
  {
   "cell_type": "code",
   "execution_count": null,
   "metadata": {},
   "outputs": [],
   "source": []
  },
  {
   "cell_type": "code",
   "execution_count": null,
   "metadata": {},
   "outputs": [],
   "source": []
  },
  {
   "cell_type": "code",
   "execution_count": null,
   "metadata": {},
   "outputs": [],
   "source": []
  }
 ],
 "metadata": {
  "kernelspec": {
   "display_name": "Python 3",
   "language": "python",
   "name": "python3"
  },
  "language_info": {
   "codemirror_mode": {
    "name": "ipython",
    "version": 3
   },
   "file_extension": ".py",
   "mimetype": "text/x-python",
   "name": "python",
   "nbconvert_exporter": "python",
   "pygments_lexer": "ipython3",
   "version": "3.7.3"
  }
 },
 "nbformat": 4,
 "nbformat_minor": 2
}
