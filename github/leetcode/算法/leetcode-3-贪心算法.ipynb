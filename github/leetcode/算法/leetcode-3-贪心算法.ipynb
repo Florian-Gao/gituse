{
 "cells": [
  {
   "cell_type": "markdown",
   "metadata": {},
   "source": [
    "122. 买卖股票的最佳时机 II        \n",
    "给定一个数组，它的第 i 个元素是一支给定股票第 i 天的价格。                   \n",
    "设计一个算法来计算你所能获取的最大利润。你可以尽可能地完成更多的交易（多次买卖一支股票）。\n",
    "注意：你不能同时参与多笔交易（你必须在再次购买前出售掉之前的股票）。\n",
    "输入: [7,1,5,3,6,4]\n",
    "输出: 7\n",
    "解释: 在第 2 天（股票价格 = 1）的时候买入，在第 3 天（股票价格 = 5）的时候卖出, 这笔交易所能获得利润 = 5-1 = 4 。\n",
    "     随后，在第 4 天（股票价格 = 3）的时候买入，在第 5 天（股票价格 = 6）的时候卖出, 这笔交易所能获得利润 = 6-3 = 3 。"
   ]
  },
  {
   "cell_type": "markdown",
   "metadata": {},
   "source": [
    "这道题就是后一天比前一天高就做差求和就可以"
   ]
  },
  {
   "cell_type": "code",
   "execution_count": 1,
   "metadata": {},
   "outputs": [],
   "source": [
    "class Solution:\n",
    "    def maxProfit(self, prices):\n",
    "        profit = 0\n",
    "        for i in range(len(prices)-1):\n",
    "            tmp = prices[i] - prices[i - 1]\n",
    "            if tmp > 0: \n",
    "                profit += tmp\n",
    "        return profit"
   ]
  },
  {
   "cell_type": "code",
   "execution_count": 2,
   "metadata": {},
   "outputs": [
    {
     "data": {
      "text/plain": [
       "2"
      ]
     },
     "execution_count": 2,
     "metadata": {},
     "output_type": "execute_result"
    }
   ],
   "source": [
    "s=Solution()\n",
    "s.maxProfit([1,2,3,4])\n"
   ]
  },
  {
   "cell_type": "code",
   "execution_count": 3,
   "metadata": {},
   "outputs": [],
   "source": [
    "class Solution:\n",
    "    def maxProfit(self, prices):\n",
    "        return sum(b - a for a, b in zip(prices, prices[1:]) if b > a) "
   ]
  },
  {
   "cell_type": "code",
   "execution_count": 4,
   "metadata": {},
   "outputs": [
    {
     "data": {
      "text/plain": [
       "3"
      ]
     },
     "execution_count": 4,
     "metadata": {},
     "output_type": "execute_result"
    }
   ],
   "source": [
    "s=Solution()\n",
    "s.maxProfit([1,2,3,4])"
   ]
  },
  {
   "cell_type": "markdown",
   "metadata": {},
   "source": [
    "\n",
    "392.判断子序列\n",
    "给定字符串 s 和 t ，判断 s 是否为 t 的子序列。\n",
    "\n",
    "你可以认为 s 和 t 中仅包含英文小写字母。字符串 t 可能会很长（长度 ~= 500,000），而 s 是个短字符串（长度 <=100）。\n",
    "\n",
    "字符串的一个子序列是原始字符串删除一些（也可以不删除）字符而不改变剩余字符相对位置形成的新字符串。（例如，\"ace\"是\"abcde\"的一个子序列，而\"aec\"不是）。\n",
    "\n",
    "示例 1:\n",
    "s = \"abc\", t = \"ahbgdc\"\n",
    "\n",
    "返回 true.\n",
    "\n",
    "示例 2:\n",
    "s = \"axc\", t = \"ahbgdc\"\n",
    "\n",
    "返回 false.\n",
    "\n",
    "后续挑战 :\n",
    "\n",
    "如果有大量输入的 S，称作S1, S2, ... , Sk 其中 k >= 10亿，你需要依次检查它们是否为 T 的子序列。在这种情况下，你会怎样改变代码？"
   ]
  },
  {
   "cell_type": "code",
   "execution_count": 5,
   "metadata": {},
   "outputs": [],
   "source": [
    "class Solution:\n",
    "    def isSubsequence(self,s, t):\n",
    "        s = list(s)\n",
    "        for _t in t:\n",
    "            if not s: #如果s内没有元素\n",
    "                return True\n",
    "            if _t == s[0]:\n",
    "                s.pop(0)\n",
    "\n",
    "        return not s"
   ]
  },
  {
   "cell_type": "code",
   "execution_count": 6,
   "metadata": {},
   "outputs": [
    {
     "data": {
      "text/plain": [
       "False"
      ]
     },
     "execution_count": 6,
     "metadata": {},
     "output_type": "execute_result"
    }
   ],
   "source": [
    "s=Solution()\n",
    "s.isSubsequence('a,c,c','a,s,b,d,c')"
   ]
  },
  {
   "cell_type": "code",
   "execution_count": 7,
   "metadata": {},
   "outputs": [],
   "source": [
    "class Solution:\n",
    "    def isSubsequence(self,s,t):\n",
    "        \"\"\"\n",
    "        :type a: str\n",
    "        :type b: str\n",
    "        :rtype: bool\n",
    "        \"\"\"\n",
    "        t=iter(t)#iter 内置迭代器，每次取下一个\n",
    "        #for i in t:\n",
    "           # print(i)\n",
    "        return all(i in t for i in s) #all 内如果有数据为空，输出为false，t这里是迭代，迭代完就过去了\n",
    "    "
   ]
  },
  {
   "cell_type": "code",
   "execution_count": 8,
   "metadata": {},
   "outputs": [
    {
     "data": {
      "text/plain": [
       "False"
      ]
     },
     "execution_count": 8,
     "metadata": {},
     "output_type": "execute_result"
    }
   ],
   "source": [
    "s=Solution()\n",
    "s.isSubsequence('a,c,c','a,s,b,d,c')"
   ]
  },
  {
   "cell_type": "markdown",
   "metadata": {},
   "source": [
    "455. 分发饼干            \n",
    "假设你是一位很棒的家长，想要给你的孩子们一些小饼干。但是，每个孩子最多只能给一块饼干。对每个孩子 i ，都有一个胃口值 gi ，这是能让孩子们满足胃口的饼干的最小尺寸；并且每块饼干 j ，都有一个尺寸 sj 。如果 sj >= gi ，我们可以将这个饼干 j 分配给孩子 i ，这个孩子会得到满足。你的目标是尽可能满足越多数量的孩子，并输出这个最大数值               \n",
    "'''               \n",
    "输入: [1,2,3], [1,1]          \n",
    "输出: 1           \n",
    "解释: \n",
    "你有三个孩子和两块小饼干，3个孩子的胃口值分别是：1,2,3。             \n",
    "虽然你有两块小饼干，由于他们的尺寸都是1，你只能让胃口值是1的孩子满足。           \n",
    "所以你应该输出1。            \n",
    "'''"
   ]
  },
  {
   "cell_type": "code",
   "execution_count": 9,
   "metadata": {},
   "outputs": [],
   "source": [
    "class Solution(object):\n",
    "    def findContentChildren(self, g, s):\n",
    "        \"\"\"\n",
    "        :type g: List[int]\n",
    "        :type s: List[int]\n",
    "        :rtype: int\n",
    "        \"\"\"\n",
    "        res = 0\n",
    "        g.sort()\n",
    "        s.sort()\n",
    "        \n",
    "        g_length = len(g)\n",
    "        s_length = len(s)\n",
    "        \n",
    "        i = 0\n",
    "        j = 0\n",
    "        while i < g_length and j < s_length:#同时成立\n",
    "            if g[i] <= s[j]:\n",
    "                # 可以满足胃口，把小饼干喂给小朋友\n",
    "                res += 1\n",
    "                i += 1\n",
    "                j += 1\n",
    "            else:\n",
    "                # 不满足胃口，查看下一块小饼干\n",
    "                j += 1\n",
    "                \n",
    "        return res"
   ]
  },
  {
   "cell_type": "code",
   "execution_count": 10,
   "metadata": {},
   "outputs": [
    {
     "data": {
      "text/plain": [
       "1"
      ]
     },
     "execution_count": 10,
     "metadata": {},
     "output_type": "execute_result"
    }
   ],
   "source": [
    "s=Solution()\n",
    "s.findContentChildren([1,2],[0,0,4])"
   ]
  },
  {
   "cell_type": "markdown",
   "metadata": {},
   "source": [
    "860. 柠檬水找零           \n",
    "在柠檬水摊上，每一杯柠檬水的售价为 5 美元。                         \n",
    "顾客排队购买你的产品，（按账单 bills 支付的顺序）一次购买一杯。                 \n",
    "每位顾客只买一杯柠檬水，然后向你付 5 美元、10 美元或 20 美元。你必须给每个顾客正确找零，也就是说净交易是每位顾客向你支付 5 美元。                                        \n",
    "注意，一开始你手头没有任何零钱。                             \n",
    "如果你能给每位顾客正确找零，返回 true ，否则返回 false 。                               \n",
    "示例 1：                  \n",
    "输入：[5,5,5,10,20]                   \n",
    "输出：true                \n",
    "解释：                                                    \n",
    "前 3 位顾客那里，我们按顺序收取 3 张 5 美元的钞票。                                         \n",
    "第 4 位顾客那里，我们收取一张 10 美元的钞票，并返还 5 美元。\n",
    "第 5 位顾客那里，我们找还一张 10 美元的钞票和一张 5 美元的钞票。                   \n",
    "由于所有客户都得到了正确的找零，所以我们输出 true。                         "
   ]
  },
  {
   "cell_type": "markdown",
   "metadata": {},
   "source": [
    "解体思路，\n",
    "如果是5，直接收下，              \n",
    "如果是10，需要之前有一张5，           \n",
    "如果是20，需要之前有（5，10）或者（5，5，5）           "
   ]
  },
  {
   "cell_type": "code",
   "execution_count": 12,
   "metadata": {},
   "outputs": [],
   "source": [
    "class Solution:\n",
    "    def lemonadeChange(self, bills):\n",
    "        five, ten = 0, 0\n",
    "        for b in bills:\n",
    "            if b == 5:\n",
    "                five += 1\n",
    "            elif b == 10:\n",
    "                if not five:#为了防止第一次是10，当five为0时，not five为1，就返回false\n",
    "                    return False\n",
    "                five -= 1\n",
    "                ten += 1\n",
    "            else:\n",
    "                if ten and five:\n",
    "                    ten -= 1\n",
    "                    five -= 1\n",
    "                elif five > 2:\n",
    "                    five -= 3\n",
    "                else:\n",
    "                    return False\n",
    "        return True"
   ]
  },
  {
   "cell_type": "code",
   "execution_count": 13,
   "metadata": {},
   "outputs": [
    {
     "data": {
      "text/plain": [
       "False"
      ]
     },
     "execution_count": 13,
     "metadata": {},
     "output_type": "execute_result"
    }
   ],
   "source": [
    "s=Solution()\n",
    "s.lemonadeChange([5,5,20])"
   ]
  },
  {
   "cell_type": "markdown",
   "metadata": {},
   "source": [
    "874. 模拟行走机器人      \n",
    "机器人在一个无限大小的网格上行走，从点 (0, 0) 处开始出发，面向北方。该机器人可以接收以下三种类型的命令：             \n",
    "-2：向左转 90 度                    \n",
    "-1：向右转 90 度                  \n",
    "1 <= x <= 9：向前移动 x 个单位长度                         \n",
    "在网格上有一些格子被视为障碍物。                                            \n",
    "第 i 个障碍物位于网格点  (obstacles[i][0], obstacles[i][1])                                   \n",
    "如果机器人试图走到障碍物上方，那么它将停留在障碍物的前一个网格方块上，但仍然可以继续该路线的其余部分。                       \n",
    "返回从原点到机器人的最大欧式距离的平方。                             \n",
    "示例 1：                                             \n",
    "输入: commands = [4,-1,4,-2,4], obstacles = [[2,4]]          \n",
    "输出: 65（8^2+1^2）           \n",
    "解释: 机器人在左转走到 (1, 8) 之前将被困在 (1, 4) 处          \n",
    "示例2:\n",
    "输入: commands = [4,-1,3], obstacles = []          \n",
    "输出: 25(3^2+4^2)          \n",
    "解释: 机器人将会到达 (3, 4)          "
   ]
  },
  {
   "cell_type": "code",
   "execution_count": 38,
   "metadata": {},
   "outputs": [],
   "source": [
    "class Solution(object):\n",
    "    def robotSim(self, commands, obstacles):\n",
    "        dx = [0, 1, 0, -1] #控制后续方向\n",
    "        dy = [1, 0, -1, 0]\n",
    "        x = y = di = 0\n",
    "        obstacleSet = set(map(tuple, obstacles))#这是把obstacles元组化，使之不能改变\n",
    "        print(obstacleSet)\n",
    "        ans = 0\n",
    "\n",
    "        for cmd in commands:\n",
    "            if cmd == -2:  #left\n",
    "                di = (di - 1) % 4 #取余\n",
    "            elif cmd == -1:  #right\n",
    "                di = (di + 1) % 4\n",
    "            else:\n",
    "                for k in range(cmd):\n",
    "                # xrange() 函数用法与 range 完全相同，所不同的是生成的不是一个数组，而是一个生成器\n",
    "                    if (x+dx[di], y+dy[di]) not in obstacleSet: #下面就是步进\n",
    "                        x += dx[di]\n",
    "                        y += dy[di]\n",
    "                        ans = max(ans, x*x + y*y)#进行比较之前的abs和现在的哪一个大\n",
    "                        #print(ans)\n",
    "                        #print((x,y))\n",
    "        return ans"
   ]
  },
  {
   "cell_type": "code",
   "execution_count": 39,
   "metadata": {},
   "outputs": [
    {
     "name": "stdout",
     "output_type": "stream",
     "text": [
      "{(2, 4)}\n"
     ]
    },
    {
     "data": {
      "text/plain": [
       "65"
      ]
     },
     "execution_count": 39,
     "metadata": {},
     "output_type": "execute_result"
    }
   ],
   "source": [
    "s=Solution()\n",
    "s.robotSim([4,-1,4,-2,4],[[2,4]])"
   ]
  },
  {
   "cell_type": "markdown",
   "metadata": {},
   "source": [
    "944. 删列造序            \n",
    "给定由 N 个小写字母字符串组成的数组 A，其中每个字符串长度相等。               \n",
    "删除 操作的定义是：选出一组要删掉的列，删去 A 中对应列中的所有字符，形式上，第 n 列为 [A[0][n], A[1][n], ..., A[A.length-1][n]]）。             \n",
    "示例1:              \n",
    "输入：[\"cba\", \"daf\", \"ghi\"]        \n",
    "输出：1          \n",
    "解释：                        \n",
    "当选择 D = {1}，删除后 A 的列为：[\"c\",\"d\",\"g\"] 和 [\"a\",\"f\",\"i\"]，均为非降序排列。            \n",
    "若选择 D = {}，那么 A 的列 [\"b\",\"a\",\"h\"] 就不是非降序排列了。           "
   ]
  },
  {
   "cell_type": "code",
   "execution_count": 40,
   "metadata": {},
   "outputs": [],
   "source": [
    "class Solution:\n",
    "    def minDeletionSize(self, A) :\n",
    "        ans = 0\n",
    "        for col in zip(*A):# 将A转置，zip内部为元组\n",
    "            if any(col[i] > col[i+1] for i in range(len(col) - 1)):\n",
    "                ans += 1\n",
    "        return ans"
   ]
  },
  {
   "cell_type": "code",
   "execution_count": 41,
   "metadata": {},
   "outputs": [
    {
     "data": {
      "text/plain": [
       "1"
      ]
     },
     "execution_count": 41,
     "metadata": {},
     "output_type": "execute_result"
    }
   ],
   "source": [
    "s=Solution()\n",
    "s.minDeletionSize([\"cba\",\"daf\",\"ghi\"])"
   ]
  },
  {
   "cell_type": "markdown",
   "metadata": {},
   "source": [
    "1005. K 次取反后最大化的数组和                  \n",
    "给定一个整数数组 A，我们只能用以下方法修改该数组：我们选择某个个索引 i 并将 A[i] 替换为 -A[i]，然后总共重复这个过程 K 次。（我们可以多次选择同一个索引 i。）                   \n",
    "以这种方式修改数组后，返回数组可能的最大和。          \n",
    "示例1\n",
    "输入：A = [4,2,3], K = 1             \n",
    "输出：5                       \n",
    "解释：选择索引 (1,) ，然后 A 变为 [4,-2,3]。              \n",
    "示例2                                         \n",
    "输入：A = [3,-1,0,2], K = 3              \n",
    "输出：6                             \n",
    "解释：选择索引 (1, 2, 2) ，然后 A 变为 [3,1,0,2]。       "
   ]
  },
  {
   "cell_type": "code",
   "execution_count": 94,
   "metadata": {},
   "outputs": [],
   "source": [
    "class Solution:\n",
    "    def largestSumAfterKNegations(self, A, K):\n",
    "        res=0\n",
    "        print(A)\n",
    "        for i in range(K):\n",
    "            A.sort() #直接排序，不要这样A=A.sort()\n",
    "            print(A)\n",
    "            A[0]=-A[0]\n",
    "        #print(A)\n",
    "        for j in range(len(A)-1):\n",
    "            print(A[j])\n",
    "        res+=sum(A)\n",
    "        print(res)\n",
    "        return res"
   ]
  },
  {
   "cell_type": "code",
   "execution_count": 95,
   "metadata": {},
   "outputs": [
    {
     "name": "stdout",
     "output_type": "stream",
     "text": [
      "[4, 2, 3]\n",
      "[2, 3, 4]\n",
      "-2\n",
      "3\n",
      "5\n"
     ]
    },
    {
     "data": {
      "text/plain": [
       "5"
      ]
     },
     "execution_count": 95,
     "metadata": {},
     "output_type": "execute_result"
    }
   ],
   "source": [
    "s=Solution()\n",
    "s.largestSumAfterKNegations([4,2,3],1)"
   ]
  },
  {
   "cell_type": "markdown",
   "metadata": {},
   "source": [
    "1029. 两地调度         \n",
    "公司计划面试 2N 人。第 i 人飞往 A 市的费用为 costs[i][0]，飞往 B 市的费用为 costs[i][1]。            \n",
    "返回将每个人都飞到某座城市的最低费用，要求每个城市都有 N 人抵达。                             \n",
    "输入：[[10,20],[30,200],[400,50],[30,20]]                      \n",
    "输出：110                                     \n",
    "解释：         \n",
    "第一个人去 A 市，费用为 10。             \n",
    "第二个人去 A 市，费用为 30。          \n",
    "第三个人去 B 市，费用为 50。            \n",
    "第四个人去 B 市，费用为 20。                \n",
    "最低总费用为 10 + 30 + 50 + 20 = 110，每个城市都有一半的人在面试。            "
   ]
  },
  {
   "cell_type": "markdown",
   "metadata": {},
   "source": [
    "说简单了，这是一个费用差问题"
   ]
  },
  {
   "cell_type": "code",
   "execution_count": 117,
   "metadata": {},
   "outputs": [],
   "source": [
    "class Solution:\n",
    "    def twoCitySchedCost(self, costs):\n",
    "        costs.sort(key=lambda x: (x[0]-x[1]))  # 计算去A地和去B低的费用差，然后按照费用差排序\n",
    "        length_costs = len(costs)\n",
    "        result = 0\n",
    "        result += sum([i[0] for i in costs[:length_costs//2]])  # 前半部分去A地\n",
    "        result += sum([i[1] for i in costs[length_costs//2:]])  # 后半部分去B地\n",
    "        return result"
   ]
  },
  {
   "cell_type": "code",
   "execution_count": 118,
   "metadata": {},
   "outputs": [
    {
     "data": {
      "text/plain": [
       "110"
      ]
     },
     "execution_count": 118,
     "metadata": {},
     "output_type": "execute_result"
    }
   ],
   "source": [
    "s=Solution()\n",
    "s.twoCitySchedCost([[10,20],[30,200],[400,50],[30,20]])"
   ]
  },
  {
   "cell_type": "markdown",
   "metadata": {},
   "source": [
    "1046.最后一块石头的重量              \n",
    "有一堆石头，每块石头的重量都是正整数。                    \n",
    "每一回合，从中选出两块最重的石头，然后将它们一起粉碎。假设石头的重量分别为 x 和 y，且 x <= y。那么粉碎的可能结果如下：      \n",
    "如果 x == y，那么两块石头都会被完全粉碎；                                      \n",
    "如果 x != y，那么重量为 x 的石头将会完全粉碎，而重量为 y 的石头新重量为 y-x。           \n",
    "最后，最多只会剩下一块石头。返回此石头的重量。如果没有石头剩下，就返回 0。          "
   ]
  },
  {
   "cell_type": "code",
   "execution_count": 120,
   "metadata": {},
   "outputs": [],
   "source": [
    "class Solution:\n",
    "    \"\"\"\n",
    "    :type stones: List[int]\n",
    "    :rtype: int\n",
    "    \"\"\"\n",
    "    def lastStoneWeight(self, stones):\n",
    "        import heapq  ## heapq库是专门处理最小堆的库\n",
    "        stones_heap = [-i for i in stones]  ## 用取负数的办法弯道处理最大堆问题\n",
    "        heapq.heapify(stones_heap) ## 把list最小推结构化；时间复杂度是O(n)  排序，由小到大\n",
    "        print(stones_heap)\n",
    "        while len(stones_heap) > 1:  ## 当至少还有2块石头的时候\n",
    "            a = heapq.heappop(stones_heap)  ## 取出质量最大的石头（因为是负数，所以值是最小）；时间复杂度是O(logn)，因为取出后还要用logn的时间保持堆结构\n",
    "            b = heapq.heappop(stones_heap)  ## 在剩下的石头里取出质量最大的石头；时间复杂度是O(logn)\n",
    "            if a < b:  ## 如果第一块石头比第二块重，那么把摩擦剩下的小石头放进堆里\n",
    "                heapq.heappush(stones_heap, a - b) ## 如果两块石头一样重，就都没有了\n",
    "                print(stones_heap)\n",
    "        if stones_heap:\n",
    "            res = -stones_heap[0]  ## 如果剩下石头，那么返回值是其质量\n",
    "        else:\n",
    "            res =  0  ## 如果不剩下石头，那么返回值是0\n",
    "        return res"
   ]
  },
  {
   "cell_type": "code",
   "execution_count": 121,
   "metadata": {},
   "outputs": [
    {
     "name": "stdout",
     "output_type": "stream",
     "text": [
      "[-8, -7, -4, -1, -2, -1]\n",
      "[-4, -2, -1, -1, -1]\n",
      "[-2, -1, -1, -1]\n",
      "[-1, -1, -1]\n"
     ]
    },
    {
     "data": {
      "text/plain": [
       "1"
      ]
     },
     "execution_count": 121,
     "metadata": {},
     "output_type": "execute_result"
    }
   ],
   "source": [
    "s=Solution()\n",
    "s.lastStoneWeight([2,7,4,1,8,1])"
   ]
  },
  {
   "cell_type": "code",
   "execution_count": null,
   "metadata": {},
   "outputs": [],
   "source": [
    "1217.玩筹码             \n",
    "数轴上放置了一些筹码，每个筹码的位置存在数组 chips 当中。        \n",
    "你可以对 任何筹码 执行下面两种操作之一（不限操作次数，0 次也可以）：           \n",
    "将第 i 个筹码向左或者右移动 2 个单位，代价为 0。        \n",
    "将第 i 个筹码向左或者右移动 1 个单位，代价为 1。      \n",
    "最开始的时候，同一位置上也可能放着两个或者更多的筹码。            \n",
    "返回将所有筹码移动到同一位置（任意位置）上所需要的最小代价。           \n",
    "输入：chips = [1,2,3]             \n",
    "输出：1\n",
    "解释：第二个筹码移动到位置三的代价是 1，第一个筹码移动到位置三的代价是 0，总代价为 1"
   ]
  },
  {
   "cell_type": "markdown",
   "metadata": {},
   "source": [
    "偶数位置移动到偶数位置代价为0，奇数移到奇数位置代价为0，那么就只剩奇偶位置之间移动，哪个少即为答案"
   ]
  },
  {
   "cell_type": "code",
   "execution_count": 135,
   "metadata": {},
   "outputs": [],
   "source": [
    "class Solution(object):\n",
    "    def minCostToMoveChips(self, chips):\n",
    "        \"\"\"\n",
    "        :type chips: List[int]\n",
    "        :rtype: int\n",
    "        \"\"\"\n",
    "        l1 = 0\n",
    "        l2 = 0\n",
    "        for i in chips:\n",
    "            if i%2 == 0:\n",
    "                l1 += 1\n",
    "            else:\n",
    "                l2 += 1\n",
    "        return min(l1,l2)"
   ]
  },
  {
   "cell_type": "code",
   "execution_count": 146,
   "metadata": {},
   "outputs": [
    {
     "name": "stdout",
     "output_type": "stream",
     "text": [
      "2\n"
     ]
    },
    {
     "data": {
      "text/plain": [
       "2"
      ]
     },
     "execution_count": 146,
     "metadata": {},
     "output_type": "execute_result"
    }
   ],
   "source": [
    "s=Solution()\n",
    "s.minCostToMoveChips([2,2,2,3,3])"
   ]
  },
  {
   "cell_type": "markdown",
   "metadata": {},
   "source": [
    "1221. 分割平衡字符串                \n",
    "在一个「平衡字符串」中，'L' 和 'R' 字符的数量是相同的。                 \n",
    "给出一个平衡字符串 s，请你将它分割成尽可能多的平衡字符串。            \n",
    "返回可以通过分割得到的平衡字符串的最大数量。           \n",
    "示例 1：                     \n",
    "输入：s = \"RLRRLLRLRL\"             \n",
    "输出：4                      \n",
    "解释：s 可以分割为 \"RL\", \"RRLL\", \"RL\", \"RL\", 每个子字符串中都包含相同数量的 'L' 和 'R'。        "
   ]
  },
  {
   "cell_type": "code",
   "execution_count": null,
   "metadata": {},
   "outputs": [],
   "source": [
    "class Solution(object):\n",
    "    def balancedStringSplit(self, s):\n",
    "        \"\"\"\n",
    "        :type s: str\n",
    "        :rtype: int\n",
    "        \"\"\"\n",
    "        count = 0\n",
    "        count_L = 0\n",
    "        count_R = 0\n",
    "        \n",
    "        for s_ in s:\n",
    "            if s_ == 'L':\n",
    "                count_L += 1\n",
    "            else:\n",
    "                count_R += 1\n",
    "            if count_L == count_R:\n",
    "                count += 1\n",
    "        return count"
   ]
  },
  {
   "cell_type": "markdown",
   "metadata": {},
   "source": [
    "922. 按奇偶排序数组 II     \n",
    "输入：[4,2,5,7]         \n",
    "输出：[4,5,2,7]           \n",
    "解释：[4,7,2,5]，[2,5,4,7]，[2,7,4,5] 也会被接受。       "
   ]
  },
  {
   "cell_type": "code",
   "execution_count": 166,
   "metadata": {},
   "outputs": [],
   "source": [
    "class Solution:\n",
    "    def sortArrayByParityII(self, A) :\n",
    "        B=[]\n",
    "        C=[]\n",
    "        D=[]\n",
    "        for i in A:\n",
    "            if i%2==0:\n",
    "                B.append(i)\n",
    "            else:\n",
    "                C.append(i)\n",
    "        print(B)\n",
    "\n",
    "        for j in range(len(B)):\n",
    "            D.append(B[j])\n",
    "            D.append(C[j])\n",
    "        return D\n",
    "    "
   ]
  },
  {
   "cell_type": "code",
   "execution_count": 167,
   "metadata": {},
   "outputs": [
    {
     "name": "stdout",
     "output_type": "stream",
     "text": [
      "[4, 2]\n"
     ]
    },
    {
     "data": {
      "text/plain": [
       "[4, 5, 2, 7]"
      ]
     },
     "execution_count": 167,
     "metadata": {},
     "output_type": "execute_result"
    }
   ],
   "source": [
    "s=Solution()\n",
    "s.sortArrayByParityII([4,2,5,7])"
   ]
  },
  {
   "cell_type": "markdown",
   "metadata": {},
   "source": [
    "976. 三角形的最大周长        \n",
    "输入：[3,2,3,4]          \n",
    "输出：10         "
   ]
  },
  {
   "cell_type": "code",
   "execution_count": 208,
   "metadata": {},
   "outputs": [],
   "source": [
    "class Solution():\n",
    "    def largestPerimeter(self, A):\n",
    "        A.sort()\n",
    "        print(A)\n",
    "        print(len(A)-1)\n",
    "        #print(i for i in range(len(A) - 1,0, -1))\n",
    "        for i in range(len(A) - 3,-1, -1):  #range(start,stop,step)\n",
    "            print(i)\n",
    "            if A[i] + A[i+1] > A[i+2]:\n",
    "                return A[i] + A[i+1] + A[i+2]\n",
    "        return 0"
   ]
  },
  {
   "cell_type": "code",
   "execution_count": 209,
   "metadata": {},
   "outputs": [
    {
     "name": "stdout",
     "output_type": "stream",
     "text": [
      "[2, 2, 3, 3, 6]\n",
      "4\n",
      "2\n",
      "1\n"
     ]
    },
    {
     "data": {
      "text/plain": [
       "8"
      ]
     },
     "execution_count": 209,
     "metadata": {},
     "output_type": "execute_result"
    }
   ],
   "source": [
    "s=Solution()\n",
    "s.largestPerimeter([2,3,6,2,3])"
   ]
  },
  {
   "cell_type": "markdown",
   "metadata": {},
   "source": [
    "1030. 距离顺序排列矩阵单元格         \n",
    "给出 R 行 C 列的矩阵，其中的单元格的整数坐标为 (r, c)，满足 0 <= r < R 且 0 <= c < C。                 \n",
    "另外，我们在该矩阵中给出了一个坐标为 (r0, c0) 的单元格。                  \n",
    "返回矩阵中的所有单元格的坐标，并按到 (r0, c0) 的距离从最小到最大的顺序排，其中，两单元格(r1, c1) 和 (r2, c2) 之间的距离是曼哈顿距离，|r1 - r2| + |c1 - c2|。（你可以按任何满足此条件的顺序返回答案。）               \n",
    "\n",
    "输入：R = 2, C = 2, r0 = 0, c0 = 1           \n",
    "输出：[[0,1],[0,0],[1,1],[1,0]]                \n",
    "解释：从 (r0, c0) 到其他单元格的距离为：[0,1,1,2]            \n",
    "[[0,1],[1,1],[0,0],[1,0]] 也会被视作正确答案。            "
   ]
  },
  {
   "cell_type": "code",
   "execution_count": 222,
   "metadata": {},
   "outputs": [],
   "source": [
    "class Solution:\n",
    "    def allCellsDistOrder(self, R, C, r0, c0):\n",
    "        dist_list = [[] for i in range(200)]  # 先定义一个很大的函数\n",
    "        for i in range(R):  \n",
    "            for j in range(C):\n",
    "                distinct = abs(r0-i) + abs(c0-j)  \n",
    "                dist_list[distinct].append([i, j])#这是d[i]=[[i,j],[d,k]]类似的形式，但是有的为止的d[j]的值为 none\n",
    "        #print(dist_list)\n",
    "        result = []\n",
    "        for i in dist_list:  #目的就是把disk_list里面的空值去掉\n",
    "            if i:\n",
    "                result.extend(i)\n",
    "            else:\n",
    "                break\n",
    "        return result"
   ]
  },
  {
   "cell_type": "code",
   "execution_count": 223,
   "metadata": {},
   "outputs": [
    {
     "data": {
      "text/plain": [
       "[[0, 1], [0, 0], [1, 1], [1, 0]]"
      ]
     },
     "execution_count": 223,
     "metadata": {},
     "output_type": "execute_result"
    }
   ],
   "source": [
    "s=Solution()\n",
    "s.allCellsDistOrder(2,2,0,1)"
   ]
  },
  {
   "cell_type": "code",
   "execution_count": 224,
   "metadata": {},
   "outputs": [],
   "source": [
    "class Solution:\n",
    "    def allCellsDistOrder(self, R,C, r0, c0):\n",
    "        res=[]\n",
    "        for i in range(R):\n",
    "            for j in range(C):\n",
    "                res.append([i,j])\n",
    "        \n",
    "        res.sort(key = lambda x : abs((x[0]-r0)) + abs((x[1]-c0))) #以res为主，对其进行计算，由小到大排列\n",
    "        return res"
   ]
  },
  {
   "cell_type": "code",
   "execution_count": 225,
   "metadata": {},
   "outputs": [
    {
     "data": {
      "text/plain": [
       "[[0, 1], [0, 0], [1, 1], [1, 0]]"
      ]
     },
     "execution_count": 225,
     "metadata": {},
     "output_type": "execute_result"
    }
   ],
   "source": [
    "s=Solution()\n",
    "s.allCellsDistOrder(2,2,0,1)"
   ]
  },
  {
   "cell_type": "code",
   "execution_count": 226,
   "metadata": {},
   "outputs": [
    {
     "name": "stdout",
     "output_type": "stream",
     "text": [
      "[{'name': 'b', 'age': 30}, {'name': 'c', 'age': 25}, {'name': 'a', 'age': 20}]\n"
     ]
    }
   ],
   "source": [
    "alist = [{'name':'a','age':20},{'name':'b','age':30},{'name':'c','age':25}]\n",
    "b=sorted(alist,key=lambda x:x['age'],reverse=True)\n",
    "print(b)"
   ]
  },
  {
   "cell_type": "markdown",
   "metadata": {},
   "source": [
    "1122. 数组的相对排序\n",
    "输入：arr1 = [2,3,1,3,2,4,6,7,9,2,19], arr2 = [2,1,4,3,9,6]              \n",
    "输出：[2,2,2,1,4,3,3,9,6,7,19]                 "
   ]
  },
  {
   "cell_type": "code",
   "execution_count": 258,
   "metadata": {},
   "outputs": [],
   "source": [
    "class Solution:\n",
    "    def relativeSortArray(self, arr1, arr2) :\n",
    "        res = []\n",
    "        for i in arr2:\n",
    "            while i in arr1:\n",
    "                res.append(i)\n",
    "                arr1.remove(i)\n",
    "        return res + sorted(arr1)"
   ]
  },
  {
   "cell_type": "code",
   "execution_count": 259,
   "metadata": {},
   "outputs": [
    {
     "data": {
      "text/plain": [
       "[2, 2, 2, 1, 4, 3, 3, 9, 6, 7, 19]"
      ]
     },
     "execution_count": 259,
     "metadata": {},
     "output_type": "execute_result"
    }
   ],
   "source": [
    "s=Solution()\n",
    "s.relativeSortArray([2,3,1,3,2,4,6,7,9,2,19],[2,1,4,3,9,6])"
   ]
  },
  {
   "cell_type": "code",
   "execution_count": null,
   "metadata": {},
   "outputs": [],
   "source": []
  }
 ],
 "metadata": {
  "kernelspec": {
   "display_name": "Python 3",
   "language": "python",
   "name": "python3"
  },
  "language_info": {
   "codemirror_mode": {
    "name": "ipython",
    "version": 3
   },
   "file_extension": ".py",
   "mimetype": "text/x-python",
   "name": "python",
   "nbconvert_exporter": "python",
   "pygments_lexer": "ipython3",
   "version": "3.7.3"
  }
 },
 "nbformat": 4,
 "nbformat_minor": 2
}
