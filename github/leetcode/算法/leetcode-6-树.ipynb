{
 "cells": [
  {
   "cell_type": "markdown",
   "metadata": {},
   "source": [
    "100.相同的树         \n"
   ]
  },
  {
   "cell_type": "code",
   "execution_count": 40,
   "metadata": {},
   "outputs": [],
   "source": [
    "class Solution:\n",
    "    def isSameTree(self, p, q):\n",
    "        if not p and not q: #如果都为空\n",
    "            return True\n",
    "        if p and q and p.val == q.val:#如果p，q，p.val==q.val 都为真\n",
    "            return self.isSameTree(p.left, q.left) and self.isSameTree(p.right, q.right)     \n",
    "        return False"
   ]
  },
  {
   "cell_type": "code",
   "execution_count": 42,
   "metadata": {},
   "outputs": [],
   "source": [
    "s=Solution()\n",
    "#s.isSameTree([1,2],[1,null,2])\n",
    "#s.isSameTree([1,2,3],[1,2,3])"
   ]
  },
  {
   "cell_type": "code",
   "execution_count": 1,
   "metadata": {},
   "outputs": [],
   "source": [
    "class Solution:\n",
    "    def isSameTree(self, p, q):\n",
    "        stack = [(q, p)]  #先把两个数列整合\n",
    "        while stack:\n",
    "            a, b = stack.pop()\n",
    "            if not a and not b:  #如果都为空\n",
    "                continue\n",
    "            if a and b and a.val == b.val:   #将一组字符型数据的数字部分转换成相应的数值型数据\n",
    "                stack.append((a.left, b.left))\n",
    "                stack.append((a.right,b.right))\n",
    "            else:\n",
    "                return False\n",
    "        return True"
   ]
  },
  {
   "cell_type": "code",
   "execution_count": 4,
   "metadata": {},
   "outputs": [],
   "source": [
    "s=Solution()\n",
    "#s.isSameTree([1,2],[1,null,2])\n",
    "#s.isSameTree((1,[2],[3]),(1,[2],[3]))"
   ]
  },
  {
   "cell_type": "markdown",
   "metadata": {},
   "source": [
    "101. 对称二叉树        \n",
    "给定一个二叉树，检查它是否是镜像对称的。        \n",
    "例如，二叉树 [1,2,2,3,4,4,3] 是对称的.         "
   ]
  },
  {
   "cell_type": "code",
   "execution_count": 46,
   "metadata": {},
   "outputs": [],
   "source": [
    "# 方法一 递归\n",
    "class Solution1:\n",
    "    def isSymmetric(self, root):\n",
    "        if not root:                                 # 先判断根节点是否为空\n",
    "            return True\n",
    "        return self.isMirror(root.left, root.right)  # 分成左子树和右子树判断\n",
    "\n",
    "    def isMirror(self, p, q):                        # 判断两棵树是否是镜像树\n",
    "        if not p and not q:                          # 根节点都为空，是\n",
    "            return True\n",
    "        if not p or not q:                           # 其中有一棵为空，不是\n",
    "            return False\n",
    "        l = self.isMirror(p.left, q.right)           # p的左子树和q的右子树是否相同\n",
    "        r = self.isMirror(p.right, q.left)           # p的右子树和q的左子树是否相同\n",
    "        return p.val == q.val and l and r            # 值相等，并且p的左=q的右，p的右=q的左"
   ]
  },
  {
   "cell_type": "code",
   "execution_count": 47,
   "metadata": {},
   "outputs": [],
   "source": [
    "# 方法二 队列实现\n",
    "class Solution:\n",
    "    def isSymmetric(self, root):\n",
    "        \"\"\"\n",
    "        队列\n",
    "        :param root:\n",
    "        :return:\n",
    "        \"\"\"\n",
    "\n",
    "        if not root:\n",
    "            return True\n",
    "\n",
    "        node_queue = [root.left, root.right]  # 在空队列中加入左子树和右子树\n",
    "\n",
    "        while node_queue:\n",
    "            left = node_queue.pop(0)          # 依次弹出两个元素\n",
    "            right = node_queue.pop(0)\n",
    "\n",
    "            if not right and not left:        # 如果均为空，继续下一个循环\n",
    "                continue\n",
    "            if not right or not left:         # 如果只有一个为空，返回False\n",
    "                return False\n",
    "\n",
    "            if left.val != right.val:         # 都非空，再判断值是否相等\n",
    "                return False\n",
    "\n",
    "            node_queue.append(left.left)      # 将两个左右子树的左右子树逆序加入队列\n",
    "            node_queue.append(right.right)\n",
    "            node_queue.append(left.right)\n",
    "            node_queue.append(right.left)\n",
    "            #node_queue.extend([left.left, right.right, left.right, right.left])   或者用这一句话写\n",
    "\n",
    "        return True"
   ]
  },
  {
   "cell_type": "markdown",
   "metadata": {},
   "source": [
    "104. 二叉树的最大深度             \n",
    "给定一个二叉树，找出其最大深度。           \n",
    "二叉树的深度为根节点到最远叶子节点的最长路径上的节点数。            \n",
    "说明: 叶子节点是指没有子节点的节点。                   "
   ]
  },
  {
   "cell_type": "code",
   "execution_count": 25,
   "metadata": {},
   "outputs": [],
   "source": [
    "# Definition for a binary tree node.\n",
    "'''\n",
    "class TreeNode:\n",
    "     def __init__(self, x):\n",
    "        self.val = x\n",
    "        self.left = None\n",
    "        self.right = None\n",
    "'''\n",
    "class Solution:\n",
    "    def maxDepth(self, root):\n",
    "        '''\n",
    "        :type root:TreeNode\n",
    "        :rtype: int\n",
    "        '''\n",
    "        # 上面未提及如果根节点直接为空， 无需遍历，返回0\n",
    "        if root is None:\n",
    "            return 0\n",
    "        count1, count2 = 0, 0\n",
    "        # 当前根节点的左子树是否为空\n",
    "        if root.left != None:\n",
    "            count1 += self.maxDepth(root.left) + 1\n",
    "        # 当前根节点的右子树是否为空    \n",
    "        if root.right != None:\n",
    "            count2 += self.maxDepth(root.right) + 1\n",
    "        # 当前节点为叶节点时，返回深度 1 \n",
    "        if root.left == None and root.right == None:\n",
    "            return 1\n",
    "        return max(count1, count2)"
   ]
  },
  {
   "cell_type": "code",
   "execution_count": 27,
   "metadata": {},
   "outputs": [],
   "source": [
    "s=Solution();\n",
    "#s.maxDepth(3,9,20)"
   ]
  },
  {
   "cell_type": "markdown",
   "metadata": {},
   "source": [
    "107. 二叉树的层次遍历 II      \n",
    "给定二叉树 [3,9,20,null,null,15,7],        \n",
    "[          \n",
    "  [15,7],       \n",
    "  [9,20],          \n",
    "  [3]          \n",
    "]"
   ]
  },
  {
   "cell_type": "code",
   "execution_count": 28,
   "metadata": {},
   "outputs": [],
   "source": [
    "class Solution:\n",
    "    def levelOrderBottom(self, root):\n",
    "        queue = []                                                  # 结果列表\n",
    "        cur = [root]                                                # 接下来要循环的当前层节点，存的是节点\n",
    "        while cur:                                                  # 当前层存在结点时\n",
    "            cur_layer_val = []                                      # 初始化当前层结果列表为空，存的是val\n",
    "            next_layer_node = []                                    # 初始化下一层结点列表为空\n",
    "            for node in cur:                                        # 遍历当前层的每一个结点\n",
    "                if node:                                            # 如果该结点不为空，则进行记录\n",
    "                    cur_layer_val.append(node.val)                  # 将该结点的值加入当前层结果列表的末尾\n",
    "                    next_layer_node.extend([node.left, node.right]) \n",
    "                    #extend 添加多个值  # 将该结点的左右孩子结点加入到下一层结点列表\n",
    "            if cur_layer_val:                                       # 只要当前层结果列表不为空\n",
    "                queue.insert(0, cur_layer_val)                      # 则把当前层结果列表插入到队列首端\n",
    "            cur = next_layer_node                                   # 下一层的结点变成当前层，接着循环\n",
    "        return queue               "
   ]
  },
  {
   "cell_type": "code",
   "execution_count": 30,
   "metadata": {},
   "outputs": [],
   "source": [
    "s=Solution();\n",
    "#s.levelOrderBottom(3,9,20)"
   ]
  },
  {
   "cell_type": "markdown",
   "metadata": {},
   "source": [
    "108. 将有序数组转换为二叉搜索树     \n",
    "[-10,-3,0,5,9],\n",
    "\n",
    "一个可能的答案是：[0,-3,9,-10,null,5]，它可以表示下面这个高度平衡二叉搜索树：\n",
    "\n",
    "      0\n",
    "     / \\\n",
    "   -3   9      \n",
    "   /   /\n",
    " -10  5         \n"
   ]
  },
  {
   "cell_type": "code",
   "execution_count": 31,
   "metadata": {},
   "outputs": [],
   "source": [
    "class TreeNode:\n",
    "     def __init__(self, x):\n",
    "        self.val = x\n",
    "        self.left = None\n",
    "        self.right = None\n",
    "\n",
    "class Solution:\n",
    "    def sortedArrayToBST(self, nums) :\n",
    "        if nums:\n",
    "            m = len(nums) // 2\n",
    "            r = TreeNode(nums[m])\n",
    "            r.left, r.right = map(self.sortedArrayToBST, [nums[:m], nums[m+1:]])\n",
    "            return r"
   ]
  },
  {
   "cell_type": "markdown",
   "metadata": {},
   "source": [
    "110. 平衡二叉树       \n",
    "一个二叉树每个节点 的左右两个子树的高度差的绝对值不超过1     \n",
    "示例 1:\n",
    "\n",
    "给定二叉树 [3,9,20,null,null,15,7]\n",
    "\n",
    "    3\n",
    "   / \\\n",
    "  9  20\n",
    "    /  \\\n",
    "   15   7\n",
    "返回 true 。\n",
    "\n",
    "示例 2:\n",
    "\n",
    "给定二叉树 [1,2,2,3,3,null,null,4,4]\n",
    "\n",
    "       1\n",
    "      / \\\n",
    "     2   2\n",
    "    / \\\n",
    "   3   3\n",
    "  / \\\n",
    " 4   4\n",
    "返回 false 。"
   ]
  },
  {
   "cell_type": "code",
   "execution_count": 36,
   "metadata": {},
   "outputs": [],
   "source": [
    " #Definition for a binary tree node.\n",
    "class TreeNode:\n",
    "    def __init__(self, x):\n",
    "        self.val = x\n",
    "        self.left = None\n",
    "        self.right = None\n",
    "\n",
    "class Solution:\n",
    "    def isBalanced(self, root):\n",
    "        self.res = True\n",
    "        def helper(root):\n",
    "            if not root:\n",
    "                return 0  ##如果为空，结束\n",
    "            left = helper(root.left) + 1  #不断的进行递归循环\n",
    "            right = helper(root.right) + 1\n",
    "            #print(right, left)\n",
    "            if abs(right - left) > 1: \n",
    "                self.res = False\n",
    "            return max(left, right)  #必须要有输出\n",
    "        helper(root)\n",
    "        return self.res"
   ]
  },
  {
   "cell_type": "code",
   "execution_count": 38,
   "metadata": {},
   "outputs": [],
   "source": [
    "s=Solution()\n",
    "#s.isBalanced([3,9,20,15,7])"
   ]
  },
  {
   "cell_type": "markdown",
   "metadata": {},
   "source": [
    "111. 二叉树的最小深度        \n",
    "给定二叉树 [3,9,20,null,null,15,7],\n",
    "\n",
    "    3\n",
    "   / \\\n",
    "  9  20\n",
    "    /  \\\n",
    "   15   7\n",
    "返回它的最小深度  2."
   ]
  },
  {
   "cell_type": "code",
   "execution_count": 39,
   "metadata": {},
   "outputs": [],
   "source": [
    "class Solution:\n",
    "    def minDepth(self, root: TreeNode) -> int:\n",
    "        if not root:\n",
    "            return 0\n",
    "        if not root.left:\n",
    "            return self.minDepth(root.right)+1\n",
    "        if not root.right:\n",
    "            return self.minDepth(root.left)+1\n",
    "        return min(self.minDepth(root.left),self.minDepth(root.right))+1"
   ]
  },
  {
   "cell_type": "markdown",
   "metadata": {},
   "source": [
    "112. 路径总和           \n",
    "给定一个二叉树和一个目标和，判断该树中是否存在根节点到叶子节点的路径，这条路径上所有节点值相加等于目标和。     "
   ]
  },
  {
   "cell_type": "code",
   "execution_count": 41,
   "metadata": {},
   "outputs": [],
   "source": [
    "##方法一：递归\n",
    "class Solution:\n",
    "    def hasPathSum(self, root, sum):\n",
    "        \"\"\"\n",
    "        :type root: TreeNode\n",
    "        :type sum: int\n",
    "        :rtype: bool\n",
    "        \"\"\"\n",
    "        if not root:\n",
    "            return 0\n",
    "\n",
    "        sum -= root.val\n",
    "        if not root.left and not root.right:  # if reach a leaf\n",
    "            return sum==0 \n",
    "            #判定是否sum为0，返回true或者false\n",
    "        return self.hasPathSum(root.left, sum) or self.hasPathSum(root.right, sum)"
   ]
  },
  {
   "cell_type": "code",
   "execution_count": null,
   "metadata": {},
   "outputs": [],
   "source": [
    "226. 翻转二叉树    \n",
    "翻转一棵二叉树。\n",
    "\n",
    "示例：\n",
    "\n",
    "输入：\n",
    "\n",
    "     4\n",
    "   /   \\\n",
    "  2     7\n",
    " / \\   / \\\n",
    "1   3 6   9\n",
    "输出：\n",
    "\n",
    "     4\n",
    "   /   \\\n",
    "  7     2\n",
    " / \\   / \\\n",
    "9   6 3   1"
   ]
  },
  {
   "cell_type": "code",
   "execution_count": 42,
   "metadata": {},
   "outputs": [],
   "source": [
    "class Solutioajdkadssfsdfdsdfdfsdfsdfdftghdfgfdsfjkl`dssdafsdsdfdfdsfddfgsd            n(object):\n",
    "    def invertTree(self, root):\n",
    "        \"\"\"\n",
    "        :type root: TreeNode\n",
    "        :rtype: TreeNode\n",
    "        \"\"\"\n",
    "        if root:\n",
    "            node = root\n",
    "            node.left, node.right = self.invertTree(node.right), self.invertTree(node.left)\n",
    "        else:\n",
    "            return None  #和break作用一样\n",
    "\n",
    "        return node"
   ]
  },
  {
   "cell_type": "markdown",
   "metadata": {},
   "source": [
    "235. 二叉搜索树的最近公共祖先       \n",
    "给定一个二叉搜索树, 找到该树中两个指定节点的最近公共祖先。           \n",
    "例如，给定如下二叉搜索树:  root = [6,2,8,0,4,7,9,null,null,3,5]     \n",
    "输入: root = [6,2,8,0,4,7,9,null,null,3,5], p = 2, q = 4      \n",
    "输出: 2      \n",
    "解释: 节点 2 和节点 4 的最近公共祖先是 2, 因为根据定义最近公共祖先节点可以为节点本身        "
   ]
  },
  {
   "cell_type": "code",
   "execution_count": 45,
   "metadata": {},
   "outputs": [],
   "source": [
    "# Definition for a binary tree node.\n",
    "class TreeNode:\n",
    "    def __init__(self, x):\n",
    "        self.val = x\n",
    "        self.left = None\n",
    "        self.right = None\n",
    "\n",
    "class Solution:\n",
    "    def lowestCommonAncestor(self, root, p, q):\n",
    "        \"\"\"\n",
    "        :type root: TreeNode\n",
    "        :type p: TreeNode\n",
    "        :type q: TreeNode\n",
    "        :rtype: TreeNode\n",
    "        \"\"\"\n",
    "        # Value of current node or parent node.\n",
    "        parent_val = root.val\n",
    "\n",
    "        # Value of p　　\n",
    "        p_val = p.val\n",
    "\n",
    "        # Value of q\n",
    "        q_val = q.val\n",
    "        # If both p and q are greater than parent\n",
    "        if p_val > parent_val and q_val > parent_val:    \n",
    "            return self.lowestCommonAncestor(root.right, p, q)  \n",
    "        # If both p and q are lesser than parent\n",
    "        elif p_val < parent_val and q_val < parent_val:    \n",
    "            return self.lowestCommonAncestor(root.left, p, q)\n",
    "        # We have found the split point, i.e. the LCA node. \n",
    "        else:\n",
    "            return root\n",
    "        #所以这个题，是给定的条件，就是祖先值在下面的两个分点的值之间"
   ]
  },
  {
   "cell_type": "code",
   "execution_count": 48,
   "metadata": {},
   "outputs": [],
   "source": [
    "s=Solution()\n",
    "#s.lowestCommonAncestor(root = [6,2,8,0,4,7,9,3,5], p = 2, q = 8)"
   ]
  },
  {
   "cell_type": "markdown",
   "metadata": {},
   "source": [
    "257. 二叉树的所有路径      \n",
    "输入:\n",
    "\n",
    "   1\n",
    " /   \\\n",
    "2     3\n",
    " \\\n",
    "  5\n",
    "\n",
    "输出: [\"1->2->5\", \"1->3\"]\n"
   ]
  },
  {
   "cell_type": "code",
   "execution_count": null,
   "metadata": {},
   "outputs": [],
   "source": [
    "class Solution:\n",
    "    def binaryTreePaths(self, root):\n",
    "        \"\"\"\n",
    "        :type root: TreeNode\n",
    "        :rtype   : List[str]\n",
    "        \"\"\"\n",
    "        def construct_paths(root, path):\n",
    "            if root:\n",
    "                path += str(root.val)  #把数字变成字符串形式\n",
    "                if not root.left and not root.right:  # 当前节点是叶子节点\n",
    "                    paths.append(path)  # 把路径加入到答案中\n",
    "                else:\n",
    "                    path += '->'  # 当前节点不是叶子节点，继续递归遍历\n",
    "                    construct_paths(root.left, path)\n",
    "                    construct_paths(root.right, path)\n",
    "\n",
    "        paths = []\n",
    "        construct_paths(root, ‘’) #这里用‘’，因为path是字符串形式\n",
    "        return paths"
   ]
  },
  {
   "cell_type": "code",
   "execution_count": null,
   "metadata": {},
   "outputs": [],
   "source": [
    "404. 左叶子之和      \n",
    "示例：\n",
    "\n",
    "    3\n",
    "   / \\\n",
    "  9  20\n",
    "    /  \\\n",
    "   15   7\n",
    "\n",
    "在这个二叉树中，有两个左叶子，分别是 9 和 15，所以返回 24"
   ]
  },
  {
   "cell_type": "code",
   "execution_count": null,
   "metadata": {},
   "outputs": [],
   "source": [
    "#递归 \n",
    "class Solution:\n",
    "    def sumOfLeftLeaves(self, root: TreeNode) -> int:\n",
    "        if not root:\n",
    "            return 0\n",
    "        if root and root.left and not root.left.left and not root.lef t.right:  #先确保左边这个是一个叶节点，再进行右面的\n",
    "            return root.left.val+self.sumOfLeftLeaves(root.right)\n",
    "        return self.sumOfLeftLeaves(root.left) + self.sumOfLeftLeaves(root.right)"
   ]
  },
  {
   "cell_type": "code",
   "execution_count": null,
   "metadata": {},
   "outputs": [],
   "source": [
    "#迭代\n",
    "class Solution:\n",
    "    def sumOfLeftLeaves(self, root: TreeNode) -> int:\n",
    "        sum_ = 0\n",
    "        if not root:\n",
    "            return 0\n",
    "        ans = [root]\n",
    "        while ans:\n",
    "            r = ans.pop()  #这是把刚才的[root]踢出来\n",
    "            if r.left and not r.left.left and not r.left.right:  #如果到达叶节点，\n",
    "                sum_ += r.left.val\n",
    "            if r.left:   #如果左边不为空，这是还有，进行下一轮循环\n",
    "                ans.append(r.left)  #将r.left添加进ans\n",
    "            if r.right:   #如果右边不为空\n",
    "                ans.append(r.right) #将r.right添加进ans\n",
    "        return sum_"
   ]
  },
  {
   "cell_type": "markdown",
   "metadata": {},
   "source": [
    "437. 路径总和 III       \n",
    "给定一个二叉树，它的每个结点都存放着一个整数值。\n",
    "找出路径和等于给定数值的路径总数。\n",
    "路径不需要从根节点开始，也不需要在叶子节点结束，但是路径方向必须是向下的（只能从父节点到子节点）。\n",
    "示例：\n",
    "root = [10,5,-3,3,2,null,11,3,-2,null,1], sum = 8\n",
    "\n",
    "      10\n",
    "     /  \\\n",
    "    5   -3\n",
    "   / \\    \\\n",
    "  3   2   11\n",
    " / \\   \\\n",
    "3  -2   1\n",
    "返回 3。和等于 8 的路径有:\n",
    "1.  5 -> 3\n",
    "2.  5 -> 2 -> 1\n",
    "3.  -3 -> 11"
   ]
  },
  {
   "cell_type": "code",
   "execution_count": 50,
   "metadata": {},
   "outputs": [],
   "source": [
    "# Definition for a binary tree node.\n",
    "# class TreeNode:\n",
    "#     def __init__(self, x):\n",
    "#         self.val = x\n",
    "#         self.left = None\n",
    "#         self.right = None\n",
    "\n",
    "# 分析：用到了两个递归\n",
    "# 第一个递归：用于遍历每个结点\n",
    "# 第二个递归：从该节点开始向下找存在的路径个数\n",
    "\n",
    "def pathSum(self, root, sum):\n",
    "        \"\"\"\n",
    "        :type root: TreeNode\n",
    "        :type sum: int\n",
    "        :rtype: int\n",
    "        \"\"\"\n",
    "        if not root:\n",
    "            return 0\n",
    "        def dfs(root,sum):\n",
    "            count=0  #记录路径个数\n",
    "            if not root:\n",
    "                return 0\n",
    "            if root.val==sum:\n",
    "                count+=1\n",
    "            count+=dfs(root.left,sum-root.val)\n",
    "            count+=dfs(root.right,sum-root.val)\n",
    "            return count\n",
    "        return dfs(root,sum)+self.pathSum(root.left,sum)+self.pathSum(root.right,sum)"
   ]
  },
  {
   "cell_type": "code",
   "execution_count": null,
   "metadata": {},
   "outputs": [],
   "source": [
    "def traverse(node):\n",
    "    if not node.left and not node.right:\n",
    "        return [str(node.val)]\n",
    "    left, right = [], []\n",
    "    if node.left:\n",
    "        left = [str(node.val) + x for x in traverse(node.left)]\n",
    "    if node.right:\n",
    "        right = [str(node.val) + x for x in traverse(node.right)]\n",
    "\n",
    "    return left + right"
   ]
  },
  {
   "cell_type": "markdown",
   "metadata": {},
   "source": [
    "501. 二叉搜索树中的众数    \n",
    "给定一个有相同值的二叉搜索树（BST），找出 BST 中的所有众数（出现频率最高的元素）。\n",
    "\n",
    "假定 BST 有如下定义：  \n",
    "结点左子树中所含结点的值小于等于当前结点的值\n",
    "结点右子树中所含结点的值大于等于当前结点的值\n",
    "左子树和右子树都是二叉搜索树"
   ]
  },
  {
   "cell_type": "code",
   "execution_count": 49,
   "metadata": {},
   "outputs": [],
   "source": [
    "#没明白\n",
    "class Solution:\n",
    "    def findMode(self, root: TreeNode) -> List[int]:\n",
    "        if root is None:\n",
    "            return []\n",
    "        p = root\n",
    "        st = []\n",
    "        res = []\n",
    "        max_times = 1\n",
    "        time = 1\n",
    "        pre = float(\"inf\")  #正无穷\n",
    "        while p is not None or st:  #如果 p 为真，或者 st为真\n",
    "            while p is not None:\n",
    "                st.append(p)\n",
    "                p = p.left  #一直往左枝进行\n",
    "            p = st.pop()    #\n",
    "            \n",
    "            cur = p.val\n",
    "            if cur == pre:\n",
    "                time += 1\n",
    "            else:\n",
    "                time = 1\n",
    "                pre = cur\n",
    "            if time == max_times:\n",
    "                res.append(cur)\n",
    "            if time > max_times:\n",
    "                res = [cur]\n",
    "                max_times = time\n",
    "    \n",
    "            p = p.right\n",
    "                \n",
    "        return res"
   ]
  },
  {
   "cell_type": "markdown",
   "metadata": {},
   "source": [
    "530. 二叉搜索树的最小绝对差      \n",
    "给定一个所有节点为非负值的二叉搜索树，求树中任意两节点的差的绝对值的最小值。       "
   ]
  },
  {
   "cell_type": "code",
   "execution_count": null,
   "metadata": {},
   "outputs": [],
   "source": [
    "#根据二叉搜索树的特点，利用两个辅助函数找到当前节点的最小绝对差，\n",
    "#再递归的求左右节点的最小绝对差，最终求出最小值。代码如下：\n",
    "class Solution:\n",
    "    def find_left(self,root):\n",
    "        if not root:\n",
    "            return -10000\n",
    "        while root.right:   #如果右枝存在，root等于右枝 ，然后一直循环，得到右枝的叶节点。。。\n",
    "            root = root.right\n",
    "        return root.val  #如果右枝存在，为右枝的节点值，不存在，为根结点值\n",
    "                         #这样不就是每个节点和最后的叶节点的差值？\n",
    "    \n",
    "    def find_right(self,root):\n",
    "        if not root:\n",
    "            return 10000\n",
    "        while root.left:\n",
    "            root = root.left\n",
    "        return root.val  #左枝的节点值\n",
    "    \n",
    "    def getMinimumDifference(self, root: TreeNode) -> int:\n",
    "        if not root:\n",
    "            return 10000\n",
    "        else:\n",
    "            l = root.val - self.find_left(root.left) #根结点和   这里面有一个问题，怎么让根结点与中间的节点做差值，这个做不到\n",
    "            r = self.find_right(root.right)-root.val\n",
    "            left = self.getMinimumDifference(root.left)\n",
    "            right = self.getMinimumDifference(root.right)\n",
    "            return min(l,r,left,right)"
   ]
  },
  {
   "cell_type": "code",
   "execution_count": null,
   "metadata": {},
   "outputs": [],
   "source": [
    "# 中序遍历\n",
    "# (可以参考：二叉树各种遍历算法)  https://www.cnblogs.com/anzhengyu/p/11083568.html\n",
    "#采用递归的方式中序遍历，得到一组遍历数组，再求最小值。代码如下：\n",
    "class Solution: \n",
    "    def getMinimumDifference(self, root: TreeNode) -> int:\n",
    "        def preorder(root):\n",
    "            if not root:\n",
    "                return []\n",
    "            else:\n",
    "                return preorder(root.left)+ [root.val] + preorder(root.right)\n",
    "        \n",
    "        target = preorder(root)\n",
    "        n = len(target)\n",
    "        sorted(target)\n",
    "        min_ = 10000\n",
    "        for i in range(n-1):\n",
    "            min_= min(target[i+1]-target[i],min_)\n",
    "            \n",
    "        return min_"
   ]
  },
  {
   "cell_type": "markdown",
   "metadata": {},
   "source": [
    "538. 把二叉搜索树转换为累加树        \n",
    "给定一个二叉搜索树（Binary Search Tree），把它转换成为累加树（Greater Tree)，使得每个节点的值是原来的节点值加上所有大于它的节点值之和。"
   ]
  },
  {
   "cell_type": "markdown",
   "metadata": {},
   "source": [
    "中序遍历，只不过先遍历右根。 因为右子树都是大于根节点本身的，所以右子树的累加和就是根节点需要累加的数值。 而左子树有些特殊。\n",
    "- 根的左根，要累加根节点的数值。\n",
    "- 左根要累加它自身的右子树的数值。\n",
    "- 左根右子树，因为小于根节点，所以计算左根右子树的时候还要把根节点的数值算上去，因为根节点大于它。\n",
    "- 左根的左子树要累加左跟的数值。\n",
    "因此构造递归过程的时候，不仅要累加，还要将上一级的累加和传递给下一级，方便处理。最开始累加和为0."
   ]
  },
  {
   "cell_type": "code",
   "execution_count": null,
   "metadata": {},
   "outputs": [],
   "source": [
    "#真正看懂的一个二叉树过程，做一个有三层的二叉树来做一次，会有一些清晰的流程\n",
    "class Solution:\n",
    "    def convertBST(self, root: TreeNode) -> TreeNode:\n",
    "        target = []  \n",
    "        stack = []\n",
    "        head = root\n",
    "        while root:\n",
    "            stack.append(root) #stack 装root\n",
    "            root = root.left  #root转为左枝\n",
    "            if not root:  #如果左枝为空\n",
    "                root = stack.pop()  #把stack中root踢出\n",
    "                target.append(root)   #放入临时栈target\n",
    "                while not root.right and stack:  #如果右枝为空并且stack存在\n",
    "                    root = stack.pop()  #root等于从stark中踢出的下一个\n",
    "                    target.append(root)  \n",
    "                root = root.right  \n",
    "                \n",
    "        n = len(target)\n",
    "        for i in range(n-2,-1,-1):\n",
    "            target[i].val=target[i+1].val+target[i].val\n",
    "        return head  #这里返回head，有点迷，。。。"
   ]
  },
  {
   "cell_type": "code",
   "execution_count": null,
   "metadata": {},
   "outputs": [],
   "source": [
    "class Solution:\n",
    "    def convertBST(self, root: TreeNode) -> TreeNode:\n",
    "        self.num = 0\n",
    "        def depthfirstsearch(root):\n",
    "            if root is None: #如果为空，就返回 none\n",
    "                return \n",
    "            else:\n",
    "                depthfirstsearch(root.right)   #如果不为空，进入右枝\n",
    "                self.num = self.num + root.val \n",
    "                root.val = self.num\n",
    "                depthfirstsearch(root.left)\n",
    "                return root\n",
    "        return depthfirstsearch(root)"
   ]
  },
  {
   "cell_type": "code",
   "execution_count": null,
   "metadata": {},
   "outputs": [],
   "source": []
  }
 ],
 "metadata": {
  "kernelspec": {
   "display_name": "Python 3",
   "language": "python",
   "name": "python3"
  },
  "language_info": {
   "codemirror_mode": {
    "name": "ipython",
    "version": 3
   },
   "file_extension": ".py",
   "mimetype": "text/x-python",
   "name": "python",
   "nbconvert_exporter": "python",
   "pygments_lexer": "ipython3",
   "version": "3.7.3"
  }
 },
 "nbformat": 4,
 "nbformat_minor": 2
}
