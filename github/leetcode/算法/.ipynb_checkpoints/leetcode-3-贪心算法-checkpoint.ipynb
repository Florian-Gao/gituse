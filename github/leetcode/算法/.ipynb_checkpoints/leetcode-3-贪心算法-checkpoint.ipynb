{
 "cells": [
  {
   "cell_type": "markdown",
   "metadata": {},
   "source": [
    "122. 买卖股票的最佳时机 II        \n",
    "给定一个数组，它的第 i 个元素是一支给定股票第 i 天的价格。                   \n",
    "设计一个算法来计算你所能获取的最大利润。你可以尽可能地完成更多的交易（多次买卖一支股票）。\n",
    "注意：你不能同时参与多笔交易（你必须在再次购买前出售掉之前的股票）。\n",
    "输入: [7,1,5,3,6,4]\n",
    "输出: 7\n",
    "解释: 在第 2 天（股票价格 = 1）的时候买入，在第 3 天（股票价格 = 5）的时候卖出, 这笔交易所能获得利润 = 5-1 = 4 。\n",
    "     随后，在第 4 天（股票价格 = 3）的时候买入，在第 5 天（股票价格 = 6）的时候卖出, 这笔交易所能获得利润 = 6-3 = 3 。"
   ]
  },
  {
   "cell_type": "markdown",
   "metadata": {},
   "source": [
    "这道题就是后一天比前一天高就做差求和就可以"
   ]
  },
  {
   "cell_type": "code",
   "execution_count": 6,
   "metadata": {},
   "outputs": [],
   "source": [
    "class Solution:\n",
    "    def maxProfit(self, prices):\n",
    "        profit = 0\n",
    "        for i in range(len(prices)-1):\n",
    "            tmp = prices[i] - prices[i - 1]\n",
    "            if tmp > 0: \n",
    "                profit += tmp\n",
    "        return profit"
   ]
  },
  {
   "cell_type": "code",
   "execution_count": 8,
   "metadata": {},
   "outputs": [
    {
     "data": {
      "text/plain": [
       "3"
      ]
     },
     "execution_count": 8,
     "metadata": {},
     "output_type": "execute_result"
    }
   ],
   "source": [
    "s=Solution()\n",
    "s.maxProfit([1,2,3,4])\n"
   ]
  },
  {
   "cell_type": "code",
   "execution_count": 7,
   "metadata": {},
   "outputs": [],
   "source": [
    "class Solution:\n",
    "    def maxProfit(self, prices):\n",
    "        return sum(b - a for a, b in zip(prices, prices[1:]) if b > a) "
   ]
  },
  {
   "cell_type": "code",
   "execution_count": 9,
   "metadata": {},
   "outputs": [
    {
     "data": {
      "text/plain": [
       "3"
      ]
     },
     "execution_count": 9,
     "metadata": {},
     "output_type": "execute_result"
    }
   ],
   "source": [
    "s=Solution()\n",
    "s.maxProfit([1,2,3,4])"
   ]
  },
  {
   "cell_type": "markdown",
   "metadata": {},
   "source": [
    "\n",
    "392.判断子序列\n",
    "给定字符串 s 和 t ，判断 s 是否为 t 的子序列。\n",
    "\n",
    "你可以认为 s 和 t 中仅包含英文小写字母。字符串 t 可能会很长（长度 ~= 500,000），而 s 是个短字符串（长度 <=100）。\n",
    "\n",
    "字符串的一个子序列是原始字符串删除一些（也可以不删除）字符而不改变剩余字符相对位置形成的新字符串。（例如，\"ace\"是\"abcde\"的一个子序列，而\"aec\"不是）。\n",
    "\n",
    "示例 1:\n",
    "s = \"abc\", t = \"ahbgdc\"\n",
    "\n",
    "返回 true.\n",
    "\n",
    "示例 2:\n",
    "s = \"axc\", t = \"ahbgdc\"\n",
    "\n",
    "返回 false.\n",
    "\n",
    "后续挑战 :\n",
    "\n",
    "如果有大量输入的 S，称作S1, S2, ... , Sk 其中 k >= 10亿，你需要依次检查它们是否为 T 的子序列。在这种情况下，你会怎样改变代码？"
   ]
  },
  {
   "cell_type": "code",
   "execution_count": 34,
   "metadata": {},
   "outputs": [],
   "source": [
    "class Solution:\n",
    "    def isSubsequence(self,s, t):\n",
    "        s = list(s)\n",
    "        for _t in t:\n",
    "            if not s: #如果s内没有元素\n",
    "                return True\n",
    "            if _t == s[0]:\n",
    "                s.pop(0)\n",
    "\n",
    "        return not s"
   ]
  },
  {
   "cell_type": "code",
   "execution_count": 35,
   "metadata": {},
   "outputs": [
    {
     "data": {
      "text/plain": [
       "False"
      ]
     },
     "execution_count": 35,
     "metadata": {},
     "output_type": "execute_result"
    }
   ],
   "source": [
    "s=Solution()\n",
    "s.isSubsequence('a,c,c','a,s,b,d,c')"
   ]
  },
  {
   "cell_type": "code",
   "execution_count": 42,
   "metadata": {},
   "outputs": [],
   "source": [
    "class Solution:\n",
    "    def isSubsequence(self,s,t):\n",
    "        \"\"\"\n",
    "        :type a: str\n",
    "        :type b: str\n",
    "        :rtype: bool\n",
    "        \"\"\"\n",
    "        t=iter(t)#iter 内置迭代器，每次取下一个\n",
    "        #for i in t:\n",
    "           # print(i)\n",
    "        return all(i in t for i in s) #all 内如果有数据为空，输出为false，t这里是迭代，迭代完就过去了\n",
    "    "
   ]
  },
  {
   "cell_type": "code",
   "execution_count": 43,
   "metadata": {},
   "outputs": [
    {
     "data": {
      "text/plain": [
       "False"
      ]
     },
     "execution_count": 43,
     "metadata": {},
     "output_type": "execute_result"
    }
   ],
   "source": [
    "s=Solution()\n",
    "s.isSubsequence('a,c,c','a,s,b,d,c')"
   ]
  },
  {
   "cell_type": "markdown",
   "metadata": {},
   "source": [
    "455. 分发饼干            \n",
    "假设你是一位很棒的家长，想要给你的孩子们一些小饼干。但是，每个孩子最多只能给一块饼干。对每个孩子 i ，都有一个胃口值 gi ，这是能让孩子们满足胃口的饼干的最小尺寸；并且每块饼干 j ，都有一个尺寸 sj 。如果 sj >= gi ，我们可以将这个饼干 j 分配给孩子 i ，这个孩子会得到满足。你的目标是尽可能满足越多数量的孩子，并输出这个最大数值               \n",
    "'''               \n",
    "输入: [1,2,3], [1,1]          \n",
    "输出: 1           \n",
    "解释: \n",
    "你有三个孩子和两块小饼干，3个孩子的胃口值分别是：1,2,3。             \n",
    "虽然你有两块小饼干，由于他们的尺寸都是1，你只能让胃口值是1的孩子满足。           \n",
    "所以你应该输出1。            \n",
    "'''"
   ]
  },
  {
   "cell_type": "code",
   "execution_count": null,
   "metadata": {},
   "outputs": [],
   "source": [
    "class Solution(object):\n",
    "    def findContentChildren(self, g, s):\n",
    "        \"\"\"\n",
    "        :type g: List[int]\n",
    "        :type s: List[int]\n",
    "        :rtype: int\n",
    "        \"\"\"\n",
    "        res = 0\n",
    "        g.sort()\n",
    "        s.sort()\n",
    "        \n",
    "        g_length = len(g)\n",
    "        s_length = len(s)\n",
    "        \n",
    "        i = 0\n",
    "        j = 0\n",
    "        while i < g_length and j < s_length:\n",
    "            if g[i] <= s[j]:\n",
    "                # 可以满足胃口，把小饼干喂给小朋友\n",
    "                res += 1\n",
    "                i += 1\n",
    "                j += 1\n",
    "            else:\n",
    "                # 不满足胃口，查看下一块小饼干\n",
    "                j += 1\n",
    "                \n",
    "        return res"
   ]
  },
  {
   "cell_type": "code",
   "execution_count": null,
   "metadata": {},
   "outputs": [],
   "source": [
    "s=Solution()\n",
    "s.findContentChildren([1,2],[0,0,4])"
   ]
  },
  {
   "cell_type": "code",
   "execution_count": null,
   "metadata": {},
   "outputs": [],
   "source": []
  },
  {
   "cell_type": "code",
   "execution_count": null,
   "metadata": {},
   "outputs": [],
   "source": []
  },
  {
   "cell_type": "code",
   "execution_count": null,
   "metadata": {},
   "outputs": [],
   "source": []
  },
  {
   "cell_type": "code",
   "execution_count": null,
   "metadata": {},
   "outputs": [],
   "source": []
  }
 ],
 "metadata": {
  "kernelspec": {
   "display_name": "Python 3",
   "language": "python",
   "name": "python3"
  },
  "language_info": {
   "codemirror_mode": {
    "name": "ipython",
    "version": 3
   },
   "file_extension": ".py",
   "mimetype": "text/x-python",
   "name": "python",
   "nbconvert_exporter": "python",
   "pygments_lexer": "ipython3",
   "version": "3.7.3"
  }
 },
 "nbformat": 4,
 "nbformat_minor": 2
}
