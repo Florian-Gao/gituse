{
 "cells": [
  {
   "cell_type": "markdown",
   "metadata": {},
   "source": [
    "703. 数据流中的第K大元素            \n",
    "设计一个找到数据流中第K大元素的类（class）。注意是排序后的第K大元素，不是第K个不同的元素。\n",
    "你的 KthLargest 类需要一个同时接收整数 k 和整数数组nums 的构造器，它包含数据流中的初始元素。每次调用 KthLargest.add，返回当前数据流中第K大的元素。             \n",
    "'''               \n",
    "示例:                 \n",
    "int k = 3;               \n",
    "int[] arr = [4,5,8,2];                             \n",
    "KthLargest kthLargest = new KthLargest(3, arr);         \n",
    "kthLargest.add(3);   // returns 4              \n",
    "kthLargest.add(5);   // returns 5           \n",
    "kthLargest.add(10);  // returns 5             \n",
    "kthLargest.add(9);   // returns 8            \n",
    "kthLargest.add(4);   // returns 8                \n",
    "'''"
   ]
  },
  {
   "cell_type": "code",
   "execution_count": 19,
   "metadata": {},
   "outputs": [],
   "source": [
    "class KthLargest(object):\n",
    "\n",
    "    def __init__(self, k, nums):\n",
    "        \"\"\"\n",
    "        :type k: int\n",
    "        :type nums: List[int]\n",
    "        \"\"\"\n",
    "        self.k = k\n",
    "        self.nums = nums\n",
    "        \n",
    "\n",
    "    def add(self, val):\n",
    "        \"\"\"\n",
    "        :type val: int\n",
    "        :rtype: int\n",
    "        \"\"\"\n",
    "        self.nums.append(val)\n",
    "        #print(val)\n",
    "        self.nums.sort() #sort 正向排序\n",
    "        #print(self.nums)\n",
    "        return print(self.nums[-self.k])"
   ]
  },
  {
   "cell_type": "code",
   "execution_count": 20,
   "metadata": {},
   "outputs": [
    {
     "name": "stdout",
     "output_type": "stream",
     "text": [
      "4\n",
      "5\n",
      "5\n",
      "8\n",
      "8\n"
     ]
    }
   ],
   "source": [
    "k=KthLargest(3,[4,5,8,2])\n",
    "k.add(3);#returns 4              \n",
    "k.add(5);#returns 5           \n",
    "k.add(10);#returns 5             \n",
    "k.add(9);#returns 8            \n",
    "k.add(4);#returns 8"
   ]
  },
  {
   "cell_type": "code",
   "execution_count": 34,
   "metadata": {},
   "outputs": [],
   "source": [
    "import heapq #调包\n",
    "\n",
    "class KthLargest:\n",
    "    def __init__(self, k, nums):\n",
    "        self.pool = heapq.nlargest(k, nums)[::-1] #前k大元素,[::-1]倒叙排列\n",
    "        self.k = k\n",
    "\n",
    "    def add(self, val) :\n",
    "        print(self.pool)\n",
    "        print(val)\n",
    "        if len(self.pool) < self.k: #如果选出的几个数小于要选的数字\n",
    "            heapq.heappush(self.pool, val) #把新数字添进去\n",
    "        elif val > self.pool[0]: #如果新数字大于我们选的数的最小值\n",
    "            heapq.heapreplace(self.pool, val) #替换\n",
    "        print(self.pool)\n",
    "        print('\\n')\n",
    "        return self.pool[0] "
   ]
  },
  {
   "cell_type": "code",
   "execution_count": 38,
   "metadata": {},
   "outputs": [
    {
     "name": "stdout",
     "output_type": "stream",
     "text": [
      "[4, 5, 8]\n",
      "3\n",
      "[4, 5, 8]\n",
      "\n",
      "\n",
      "[4, 5, 8]\n",
      "5\n",
      "[5, 5, 8]\n",
      "\n",
      "\n",
      "[5, 5, 8]\n",
      "100\n",
      "[5, 100, 8]\n",
      "\n",
      "\n",
      "[5, 100, 8]\n",
      "900\n",
      "[8, 100, 900]\n",
      "\n",
      "\n",
      "[8, 100, 900]\n",
      "400\n",
      "[100, 400, 900]\n",
      "\n",
      "\n"
     ]
    }
   ],
   "source": [
    "k=KthLargest(3,[4,5,8,2])\n",
    "k.add(3);#returns 4              \n",
    "k.add(5);#returns 5           \n",
    "k.add(100);#returns 5             \n",
    "k.add(900);#returns 8            \n",
    "k.add(400);#returns 8"
   ]
  },
  {
   "cell_type": "markdown",
   "metadata": {},
   "source": [
    "1046. 最后一块石头的重量         \n",
    "有一堆石头，每块石头的重量都是正整数。               \n",
    "每一回合，从中选出两块最重的石头，然后将它们一起粉碎。假设石头的重量分别为 x 和 y，且 x <= y。那么粉碎的可能结果如下：       \n",
    "如果 x == y，那么两块石头都会被完全粉碎；                                                                   \n",
    "如果 x != y，那么重量为 x 的石头将会完全粉碎，而重量为 y 的石头新重量为 y-x。              \n",
    "最后，最多只会剩下一块石头。返回此石头的重量。如果没有石头剩下，就返回 0。                "
   ]
  },
  {
   "cell_type": "code",
   "execution_count": 43,
   "metadata": {},
   "outputs": [],
   "source": [
    "class Solution:\n",
    "    \"\"\"\n",
    "    :type stones: List[int]\n",
    "    :rtype: int\n",
    "    \"\"\"\n",
    "    def lastStoneWeight(self, stones):\n",
    "        import heapq  ## heapq库是专门处理最小堆的库\n",
    "        stones_heap = [-i for i in stones]  ## 用取负数的办法弯道处理最大堆问题\n",
    "        heapq.heapify(stones_heap) ## 把list最小推结构化；时间复杂度是O(n)  排序，由小到大\n",
    "        print(stones_heap)\n",
    "        while len(stones_heap) > 1:  ## 当至少还有2块石头的时候\n",
    "            a = heapq.heappop(stones_heap)  ## 取出质量最大的石头（因为是负数，所以值是最小）；时间复杂度是O(logn)，因为取出后还要用logn的时间保持堆结构\n",
    "            b = heapq.heappop(stones_heap)  ## 在剩下的石头里取出质量最大的石头；时间复杂度是O(logn)\n",
    "            if a < b:  ## 如果第一块石头比第二块重，那么把摩擦剩下的小石头放进堆里\n",
    "                heapq.heappush(stones_heap, a - b) ## 如果两块石头一样重，就都没有了\n",
    "                print(stones_heap)\n",
    "        if stones_heap:\n",
    "            res = -stones_heap[0]  ## 如果剩下石头，那么返回值是其质量\n",
    "        else:\n",
    "            res =  0  ## 如果不剩下石头，那么返回值是0\n",
    "        return res"
   ]
  },
  {
   "cell_type": "code",
   "execution_count": 46,
   "metadata": {},
   "outputs": [
    {
     "name": "stdout",
     "output_type": "stream",
     "text": [
      "[-8, -7, -4, -1, -2, -1]\n",
      "[-4, -2, -1, -1, -1]\n",
      "[-2, -1, -1, -1]\n",
      "[-1, -1, -1]\n"
     ]
    },
    {
     "data": {
      "text/plain": [
       "1"
      ]
     },
     "execution_count": 46,
     "metadata": {},
     "output_type": "execute_result"
    }
   ],
   "source": [
    "s=Solution()\n",
    "s.lastStoneWeight([2,7,4,1,8,1])"
   ]
  },
  {
   "cell_type": "code",
   "execution_count": 47,
   "metadata": {},
   "outputs": [
    {
     "name": "stdout",
     "output_type": "stream",
     "text": [
      "[-8, -7, -4, -1, -2, -1, -1]\n",
      "[-4, -2, -1, -1, -1, -1]\n",
      "[-2, -1, -1, -1, -1]\n",
      "[-1, -1, -1, -1]\n"
     ]
    },
    {
     "data": {
      "text/plain": [
       "0"
      ]
     },
     "execution_count": 47,
     "metadata": {},
     "output_type": "execute_result"
    }
   ],
   "source": [
    "s.lastStoneWeight([2,7,4,1,8,1,1])"
   ]
  },
  {
   "cell_type": "code",
   "execution_count": null,
   "metadata": {},
   "outputs": [],
   "source": []
  }
 ],
 "metadata": {
  "kernelspec": {
   "display_name": "Python 3",
   "language": "python",
   "name": "python3"
  },
  "language_info": {
   "codemirror_mode": {
    "name": "ipython",
    "version": 3
   },
   "file_extension": ".py",
   "mimetype": "text/x-python",
   "name": "python",
   "nbconvert_exporter": "python",
   "pygments_lexer": "ipython3",
   "version": "3.7.3"
  }
 },
 "nbformat": 4,
 "nbformat_minor": 2
}
