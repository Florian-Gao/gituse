{
 "cells": [
  {
   "cell_type": "markdown",
   "metadata": {},
   "source": [
    "136. 只出现一次的数字             \n",
    "给定一个非空整数数组，除了某个元素只出现一次以外，其余每个元素均出现两次。找出那个只出现了一次的元素           \n",
    "输入: [2,2,1]          \n",
    "输出: 1           \n",
    "\n",
    "\n",
    "\n"
   ]
  },
  {
   "cell_type": "code",
   "execution_count": 10,
   "metadata": {},
   "outputs": [],
   "source": [
    "class Solution():\n",
    "    def singleNumber(self, nums):\n",
    "            res = nums[0]\n",
    "            for num in nums[1:]:\n",
    "                res^= num  #按位异或  每一位相同时为0，不同时为1\n",
    "                #print(num)\n",
    "                #print(res) \n",
    "            return res"
   ]
  },
  {
   "cell_type": "code",
   "execution_count": 11,
   "metadata": {},
   "outputs": [
    {
     "data": {
      "text/plain": [
       "2"
      ]
     },
     "execution_count": 11,
     "metadata": {},
     "output_type": "execute_result"
    }
   ],
   "source": [
    "s=Solution()\n",
    "s.singleNumber([1,2,3,3,1])"
   ]
  },
  {
   "cell_type": "markdown",
   "metadata": {},
   "source": [
    "169.求众数        \n",
    "给定一个大小为 n 的数组，找到其中的众数。众数是指在数组中出现次数大于 ⌊ n/2 ⌋ 的元素。         \n",
    "你可以假设数组是非空的，并且给定的数组总是存在众数。                  "
   ]
  },
  {
   "cell_type": "code",
   "execution_count": 13,
   "metadata": {},
   "outputs": [],
   "source": [
    "class Solution:\n",
    "    def majorityElement(self, nums):\n",
    "        nums.sort()\n",
    "        return nums[len(nums)//2]"
   ]
  },
  {
   "cell_type": "code",
   "execution_count": 15,
   "metadata": {},
   "outputs": [],
   "source": [
    "class Solution:\n",
    "    def majorityElement(self, nums):\n",
    "        set1 = set(nums)  #set之后只剩下不重复的数字\n",
    "        for i in set1:\n",
    "            if nums.count(i) > (len(nums)//2):\n",
    "                return i"
   ]
  },
  {
   "cell_type": "code",
   "execution_count": 16,
   "metadata": {},
   "outputs": [],
   "source": [
    "class Solution:\n",
    "    def majorityElement(self, nums):\n",
    "        count = 1\n",
    "        target = nums[0]\n",
    "        n = len(nums)\n",
    "        for i in range(1,n):\n",
    "            if nums[i] == target:\n",
    "                count += 1\n",
    "            else:\n",
    "                if count >= 1:\n",
    "                    count -= 1\n",
    "                else:\n",
    "                    target = nums[i]\n",
    "        return target"
   ]
  },
  {
   "cell_type": "code",
   "execution_count": 17,
   "metadata": {},
   "outputs": [],
   "source": [
    "class Solution:\n",
    "    def majorityElement(self, nums):\n",
    "        dic = {}\n",
    "        set1 = set(nums)\n",
    "        for i in nums:\n",
    "            dic[i] = dic.get(i,0) + 1  #get就是计数的，和上面的count一样\n",
    "'''\n",
    "以classCount.get(voteIlabel,0)为例：\n",
    "classCount.get(voteIlabel,0)返回字典classCount中voteIlabel元素对应的值,\n",
    "若无，则进行初始化\n",
    "'''\n",
    "        for i in set1:\n",
    "            if dic.get(i)>(len(nums)//2):\n",
    "                return i"
   ]
  },
  {
   "cell_type": "markdown",
   "metadata": {},
   "source": [
    "190. 颠倒二进制位          \n",
    "颠倒给定的 32 位无符号整数的二进制位。         \n",
    "示例 1：            \n",
    "输入: 00000010100101000001111010011100          \n",
    "输出: 00111001011110000010100101000000                 \n",
    "解释: 输入的二进制串 00000010100101000001111010011100 表示无符号整数 43261596，          \n",
    "      因此返回 964176192，其二进制表示形式为 00111001011110000010100101000000。            "
   ]
  },
  {
   "cell_type": "code",
   "execution_count": null,
   "metadata": {},
   "outputs": [],
   "source": []
  },
  {
   "cell_type": "code",
   "execution_count": null,
   "metadata": {},
   "outputs": [],
   "source": []
  },
  {
   "cell_type": "code",
   "execution_count": null,
   "metadata": {},
   "outputs": [],
   "source": []
  },
  {
   "cell_type": "code",
   "execution_count": null,
   "metadata": {},
   "outputs": [],
   "source": []
  },
  {
   "cell_type": "code",
   "execution_count": null,
   "metadata": {},
   "outputs": [],
   "source": []
  },
  {
   "cell_type": "code",
   "execution_count": null,
   "metadata": {},
   "outputs": [],
   "source": []
  },
  {
   "cell_type": "code",
   "execution_count": null,
   "metadata": {},
   "outputs": [],
   "source": []
  }
 ],
 "metadata": {
  "kernelspec": {
   "display_name": "Python 3",
   "language": "python",
   "name": "python3"
  },
  "language_info": {
   "codemirror_mode": {
    "name": "ipython",
    "version": 3
   },
   "file_extension": ".py",
   "mimetype": "text/x-python",
   "name": "python",
   "nbconvert_exporter": "python",
   "pygments_lexer": "ipython3",
   "version": "3.7.3"
  }
 },
 "nbformat": 4,
 "nbformat_minor": 2
}
