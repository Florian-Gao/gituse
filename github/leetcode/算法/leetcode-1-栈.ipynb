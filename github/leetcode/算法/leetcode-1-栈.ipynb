{
 "cells": [
  {
   "cell_type": "markdown",
   "metadata": {},
   "source": [
    "20.有效的括号       \n",
    "给定一个只包括 '('，')'，'{'，'}'，'[',']' 的字符串，判断字符串是否有效。          \n",
    "有效字符串需满足：           \n",
    "左括号必须用相同类型的右括号闭合。          \n",
    "左括号必须以正确的顺序闭合。         \n",
    "注意空字符串可被认为是有效字符串。        \n",
    "输入: \"()[]{}\"          \n",
    "输出: true        \n",
    "输入: \"(]\"             \n",
    "输出: false"
   ]
  },
  {
   "cell_type": "code",
   "execution_count": 42,
   "metadata": {},
   "outputs": [],
   "source": [
    "class Solution:\n",
    "    def isValid(self, s):\n",
    "        dic = {'{': '}',  '[': ']', '(': ')', '?': '?'}\n",
    "        stack = ['?']\n",
    "        for c in s:\n",
    "            if c in dic: \n",
    "                stack.append(c)\n",
    "                print(stack)\n",
    "            elif dic[stack.pop()] != c: \n",
    "                return False \n",
    "        return len(stack) == 1"
   ]
  },
  {
   "cell_type": "code",
   "execution_count": 45,
   "metadata": {},
   "outputs": [
    {
     "name": "stdout",
     "output_type": "stream",
     "text": [
      "['?', '(']\n",
      "['?', '(', '{']\n",
      "['?', '(', '{', '[']\n"
     ]
    },
    {
     "data": {
      "text/plain": [
       "True"
      ]
     },
     "execution_count": 45,
     "metadata": {},
     "output_type": "execute_result"
    }
   ],
   "source": [
    "s=Solution()\n",
    "s.isValid('({[]})') #这里是必须括号就近成队"
   ]
  },
  {
   "cell_type": "markdown",
   "metadata": {},
   "source": [
    "155.最小栈\n",
    "设计一个支持 push，pop，top 操作，并能在常数时间内检索到最小元素的栈。\n",
    "push(x) -- 将元素 x 推入栈中。\n",
    "pop() -- 删除栈顶的元素。\n",
    "top() -- 获取栈顶元素。\n",
    "getMin() -- 检索栈中的最小元素。"
   ]
  },
  {
   "cell_type": "code",
   "execution_count": 1,
   "metadata": {},
   "outputs": [],
   "source": [
    "class MinStack:\n",
    "\n",
    "    # 辅助栈和数据栈同步，这样子辅助栈和数据栈就是一样的元素\n",
    "    # 思路简单不容易出错\n",
    "\n",
    "    def __init__(self):\n",
    "        # 数据栈\n",
    "        self.data = []\n",
    "        # 辅助栈\n",
    "        self.helper = []\n",
    "\n",
    "    def push(self, x):\n",
    "        self.data.append(x)\n",
    "        if len(self.helper) == 0 or x <= self.helper[-1]:\n",
    "            self.helper.append(x)\n",
    "        else:\n",
    "            self.helper.append(self.helper[-1])\n",
    "\n",
    "    def pop(self):\n",
    "        if self.data:\n",
    "            self.helper.pop() #删除最后进入的数据\n",
    "            return self.data.pop()\n",
    "\n",
    "    def top(self):\n",
    "        if self.data:\n",
    "            return self.data[-1]  \n",
    "\n",
    "    def getMin(self):\n",
    "        if self.helper:\n",
    "            return self.helper[-1]"
   ]
  },
  {
   "cell_type": "code",
   "execution_count": 2,
   "metadata": {},
   "outputs": [
    {
     "data": {
      "text/plain": [
       "[[], [-2], [0], [-3], [], [], [], []]"
      ]
     },
     "execution_count": 2,
     "metadata": {},
     "output_type": "execute_result"
    }
   ],
   "source": [
    "#测试用例\n",
    "[\"MinStack\",\"push\",\"push\",\"push\",\"getMin\",\"pop\",\"top\",\"getMin\"]\n",
    "[[],[-2],[0],[-3],[],[],[],[]]"
   ]
  },
  {
   "cell_type": "markdown",
   "metadata": {},
   "source": [
    "225.用队列实现栈            \n",
    "使用队列实现栈的下列操作：\n",
    "\n",
    "push(x) -- 元素 x 入栈            \n",
    "pop() -- 移除栈顶元素                \n",
    "top() -- 获取栈顶元素              \n",
    "empty() -- 返回栈是否为空                  \n",
    "\n",
    "注意:\n",
    "你只能使用队列的基本操作-- 也就是 push to back, peek/pop from front, size, 和 is empty 这些操作是合法的。\n",
    "你所使用的语言也许不支持队列。 你可以使用 list 或者 deque（双端队列）来模拟一个队列 , 只要是标准的队列操作即可。\n",
    "你可以假设所有操作都是有效的（例如, 对一个空的栈不会调用 pop 或者 top 操作）。"
   ]
  },
  {
   "cell_type": "code",
   "execution_count": 1,
   "metadata": {},
   "outputs": [],
   "source": [
    "import collections\n",
    "class MyStack:\n",
    "    def __init__(self):\n",
    "        self.stack = collections.deque() #调的包\n",
    "\n",
    "    def push(self, x):\n",
    "        self.stack.append(x)\n",
    "\n",
    "    def pop(self):\n",
    "        for i in range(len(self.stack)-1):\n",
    "            self.stack.append(self.stack.popleft()) #每次push进去之后进行一次反转\n",
    "        return self.stack.popleft()\n",
    "        '''\n",
    "        入栈存入到队列queue\n",
    "        节点1入栈：queue：1\n",
    "        反转队列0次：queue：1\n",
    "        节点2入栈queue：1->2\n",
    "        反转队列1次：\n",
    "        queue：1->2 --> queue：2->1\n",
    "        节点2入栈queue：2->1->3\n",
    "        反转队列2次：\n",
    "        queue：2->1->3 ---> queue：1->3->2 ---> queue：3->2->1\n",
    "        '''\n",
    "\n",
    "    def top(self) :\n",
    "        tmp = self.pop()\n",
    "        self.stack.append(tmp)\n",
    "        return tmp\n",
    "\n",
    "    def empty(self) :\n",
    "        return not self.stack"
   ]
  },
  {
   "cell_type": "markdown",
   "metadata": {},
   "source": [
    "232.用栈实现队列        \n",
    "使用栈实现队列的下列操作：              \n",
    "push(x) -- 将一个元素放入队列的尾部。                \n",
    "pop() -- 从队列首部移除元素。                 \n",
    "peek() -- 返回队列首部的元素。             \n",
    "empty() -- 返回队列是否为空。            "
   ]
  },
  {
   "cell_type": "code",
   "execution_count": 2,
   "metadata": {},
   "outputs": [],
   "source": [
    "class MyQueue:\n",
    "\n",
    "    def __init__(self):\n",
    "        \"\"\"\n",
    "        Initialize your data structure here.\n",
    "        \"\"\"\n",
    "        self.stack1 = []\n",
    "        self.stack2 = []\n",
    "\n",
    "    def push(self, x):\n",
    "        \"\"\"\n",
    "        Push element x to the back of queue.\n",
    "        \"\"\"\n",
    "        # 两个栈倒，新来的元素总是在栈底（队尾进）\n",
    "        if self.stack1 == None:\n",
    "            self.stack1.append(x)\n",
    "        else:\n",
    "            while self.stack1:\n",
    "                self.stack2.append(self.stack1.pop(-1))\n",
    "            self.stack1.append(x)\n",
    "            while self.stack2:\n",
    "                self.stack1.append(self.stack2.pop(-1))\n",
    "\n",
    "    def pop(self):\n",
    "        \"\"\"\n",
    "        Removes the element from in front of queue and returns that element.\n",
    "        \"\"\"\n",
    "        # 直接弹出，因为本来就是队头出\n",
    "        return self.stack1.pop()\n",
    "\n",
    "    def peek(self):\n",
    "        \"\"\"\n",
    "        Get the front element.\n",
    "        \"\"\"\n",
    "        if self.stack1:\n",
    "            return self.stack1[-1]\n",
    "        \n",
    "    def empty(self) :\n",
    "        \"\"\"\n",
    "        Returns whether the queue is empty.\n",
    "        \"\"\"\n",
    "        # 因为队列１存储了所有元素，所以只需要判断队列１\n",
    "        return len(self.stack1) == 0"
   ]
  },
  {
   "cell_type": "markdown",
   "metadata": {},
   "source": [
    "496.下一个更大的元素         \n",
    "给定两个没有重复元素的数组 nums1 和 nums2 ，其中nums1 是 nums2 的子集。找到 nums1 中每个元素在 nums2 中的下一个比其大的值。\n",
    "nums1 中数字 x 的下一个更大元素是指 x 在 nums2 中对应位置的右边的第一个比 x 大的元素。如果不存在，对应位置输出-1。        \n",
    "输入: nums1 = [4,1,2], nums2 = [1,3,4,2].             \n",
    "输出: [-1,3,-1]"
   ]
  },
  {
   "cell_type": "code",
   "execution_count": 14,
   "metadata": {},
   "outputs": [],
   "source": [
    "class Solution:\n",
    "    def nextGreaterElement(self, nums1, nums2) :\n",
    "        stack, hashmap = [],{}\n",
    "        print(stack)\n",
    "        print(hashmap)\n",
    "        for i in nums2:\n",
    "            print('i=',i)\n",
    "            print(stack)\n",
    "            while len(stack) != 0 and stack[-1] < i:\n",
    "                hashmap[stack.pop()] = i #做成字典来进行后面的查找\n",
    "            stack.append(i)\n",
    "            print(hashmap,stack)\n",
    "        return [hashmap.get(i,-1) for i in nums1]  #如果有值，就直接调过来，如果没有，就直接用-1进行代替\n"
   ]
  },
  {
   "cell_type": "code",
   "execution_count": 17,
   "metadata": {},
   "outputs": [
    {
     "name": "stdout",
     "output_type": "stream",
     "text": [
      "[]\n",
      "{}\n",
      "i= 1\n",
      "[]\n",
      "{} [1]\n",
      "i= 4\n",
      "[1]\n",
      "{1: 4} [4]\n",
      "i= 2\n",
      "[4]\n",
      "{1: 4} [4, 2]\n",
      "i= 4\n",
      "[4, 2]\n",
      "{1: 4, 2: 4} [4, 4]\n"
     ]
    },
    {
     "data": {
      "text/plain": [
       "[-1, 4, -1]"
      ]
     },
     "execution_count": 17,
     "metadata": {},
     "output_type": "execute_result"
    }
   ],
   "source": [
    "s=Solution()\n",
    "num1=[4,2,3]\n",
    "num2=[1,4,2,4]\n",
    "s.nextGreaterElement(num1,num2)"
   ]
  },
  {
   "cell_type": "code",
   "execution_count": 20,
   "metadata": {},
   "outputs": [],
   "source": [
    "class Solution(object):\n",
    "    def nextGreaterElement(self, findNums, nums):\n",
    "        res=[]\n",
    "        for i in range(len(findNums)): #遍历num1\n",
    "            flag=1\n",
    "            max1=-9999\n",
    "            for j in range(len(nums)): #遍历num2\n",
    "                if findNums[i]==nums[j]:  #当值相等时\n",
    "                    for k in range(j,len(nums)): #num2后面的值做成一个列表\n",
    "                        if nums[k]>nums[j]:  \n",
    "                            max1=nums[k]\n",
    "                            break  #如果找到，就跳出\n",
    "                    break #如果没找到，也跳出\n",
    "            if max1<findNums[i]: #先执行\n",
    "                flag=0\n",
    "            if flag==1: #再执行，\n",
    "                res.append(max1)\n",
    "            else :\n",
    "                res.append(-1)\n",
    "        return res"
   ]
  },
  {
   "cell_type": "code",
   "execution_count": 21,
   "metadata": {},
   "outputs": [
    {
     "name": "stdout",
     "output_type": "stream",
     "text": [
      "[-1, 3, 4]\n"
     ]
    }
   ],
   "source": [
    "s=Solution()\n",
    "print(s.nextGreaterElement([4,2,3],[1,2,3,4]))"
   ]
  },
  {
   "cell_type": "markdown",
   "metadata": {},
   "source": [
    "682. 棒球比赛                  \n",
    "你现在是棒球比赛记录员。                 \n",
    "给定一个字符串列表，每个字符串可以是以下四种类型之一：            \n",
    " - 1. 整数（一轮的得分）：直接表示您在本轮中获得的积分数。            \n",
    " - 2. \"+\"（一轮的得分）：表示本轮获得的得分是前两轮有效 回合得分的总和。            \n",
    " - 3. \"D\"（一轮的得分）：表示本轮获得的得分是前一轮有效 回合得分的两倍。             \n",
    " - 4. \"C\"（一个操作，这不是一个回合的分数）：表示您获得的最后一个有效 回合的分数是无效的，应该被移除。            \n",
    "\n",
    "每一轮的操作都是永久性的，可能会对前一轮和后一轮产生影响。                 \n",
    "你需要返回你在所有回合中得分的总和。              \n",
    "\n",
    "输入: [\"5\",\"2\",\"C\",\"D\",\"+\"]              \n",
    "输出: 30              \n",
    "解释:             \n",
    "第1轮：你可以得到5分。总和是：5。          \n",
    "第2轮：你可以得到2分。总和是：7。            \n",
    "操作1：第2轮的数据无效。总和是：5。             \n",
    "第3轮：你可以得到10分（第2轮的数据已被删除）。总数是：15。              \n",
    "第4轮：你可以得到5 + 10 = 15分。总数是：30。         "
   ]
  },
  {
   "cell_type": "code",
   "execution_count": 22,
   "metadata": {},
   "outputs": [],
   "source": [
    "class Solution(object):\n",
    "    def calPoints(self, ops):\n",
    "        \"\"\"\n",
    "        :type ops: List[str]\n",
    "        :rtype: int\n",
    "        \"\"\"\n",
    "        stack = []\n",
    "        for op in ops:\n",
    "            if op == '+':\n",
    "                stack.append(stack[-1] + stack[-2])\n",
    "            elif op == 'C':\n",
    "                stack.pop()\n",
    "            elif op == 'D':\n",
    "                stack.append(2 * stack[-1])\n",
    "            else:\n",
    "                stack.append(int(op))\n",
    "\n",
    "        return sum(stack)"
   ]
  },
  {
   "cell_type": "code",
   "execution_count": 24,
   "metadata": {},
   "outputs": [
    {
     "data": {
      "text/plain": [
       "34"
      ]
     },
     "execution_count": 24,
     "metadata": {},
     "output_type": "execute_result"
    }
   ],
   "source": [
    "s=Solution()\n",
    "s.calPoints([1,2,3,'D',4,'C',5,6,'+'])"
   ]
  },
  {
   "cell_type": "markdown",
   "metadata": {},
   "source": [
    "844. 比较含退格的字符串              \n",
    "给定 S 和 T 两个字符串，当它们分别被输入到空白的文本编辑器后，判断二者是否相等，并返回结果。 # 代表退格字符。\n",
    "\n",
    "输入：S = \"ab#c\", T = \"ad#c\"              \n",
    "输出：true          \n",
    "解释：S 和 T 都会变成 “ac”。             "
   ]
  },
  {
   "cell_type": "code",
   "execution_count": 27,
   "metadata": {},
   "outputs": [],
   "source": [
    "class Solution(object):\n",
    "    def backspaceCompare(self, S, T):\n",
    "        \"\"\"\n",
    "        :type S: str\n",
    "        :type T: str\n",
    "        :rtype: bool\n",
    "        \"\"\"\n",
    "        s = \"\" #设定成字符串\n",
    "        t = \"\"\n",
    "        #将输入S翻译成s\n",
    "        for i in S:\n",
    "            if i == \"#\":\n",
    "                if s:\n",
    "                    s = s[:-1] #自身到倒数第二个元素\n",
    "            else:\n",
    "                s = s + i #加上元素i\n",
    "        print(s)\n",
    "        #将输入T翻译成t\n",
    "        for j in T:\n",
    "            if j == \"#\":\n",
    "                if t:\n",
    "                    t = t[:-1]\n",
    "            else:\n",
    "                t = t + j\n",
    "        print(t)\n",
    "        return s==t"
   ]
  },
  {
   "cell_type": "code",
   "execution_count": 28,
   "metadata": {},
   "outputs": [
    {
     "name": "stdout",
     "output_type": "stream",
     "text": [
      "a\n",
      "a\n"
     ]
    },
    {
     "data": {
      "text/plain": [
       "True"
      ]
     },
     "execution_count": 28,
     "metadata": {},
     "output_type": "execute_result"
    }
   ],
   "source": [
    "s=Solution()\n",
    "s.backspaceCompare('ab#','ab#')"
   ]
  },
  {
   "cell_type": "markdown",
   "metadata": {},
   "source": [
    "1021. 删除最外层的括号         \n",
    "有效括号字符串为空 (\"\")、\"(\" + A + \")\" 或 A + B，其中 A 和 B 都是有效的括号字符串，+ 代表字符串的连接。例如，\"\"，\"()\"，\"(())()\" 和 \"(()(()))\" 都是有效的括号字符串。             \n",
    "如果有效字符串 S 非空，且不存在将其拆分为 S = A+B 的方法，我们称其为原语（primitive），其中 A 和 B 都是非空有效括号字符串。 \n",
    "给出一个非空有效字符串 S，考虑将其进行原语化分解，使得：S = P_1 + P_2 + ... + P_k，其中 P_i 是有效括号字符串原语。       \n",
    "对 S 进行原语化分解，删除分解中每个原语字符串的最外层括号，返回 S 。\n",
    "\n",
    "示例 1：              \n",
    "输入：\"(()())(())\"         \n",
    "输出：\"()()()\"        \n",
    "解释：              \n",
    "输入字符串为 \"(()())(())\"，原语化分解得到 \"(()())\" + \"(())\"，         \n",
    "删除每个部分中的最外层括号后得到 \"()()\" + \"()\" = \"()()()\"。            \n",
    "示例 2                      \n",
    "输入：\"()()\"           \n",
    "输出：\"\"           \n",
    "解释：             \n",
    "输入字符串为 \"()()\"，原语化分解得到 \"()\" + \"()\"，            \n",
    "删除每个部分中的最外层括号后得到 \"\" + \"\" = \"\"。           "
   ]
  },
  {
   "cell_type": "code",
   "execution_count": 1,
   "metadata": {},
   "outputs": [
    {
     "data": {
      "text/plain": [
       "'\\nsome_separator.join([a, b, c]),       \\nyou get,                    \\na + some_separator + b + some_separator + c.           \\n'"
      ]
     },
     "execution_count": 1,
     "metadata": {},
     "output_type": "execute_result"
    }
   ],
   "source": [
    "class Solution(object):\n",
    "    def removeOuterParentheses(self, S):\n",
    "        \"\"\"\n",
    "        :type S: str\n",
    "        :rtype: str\n",
    "        \"\"\"\n",
    "        mark = 0\n",
    "        stack = []\n",
    "        for s in S:\n",
    "            if s == '(':\n",
    "                if mark != 0:\n",
    "                    stack.append(s)\n",
    "                mark += 1\n",
    "            if s == ')':\n",
    "                mark -= 1\n",
    "                if mark != 0:\n",
    "                    stack.append(s)\n",
    "        #return ''.join(stack)  #所以这一句是把stack整合，而不是单一一个一个的元素\n",
    "        return stack\n",
    "'''\n",
    "some_separator.join([a, b, c]),       \n",
    "you get,                    \n",
    "a + some_separator + b + some_separator + c.           \n",
    "'''"
   ]
  },
  {
   "cell_type": "code",
   "execution_count": 2,
   "metadata": {},
   "outputs": [
    {
     "data": {
      "text/plain": [
       "['(', '(', ')', ')']"
      ]
     },
     "execution_count": 2,
     "metadata": {},
     "output_type": "execute_result"
    }
   ],
   "source": [
    "s=Solution()\n",
    "s.removeOuterParentheses('((()))')"
   ]
  },
  {
   "cell_type": "markdown",
   "metadata": {},
   "source": [
    "1047. 删除字符串中的所有相邻重复项            \n",
    "给出由<font color='red'>小写字母</font>组成的字符串 S，重复项删除操作会选择两个相邻且相同的字母，并删除它们。\n",
    "在 S 上反复执行重复项删除操作，直到无法继续删除。\n",
    "在完成所有重复项删除操作后返回最终的字符串。答案保证唯一\n",
    "\n",
    "示例：        \n",
    "输入：\"abbaca\"         \n",
    "输出：\"ca\"          \n",
    "解释：         \n",
    "例如，在 \"abbaca\" 中，我们可以删除 \"bb\" 由于两字母相邻且相同，这是此时唯一可以执行删除操作的重复项。之后我们得到字符串 \"aaca\"，其中又只有 \"aa\" 可以执行重复项删除操作，所以最后的字符串为 \"ca\"。           \n",
    "\n"
   ]
  },
  {
   "cell_type": "code",
   "execution_count": 34,
   "metadata": {},
   "outputs": [],
   "source": [
    "class Solution(object):\n",
    "    def removeDuplicates(self, S):\n",
    "        \"\"\"\n",
    "        :type S: str\n",
    "        :rtype: str\n",
    "        \"\"\"\n",
    "        stack = []\n",
    "        for i in S:\n",
    "            if stack and stack[-1] == i:\n",
    "                stack.pop()\n",
    "            else:\n",
    "                stack.append(i)\n",
    "        return ''.join(stack)\n"
   ]
  },
  {
   "cell_type": "code",
   "execution_count": 38,
   "metadata": {},
   "outputs": [
    {
     "data": {
      "text/plain": [
       "'ca'"
      ]
     },
     "execution_count": 38,
     "metadata": {},
     "output_type": "execute_result"
    }
   ],
   "source": [
    "s=Solution()\n",
    "s.removeDuplicates('abbaca')"
   ]
  },
  {
   "cell_type": "code",
   "execution_count": null,
   "metadata": {},
   "outputs": [],
   "source": []
  }
 ],
 "metadata": {
  "kernelspec": {
   "display_name": "Python 3",
   "language": "python",
   "name": "python3"
  },
  "language_info": {
   "codemirror_mode": {
    "name": "ipython",
    "version": 3
   },
   "file_extension": ".py",
   "mimetype": "text/x-python",
   "name": "python",
   "nbconvert_exporter": "python",
   "pygments_lexer": "ipython3",
   "version": "3.7.3"
  }
 },
 "nbformat": 4,
 "nbformat_minor": 2
}
