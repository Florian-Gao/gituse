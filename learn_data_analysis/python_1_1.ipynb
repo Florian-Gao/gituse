{
 "cells": [
  {
   "cell_type": "markdown",
   "metadata": {},
   "source": [
    "# python_1\n",
    "## day_1 and day_2"
   ]
  },
  {
   "cell_type": "markdown",
   "metadata": {},
   "source": [
    "### 浮点数不精确"
   ]
  },
  {
   "cell_type": "code",
   "execution_count": 2,
   "metadata": {},
   "outputs": [],
   "source": [
    "# 小数转换成二进制小数\n",
    "# 规则：小数位*2  ，得到结果取整数位，一直取  ，从上到下\n",
    "# 0.1  *2=  0.2---------0\n",
    "# 0.2  *2=  0.4---------0\n",
    "# 0.4  *2=  0.8---------0\n",
    "# 0.8  *2=  1.6---------1\n",
    "# 0.6  *2=  1.2---------1\n",
    "# 0.2  *2=  0.4---------0\n",
    "#...."
   ]
  },
  {
   "cell_type": "code",
   "execution_count": 3,
   "metadata": {},
   "outputs": [
    {
     "name": "stdout",
     "output_type": "stream",
     "text": [
      "5e+20\n",
      "0.1\n",
      "0.30000000000000004\n"
     ]
    }
   ],
   "source": [
    "\n",
    "# 注意\n",
    "#1. 尽量避免数量级相差很大的浮点之间进行计算\n",
    "f1=5e20\n",
    "f2=1\n",
    "print(f1+f2)\n",
    "\n",
    "#2.尽量避免等量运算\n",
    "# 浮点数不精确\n",
    "f1=0.1\n",
    "f2=0.2\n",
    "print(f1)\n",
    "print(f1+f2)"
   ]
  },
  {
   "cell_type": "code",
   "execution_count": 4,
   "metadata": {},
   "outputs": [
    {
     "name": "stdout",
     "output_type": "stream",
     "text": [
      "0.1000000000000000055511151231257827021181583404541015625\n",
      "0.200000000000000011102230246251565404236316680908203125\n",
      "False\n"
     ]
    }
   ],
   "source": [
    "# 解决浮点数的不精确性\n",
    "# 使用  decimal模块\n",
    "import decimal\n",
    "# decimal.Decimal(value)  显示value的真正值\n",
    "x=decimal.Decimal(0.1)\n",
    "y=decimal.Decimal(0.2)\n",
    "print(x)\n",
    "print(y)\n",
    "print(x+y==0.3)"
   ]
  },
  {
   "cell_type": "code",
   "execution_count": 5,
   "metadata": {},
   "outputs": [
    {
     "name": "stdout",
     "output_type": "stream",
     "text": [
      "0.1 0.2\n",
      "0.3\n",
      "False\n",
      "True\n"
     ]
    }
   ],
   "source": [
    "x=decimal.Decimal(\"0.1\") #用字符串就比较准确，小数本身就不准确\n",
    "y=decimal.Decimal(\"0.2\")\n",
    "z=decimal.Decimal(\"0.3\")\n",
    "print(x,y)\n",
    "print(x+y)\n",
    "print(x+y==0.3)\n",
    "print(x+y==z)"
   ]
  },
  {
   "cell_type": "code",
   "execution_count": 6,
   "metadata": {},
   "outputs": [
    {
     "name": "stdout",
     "output_type": "stream",
     "text": [
      "Infinity\n",
      "NaN\n",
      "Infinity\n",
      "NaN\n"
     ]
    }
   ],
   "source": [
    "# 使用decimal让特殊的浮点类型显示原型\n",
    "# 跟特殊的浮点类型做运算，仍然得到inf 和nan\n",
    "print(decimal.Decimal(\"inf\"))\n",
    "print(decimal.Decimal(\"nan\"))\n",
    "print(decimal.Decimal(\"inf\")+1)\n",
    "print(decimal.Decimal(\"nan\")+1)"
   ]
  },
  {
   "cell_type": "code",
   "execution_count": 7,
   "metadata": {},
   "outputs": [
    {
     "name": "stdout",
     "output_type": "stream",
     "text": [
      "0.25\n"
     ]
    }
   ],
   "source": [
    "# 0.25\n",
    "# 0.25 *2=0.5   ---0\n",
    "# 0.5 *2 =1.0   ---1\n",
    "# 0.0 *2 =0     ---0\n",
    "# 0.01\n",
    "print(decimal.Decimal(0.25)) #本身0.25就是精确的"
   ]
  },
  {
   "cell_type": "code",
   "execution_count": 19,
   "metadata": {},
   "outputs": [
    {
     "name": "stdout",
     "output_type": "stream",
     "text": [
      "0.1000000000000000055511151231257827021181583404541015625\n",
      "False\n",
      "0.30\n",
      "3.1\n",
      "1.3000000000000000444089209850062616169452667236328125\n",
      "1.1999999999999999555910790149937383830547332763671875\n"
     ]
    }
   ],
   "source": [
    "# 4.\t使用Decimal类计算，输入两个浮点类型，再输入需要保留的有效数字，计算相加结果\n",
    "f1=0.1\n",
    "import decimal\n",
    "print(decimal.Decimal(f1))\n",
    "# 准确的计算，只能使用字符串\n",
    "x=decimal.Decimal(\"0.1\")\n",
    "y=decimal.Decimal(\"0.2\")\n",
    "print(x+y==0.3)\n",
    "\n",
    "# 保留有效数字使用上下文\n",
    "c=decimal.getcontext()\n",
    "c.prec=2\n",
    "print(decimal.Decimal(0.1)+decimal.Decimal(0.2))\n",
    "print(decimal.Decimal(1.9)+decimal.Decimal(1.2))\n",
    "print(decimal.Decimal(1.3))\n",
    "print(decimal.Decimal(1.2))"
   ]
  },
  {
   "cell_type": "code",
   "execution_count": 21,
   "metadata": {},
   "outputs": [
    {
     "name": "stdout",
     "output_type": "stream",
     "text": [
      "1.0\n",
      "-1.0\n"
     ]
    }
   ],
   "source": [
    "import math\n",
    "print(math.fmod(10,3))\n",
    "print(math.fmod(-10,3))  #如果用%，只有正数才一样，负数就不一样，  \n",
    "#   % 取模运算一直向下取整"
   ]
  },
  {
   "cell_type": "code",
   "execution_count": 9,
   "metadata": {},
   "outputs": [
    {
     "name": "stdout",
     "output_type": "stream",
     "text": [
      "123\n",
      "456.789\n",
      "Hello, world\n",
      "Hello, 'Adam'\n",
      "Hello, \"Bart\"\n",
      "Hello,\n",
      "Lisa!\n"
     ]
    }
   ],
   "source": [
    "# 13.\t请打印出以下变量的值：\n",
    "n = 123\n",
    "f = 456.789\n",
    "s1 = 'Hello, world'\n",
    "s2 = 'Hello, \\'Adam\\''\n",
    "s3 = r'Hello, \"Bart\"' #r可以防止转义\n",
    "s4 = r'''Hello,\n",
    "Lisa!'''\n",
    "\n",
    "print(n,f,s1,s2,s3,s4,sep=\"\\n\")"
   ]
  },
  {
   "cell_type": "code",
   "execution_count": 12,
   "metadata": {},
   "outputs": [
    {
     "name": "stdout",
     "output_type": "stream",
     "text": [
      "65 66\n",
      "False\n"
     ]
    }
   ],
   "source": [
    "a=\"ABC\"\n",
    "b=\"BCD\"\n",
    "print(ord(\"A\"),ord(\"B\"))  #ord返回ASSIC码\n",
    "print(a>b)"
   ]
  },
  {
   "cell_type": "code",
   "execution_count": 14,
   "metadata": {},
   "outputs": [
    {
     "name": "stdout",
     "output_type": "stream",
     "text": [
      "1abc2abc3\n",
      "1 2 3\n"
     ]
    }
   ],
   "source": [
    "s=\"abc\"\n",
    "print(s.join(\"123\"))\n",
    "# 应用上经常是将列表转成字符串\n",
    "print(\" \".join([\"1\",\"2\",\"3\"]))"
   ]
  },
  {
   "cell_type": "code",
   "execution_count": 18,
   "metadata": {},
   "outputs": [
    {
     "name": "stdout",
     "output_type": "stream",
     "text": [
      "False\n",
      "True\n",
      "True\n",
      "False\n"
     ]
    }
   ],
   "source": [
    "#(9)startswith\n",
    "s=\"abcdefg\"\n",
    "# startswith(指定开头的元素，起始位置，结束位置)\n",
    "# 返回值布尔类型 True False\n",
    "print(s.startswith(\"b\"))\n",
    "print(s.startswith(\"a\"))\n",
    "#(10)endswith：判断是否以指定字符结尾\n",
    "print(s.endswith(\"fg\"))\n",
    "print(s.endswith(\"fg\",1,5))"
   ]
  },
  {
   "cell_type": "code",
   "execution_count": 1,
   "metadata": {},
   "outputs": [
    {
     "name": "stdout",
     "output_type": "stream",
     "text": [
      "('ab', 'cd', 'ef')\n",
      "('ab', 'c', 'def')\n",
      "('abcdef', '', '')\n",
      "('', 'a', 'bcdef')\n",
      "abcdef\n",
      "['ab', 'def']\n"
     ]
    }
   ],
   "source": [
    "#(12)partition\n",
    "# 返回值是一个元组\n",
    "# 元组包含三个元素（参数之前的内容，参数本身，参数之后的内容）\n",
    "s=\"abcdef\"\n",
    "print(s.partition(\"cd\"))\n",
    "print(s.partition(\"c\"))\n",
    "print(s.partition(\"g\"))\n",
    "print(s.partition(\"a\"))\n",
    "\n",
    " #(13) split #会把选中的删掉\n",
    "print(s.split('c'))"
   ]
  },
  {
   "cell_type": "code",
   "execution_count": 24,
   "metadata": {},
   "outputs": [
    {
     "name": "stdout",
     "output_type": "stream",
     "text": [
      "Help on method_descriptor:\n",
      "\n",
      "partition(self, sep, /)\n",
      "    Partition the string into three parts using the given separator.\n",
      "    \n",
      "    This will search for the separator in the string.  If the separator is found,\n",
      "    returns a 3-tuple containing the part before the separator, the separator\n",
      "    itself, and the part after it.\n",
      "    \n",
      "    If the separator is not found, returns a 3-tuple containing the original string\n",
      "    and two empty strings.\n",
      "\n"
     ]
    }
   ],
   "source": [
    "help(str.partition)"
   ]
  },
  {
   "cell_type": "code",
   "execution_count": null,
   "metadata": {},
   "outputs": [],
   "source": []
  }
 ],
 "metadata": {
  "kernelspec": {
   "display_name": "Python 3",
   "language": "python",
   "name": "python3"
  },
  "language_info": {
   "codemirror_mode": {
    "name": "ipython",
    "version": 3
   },
   "file_extension": ".py",
   "mimetype": "text/x-python",
   "name": "python",
   "nbconvert_exporter": "python",
   "pygments_lexer": "ipython3",
   "version": "3.7.3"
  }
 },
 "nbformat": 4,
 "nbformat_minor": 2
}
