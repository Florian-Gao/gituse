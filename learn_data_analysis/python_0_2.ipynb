{
 "cells": [
  {
   "cell_type": "markdown",
   "metadata": {},
   "source": [
    "# stage0\n",
    "## day3 and day4"
   ]
  },
  {
   "cell_type": "markdown",
   "metadata": {},
   "source": [
    "### 运算符"
   ]
  },
  {
   "cell_type": "code",
   "execution_count": 2,
   "metadata": {},
   "outputs": [
    {
     "name": "stdout",
     "output_type": "stream",
     "text": [
      "<class 'str'>\n"
     ]
    }
   ],
   "source": [
    "print(type(bin(32))) #这是字符串，0b101"
   ]
  },
  {
   "cell_type": "code",
   "execution_count": 3,
   "metadata": {},
   "outputs": [
    {
     "name": "stdout",
     "output_type": "stream",
     "text": [
      "309\n",
      "0o465\n",
      "0x135\n"
     ]
    }
   ],
   "source": [
    "#将二进制100110101转换成10进制，8进制和16进制，使用手工计算，并使用数值方法验证。\n",
    "#1*2^8+1*2^5+1*2^4+1*2^2+1=309\n",
    "print(0b100110101)\n",
    "print(oct(0b100110101))\n",
    "print(hex(309))"
   ]
  },
  {
   "cell_type": "code",
   "execution_count": 8,
   "metadata": {},
   "outputs": [
    {
     "name": "stdout",
     "output_type": "stream",
     "text": [
      "3\n",
      "-4\n",
      "3\n",
      "-3\n",
      "1\n"
     ]
    }
   ],
   "source": [
    "# //取整   向下取整\n",
    "print(10 // 3)\n",
    "print(-10 // 3)\n",
    "# int的取整是向0取整，相当于直接舍掉小数点。\n",
    "print(int(3.3333))\n",
    "print(int(-3.3333))\n",
    "#取模\n",
    "print(10 % 3) "
   ]
  },
  {
   "cell_type": "markdown",
   "metadata": {},
   "source": [
    "### 比较运算符（关系运算符） 返回bool型\n",
    "返回值：布尔类型（True  False）\n",
    "==   !=或<>   <  <=   >  >=  "
   ]
  },
  {
   "cell_type": "markdown",
   "metadata": {},
   "source": [
    "### 身份运算符\n",
    "返回值：布尔类型\n",
    "is   is not       \n",
    "比较的是内存地址是否是一个（比较的是否是同一个对象）       \n",
    "id()内置函数：能够显示当前值的内存地址"
   ]
  },
  {
   "cell_type": "code",
   "execution_count": 20,
   "metadata": {},
   "outputs": [
    {
     "name": "stdout",
     "output_type": "stream",
     "text": [
      "ddd\n",
      "None\n"
     ]
    }
   ],
   "source": [
    "# 逻辑运算符的短路现象\n",
    "# 如果是and 操作符，如果第一个表达式为假，那么后面的表达式不执行\n",
    "# 如果是or 操作符，如果第一个表达式为真，那么后面的表达式不执行\n"
   ]
  },
  {
   "cell_type": "markdown",
   "metadata": {},
   "source": [
    "### 位运算\n",
    "对于正数：原码反码补码都是一样的，都是原码            \n",
    "对于负数：           \n",
    "原码：正数的二进制，最高位取1             \n",
    "反码：除符号位以为，其余取反            \n",
    "补码：反码+1        "
   ]
  },
  {
   "cell_type": "code",
   "execution_count": 28,
   "metadata": {},
   "outputs": [
    {
     "name": "stdout",
     "output_type": "stream",
     "text": [
      "0b11011\n",
      "-0b11011\n",
      "0b11100101\n"
     ]
    }
   ],
   "source": [
    "print(bin(27))\n",
    "print(bin(-27))\n",
    "print(bin(-27&0b11111111))\n",
    "# 结论，任何数跟相同位数的1取与，得到自身（正数，得到的是自己，如果是负数，得到的是自身的补码）"
   ]
  },
  {
   "cell_type": "code",
   "execution_count": 23,
   "metadata": {},
   "outputs": [
    {
     "data": {
      "text/plain": [
       "'\\n# -3+（ -4）\\n# 1101   -3补码\\n# 1100   -4补码\\n#11001   1001   补码 最高位是1，说明是负数\\n\\n# 补码变回原码：反码+1\\n    #    1110+1 1111   -7\\n\\n# -1（+）3\\n# 1111\\n# 0011\\n#10010    0010补码 最高位是0，说明是正数\\n            # 原码=补码=2\\n'"
      ]
     },
     "execution_count": 23,
     "metadata": {},
     "output_type": "execute_result"
    }
   ],
   "source": [
    "#计算机中存的都是补码\n",
    "\n",
    "#计算机中所有运算，全部以补码形式进行运算\n",
    "\n",
    "'''\n",
    "# -3+（ -4）\n",
    "# 1101   -3补码\n",
    "# 1100   -4补码\n",
    "#11001   1001   补码 最高位是1，说明是负数\n",
    "\n",
    "# 补码变回原码：反码+1\n",
    "    #    1110+1 1111   -7\n",
    "\n",
    "# -1（+）3\n",
    "# 1111\n",
    "# 0011\n",
    "#10010    0010补码 最高位是0，说明是正数\n",
    "            # 原码=补码=2\n",
    "'''"
   ]
  },
  {
   "cell_type": "markdown",
   "metadata": {},
   "source": [
    "#### 位运算\n",
    "\n",
    "& 按位与   ：两个数都1的时候，结果为1，如果有一个为0，结果为0             \n",
    "| 按位或   : 只要有一个为1，结果就为1          \n",
    "^ 按位异或 : 1^0  或者0^1  结果为1 ，如果两个数一样，结果为0       \n",
    "~ 按位取反 : 包括符号位都取反         "
   ]
  },
  {
   "cell_type": "markdown",
   "metadata": {},
   "source": [
    "#### 赋值运算符         \n",
    "= 、 +=  、-=、*= 、/=  、%=、**=         "
   ]
  },
  {
   "cell_type": "markdown",
   "metadata": {},
   "source": [
    "#### 成员运算符\n",
    "判断但是元素是否在一个序列里。返回布尔类型             \n",
    "in        \n",
    "not in         \n",
    "'''        \n",
    "a=\"abc\"        \n",
    "print(\"a\" in a)         \n",
    "'''"
   ]
  },
  {
   "cell_type": "markdown",
   "metadata": {},
   "source": [
    "#### 运算符的优先级\n",
    "算数运算符>  比较运算符 >逻辑运算符  >其他运算符  >  赋值运算符          \n",
    "()调整优先级，没有[]  也没有{}         \n",
    "计算机中的运算符，做运算的时候 ，体现的是结合性，不是运算性            \n",
    "\n",
    "\n",
    "print(\"aaa\") or print(\"bbb\")"
   ]
  },
  {
   "cell_type": "markdown",
   "metadata": {},
   "source": [
    "## 字符串"
   ]
  },
  {
   "cell_type": "markdown",
   "metadata": {},
   "source": [
    "####  \\续行符，代码如果过长，可以使用续行符\n"
   ]
  },
  {
   "cell_type": "code",
   "execution_count": 34,
   "metadata": {},
   "outputs": [
    {
     "name": "stdout",
     "output_type": "stream",
     "text": [
      "hello 'world'\n",
      "aaa\tbbbb\n",
      "\\\n",
      "我是一个兵来自老百姓\n",
      "我是一个兵\n",
      "来自老百姓\n"
     ]
    }
   ],
   "source": [
    "#字符的转义\n",
    "# \\，在要转义的字符前面，加\\, 意味着对特殊字符进行转义\n",
    "a=\"hello \\\"world\\\"\"\n",
    "a='hello \\'world\\''\n",
    "print(a)\n",
    "\n",
    "# 换行\\n\n",
    "b=\"nnnn\\n\"\n",
    "\n",
    "# \\t 制表符\n",
    "print(\"aaa\\tbbbb\")\n",
    "\n",
    "# \\可以转义：\"  '  \\\n",
    "c=\"\\\\\"\n",
    "print(c)\n",
    "\n",
    "i=\"我是一个兵\" \\\n",
    "  \"来自老百姓\"\n",
    "print(i)\n",
    "\n",
    "i=\"我是一个兵\\n\" \\\n",
    "  \"来自老百姓\"\n",
    "print(i)"
   ]
  },
  {
   "cell_type": "code",
   "execution_count": 36,
   "metadata": {},
   "outputs": [
    {
     "name": "stdout",
     "output_type": "stream",
     "text": [
      "True\n",
      "True\n",
      "False\n"
     ]
    }
   ],
   "source": [
    "# 字符串的比较，按照元素的顺序，依次比较。\n",
    "#字符串相当于元组，不可修改\n",
    "print(\"abc\"<\"bcd\")\n",
    "print(\"abcrrr\"<\"bcd\")\n",
    "print(\"cbcrrr\"<\"bcd\")"
   ]
  },
  {
   "cell_type": "markdown",
   "metadata": {},
   "source": [
    "## 字符串的相关方法"
   ]
  },
  {
   "cell_type": "code",
   "execution_count": 39,
   "metadata": {},
   "outputs": [
    {
     "name": "stdout",
     "output_type": "stream",
     "text": [
      "0\n"
     ]
    }
   ],
   "source": [
    "# （1）count: 统计某一个字符在字符串中的数量\n",
    "# count(x,start,end)  包含start，不包含end\n",
    "s='qwert'\n",
    "print(s.count(\"a\",1,3))"
   ]
  },
  {
   "cell_type": "code",
   "execution_count": 41,
   "metadata": {},
   "outputs": [
    {
     "name": "stdout",
     "output_type": "stream",
     "text": [
      "4\n"
     ]
    }
   ],
   "source": [
    "#index 返回查找子串的位置，查找子串第一次出现的位置\n",
    "# index 查找子串不存在的时候，会报错。\n",
    "s=\"abcdabcd\"\n",
    "# s.index(sub,start,end)\n",
    "print(s.index('a',1))"
   ]
  },
  {
   "cell_type": "code",
   "execution_count": 43,
   "metadata": {},
   "outputs": [],
   "source": [
    "#find，跟index差不多，但是如果找不到子串，会返回-1"
   ]
  },
  {
   "cell_type": "code",
   "execution_count": 45,
   "metadata": {},
   "outputs": [
    {
     "name": "stdout",
     "output_type": "stream",
     "text": [
      "1-2-3\n"
     ]
    }
   ],
   "source": [
    "#join, 将序列中的每一个元素，使用字符串拼接起来\n",
    "s=\"123\"\n",
    "b=\"-\"\n",
    "c=\"\"\n",
    "d=\" \"\n",
    "print(b.join(s))"
   ]
  },
  {
   "cell_type": "code",
   "execution_count": 47,
   "metadata": {},
   "outputs": [
    {
     "name": "stdout",
     "output_type": "stream",
     "text": [
      "ab99ab99\n"
     ]
    }
   ],
   "source": [
    "#replace:对字符串中字符进行替换，会新创建一个字符串存储。\n",
    "# s.replace(old,new,count)\n",
    "# old: 查找的字符串\n",
    "# new: 要替换成的字符串\n",
    "# count:要替换的次数，如果不写，会全部替换\n",
    "# 如果指定替换次数，会从左到右的顺序进行替换。\n",
    "# 替换次数如果大于实际的存在次数，不会报错，只会按照最多的次数进行替换\n",
    "s=\"abcdabcd\"\n",
    "print(s.replace(\"cd\",\"99\"))"
   ]
  },
  {
   "cell_type": "code",
   "execution_count": 73,
   "metadata": {},
   "outputs": [
    {
     "name": "stdout",
     "output_type": "stream",
     "text": [
      "abcd abcd\n",
      "abcd abcd\n",
      "bcdabcddadad\n",
      "bcdabc\n",
      "cdabcddadad \n",
      "\n",
      "bcdabcddadad\n",
      "abcdabc\n",
      "bcdabcddadad\n"
     ]
    }
   ],
   "source": [
    "#strip 剪切，按照传入的参数，去掉两端的对应字符串。\n",
    "# 剪切的时候是按照剪切字符的所有单个字符进行的剪切。会从两端寻找，一直剪切到不符合需求的字符为止。\n",
    "s=\" abcd abcd  \"\n",
    "# strip(char)  char如果不写，默认是空格\n",
    "print(s.strip(\" \"))\n",
    "print(s.strip())\n",
    "s=\"abcdabcddadad\"\n",
    "print(s.strip(\"a\"))\n",
    "print(s.strip(\"ad\"))\n",
    "print(s.strip(\"ab\"),'\\n')\n",
    "# 左剪切和右剪切\n",
    "print(s.lstrip(\"ad\"))\n",
    "print(s.rstrip(\"ad\"))\n",
    "\n",
    "print(s.strip('ac'))"
   ]
  },
  {
   "cell_type": "code",
   "execution_count": 59,
   "metadata": {},
   "outputs": [
    {
     "name": "stdout",
     "output_type": "stream",
     "text": [
      "['abc', 'ef', 'ad', 'daf', 'd']\n",
      "['abc', 'ef', 'ad', 'daf', 'd']\n",
      "['abc', 'efda', 'af', 'dd']\n",
      "['abc', 'efda', 'af', 'dd']\n",
      "['abc', 'efdagafgdd']\n",
      "['abc', 'efda', 'af', 'dd']\n",
      "abcgefdagafgdd\n"
     ]
    }
   ],
   "source": [
    "#split  切割：切割的字符被切割后就没有了\n",
    "# 返回值是列表类型\n",
    "s=\"abc ef ad daf d\"\n",
    "# s.split(sep ,max)\n",
    "# sep:  切割的字符，如果不写，默认按照空格切割\n",
    "# max:代表最大的切割次数\n",
    "print(s.split())\n",
    "print(s.split(\" \"))\n",
    "s=\"abcgefdagafgdd\"\n",
    "x=s.split(\"g\")\n",
    "print(s.split(\"g\"))\n",
    "print(x)\n",
    "print(s.split(\"g\",1))\n",
    "print(s.split(\"g\",10))\n",
    "print(s)\n",
    "# 对字符串的所有操作都不会原地（修改原字符串）去做，都会新创建字符串。"
   ]
  },
  {
   "cell_type": "code",
   "execution_count": 61,
   "metadata": {},
   "outputs": [
    {
     "name": "stdout",
     "output_type": "stream",
     "text": [
      "ABCD\n",
      "abcd\n",
      "aacc\n",
      "AACC\n"
     ]
    }
   ],
   "source": [
    "#upper和lower\n",
    "s=\"abcd\"\n",
    "s1=\"ABCD\"\n",
    "s2=\"AAcc\"\n",
    "print(s.upper())\n",
    "print(s1.lower())\n",
    "print(s2.lower())\n",
    "print(s2.upper())"
   ]
  },
  {
   "cell_type": "code",
   "execution_count": 63,
   "metadata": {},
   "outputs": [
    {
     "name": "stdout",
     "output_type": "stream",
     "text": [
      "Abcd\n",
      "False\n",
      "True\n",
      "False\n",
      "False\n",
      "True\n",
      "True\n",
      "**hello***\n",
      "*hell\n"
     ]
    }
   ],
   "source": [
    "s=\"abcd\"\n",
    "# (9) capitalize首字母大写\n",
    "print(s.capitalize())\n",
    "\n",
    "# (10) isdigit 判断字符串中是否都是数字\n",
    "s=\"123a\"\n",
    "print(s.isdigit())\n",
    "\n",
    "#（11）isalpha 判断字符串中是否都是字符（包含中文和英文字符）\n",
    "s=\"abc汉字\"\n",
    "print(s.isalpha())\n",
    "\n",
    "#（12） isidentifierd判断字符串这是否是合法的标识符（变量名）\n",
    "s=\"1a1\"\n",
    "print(s.isidentifier())\n",
    "\n",
    "#（13）  islower  isupper  isspace\n",
    "s=\"aaa\"\n",
    "print(s.isupper())\n",
    "print(s.islower())\n",
    "print(\" \".isspace())\n",
    "\n",
    "#（14）center 向两端填充字符\n",
    "# 如果原字符串是奇数，那么填充的时候，从右侧开始填充\n",
    "# 如果原字符串是偶数，那么填充时候，从左侧开始填充\n",
    "x=\"hello\"\n",
    "# print(x.center(width,fillchar))\n",
    "# width填充完毕之后的宽度\n",
    "# fillchar是填充的字符\n",
    "print(x.center(10,\"*\"))\n",
    "#\n",
    "#  *\n",
    "# ***\n",
    "y=\"hell\"\n",
    "print(y.center(5,\"*\"))\n"
   ]
  },
  {
   "cell_type": "code",
   "execution_count": null,
   "metadata": {},
   "outputs": [],
   "source": []
  },
  {
   "cell_type": "code",
   "execution_count": null,
   "metadata": {},
   "outputs": [],
   "source": []
  },
  {
   "cell_type": "code",
   "execution_count": 37,
   "metadata": {},
   "outputs": [
    {
     "name": "stdout",
     "output_type": "stream",
     "text": [
      "98\n"
     ]
    }
   ],
   "source": [
    "b=b\"abcdabcd\"\n",
    "print(b[1])"
   ]
  },
  {
   "cell_type": "markdown",
   "metadata": {},
   "source": [
    "### 字节"
   ]
  },
  {
   "cell_type": "code",
   "execution_count": 64,
   "metadata": {},
   "outputs": [
    {
     "name": "stdout",
     "output_type": "stream",
     "text": [
      "<class 'bytes'>\n"
     ]
    }
   ],
   "source": [
    "\"\"\"\n",
    "字节 bytes\n",
    "字节是以系列单字节的组合，每一个单字节都是[0,255]（无符号）范围内元素\n",
    "单字节：一个字节8个数据位\n",
    "\"\"\"\n",
    "# 1. 字节的创建\n",
    "b=b\"abc\"\n",
    "# c=b\"汉字\" # 一个字节只有8个数据位，最多存储255种不同的内容，所以不能存汉字\n",
    "print(type(b))"
   ]
  },
  {
   "cell_type": "code",
   "execution_count": 66,
   "metadata": {},
   "outputs": [
    {
     "name": "stdout",
     "output_type": "stream",
     "text": [
      "b'abcd'\n",
      "b'abcabc'\n",
      "True\n",
      "True\n",
      "True\n",
      "True\n",
      "98\n",
      "100\n",
      "b'bc'\n",
      "b'b'\n",
      "b'abcdabc'\n"
     ]
    }
   ],
   "source": [
    "# 2. 字节的操作：运算符、索引、切片\n",
    "# （1）运算符  +  *  in  not in  is  is not   < >  ==\n",
    "print(b\"ab\"+b\"cd\")\n",
    "print(b\"abc\"*2)\n",
    "print(b\"b\" in b\"abc\")\n",
    "print(b\"abc\" is b\"abc\")\n",
    "print(b\"abc\"==b\"abc\")\n",
    "print(b\"abc\"<b\"bcd\")\n",
    "\n",
    "#（2）索引: 字节的索引显示的是ascii码\n",
    "b=b\"abcdabcd\"\n",
    "print(b[1])\n",
    "print(b[-1])\n",
    "# print(b[100])\n",
    "# b[1]=b\"n\"  字节也不能被修改\n",
    "\n",
    "# （3）切片：显示的字节\n",
    "print(b[1:3])\n",
    "print(b[1:2])\n",
    "print(b[0:-1])\n",
    "# print(b[1:1])\n"
   ]
  },
  {
   "cell_type": "markdown",
   "metadata": {},
   "source": [
    "## 格式化"
   ]
  },
  {
   "cell_type": "code",
   "execution_count": 67,
   "metadata": {},
   "outputs": [
    {
     "name": "stdout",
     "output_type": "stream",
     "text": [
      "hello world1\n",
      "hello world 1\n",
      "hello world 1 2\n",
      "hello world 1, java ,python, 2\n",
      "hello world 1, java ,python, 2,tom\n",
      "hello world 2, java ,python, 1,tom\n",
      "<class 'str'> <class 'str'>\n",
      "0 1\n"
     ]
    }
   ],
   "source": [
    "#输出内部插值\n",
    "str(1)\n",
    "print(\"hello world\"+str(1))\n",
    "# 将数字格式化成字符串\n",
    "# 两种方式： %     format\n",
    "\n",
    "# 1. %\n",
    "# %s 相当于执行了str（）\n",
    "print(\"hello world %s\" % 1)\n",
    "print(\"hello world %s %s\" % (1,2))\n",
    "\n",
    "# 2. format\n",
    "# 调用字符串下的format方法\n",
    "print(\"hello world {}, java ,python, {}\".format(1,2))\n",
    "print(\"hello world {}, java ,python, {},{}\".format(1,2,\"tom\"))\n",
    "print(\"hello world {1}, java ,python, {0},{2}\".format(1,2,\"tom\"))\n",
    "\n",
    "s1=\"\"\n",
    "s2=\" \"\n",
    "print(type(s1),type(s2))\n",
    "print(len(s1),len(s2))"
   ]
  },
  {
   "cell_type": "code",
   "execution_count": 68,
   "metadata": {},
   "outputs": [],
   "source": [
    "# 4.\n",
    "# 这是一个地址，http: // news.gzcc.cn / html / 2017 / xiaoyuanxinwen_1027 / 8443.html\n",
    "# 其中1027 / 8443\n",
    "# 是新闻编号，想办法获得新闻编号。至少两种方法。\n",
    "def que4():\n",
    "    news=\"http: // news.gzcc.cn / html / 2017 / xiaoyuanxinwen_1027 / 8443.html\"\n",
    "    # (1)去空格\n",
    "    news=news.replace(\" \",\"\")\n",
    "    print(news)\n",
    "    #（2）方式1：\n",
    "    print(news[-14:-5])\n",
    "    #     方式2：\n",
    "    print(news.strip(\".html\")[-9:])\n",
    "    #    方式3：\n",
    "    print(news.split(\".html\")[0].split(\"_\")[1])"
   ]
  },
  {
   "cell_type": "code",
   "execution_count": 76,
   "metadata": {},
   "outputs": [
    {
     "name": "stdin",
     "output_type": "stream",
     "text": [
      "请输入一种水果 pinguo \n"
     ]
    },
    {
     "name": "stdout",
     "output_type": "stream",
     "text": [
      "吃pinguo 不吐pinguo 皮，不吃pinguo 倒吐pinguo 皮\n",
      "28\n",
      "pinguo \n",
      "pinguo \n",
      "pinguo \n",
      "4\n"
     ]
    }
   ],
   "source": [
    "# 5.\n",
    "# 做如下练习：\n",
    "# # 1.输入一种水果，如葡萄\n",
    "# # 2.打印类似“吃葡萄不吐葡萄皮，不吃葡萄倒吐葡萄皮”的效果\n",
    "# # 3.使用切片，切出自己输入的水果\n",
    "# # 4.使用strip，剪切到自己输入的水果\n",
    "# # 5.统计打印的的文本中，水果出现的次数\n",
    "fruit=input(\"请输入一种水果\")\n",
    "s=\"吃{}不吐{}皮，不吃{}倒吐{}皮\".format(fruit,fruit,fruit,fruit)\n",
    "print(s)\n",
    "print(s.index('倒吐'))\n",
    "print(s[s.index(\"倒吐\")+2:-1])\n",
    "print(s[1:len(fruit)+1])\n",
    "\n",
    "#吃火龙果不吐火龙果皮，不吃火龙果倒吐火龙果皮\n",
    "print(s.strip(\"吃皮不吐\"+fruit).strip(\"，不吃倒\"))\n",
    "\n",
    "print(s.count(fruit))"
   ]
  },
  {
   "cell_type": "code",
   "execution_count": null,
   "metadata": {},
   "outputs": [],
   "source": []
  }
 ],
 "metadata": {
  "kernelspec": {
   "display_name": "Python 3",
   "language": "python",
   "name": "python3"
  },
  "language_info": {
   "codemirror_mode": {
    "name": "ipython",
    "version": 3
   },
   "file_extension": ".py",
   "mimetype": "text/x-python",
   "name": "python",
   "nbconvert_exporter": "python",
   "pygments_lexer": "ipython3",
   "version": "3.7.3"
  }
 },
 "nbformat": 4,
 "nbformat_minor": 2
}
