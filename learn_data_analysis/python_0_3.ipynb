{
 "cells": [
  {
   "cell_type": "markdown",
   "metadata": {},
   "source": [
    "# stage0\n",
    "## day5 and day6"
   ]
  },
  {
   "cell_type": "code",
   "execution_count": 2,
   "metadata": {},
   "outputs": [
    {
     "name": "stdout",
     "output_type": "stream",
     "text": [
      "['30', '50', '60', '90', '52.2']\n",
      "-1.1111111111111112,10.0,15.555555555555555,32.22222222222222,11.222222222222223\n"
     ]
    }
   ],
   "source": [
    "# 4.s=\"30,50,60,90,52.2\",代表华氏温度，转换成摄氏度\n",
    "# 摄氏度=（华氏温度-32）/1.8\n",
    "# 仍然以字符串的形式显示。\n",
    "s=\"30,50,60,90,52.2\"\n",
    "\"\"\"\n",
    "(1)先屡清楚思路(不 一定是所有的步骤)\n",
    "(2)写\n",
    "\"\"\"\n",
    "\"\"\"\n",
    "（1）从字符串中获得温度 split 列表\n",
    "（2）应用公式\n",
    "（3）把单个的元素拼回字符串  +\",\"\n",
    "（4）把最后一个逗号去掉\n",
    "\"\"\"\n",
    "print(s.split(\",\"))\n",
    "t=s.split(\",\")\n",
    "a=\"\"\n",
    "for i in t:\n",
    "    a+=\"{},\".format((float(i) - 32) / 1.8)\n",
    "b=a.rstrip(\",\")\n",
    "print(b)\n"
   ]
  },
  {
   "cell_type": "code",
   "execution_count": 8,
   "metadata": {},
   "outputs": [
    {
     "name": "stdin",
     "output_type": "stream",
     "text": [
      "请输入一个数 123\n"
     ]
    },
    {
     "name": "stdout",
     "output_type": "stream",
     "text": [
      "<class 'str'>\n",
      "不是回文数\n"
     ]
    }
   ],
   "source": [
    "# 3.一个5位数，判断它是不是回文数。即12321是回文数，个位与万位相同，十位与千位相同。\n",
    "\"\"\"\n",
    "1. input\n",
    "2. 判断第i位置跟-1-i的位置元素是否相同\n",
    "   判断不是回文数比判断是回文数要简单，所以条件“不是回文数”的情况\n",
    "3. 如果不是回文数，使用break结束for\n",
    "4. 设置标志位，如果不是回文数，那么标志位仍然保持True，则在程序最后输出是回文数。\n",
    "\"\"\"\n",
    "def ques3():\n",
    "    a=input(\"请输入一个数\")\n",
    "    # 12321\n",
    "    tag=True\n",
    "    for i in range(int(len(a)/2)):\n",
    "        # if a[0]   a[-1]\n",
    "        # if a[1]   a[-1-1]\n",
    "        # if a[2]   a[-1-2]\n",
    "        print(type(a))# 输入的是一个字符串\n",
    "        if a[i]!=a[-1-i]:\n",
    "            print(\"不是回文数\")\n",
    "            tag=False\n",
    "            break\n",
    "    if tag:\n",
    "        print(\"是回文数\")\n",
    "ques3()"
   ]
  },
  {
   "cell_type": "code",
   "execution_count": 12,
   "metadata": {},
   "outputs": [
    {
     "name": "stdout",
     "output_type": "stream",
     "text": [
      "True\n",
      "False\n",
      "4361174024 4356269512\n",
      "4301759904 4301759904\n"
     ]
    }
   ],
   "source": [
    "a=[1,2,3]\n",
    "a1=[1,2,3]\n",
    "print(a == a1) #最后指的数字地址一致，但是其列表地址不同\n",
    "print(a  is  a1)\n",
    "print(id(a),id(a1))   #id不一致\n",
    "print(id(a[0]),id(a1[0])) #id一致"
   ]
  },
  {
   "cell_type": "code",
   "execution_count": 14,
   "metadata": {},
   "outputs": [
    {
     "name": "stdout",
     "output_type": "stream",
     "text": [
      "[9, 5, 2, 1]\n",
      "[1, 2, 5, 9]\n"
     ]
    }
   ],
   "source": [
    "# 练习：使得列表中的元素逆序\n",
    "#12321\n",
    "li=[1,2,5,9]\n",
    "for i  in range(int(len(li)/2)):\n",
    "    li[i],li[-1-i]=li[-1-i],li[i]\n",
    "print(li)\n",
    "\n",
    "# step:方向 格式li[start:end:step]\n",
    "print(li[::-1])"
   ]
  },
  {
   "cell_type": "code",
   "execution_count": 24,
   "metadata": {},
   "outputs": [
    {
     "name": "stdout",
     "output_type": "stream",
     "text": [
      "4304111688 4304111688\n",
      "4361386632 4360714952\n"
     ]
    }
   ],
   "source": [
    "# 整切片：\n",
    "a=\"abc\" #str整切片相同\n",
    "print(id(a),id(a[:]))\n",
    "li=[1,2,5,9]\n",
    "# 对于列表可变类型来说，整切片是新创建的对象。\n",
    "print(id(li),id(li[:]))\n"
   ]
  },
  {
   "cell_type": "code",
   "execution_count": 27,
   "metadata": {},
   "outputs": [
    {
     "name": "stdout",
     "output_type": "stream",
     "text": [
      "['A', 'B', 'new', 'C', 'D', 1]\n",
      "['A', 'B', 'C', 'D', 1]\n",
      "2\n"
     ]
    }
   ],
   "source": [
    "# 三、列表的相关方法\n",
    "# 1. 添加、删除\n",
    "li=[\"A\",\"B\",\"C\",\"D\"]\n",
    "li.append(1)\n",
    "li.insert(2,\"new\")\n",
    "print(li)\n",
    "# pop(index): 删除指定位置index的元素，一次只能删除一个元素\n",
    "li.pop(2)\n",
    "print(li)\n",
    "#remove  删除指定内容的元素，一次只能删除一个元素，原地修改\n",
    "# 如果元素不存在也会报错。\n",
    "li.remove(\"A\")\n",
    "#2. 检索、统计\n",
    "# li.index(要查找的元素，起始位置，终止位置)  返回元素所在的位置\n",
    "print(li.index(\"D\"))\n",
    "print(li.count(\"C\"))"
   ]
  },
  {
   "cell_type": "code",
   "execution_count": 29,
   "metadata": {},
   "outputs": [
    {
     "name": "stdout",
     "output_type": "stream",
     "text": [
      "['aa', 'cc', 'dd', 'ee', 'ff']\n",
      "['ff', 'ee', 'dd', 'cc', 'aa']\n",
      "['ff', 'ee', 'dd', 'cc', 'aa']\n",
      "['aa', 'cc', 'dd', 'ee', 'ff']\n"
     ]
    }
   ],
   "source": [
    "#4. 排序sort: 默认按照升序reverse=False : 原地排序\n",
    "li=[\"aa\",\"cc\",\"ff\",\"dd\",\"ee\"]\n",
    "li.sort()\n",
    "print(li)\n",
    "# 如果希望降序：\n",
    "#（1） 先sort，再reverse\n",
    "li=[\"aa\",\"cc\",\"ff\",\"dd\",\"ee\"]\n",
    "li.sort()\n",
    "li.reverse()\n",
    "print(li)\n",
    "\n",
    "#（2）使用sort中的reverse关键字\n",
    "li=[\"aa\",\"cc\",\"ff\",\"dd\",\"ee\"]\n",
    "li.sort(reverse=True)\n",
    "print(li)\n",
    "\n",
    "#sorted,是内建函数中 新建列表进行排序，结果在函数的返回值中\n",
    "li=[\"aa\",\"cc\",\"ff\",\"dd\",\"ee\"]\n",
    "print(sorted(li))"
   ]
  },
  {
   "cell_type": "code",
   "execution_count": 32,
   "metadata": {},
   "outputs": [
    {
     "name": "stdout",
     "output_type": "stream",
     "text": [
      "True\n",
      "['new', 2, 3, [4, 5]] ['new', 2, 3, [4, 5]]\n",
      "['new', 2, 3, ['new1', 5]] ['new', 2, 3, ['new1', 5]]\n",
      "4361358088 4361358088 4361359176\n",
      "4361359048 4361356616\n",
      "4361349448 4361359240\n",
      "['new', 2, 3, [4, 5]] [1, 2, 3, [4, 5]]\n",
      "['new', 2, 3, ['new1', 5]] [1, 2, 3, ['new1', 5]]\n",
      "4361359048 4361358856\n",
      "['new', 2, 3, [4, 5]] [1, 2, 3, [4, 5]]\n",
      "['new', 2, 3, ['new1', 5]] [1, 2, 3, ['new1', 5]]\n"
     ]
    }
   ],
   "source": [
    "# 5. 列表的复制\n",
    "# # 赋值、 切片、列表下的copy、 深拷贝\n",
    "# （1）赋值\n",
    "a=[1,2,3,[4,5]]\n",
    "b=a\n",
    "print(b is a)\n",
    "# 对a中的元素进行修改\n",
    "a[0]=\"new\"\n",
    "print(a,b)\n",
    "a[3][0]=\"new1\"\n",
    "print(a,b)\n",
    "\n",
    "#对于新建的c来说，不可变类型（数值、字符串）来使用的是一片内存，\n",
    "# 对于可变类型来说，是新建的内存\n",
    "c=[1,2,3,[4,5]]\n",
    "print(id(a),id(b),id(c))\n",
    "print(id(a[3]),id(c[3]))\n",
    "\n",
    "\n",
    "#2.切片 : 属于浅拷贝，只负责拷贝第一层对象，\n",
    "# 无论是可变类型还是不可变类型，均不拷贝。\n",
    "a=[1,2,3,[4,5]]\n",
    "b=a[:] #浅拷贝，只拷贝第一层\n",
    "print(id(a),id(b))\n",
    "a[0]=\"new\"\n",
    "print(a,b)\n",
    "a[3][0]=\"new1\"\n",
    "print(a,b)\n",
    "\n",
    "# 3.copy方法，新创建b，同切片，都属于浅拷贝\n",
    "a=[1,2,3,[4,5]]\n",
    "b=a.copy()\n",
    "print(id(a),id(b))\n",
    "a[0]=\"new\"\n",
    "print(a,b)\n",
    "a[3][0]=\"new1\"\n",
    "print(a,b)\n"
   ]
  },
  {
   "cell_type": "markdown",
   "metadata": {},
   "source": [
    "### 元组"
   ]
  },
  {
   "cell_type": "code",
   "execution_count": 19,
   "metadata": {},
   "outputs": [
    {
     "name": "stdout",
     "output_type": "stream",
     "text": [
      "<class 'tuple'>\n"
     ]
    }
   ],
   "source": [
    "t1=(1,2,3)\n",
    "print(type(t1))"
   ]
  },
  {
   "cell_type": "code",
   "execution_count": 18,
   "metadata": {},
   "outputs": [
    {
     "name": "stdout",
     "output_type": "stream",
     "text": [
      "(1, 2, 3, 4)\n",
      "(1, 2, 1, 2, 1, 2)\n",
      "True\n",
      "False\n"
     ]
    }
   ],
   "source": [
    "print((1,2)+(3,4))\n",
    "print((1,2)*3)\n",
    "print(1 in (1,3))\n",
    "print(5 in (1,3,(5,6)))"
   ]
  },
  {
   "cell_type": "code",
   "execution_count": 23,
   "metadata": {},
   "outputs": [
    {
     "name": "stdout",
     "output_type": "stream",
     "text": [
      "(1,)\n",
      "<class 'tuple'>\n",
      "[1]\n",
      "['new', 'a', 'b', 3]\n"
     ]
    }
   ],
   "source": [
    "b=(1,)\n",
    "print(b)\n",
    "print(type(b))\n",
    "print([1,])\n",
    "li=[1,2,3]\n",
    "li[0:2]=[\"new\",\"a\",\"b\"]\n",
    "print(li)"
   ]
  },
  {
   "cell_type": "code",
   "execution_count": 33,
   "metadata": {},
   "outputs": [],
   "source": [
    "a=(1,2,3)\n",
    "d=a[:]  # 元组的整切片，是原来的对象，不是新创建的对象，跟列表不同，跟字符串相同"
   ]
  },
  {
   "cell_type": "code",
   "execution_count": 34,
   "metadata": {},
   "outputs": [
    {
     "name": "stdout",
     "output_type": "stream",
     "text": [
      "(1, 2, ['new', 4])\n"
     ]
    }
   ],
   "source": [
    "#元组的元素不能被修改：如果元素是不可变类型，就不能改，如果是可变类型，那么可以修改\n",
    "# 可变类型内部的元素\n",
    "t1=(1,2,[3,4])\n",
    "# t1[2]=\"new\"\n",
    "t1[2][0]=\"new\"\n",
    "print(t1)"
   ]
  },
  {
   "cell_type": "code",
   "execution_count": 35,
   "metadata": {},
   "outputs": [],
   "source": [
    "a=a[:1]+(\"new\",)+a[2:]  #拼接要加逗号"
   ]
  },
  {
   "cell_type": "code",
   "execution_count": 37,
   "metadata": {},
   "outputs": [
    {
     "name": "stdout",
     "output_type": "stream",
     "text": [
      "Apple\n",
      "Google\n",
      "Microsoft\n",
      "Java\n",
      "Python\n",
      "Ruby\n",
      "PHP\n",
      "Adam\n",
      "Bart\n",
      "Lisa\n"
     ]
    }
   ],
   "source": [
    "L = [\n",
    "    ['Apple', 'Google', 'Microsoft'],\n",
    "    ['Java', 'Python', 'Ruby', 'PHP'],\n",
    "    ['Adam', 'Bart', 'Lisa']\n",
    "    ]\n",
    "# print(L[1][0])\n",
    "for i  in L:\n",
    "    #print(i)\n",
    "    for j in i:\n",
    "        print(j)"
   ]
  },
  {
   "cell_type": "code",
   "execution_count": 39,
   "metadata": {},
   "outputs": [
    {
     "name": "stdin",
     "output_type": "stream",
     "text": [
      "输入年 100\n",
      "输入月 12\n",
      "输入日 1\n"
     ]
    },
    {
     "name": "stdout",
     "output_type": "stream",
     "text": [
      "335\n"
     ]
    }
   ],
   "source": [
    "# 输入某年某月某日，判断这一天是这一年的第几天？\n",
    "# 程序分析：以3月5日为例，应该先把前两个月的加起来，\n",
    "# 然后再加上5天即本年的第几天，特殊情况，闰年且输入月份大于2时需考虑多加一天：\n",
    "def que3():\n",
    "    year=int(input(\"输入年\"))\n",
    "    month=int(input(\"输入月\"))\n",
    "    day=int(input(\"输入日\"))\n",
    "    months=[0,31,28,31,30,31,30,31,31,30,31,30,31]\n",
    "    sums=0\n",
    "    if 0<month<=12:\n",
    "        for i in range(month):\n",
    "            sums+=months[i]\n",
    "        sums+=day\n",
    "\n",
    "    # 闰年\n",
    "    # if year%400 or year%4==0 and year%100!=0:\n",
    "    if month>2 and year%4==0 and year%100!=0 or year%400==0:\n",
    "        sums+=1\n",
    "    print(sums)\n",
    "que3()"
   ]
  },
  {
   "cell_type": "code",
   "execution_count": 48,
   "metadata": {},
   "outputs": [
    {
     "name": "stdin",
     "output_type": "stream",
     "text": [
      "请输入每位是什么： 2\n",
      "请输入最大的数字是多少位: 3\n"
     ]
    },
    {
     "name": "stdout",
     "output_type": "stream",
     "text": [
      "1\n",
      "2\n",
      "2\n",
      "22\n",
      "3\n",
      "222\n",
      "[2, 22, 222]\n",
      "246\n"
     ]
    }
   ],
   "source": [
    "# 7.\n",
    "# 题目：求s = a + aa + aaa + aaaa + aa...a的值\n",
    "# 其中a是一个数字。例如2 + 22 + 222 + 2222 + 22222\n",
    "# (此时共有5个数相加)，几个数相加由键盘控制。\n",
    "def que7():\n",
    "    a=input(\"请输入每位是什么：\")\n",
    "    n=int(input(\"请输入最大的数字是多少位:\"))\n",
    "    L=[]\n",
    "    for i in range(1,n+1):\n",
    "        print(i)\n",
    "        num=int(a*i) #注意这里a，i是字符串，而不是数字\n",
    "        print(num)\n",
    "        L.append(num)\n",
    "    print(L)\n",
    "    s=0\n",
    "    for j in L:\n",
    "       s+=j\n",
    "    print(s)\n",
    "que7()"
   ]
  },
  {
   "cell_type": "code",
   "execution_count": 46,
   "metadata": {},
   "outputs": [
    {
     "name": "stdout",
     "output_type": "stream",
     "text": [
      "4\n"
     ]
    }
   ],
   "source": [
    "print(int(2*2))"
   ]
  },
  {
   "cell_type": "markdown",
   "metadata": {},
   "source": [
    "## 字典"
   ]
  },
  {
   "cell_type": "code",
   "execution_count": 50,
   "metadata": {},
   "outputs": [
    {
     "name": "stdout",
     "output_type": "stream",
     "text": [
      "{'tom': 90, 'jerry': 60, 'kate': 50} <class 'dict'>\n",
      "90\n"
     ]
    }
   ],
   "source": [
    "s={\"tom\":90,\"jerry\":60,\"kate\":50}\n",
    "print(s,type(s))\n",
    "\n",
    "# 字典查询速度快：字典的key会使用hash函数映射成一个hashcode（整数），hashcode指向的是值的地址。\n",
    "# 字典的特点\n",
    "#（1）字典中的键值对是无序存储\n",
    "#（2）字典中的key必须是不可变类型 \n",
    "# 在字典中key要求是不可变类型（字符串、数值、元组（所有元素必须是不可变类型））\n",
    "#（3）字典中的key不能重复\n",
    "\n",
    "# 字典的key和value的访问\n",
    "# 格式: 字典名[key]\n",
    "print(s[\"tom\"])\n",
    "\n",
    "# 2. 字典的操作： 运算符\n",
    "# 不支持+ * >  <\n",
    "# print(s+{\"lucky\":88})"
   ]
  },
  {
   "cell_type": "code",
   "execution_count": 51,
   "metadata": {},
   "outputs": [
    {
     "name": "stdout",
     "output_type": "stream",
     "text": [
      "True\n",
      "False\n",
      "4361489216 4361129632\n",
      "4301762752 4301762752\n"
     ]
    }
   ],
   "source": [
    "# is  ==\n",
    "s1={\"tom\":90,\"jerry\":60,\"kate\":50}\n",
    "s2={\"tom\":90,\"jerry\":60,\"kate\":50}\n",
    "print(s1==s2)\n",
    "print(s1 is s2)\n",
    "print(id(s1),id(s2))\n",
    "print(id(s1[\"tom\"]),id(s2[\"tom\"]))\n"
   ]
  },
  {
   "cell_type": "code",
   "execution_count": 54,
   "metadata": {},
   "outputs": [
    {
     "name": "stdout",
     "output_type": "stream",
     "text": [
      "True\n"
     ]
    }
   ],
   "source": [
    "# in  not in : key是否存在在字典中。\n",
    "print(\"tom\" in s1)\n",
    "#print(90 in s1) 不能直接判断value在不在字典中"
   ]
  },
  {
   "cell_type": "code",
   "execution_count": 55,
   "metadata": {},
   "outputs": [
    {
     "name": "stdout",
     "output_type": "stream",
     "text": [
      "<class 'dict'>\n",
      "{1: None, 2: None, 3: None}\n",
      "{1: 'number', 2: 'number', 3: 'number'}\n",
      "{1: ('one', 'two', 'three'), 2: ('one', 'two', 'three'), 3: ('one', 'two', 'three')}\n"
     ]
    }
   ],
   "source": [
    "# 3. 字典相关方法\n",
    "# （1）创建类别\n",
    "# fromkeys：使用序列中的每一个元素作为key生成字典,value使用统一的值\n",
    "d={}\n",
    "print(type(d))\n",
    "print(d.fromkeys((1,2,3)))\n",
    "print(d.fromkeys((1,2,3),\"number\"))\n",
    "print(d.fromkeys((1,2,3),(\"one\",\"two\",\"three\")))#容易记错\n"
   ]
  },
  {
   "cell_type": "code",
   "execution_count": 56,
   "metadata": {},
   "outputs": [
    {
     "name": "stdout",
     "output_type": "stream",
     "text": [
      "60\n",
      "{'tom': 90, 'kate': 50}\n"
     ]
    }
   ],
   "source": [
    "# （2）删除\n",
    "# pop :删除指定的键值对，同时会返回该键绑定的值\n",
    "s1={\"tom\":90,\"jerry\":60,\"kate\":50}\n",
    "print(s1.pop(\"jerry\"))\n",
    "print(s1)\n",
    "# print(s1.pop(\"aa\"))  # 如果键不存在，会报错\n"
   ]
  },
  {
   "cell_type": "code",
   "execution_count": 57,
   "metadata": {},
   "outputs": [
    {
     "name": "stdout",
     "output_type": "stream",
     "text": [
      "90\n",
      "90\n",
      "None\n",
      "没有这个key！！\n",
      "90\n"
     ]
    }
   ],
   "source": [
    "# （3）获取\n",
    "# get(key)\n",
    "s1={\"tom\":90,\"jerry\":60,\"kate\":50}\n",
    "print(s1.get(\"tom\"))\n",
    "print(s1[\"tom\"])\n",
    "print(s1.get(\"aa\")) # 跟字典[key]方式比起来，\n",
    "# get方法如果key不存在，不会报错，返回None\n",
    "# 使用print的时候，可以指定错误信息\n",
    "# 第一个参数是要查找的key，第二个参数：如果key不存在会返回的值\n",
    "print(s1.get(\"aa\",\"没有这个key！！\"))\n",
    "print(s1.get(\"tom\",\"没有这个key！！\"))"
   ]
  },
  {
   "cell_type": "code",
   "execution_count": 58,
   "metadata": {},
   "outputs": [
    {
     "name": "stdout",
     "output_type": "stream",
     "text": [
      "dict_keys(['tom', 'jerry', 'kate'])\n",
      "tom\n",
      "jerry\n",
      "kate\n",
      "dict_values([90, 60, 50])\n",
      "90\n",
      "60\n",
      "50\n",
      "dict_items([('tom', 90), ('jerry', 60), ('kate', 50)])\n",
      "tom 90\n",
      "jerry 60\n",
      "kate 50\n",
      "('tom', 90)\n",
      "('jerry', 60)\n",
      "('kate', 50)\n",
      "90 tom\n",
      "60 jerry\n",
      "50 kate\n",
      "tom 90\n",
      "jerry 60\n",
      "kate 50\n"
     ]
    }
   ],
   "source": [
    "# 4. 字典的遍历\n",
    "s1={\"tom\":90,\"jerry\":60,\"kate\":50}\n",
    "# （1）返回所有的键\n",
    "print(s1.keys())\n",
    "for i in s1.keys():\n",
    "    print(i)\n",
    "#（2）返回所有的值\n",
    "print(s1.values())\n",
    "for i in s1.values():\n",
    "    print(i)\n",
    "\n",
    "# (3)返回所有的键值对\n",
    "print(s1.items())\n",
    "for k,v in s1.items():\n",
    "    print(k,v)\n",
    "for k in s1.items():\n",
    "    print(k)\n",
    "for t in s1.items():\n",
    "    # print(t[0],t[1])\n",
    "    print(t[1],t[0])\n",
    "for t in s1.keys():\n",
    "    print(t,s1[t])"
   ]
  },
  {
   "cell_type": "code",
   "execution_count": null,
   "metadata": {},
   "outputs": [],
   "source": []
  }
 ],
 "metadata": {
  "kernelspec": {
   "display_name": "Python 3",
   "language": "python",
   "name": "python3"
  },
  "language_info": {
   "codemirror_mode": {
    "name": "ipython",
    "version": 3
   },
   "file_extension": ".py",
   "mimetype": "text/x-python",
   "name": "python",
   "nbconvert_exporter": "python",
   "pygments_lexer": "ipython3",
   "version": "3.7.3"
  }
 },
 "nbformat": 4,
 "nbformat_minor": 2
}
