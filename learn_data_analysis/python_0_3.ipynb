{
 "cells": [
  {
   "cell_type": "markdown",
   "metadata": {},
   "source": [
    "# stage0\n",
    "## day5 and day6"
   ]
  },
  {
   "cell_type": "code",
   "execution_count": 2,
   "metadata": {},
   "outputs": [
    {
     "name": "stdout",
     "output_type": "stream",
     "text": [
      "['30', '50', '60', '90', '52.2']\n",
      "-1.1111111111111112,10.0,15.555555555555555,32.22222222222222,11.222222222222223\n"
     ]
    }
   ],
   "source": [
    "# 4.s=\"30,50,60,90,52.2\",代表华氏温度，转换成摄氏度\n",
    "# 摄氏度=（华氏温度-32）/1.8\n",
    "# 仍然以字符串的形式显示。\n",
    "s=\"30,50,60,90,52.2\"\n",
    "\"\"\"\n",
    "(1)先屡清楚思路(不 一定是所有的步骤)\n",
    "(2)写\n",
    "\"\"\"\n",
    "\"\"\"\n",
    "（1）从字符串中获得温度 split 列表\n",
    "（2）应用公式\n",
    "（3）把单个的元素拼回字符串  +\",\"\n",
    "（4）把最后一个逗号去掉\n",
    "\"\"\"\n",
    "print(s.split(\",\"))\n",
    "t=s.split(\",\")\n",
    "a=\"\"\n",
    "for i in t:\n",
    "    a+=\"{},\".format((float(i) - 32) / 1.8)\n",
    "b=a.rstrip(\",\")\n",
    "print(b)\n"
   ]
  },
  {
   "cell_type": "code",
   "execution_count": 8,
   "metadata": {},
   "outputs": [
    {
     "name": "stdin",
     "output_type": "stream",
     "text": [
      "请输入一个数 123\n"
     ]
    },
    {
     "name": "stdout",
     "output_type": "stream",
     "text": [
      "<class 'str'>\n",
      "不是回文数\n"
     ]
    }
   ],
   "source": [
    "# 3.一个5位数，判断它是不是回文数。即12321是回文数，个位与万位相同，十位与千位相同。\n",
    "\"\"\"\n",
    "1. input\n",
    "2. 判断第i位置跟-1-i的位置元素是否相同\n",
    "   判断不是回文数比判断是回文数要简单，所以条件“不是回文数”的情况\n",
    "3. 如果不是回文数，使用break结束for\n",
    "4. 设置标志位，如果不是回文数，那么标志位仍然保持True，则在程序最后输出是回文数。\n",
    "\"\"\"\n",
    "def ques3():\n",
    "    a=input(\"请输入一个数\")\n",
    "    # 12321\n",
    "    tag=True\n",
    "    for i in range(int(len(a)/2)):\n",
    "        # if a[0]   a[-1]\n",
    "        # if a[1]   a[-1-1]\n",
    "        # if a[2]   a[-1-2]\n",
    "        print(type(a))# 输入的是一个字符串\n",
    "        if a[i]!=a[-1-i]:\n",
    "            print(\"不是回文数\")\n",
    "            tag=False\n",
    "            break\n",
    "    if tag:\n",
    "        print(\"是回文数\")\n",
    "ques3()"
   ]
  },
  {
   "cell_type": "code",
   "execution_count": 12,
   "metadata": {},
   "outputs": [
    {
     "name": "stdout",
     "output_type": "stream",
     "text": [
      "True\n",
      "False\n",
      "4361174024 4356269512\n",
      "4301759904 4301759904\n"
     ]
    }
   ],
   "source": [
    "a=[1,2,3]\n",
    "a1=[1,2,3]\n",
    "print(a == a1) #最后指的数字地址一致，但是其列表地址不同\n",
    "print(a  is  a1)\n",
    "print(id(a),id(a1))   #id不一致\n",
    "print(id(a[0]),id(a1[0])) #id一致"
   ]
  },
  {
   "cell_type": "code",
   "execution_count": 14,
   "metadata": {},
   "outputs": [
    {
     "name": "stdout",
     "output_type": "stream",
     "text": [
      "[9, 5, 2, 1]\n",
      "[1, 2, 5, 9]\n"
     ]
    }
   ],
   "source": [
    "# 练习：使得列表中的元素逆序\n",
    "#12321\n",
    "li=[1,2,5,9]\n",
    "for i  in range(int(len(li)/2)):\n",
    "    li[i],li[-1-i]=li[-1-i],li[i]\n",
    "print(li)\n",
    "\n",
    "# step:方向 格式li[start:end:step]\n",
    "print(li[::-1])"
   ]
  },
  {
   "cell_type": "code",
   "execution_count": 24,
   "metadata": {},
   "outputs": [
    {
     "name": "stdout",
     "output_type": "stream",
     "text": [
      "4304111688 4304111688\n",
      "4361386632 4360714952\n"
     ]
    }
   ],
   "source": [
    "# 整切片：\n",
    "a=\"abc\" #str整切片相同\n",
    "print(id(a),id(a[:]))\n",
    "li=[1,2,5,9]\n",
    "# 对于列表可变类型来说，整切片是新创建的对象。\n",
    "print(id(li),id(li[:]))\n"
   ]
  },
  {
   "cell_type": "code",
   "execution_count": 27,
   "metadata": {},
   "outputs": [
    {
     "name": "stdout",
     "output_type": "stream",
     "text": [
      "['A', 'B', 'new', 'C', 'D', 1]\n",
      "['A', 'B', 'C', 'D', 1]\n",
      "2\n"
     ]
    }
   ],
   "source": [
    "# 三、列表的相关方法\n",
    "# 1. 添加、删除\n",
    "li=[\"A\",\"B\",\"C\",\"D\"]\n",
    "li.append(1)\n",
    "li.insert(2,\"new\")\n",
    "print(li)\n",
    "# pop(index): 删除指定位置index的元素，一次只能删除一个元素\n",
    "li.pop(2)\n",
    "print(li)\n",
    "#remove  删除指定内容的元素，一次只能删除一个元素，原地修改\n",
    "# 如果元素不存在也会报错。\n",
    "li.remove(\"A\")\n",
    "#2. 检索、统计\n",
    "# li.index(要查找的元素，起始位置，终止位置)  返回元素所在的位置\n",
    "print(li.index(\"D\"))\n",
    "print(li.count(\"C\"))"
   ]
  },
  {
   "cell_type": "code",
   "execution_count": 29,
   "metadata": {},
   "outputs": [
    {
     "name": "stdout",
     "output_type": "stream",
     "text": [
      "['aa', 'cc', 'dd', 'ee', 'ff']\n",
      "['ff', 'ee', 'dd', 'cc', 'aa']\n",
      "['ff', 'ee', 'dd', 'cc', 'aa']\n",
      "['aa', 'cc', 'dd', 'ee', 'ff']\n"
     ]
    }
   ],
   "source": [
    "#4. 排序sort: 默认按照升序reverse=False : 原地排序\n",
    "li=[\"aa\",\"cc\",\"ff\",\"dd\",\"ee\"]\n",
    "li.sort()\n",
    "print(li)\n",
    "# 如果希望降序：\n",
    "#（1） 先sort，再reverse\n",
    "li=[\"aa\",\"cc\",\"ff\",\"dd\",\"ee\"]\n",
    "li.sort()\n",
    "li.reverse()\n",
    "print(li)\n",
    "\n",
    "#（2）使用sort中的reverse关键字\n",
    "li=[\"aa\",\"cc\",\"ff\",\"dd\",\"ee\"]\n",
    "li.sort(reverse=True)\n",
    "print(li)\n",
    "\n",
    "#sorted,是内建函数中 新建列表进行排序，结果在函数的返回值中\n",
    "li=[\"aa\",\"cc\",\"ff\",\"dd\",\"ee\"]\n",
    "print(sorted(li))"
   ]
  },
  {
   "cell_type": "code",
   "execution_count": 32,
   "metadata": {},
   "outputs": [
    {
     "name": "stdout",
     "output_type": "stream",
     "text": [
      "True\n",
      "['new', 2, 3, [4, 5]] ['new', 2, 3, [4, 5]]\n",
      "['new', 2, 3, ['new1', 5]] ['new', 2, 3, ['new1', 5]]\n",
      "4361358088 4361358088 4361359176\n",
      "4361359048 4361356616\n",
      "4361349448 4361359240\n",
      "['new', 2, 3, [4, 5]] [1, 2, 3, [4, 5]]\n",
      "['new', 2, 3, ['new1', 5]] [1, 2, 3, ['new1', 5]]\n",
      "4361359048 4361358856\n",
      "['new', 2, 3, [4, 5]] [1, 2, 3, [4, 5]]\n",
      "['new', 2, 3, ['new1', 5]] [1, 2, 3, ['new1', 5]]\n"
     ]
    }
   ],
   "source": [
    "# 5. 列表的复制\n",
    "# # 赋值、 切片、列表下的copy、 深拷贝\n",
    "# （1）赋值\n",
    "a=[1,2,3,[4,5]]\n",
    "b=a\n",
    "print(b is a)\n",
    "# 对a中的元素进行修改\n",
    "a[0]=\"new\"\n",
    "print(a,b)\n",
    "a[3][0]=\"new1\"\n",
    "print(a,b)\n",
    "\n",
    "#对于新建的c来说，不可变类型（数值、字符串）来使用的是一片内存，\n",
    "# 对于可变类型来说，是新建的内存\n",
    "c=[1,2,3,[4,5]]\n",
    "print(id(a),id(b),id(c))\n",
    "print(id(a[3]),id(c[3]))\n",
    "\n",
    "\n",
    "#2.切片 : 属于浅拷贝，只负责拷贝第一层对象，\n",
    "# 无论是可变类型还是不可变类型，均不拷贝。\n",
    "a=[1,2,3,[4,5]]\n",
    "b=a[:] #浅拷贝，只拷贝第一层\n",
    "print(id(a),id(b))\n",
    "a[0]=\"new\"\n",
    "print(a,b)\n",
    "a[3][0]=\"new1\"\n",
    "print(a,b)\n",
    "\n",
    "# 3.copy方法，新创建b，同切片，都属于浅拷贝\n",
    "a=[1,2,3,[4,5]]\n",
    "b=a.copy()\n",
    "print(id(a),id(b))\n",
    "a[0]=\"new\"\n",
    "print(a,b)\n",
    "a[3][0]=\"new1\"\n",
    "print(a,b)\n"
   ]
  },
  {
   "cell_type": "markdown",
   "metadata": {},
   "source": [
    "### 元组"
   ]
  },
  {
   "cell_type": "code",
   "execution_count": 19,
   "metadata": {},
   "outputs": [
    {
     "name": "stdout",
     "output_type": "stream",
     "text": [
      "<class 'tuple'>\n"
     ]
    }
   ],
   "source": [
    "t1=(1,2,3)\n",
    "print(type(t1))"
   ]
  },
  {
   "cell_type": "code",
   "execution_count": 18,
   "metadata": {},
   "outputs": [
    {
     "name": "stdout",
     "output_type": "stream",
     "text": [
      "(1, 2, 3, 4)\n",
      "(1, 2, 1, 2, 1, 2)\n",
      "True\n",
      "False\n"
     ]
    }
   ],
   "source": [
    "print((1,2)+(3,4))\n",
    "print((1,2)*3)\n",
    "print(1 in (1,3))\n",
    "print(5 in (1,3,(5,6)))"
   ]
  },
  {
   "cell_type": "code",
   "execution_count": 23,
   "metadata": {},
   "outputs": [
    {
     "name": "stdout",
     "output_type": "stream",
     "text": [
      "(1,)\n",
      "<class 'tuple'>\n",
      "[1]\n",
      "['new', 'a', 'b', 3]\n"
     ]
    }
   ],
   "source": [
    "b=(1,)\n",
    "print(b)\n",
    "print(type(b))\n",
    "print([1,])\n",
    "li=[1,2,3]\n",
    "li[0:2]=[\"new\",\"a\",\"b\"]\n",
    "print(li)"
   ]
  },
  {
   "cell_type": "code",
   "execution_count": 33,
   "metadata": {},
   "outputs": [],
   "source": [
    "a=(1,2,3)\n",
    "d=a[:]  # 元组的整切片，是原来的对象，不是新创建的对象，跟列表不同，跟字符串相同"
   ]
  },
  {
   "cell_type": "code",
   "execution_count": null,
   "metadata": {},
   "outputs": [],
   "source": [
    "#元组的元素不能被修改：如果元素是不可变类型，就不能改，如果是可变类型，那么可以修改\n",
    "# 可变类型内部的元素\n",
    "t1=(1,2,[3,4])\n",
    "# t1[2]=\"new\"\n",
    "t1[2][0]=\"new\"\n",
    "print(t1)"
   ]
  }
 ],
 "metadata": {
  "kernelspec": {
   "display_name": "Python 3",
   "language": "python",
   "name": "python3"
  },
  "language_info": {
   "codemirror_mode": {
    "name": "ipython",
    "version": 3
   },
   "file_extension": ".py",
   "mimetype": "text/x-python",
   "name": "python",
   "nbconvert_exporter": "python",
   "pygments_lexer": "ipython3",
   "version": "3.7.3"
  }
 },
 "nbformat": 4,
 "nbformat_minor": 2
}
