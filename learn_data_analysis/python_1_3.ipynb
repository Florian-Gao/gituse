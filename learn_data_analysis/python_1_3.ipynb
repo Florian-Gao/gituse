{
 "cells": [
  {
   "cell_type": "markdown",
   "metadata": {},
   "source": [
    "# python_1\n",
    "## day_8 and day_9"
   ]
  },
  {
   "cell_type": "code",
   "execution_count": 1,
   "metadata": {},
   "outputs": [
    {
     "name": "stdout",
     "output_type": "stream",
     "text": [
      "x执行\n",
      "===\n",
      "x执行\n",
      "x执行\n"
     ]
    },
    {
     "data": {
      "text/plain": [
       "True"
      ]
     },
     "execution_count": 1,
     "metadata": {},
     "output_type": "execute_result"
    }
   ],
   "source": [
    "#\n",
    "# 5.3 <= x <= 4 与x >= 3 and x <= 4\n",
    "# 完全等价吗？  不完全等价\n",
    "def x():\n",
    "    print(\"x执行\")\n",
    "    return 5\n",
    "\n",
    "3<=x()<=6\n",
    "print(\"===\")\n",
    "x()>=3 and x()<=6"
   ]
  },
  {
   "cell_type": "code",
   "execution_count": 8,
   "metadata": {},
   "outputs": [
    {
     "name": "stdout",
     "output_type": "stream",
     "text": [
      "[1, 2, 3]\n",
      "[{'a': 1, 'b': 2, 'c': 3}, {'a': 10, 'b': 30}, {'a': 20, 'b': 30}]\n"
     ]
    }
   ],
   "source": [
    "x=[{\"a\":1,\"b\":2,\"c\":3},{\"a\":20,\"b\":30},{\"a\":10,\"b\":30}]\n",
    "# x.sort()\n",
    "d={\"a\":1,\"b\":2,\"c\":3}\n",
    "print(sorted(d))\n",
    "def s(k):\n",
    "    return k[\"a\"]\n",
    "# x.sort(key=s)\n",
    "x.sort(key=lambda k:k[\"a\"])\n",
    "print(x)"
   ]
  },
  {
   "cell_type": "code",
   "execution_count": 12,
   "metadata": {},
   "outputs": [],
   "source": [
    "# 编写一个函数，参数为一个列表（或元组）类型，能够遍历输出列表中的元素。\n",
    "# 列表中的元素可能还是列表，嵌套列表要求能够单个元素输出，并且可能会出现多层嵌套。\n",
    "li=[1,2,[3,4,[5,6]]]\n",
    "def showli(li):\n",
    "    for i in li:\n",
    "       if type(i)==list:\n",
    "           showli(i)\n",
    "       else:\n",
    "           print(i)"
   ]
  },
  {
   "cell_type": "code",
   "execution_count": 39,
   "metadata": {},
   "outputs": [
    {
     "name": "stdout",
     "output_type": "stream",
     "text": [
      "[['luly', 100], ['kate', 100], ['lily', 89], ['jerry', 80], ['tom', 60]]\n"
     ]
    }
   ],
   "source": [
    "#全班成绩排名\n",
    "ss = {\"tom\": 60, \"kate\": 100, \"jerry\": 80, \"lily\": 89, \"luly\": 100}\n",
    "scores=tuple(ss.values())\n",
    "# 平均成绩\n",
    "def sortScore(ss):\n",
    "    li=[[v,k] for k,v in ss.items()]\n",
    "    li.sort(reverse=True) #把数据放在前面，就可以进行排序，并且前提是为list\n",
    "    ll=[[i[1],i[0]] for i in li]\n",
    "    print(ll)\n",
    "sortScore(ss)"
   ]
  },
  {
   "cell_type": "markdown",
   "metadata": {},
   "source": [
    "### 类\n"
   ]
  },
  {
   "cell_type": "code",
   "execution_count": 43,
   "metadata": {},
   "outputs": [
    {
     "name": "stdout",
     "output_type": "stream",
     "text": [
      "静态方法执行\n",
      "张三和李四交朋友\n"
     ]
    }
   ],
   "source": [
    "# （3）静态方法\n",
    "#  静态方法跟类不相关，是对象更不相关\n",
    "# 定义 需要使用@staticmethod装饰\n",
    "class Person:\n",
    "    def __init__(self, name):\n",
    "        self.name = name\n",
    "\n",
    "    @staticmethod\n",
    "    def sm():\n",
    "        print(\"静态方法执行\")\n",
    "\n",
    "    @staticmethod\n",
    "    def makefriend(p1,p2):\n",
    "        print(\"{}和{}交朋友\".format(p1.name,p2.name))\n",
    "Person.sm()\n",
    "p1=Person(\"张三\")\n",
    "p2=Person(\"李四\")\n",
    "Person.makefriend(p1,p2)"
   ]
  },
  {
   "cell_type": "code",
   "execution_count": 44,
   "metadata": {},
   "outputs": [],
   "source": [
    "#（3）__del__:当对象销毁的时候会自动调用方法\n",
    "class Person:\n",
    "    #不使用staticmethod修饰的特殊静态方法\n",
    "    def __new__(cls, *args, **kwargs):\n",
    "        print(\"new方法执行\")\n",
    "        return super().__new__(cls)\n",
    "\n",
    "    def __init__(self):\n",
    "        print(\"init执行\")\n",
    "        self.name=None\n",
    "    #\n",
    "    # def __del__(self):\n",
    "    #     print(\"执行del方法\")\n",
    "\n",
    "# p=Person()\n",
    "# print(p)\n",
    "# p2=p\n",
    "# del p\n",
    "# print(\"没有被删除\")\n",
    "\n",
    "# print(p)\n",
    "# print(p2)\n"
   ]
  },
  {
   "cell_type": "code",
   "execution_count": 45,
   "metadata": {},
   "outputs": [
    {
     "name": "stdout",
     "output_type": "stream",
     "text": [
      "init执行\n",
      "执行str方法\n",
      "[name=张三,age=20]\n",
      "执行str方法\n",
      "[name=张三,age=20]\n"
     ]
    }
   ],
   "source": [
    "# (4) __str__\n",
    "# 当调用内建函数str()  format  print 会自动调用的方法，返回值是str\n",
    "class Person:\n",
    "    def __init__(self,name,age):\n",
    "        print(\"init执行\")\n",
    "        self.name=name\n",
    "        self.age=age\n",
    "    def __str__(self):\n",
    "        print(\"执行str方法\")\n",
    "        # return \"person类型的对象\"\n",
    "        return \"[name={},age={}]\".format(self.name,self.age)\n",
    "p1=Person(\"张三\",\"20\")\n",
    "print(p1.__str__())\n",
    "print(p1)\n",
    "# print(p1)\n"
   ]
  },
  {
   "cell_type": "code",
   "execution_count": 46,
   "metadata": {},
   "outputs": [
    {
     "name": "stdout",
     "output_type": "stream",
     "text": [
      "init执行\n",
      "执行str方法\n",
      "[name=张三,age=20]\n"
     ]
    }
   ],
   "source": [
    "# （5）__repr__\n",
    "#如果方法中没有定义str，却需要调用str，默认调用__repr__\n",
    "class Person:\n",
    "    def __init__(self,name,age):\n",
    "        print(\"init执行\")\n",
    "        self.name=name\n",
    "        self.age=age\n",
    "    def __repr__(self):\n",
    "        print(\"执行str方法\")\n",
    "        # return \"person类型的对象\"\n",
    "        return \"[name={},age={}]\".format(self.name,self.age)\n",
    "p=Person(\"张三\",20)\n",
    "print(p)\n"
   ]
  },
  {
   "cell_type": "code",
   "execution_count": 47,
   "metadata": {},
   "outputs": [
    {
     "name": "stdout",
     "output_type": "stream",
     "text": [
      "b'bytes person class '\n",
      "b'bytes person class '\n"
     ]
    }
   ],
   "source": [
    "#(6) __bytes__ 转字节\n",
    "class Person:\n",
    "    def __bytes__(self):\n",
    "        return b\"bytes person class \"\n",
    "p=Person()\n",
    "print(bytes(p)) #建议\n",
    "#print(p.__bytes__())"
   ]
  },
  {
   "cell_type": "code",
   "execution_count": 51,
   "metadata": {},
   "outputs": [
    {
     "name": "stdout",
     "output_type": "stream",
     "text": [
      "True\n",
      "False\n",
      "女\n"
     ]
    },
    {
     "name": "stdin",
     "output_type": "stream",
     "text": [
      "请输入属性名 city\n"
     ]
    },
    {
     "name": "stdout",
     "output_type": "stream",
     "text": [
      "北京\n",
      "女\n"
     ]
    }
   ],
   "source": [
    "# 5. 动态属性操作\n",
    "class Person:\n",
    "    pass\n",
    "p=Person()\n",
    "p.name=\"张三\"\n",
    "p.age=20\n",
    "\n",
    "# (1) hasattr(obj,name)\n",
    "# 判断obj中是否存在（name）指定的属性名\n",
    "print(hasattr(p,\"age\"))\n",
    "print(hasattr(p,\"age1\"))\n",
    "\n",
    "#(2)setattr(obj,name,value)\n",
    "# 将obj对象中name属性设置为value\n",
    "setattr(p,\"gender\",\"女\")\n",
    "print(p.gender)\n",
    "\n",
    "# an=input(\"请输入属性名\")\n",
    "# setattr(p,an,\"北京\")\n",
    "# print(p.city)\n",
    "\n",
    "#(3)getattr(obj,name)\n",
    "# 将obj对象中的name属性值取出\n",
    "print(getattr(p,\"gender\"))\n",
    "\n",
    "an=input(\"请输入属性名\")\n",
    "setattr(p,an,\"北京\")\n",
    "print(getattr(p,an))\n",
    "\n",
    "# 给对象进行动态赋值\n",
    "\n",
    "# （4）delatrr(obj,name)\n",
    "# 删除obj中的name属性\n",
    "delattr(p,\"gender\")\n",
    "#print(p.gender)"
   ]
  },
  {
   "cell_type": "code",
   "execution_count": 53,
   "metadata": {},
   "outputs": [
    {
     "name": "stdout",
     "output_type": "stream",
     "text": [
      "您已经存入5!您的余额是1005  \n",
      "您已成功取出1！您的余额是1004  \n",
      "您已成功向李四的账户转账10您的余额是994  \n",
      "您的余额是2010  \n",
      "对不起，余额不足!您的余额是994  \n"
     ]
    }
   ],
   "source": [
    "# 2. 编写一个银行卡类，具有账号，人名与余额属性。\n",
    "# 编写提款机类，接收一张银行卡，并且具有存款，提款，查询余额，转账功能。\n",
    "# 如果不能使用两个类，使用一个类实现也可以。银行卡下，有取款，存款。。。\n",
    "\n",
    "# 关于card形式参数的问题。\n",
    "def a(x,y):\n",
    "    pass\n",
    "a(1,2)\n",
    "c=1\n",
    "d=2\n",
    "a(c,d)\n",
    "\n",
    "class Card:\n",
    "    def __init__(self,id,name,account):\n",
    "        self.id=id\n",
    "        self.name=name\n",
    "        self.account=account\n",
    "    def deposit(self,money):\n",
    "        self.account+=money\n",
    "        print(\"您已经存入{}!\".format(money ),end=\"\")\n",
    "        self.query()\n",
    "    def withdraw(self,money):\n",
    "        if self.account<money:\n",
    "            print(\"对不起，余额不足!\",end=\"\")\n",
    "        else:\n",
    "            self.account-=money\n",
    "            print(\"您已成功取出{}！\".format(money),end=\"\")\n",
    "        self.query()\n",
    "    def query(self):\n",
    "        print(\"您的余额是{}  \".format(self.account))\n",
    "    def transfer(self,card,money):\n",
    "        if self.account<money:\n",
    "            print(\"对不起，余额不足!\",end=\"\")\n",
    "        else:\n",
    "            self.account-=money\n",
    "            card.account+=money\n",
    "            print(\"您已成功向{}的账户转账{}\".format(card.name,money),end=\"\")\n",
    "            # card.withdraw(1000)\n",
    "        self.query()\n",
    "\n",
    "c1=Card(\"622000000\",\"张三\",1000)\n",
    "c2=Card(\"622000001\",\"李四\",2000)\n",
    "# print(c1.name)\n",
    "# c1.query()\n",
    "# c1.deposit(500)\n",
    "# c1.withdraw(200)\n",
    "# c1.withdraw(2000)\n",
    "# c1.transfer(c2,600)\n",
    "# c2.query()\n",
    "\n",
    "\"\"\"\n",
    "类和类之间的关联关系：\n",
    " （1）直接在init中进行强依赖关系的赋值，将参数（其他类的对象），变成自己的属性\n",
    " （2）另外写方法，将其他类的对象，自己类的属性\n",
    " \n",
    " 如果其他类在当前类中使用不是很频繁，只把其他类当成参数传入\n",
    " 如果使用的频繁，需要把它变成self.属性\n",
    "\n",
    "\"\"\"\n",
    "\n",
    "class ATM:\n",
    "    def __init__(self):\n",
    "        self.card=None\n",
    "    def insertCard(self,card):\n",
    "        self.card=card\n",
    "    def deposit(self,money):\n",
    "        self.card.deposit(money)\n",
    "    def withdraw(self,money):\n",
    "        self.card.withdraw(money)\n",
    "    def transfer(self,othercard,money):\n",
    "        self.card.transfer(othercard,money)\n",
    "\n",
    "\n",
    "atm=ATM()\n",
    "atm.insertCard(c1)\n",
    "atm.deposit(5)\n",
    "atm.withdraw(1)\n",
    "atm.transfer(c2,10)\n",
    "c2.query()\n",
    "atm.transfer(c2,10000)\n"
   ]
  },
  {
   "cell_type": "code",
   "execution_count": 54,
   "metadata": {},
   "outputs": [
    {
     "name": "stdout",
     "output_type": "stream",
     "text": [
      "2\n"
     ]
    }
   ],
   "source": [
    "# 3.\n",
    "# 编写一个计数器，能够记录一个类创建了多少个对象。\n",
    "class Counter:\n",
    "    n=0\n",
    "    def __init__(self):\n",
    "       self.__class__.n+=1\n",
    "c1=Counter()\n",
    "c2=Counter()\n",
    "print(Counter.n)"
   ]
  },
  {
   "cell_type": "code",
   "execution_count": 59,
   "metadata": {},
   "outputs": [
    {
     "name": "stdout",
     "output_type": "stream",
     "text": [
      "2 2\n",
      "3 3\n",
      "4 4\n",
      "5 5\n",
      "6 6\n",
      "7 7\n",
      "8 8\n",
      "9 9\n",
      "10 10\n",
      "11 J\n",
      "12 Q\n",
      "13 K\n",
      "14 A\n",
      "2 2\n",
      "3 3\n",
      "4 4\n",
      "5 5\n",
      "6 6\n",
      "7 7\n",
      "8 8\n",
      "9 9\n",
      "10 10\n",
      "11 J\n",
      "12 Q\n",
      "13 K\n",
      "14 A\n",
      "2 2\n",
      "3 3\n",
      "4 4\n",
      "5 5\n",
      "6 6\n",
      "7 7\n",
      "8 8\n",
      "9 9\n",
      "10 10\n",
      "11 J\n",
      "12 Q\n",
      "13 K\n",
      "14 A\n",
      "2 2\n",
      "3 3\n",
      "4 4\n",
      "5 5\n",
      "6 6\n",
      "7 7\n",
      "8 8\n",
      "9 9\n",
      "10 10\n",
      "11 J\n",
      "12 Q\n",
      "13 K\n",
      "14 A\n",
      "[♦-4-4]\n",
      "[♣-4-4]\n",
      "[♣-Q-12]\n",
      "一对\n"
     ]
    }
   ],
   "source": [
    "# 4.\n",
    "# 编写程序，设计单张扑克牌类Card，具有花色，牌面与具体值。\n",
    "# 同时设计整副扑克牌类Cards，具有52张牌。设计一个发牌的函数，\n",
    "# 对任意三张牌断定牌的类型。\n",
    "import random\n",
    "class Card:\n",
    "    def __init__(self,type,value,real_value):\n",
    "        self.type=type\n",
    "        self.value=value\n",
    "        self.real_value=real_value\n",
    "    def __str__(self):\n",
    "        return \"[{}-{}-{}]\".format(self.type,self.value,self.real_value)\n",
    "\n",
    "class Cards:\n",
    "    def __init__(self):\n",
    "        self.card_list=[]\n",
    "        # ♣♠♦♥\n",
    "        li_value=[\"A\", \"K\", \"Q\", \"J\", \"10\", \"9\", \"8\", \"7\", \"6\", \"5\", \"4\", \"3\", \"2\"]\n",
    "        #li_realvalue=list(range(14, 1, -1))\n",
    "        li_value.reverse()\n",
    "        # for j in li_value:\n",
    "        #     print(j)\n",
    "        for i in \"♣♠♦♥\":\n",
    "            for index,j in enumerate(li_value):\n",
    "                print(index+2,j)\n",
    "                onecard=Card(i,j,index+2)\n",
    "                self.card_list.append(onecard)\n",
    "    # 定义一个方法抽取三张牌\n",
    "    def send(self):\n",
    "        li=[]\n",
    "        for i in range(3):\n",
    "            index=random.randint(0,len(self.card_list)-1)\n",
    "            li.append(self.card_list[index])\n",
    "            # 抽取之后，删除\n",
    "            del cards.card_list[index]  #这里用cards，是针对一种牌的，而不能针对这个class\n",
    "        # for i in li:\n",
    "        #     print(i)\n",
    "        li.sort(key=lambda c:c.real_value)\n",
    "        for i in li:\n",
    "            print(i)\n",
    "\n",
    "        if li[0].value==li[1].value and li[0].value==li[2].value :\n",
    "            print(\"三条\")\n",
    "        elif li[0].value==li[1].value or li[0].value==li[2].value or li[1].value==li[2].value:\n",
    "            print(\"一对\")\n",
    "        elif li[2].real_value-1==li[1].real_value and li[1].real_value-1==li[0].real_value and \\\n",
    "            li[0].type == li[1].type and li[1].type == li[2].type:\n",
    "            print(\"同花顺\")\n",
    "        elif li[2].real_value-1==li[1].real_value and li[1].real_value-1==li[0].real_value:\n",
    "            print(\"顺子\")\n",
    "        elif li[0].type==li[1].type and li[1].type==li[2].type:\n",
    "            print(\"同花\")\n",
    "        else:\n",
    "            print(\"散牌\")\n",
    "\n",
    "\n",
    "cards=Cards()\n",
    "cards.send() "
   ]
  },
  {
   "cell_type": "code",
   "execution_count": 60,
   "metadata": {},
   "outputs": [
    {
     "name": "stdout",
     "output_type": "stream",
     "text": [
      "\n",
      "        **************************************\n",
      "        *******欢迎来到羊村游戏大世界***********\n",
      "        **************************************\n",
      "        \n"
     ]
    },
    {
     "name": "stdin",
     "output_type": "stream",
     "text": [
      "您已经进入羊村游戏大世界，是否要开始游戏，y/n y\n",
      "请从以下角色中【1喜羊羊,2懒羊羊,3美羊羊】选取一个角色： 1\n"
     ]
    },
    {
     "name": "stdout",
     "output_type": "stream",
     "text": [
      "您已经选取了喜羊羊角色\n",
      "计算机正在从【1沸羊羊,2慢羊羊,3软绵绵】中选中角色：\n",
      "计算机已选角色：【沸羊羊】\n"
     ]
    },
    {
     "name": "stdin",
     "output_type": "stream",
     "text": [
      "请出拳【1石头,2剪刀,3布】 1\n"
     ]
    },
    {
     "name": "stdout",
     "output_type": "stream",
     "text": [
      "您已经出了石头\n",
      "计算机正在出拳：\n",
      "计算机出拳：【剪刀】\n",
      "这一局您【喜羊羊】赢了\n"
     ]
    },
    {
     "name": "stdin",
     "output_type": "stream",
     "text": [
      "您是否要重来一局?  y/n y\n",
      "请出拳【1石头,2剪刀,3布】 2\n"
     ]
    },
    {
     "name": "stdout",
     "output_type": "stream",
     "text": [
      "您已经出了剪刀\n",
      "计算机正在出拳：\n",
      "计算机出拳：【石头】\n",
      "这一局计算机【沸羊羊】赢了\n"
     ]
    },
    {
     "name": "stdin",
     "output_type": "stream",
     "text": [
      "您是否要重来一局?  y/n n\n"
     ]
    },
    {
     "name": "stdout",
     "output_type": "stream",
     "text": [
      "游戏结束，结果如下：\n",
      "平局的次数：0\n",
      "计算机【沸羊羊】的分数是【1】，您【喜羊羊】的分数是【1】\n"
     ]
    }
   ],
   "source": [
    "\"\"\"\n",
    " 出拳id  出拳名字\n",
    " 1        石头\n",
    " 2        剪刀\n",
    "\"\"\"\n",
    "\"\"\"\n",
    "猜拳：1石头  2剪刀  3布\n",
    "\n",
    "玩家： （1）选角色（喜羊羊，美羊羊 懒羊羊）\n",
    "      （2）出拳\n",
    "计算机：（1）选角色（慢羊羊，沸羊羊，暖羊羊）\n",
    "       （2）出拳\n",
    "\n",
    "比较大小\n",
    "输出谁赢了\n",
    "\n",
    "\n",
    "---------\n",
    "再来一局\n",
    "加比分\n",
    "\n",
    "如果退出不玩了，显示最后的比分\n",
    "\"\"\"\n",
    "import random\n",
    "class Computer:\n",
    "    def __init__(self):\n",
    "        self.id=None\n",
    "        self.name=None\n",
    "        self.fingerid=None\n",
    "        self.finger=None\n",
    "        self.score=0\n",
    "    def chooserole(self):\n",
    "        names=[\"沸羊羊\",\"慢羊羊\",\"软绵绵\"]\n",
    "        print(\"计算机正在从【1沸羊羊,2慢羊羊,3软绵绵】中选中角色：\")\n",
    "        self.id=random.randint(1,3)\n",
    "        self.name=names[self.id-1]\n",
    "        print(\"计算机已选角色：【{}】\".format(self.name))\n",
    "\n",
    "    def showfinger(self):\n",
    "        fingers = [\"石头\", \"剪刀\", \"布\"]\n",
    "        print(\"计算机正在出拳：\")\n",
    "        self.fingerid = random.randint(1, 3)\n",
    "        self.finger = fingers[self.fingerid - 1]\n",
    "        print(\"计算机出拳：【{}】\".format(self.finger))\n",
    "\n",
    "class Player:\n",
    "    def __init__(self):\n",
    "        self.id=None\n",
    "        self.name=None\n",
    "        self.fingerid=None\n",
    "        self.finger=None\n",
    "        self.score = 0\n",
    "    def chooserole(self):\n",
    "        names = [\"喜羊羊\", \"懒羊羊\", \"美羊羊\"]\n",
    "        while True:\n",
    "            id=int(input(\"请从以下角色中【1喜羊羊,2懒羊羊,3美羊羊】选取一个角色：\"))\n",
    "            if 1<=id<=3:\n",
    "                self.id=id\n",
    "                self.name=names[id-1]\n",
    "                break\n",
    "            else:\n",
    "                print(\"所选角色有误，请重新选择\")\n",
    "        print(\"您已经选取了{}角色\".format(self.name))\n",
    "\n",
    "    def showfinger(self):\n",
    "        fingers=[\"石头\",\"剪刀\",\"布\"]\n",
    "        while True:\n",
    "            finger_id=int(input(\"请出拳【1石头,2剪刀,3布】\"))\n",
    "            if 1<=finger_id<=3:\n",
    "                self.fingerid=finger_id\n",
    "                self.finger=fingers[finger_id-1]\n",
    "                break\n",
    "            else:\n",
    "                print(\"出拳错误，请重新出拳\")\n",
    "        print(\"您已经出了{}\".format(self.finger))\n",
    "\n",
    "class Game:\n",
    "    def __init__(self):\n",
    "        self.drawtimes=0\n",
    "        self.player=None\n",
    "        self.computer=None\n",
    "    def init(self):\n",
    "        info =\"\"\"\n",
    "        **************************************\n",
    "        *******欢迎来到羊村游戏大世界***********\n",
    "        **************************************\n",
    "        \"\"\"\n",
    "        print(info)\n",
    "    def gamestart(self):\n",
    "        choose=input(\"您已经进入羊村游戏大世界，是否要开始游戏，y/n\")\n",
    "\n",
    "        return choose\n",
    "\n",
    "    def compare(self,player,computer):\n",
    "        self.player=player\n",
    "        self.computer=computer\n",
    "        restart=\"y\"\n",
    "        while restart==\"y\":\n",
    "            player.showfinger()\n",
    "            computer.showfinger()\n",
    "            # 1    石头,    2  剪刀,     3  布\n",
    "            if player.fingerid==computer.fingerid:\n",
    "                print(\"这是平局\")\n",
    "                self.drawtimes+=1\n",
    "            elif player.fingerid ==1 and computer.fingerid==3 or \\\n",
    "                player.fingerid==2 and computer.fingerid==1 or\\\n",
    "                player.fingerid==3 and computer.fingerid==2:\n",
    "                print(\"这一局计算机【{}】赢了\".format(computer.name))\n",
    "                computer.score+=1\n",
    "            else:\n",
    "                print(\"这一局您【{}】赢了\".format(player.name))\n",
    "                player.score+=1\n",
    "\n",
    "            restart=input(\"您是否要重来一局?  y/n\")\n",
    "        return restart\n",
    "\n",
    "    def resultRecored(self):\n",
    "        print(\"游戏结束，结果如下：\")\n",
    "        print(\"平局的次数：{}\".format(self.drawtimes))\n",
    "        print(\"计算机【{}】的分数是【{}】，您【{}】的分数是【{}】\".format(self.computer.name,self.computer.score,self.player.name,self.player.score))\n",
    "\n",
    "if __name__==\"__main__\":\n",
    "    g=Game()\n",
    "    g.init()\n",
    "    start=g.gamestart()\n",
    "    if start==\"y\":\n",
    "        p=Player()\n",
    "        c=Computer()\n",
    "        p.chooserole()\n",
    "        c.chooserole()\n",
    "        restart=g.compare(p,c)\n",
    "        if restart==\"n\":\n",
    "            g.resultRecored()\n"
   ]
  },
  {
   "cell_type": "code",
   "execution_count": null,
   "metadata": {},
   "outputs": [],
   "source": []
  }
 ],
 "metadata": {
  "kernelspec": {
   "display_name": "Python 3",
   "language": "python",
   "name": "python3"
  },
  "language_info": {
   "codemirror_mode": {
    "name": "ipython",
    "version": 3
   },
   "file_extension": ".py",
   "mimetype": "text/x-python",
   "name": "python",
   "nbconvert_exporter": "python",
   "pygments_lexer": "ipython3",
   "version": "3.7.3"
  }
 },
 "nbformat": 4,
 "nbformat_minor": 2
}
