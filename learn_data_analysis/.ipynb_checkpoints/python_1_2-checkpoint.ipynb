{
 "cells": [
  {
   "cell_type": "markdown",
   "metadata": {},
   "source": [
    "# python_1\n",
    "## day_3 and day_4"
   ]
  },
  {
   "cell_type": "code",
   "execution_count": 1,
   "metadata": {},
   "outputs": [
    {
     "name": "stdout",
     "output_type": "stream",
     "text": [
      "20013\n",
      "0b100111000101101\n",
      "0x4e2d\n",
      "中\n",
      "b'\\xe4\\xb8\\xad'\n",
      "b'\\xe4\\xb8\\xad'\n",
      "0b11100100 0b10111000 0b10101101\n"
     ]
    }
   ],
   "source": [
    "# 二、unicode 和 utf-8\n",
    "# 1. unicode\n",
    "a=\"中\"\n",
    "# 获得汉字的unicode编码\n",
    "# ord（chr）得到十进制数\n",
    "print(ord(a))\n",
    "print(bin(ord(a)))\n",
    "print(hex(ord(a)))  # 十六进制就是unicode编码：\\u十六进制\n",
    "print(\"\\u4e2d\") #\\uz转成汉字\n",
    "\n",
    "# 2. utf-8\n",
    "# 使用字符串下的encode方法获得\n",
    "# 在每个字节前面加\\x\n",
    "print(a.encode(\"utf-8\"))\n",
    "print(a.encode())\n",
    "print(bin(0xe4),bin(0xb8),bin(0xad))\n",
    "# 0b11100100 0b1011100010101101\n",
    "#           0b10011100010  1101\n",
    "# unicode码实际上可以看成utf-8编码的一部分，大量支持unicode码的历史软件仍然可以在utf-8下使用\n",
    "\n",
    "# 3.unicode和utf-8在计算机中工作方式\n",
    "# （1）计算机内存中统一使用unicode编码，当需要保存到硬盘，或者传输的时候，会转换成utf-8\n",
    "# （2）浏览网页的时候，服务器也会把动态生成的unicode内容转换成utf-8模式传输到浏览器。\n",
    "\n"
   ]
  },
  {
   "cell_type": "code",
   "execution_count": 2,
   "metadata": {},
   "outputs": [
    {
     "name": "stdout",
     "output_type": "stream",
     "text": [
      "b'abc\\xd6\\xd0\\xb9\\xfa'\n",
      "b'abc\\xe4\\xb8\\xad\\xe5\\x9b\\xbd'\n",
      "abc中国\n"
     ]
    }
   ],
   "source": [
    "\"\"\"\n",
    "第四章：数据类型\n",
    "\n",
    "字节和字符串之间的转换\n",
    "\"\"\"\n",
    "# 字节转换成字符：解码 decode\n",
    "# 字符转换成字节：编码 encode\n",
    "\n",
    "s=\"abc中国\"\n",
    "print(s.encode(\"gbk\"))\n",
    "print(s.encode(\"utf-8\"))\n",
    "b=s.encode()\n",
    "\n",
    "s1=b.decode()\n",
    "print(s1)"
   ]
  },
  {
   "cell_type": "code",
   "execution_count": 3,
   "metadata": {},
   "outputs": [],
   "source": [
    "# 4.\n",
    "# 输入一个三位正整数，输出该数值的百位，十位与个位。考虑再多一位呢？\n",
    "# 方式一：直接字符串的切片\n",
    "def que4():\n",
    "    x=input(\"输入一个N位整数\")\n",
    "    print(x[0],x[1],x[2])\n",
    "    for i in x:\n",
    "        print(i,end=\" \")\n",
    "\n",
    "def que42():\n",
    "    x=input(\"输入一个N位整数\")\n",
    "    for i in reversed(range (len(x))):\n",
    "        print(int(x)//10**i%10,end=\" \")"
   ]
  },
  {
   "cell_type": "code",
   "execution_count": 4,
   "metadata": {},
   "outputs": [
    {
     "name": "stdout",
     "output_type": "stream",
     "text": [
      "AadklfdfjDDJFAadfdkj\n"
     ]
    }
   ],
   "source": [
    "# 15.\n",
    "# 查资料，或者自己试一下str中的方法，将小写转大写，大写转小写\n",
    "s = \"aADKLFDFJddjfaADFDKJ\"\n",
    "print(s.swapcase())"
   ]
  },
  {
   "cell_type": "code",
   "execution_count": 5,
   "metadata": {},
   "outputs": [
    {
     "name": "stdout",
     "output_type": "stream",
     "text": [
      "-0b11011\n",
      "0b11100101\n",
      "216\n",
      "-4\n",
      "-216\n"
     ]
    }
   ],
   "source": [
    "# (2)-27 原码 10011011\n",
    "# （3）反码   11100100\n",
    "# （4）补码   11100101\n",
    "print(bin(-27))\n",
    "print(bin(-27&0b11111111))\n",
    "\n",
    "\n",
    "\n",
    "#这里左移与右移，如果是负数，先将补码的符号位拿出，\n",
    "#然后反码加一得原码，再加上符号位就行\n",
    "# 2.\n",
    "# 给出将 - 27 << 3  # 与 - 27 >> 3# 的过程。并在程序上验证是否正确\n",
    "# -27补码          10000000  01100101\n",
    "# -27补码          11111111  11100101\n",
    "# <<3 右侧以1填充  111111111  00101000\n",
    "# <<3 右侧以不填充 1      11  00101000\n",
    "# 反码            1      00  11010111\n",
    "# 原码            1      00  11011000    -216\n",
    "print(2**7+2**6+2**4+2**3)\n",
    "\n",
    "\n",
    "#>>3\n",
    "# -27补码                    11100101\n",
    "# >>3 左侧以1填充\n",
    "# 补码                       11111100\n",
    "# 反码                       10000011\n",
    "# 原码                       10000100   -4\n",
    "print(-27>>3)\n",
    "print(-27<<3)"
   ]
  },
  {
   "cell_type": "code",
   "execution_count": 6,
   "metadata": {},
   "outputs": [
    {
     "name": "stdout",
     "output_type": "stream",
     "text": [
      "hello1\n",
      "hello 1\n",
      "hello 1--- 2\n",
      "         hello world\n",
      "hello world\n",
      "hello world         \n",
      "he\n",
      "        he\n",
      "he        \n"
     ]
    }
   ],
   "source": [
    "\"\"\"\n",
    "%s  -----str(o)\n",
    "%d  ----带符号的十进制整数\n",
    "%f  ----浮点数，可以指定保留位数\n",
    "%r  -----repr(o)\n",
    "\"\"\"\n",
    "print(\"hello\"+str(1))\n",
    "print(\"hello %s\" % 1)\n",
    "print(\"hello %s--- %s\" % (1,2))\n",
    "#%ns------右对齐，占位符n位，>字符长度 的部分使用空格补齐。\n",
    "print(\"%20s\" % \"hello world\")\n",
    "print(\"%10s\" % \"hello world\")# 如果n<字符的长度，不会截断，会正常显示\n",
    "\n",
    "# 左对齐\n",
    "print(\"%-20s\" % \"hello world\")\n",
    "\n",
    "# 小数点后面的数代表取几位\n",
    "print(\"%.2s\" % \"hello world\")\n",
    "\n",
    "# %m.ns  m是占位符，如果是正数，右对齐，n取几位\n",
    "print(\"%10.2s\" % \"hello world\")\n",
    "print(\"%-10.2s\" % \"hello world\")"
   ]
  },
  {
   "cell_type": "code",
   "execution_count": 10,
   "metadata": {},
   "outputs": [
    {
     "name": "stdout",
     "output_type": "stream",
     "text": [
      "3\n",
      "3\n",
      "3\n",
      "3.14\n",
      "3.15\n",
      "3.145590\n",
      "3.14558999999999988617\n",
      "    3.15\n",
      "3.15\n",
      "00003.15\n"
     ]
    }
   ],
   "source": [
    "#%f 格式化浮点数\n",
    "# m.n%f  m占用多少位  n保留小数的位数\n",
    "print(\"%0.0f\" % 3.14159) #3\n",
    "print(\"%0.f\" % 3.14159) #3\n",
    "print(\"%.f\" % 3.14159) #3\n",
    "\n",
    "#保留n位，四舍五入\n",
    "print(\"%.2f\" % 3.14159)\n",
    "print(\"%.2f\" % 3.14559)\n",
    "print(\"%.6f\" % 3.14559)\n",
    "print(\"%.20f\" % 3.14559)\n",
    "\n",
    "# 整数部分 占位符，默认使用空格补齐\n",
    "print(\"%8.2f\" % 3.14559)\n",
    "print(\"%2.2f\" % 3.14559)#3.15\n",
    "# 可以指定是否使用0补齐，在整数前面加0\n",
    "print(\"%08.2f\" % 3.14559) #00003.15"
   ]
  },
  {
   "cell_type": "code",
   "execution_count": 13,
   "metadata": {},
   "outputs": [
    {
     "name": "stdout",
     "output_type": "stream",
     "text": [
      "hello and world\n",
      "hello      and world     \n",
      "hello      and      world\n",
      "  hello    and      world\n",
      "    he     and      world\n"
     ]
    }
   ],
   "source": [
    "# 二、format格式化\n",
    "# 格式：\n",
    "# {[参数/索引]:[对齐方式][占位数].[保留位数][s/f等格式(可省略)]}.format(要替换的值)\n",
    "# 默认<左对齐\n",
    "print(\"{} and {}\".format(\"hello\",\"world\"))\n",
    "print(\"{:10} and {:10}\".format(\"hello\",\"world\"))\n",
    "#  >右对齐\n",
    "print(\"{:<10s} and {:>10}\".format(\"hello\",\"world\"))\n",
    "# ^中间对齐\n",
    "print(\"{:^10} and {:>10s}\".format(\"hello\",\"world\"))\n",
    "#    he     and      world\n",
    "print(\"{:^10.2} and {:>10s}\".format(\"hello\",\"world\"))\n"
   ]
  },
  {
   "cell_type": "code",
   "execution_count": null,
   "metadata": {},
   "outputs": [],
   "source": []
  }
 ],
 "metadata": {
  "kernelspec": {
   "display_name": "Python 3",
   "language": "python",
   "name": "python3"
  },
  "language_info": {
   "codemirror_mode": {
    "name": "ipython",
    "version": 3
   },
   "file_extension": ".py",
   "mimetype": "text/x-python",
   "name": "python",
   "nbconvert_exporter": "python",
   "pygments_lexer": "ipython3",
   "version": "3.7.3"
  }
 },
 "nbformat": 4,
 "nbformat_minor": 2
}
