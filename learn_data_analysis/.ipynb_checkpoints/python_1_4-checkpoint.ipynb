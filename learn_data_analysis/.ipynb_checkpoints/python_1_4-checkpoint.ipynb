{
 "cells": [
  {
   "cell_type": "markdown",
   "metadata": {},
   "source": [
    "# python_1\n",
    "## day 10 and day 11"
   ]
  },
  {
   "cell_type": "code",
   "execution_count": 1,
   "metadata": {},
   "outputs": [
    {
     "data": {
      "text/plain": [
       "'\\n第十章 面向对象\\n\\n1. 面向过程和面向对象\\n面向过程：程序里面有大量的函数，每一个环节都是进行函数的调用。从头---到尾\\n面向对象：根据需求，划分不同的对象，将对象划分成若干个类，以对象的方式来进行方法或者行为\\n         的调用，不是以函数为单位，而是以对象为单位\\n\\n面向过程：不是先分析是谁，先分析要怎么做\\n          打(武松，老虎)\\n          \\n面向对象：先分析是谁，然后再分析怎么做\\n          武松.打（老虎）\\n'"
      ]
     },
     "execution_count": 1,
     "metadata": {},
     "output_type": "execute_result"
    }
   ],
   "source": [
    "\"\"\"\n",
    "第十章 面向对象\n",
    "\n",
    "1. 面向过程和面向对象\n",
    "面向过程：程序里面有大量的函数，每一个环节都是进行函数的调用。从头---到尾\n",
    "面向对象：根据需求，划分不同的对象，将对象划分成若干个类，以对象的方式来进行方法或者行为\n",
    "         的调用，不是以函数为单位，而是以对象为单位\n",
    "\n",
    "面向过程：不是先分析是谁，先分析要怎么做\n",
    "          打(武松，老虎)\n",
    "          \n",
    "面向对象：先分析是谁，然后再分析怎么做\n",
    "          武松.打（老虎）\n",
    "\"\"\""
   ]
  },
  {
   "cell_type": "code",
   "execution_count": 2,
   "metadata": {},
   "outputs": [
    {
     "data": {
      "text/plain": [
       "'\\n面向对象的三个特征： 封装、继承、多态\\n\\n容易混淆：抽象（是面向对象过程中的重要思维）\\n包括从对象----类\\n包括 属性-----封装\\n包括 从子类中---父类\\n'"
      ]
     },
     "execution_count": 2,
     "metadata": {},
     "output_type": "execute_result"
    }
   ],
   "source": [
    "\"\"\"\n",
    "面向对象的三个特征： 封装、继承、多态\n",
    "\n",
    "容易混淆：抽象（是面向对象过程中的重要思维）\n",
    "包括从对象----类\n",
    "包括 属性-----封装\n",
    "包括 从子类中---父类\n",
    "\"\"\""
   ]
  },
  {
   "cell_type": "code",
   "execution_count": 3,
   "metadata": {},
   "outputs": [
    {
     "data": {
      "text/plain": [
       "'\\n一、封装：信息的封装，为了方便调用者调用\\n1. 成员的私有化\\n成员： 实例属性、实例方法、类属性、类方法、静态方法\\n经常对实例属性和实例方法进行封装（对成员进行私有化）\\n目的：只能在当前类中使用和访问，不能在类的外部直接访问。\\n\\n具体的做法：如果希望一个属性或者一个方法是私有的，那么将名字  __（开头）**   注意不以两个__结尾\\n\\n'"
      ]
     },
     "execution_count": 3,
     "metadata": {},
     "output_type": "execute_result"
    }
   ],
   "source": [
    "'''\n",
    "一、封装：信息的封装，为了方便调用者调用\n",
    "1. 成员的私有化\n",
    "成员： 实例属性、实例方法、类属性、类方法、静态方法\n",
    "经常对实例属性和实例方法进行封装（对成员进行私有化）\n",
    "目的：只能在当前类中使用和访问，不能在类的外部直接访问。\n",
    "\n",
    "具体的做法：如果希望一个属性或者一个方法是私有的，那么将名字  __（开头）**   注意不以两个__结尾\n",
    "\n",
    "'''\n"
   ]
  },
  {
   "cell_type": "code",
   "execution_count": 5,
   "metadata": {},
   "outputs": [
    {
     "data": {
      "text/plain": [
       "'\\n面经\\n1.怎么去理解面向对象和面向过程？\\n2.面向对象有什么特征\\n3.抽取是什么 \\n4.封装指的是什么，为什么要封装。python是怎么实现封装的。\\n'"
      ]
     },
     "execution_count": 5,
     "metadata": {},
     "output_type": "execute_result"
    }
   ],
   "source": [
    "\"\"\"\n",
    "面经\n",
    "1.怎么去理解面向对象和面向过程？\n",
    "2.面向对象有什么特征\n",
    "3.抽取是什么 \n",
    "4.封装指的是什么，为什么要封装。python是怎么实现封装的。\n",
    "\"\"\""
   ]
  },
  {
   "cell_type": "code",
   "execution_count": null,
   "metadata": {},
   "outputs": [],
   "source": []
  },
  {
   "cell_type": "code",
   "execution_count": 12,
   "metadata": {},
   "outputs": [
    {
     "data": {
      "text/plain": [
       "'\\n第十一章 模块和包\\n一、模块\\n1. 基本概念\\n物理的角度：一个文件就是一个模块。\\n逻辑的角度：模块（功能划分）\\n\\n模块中可以定义的内容： 类、函数、变量\\n\\n模块的名字就是文件的名字，被存储在模块命名空间。\\n\\n划分模块的好处：\\n（1）有利于项目按照功能进行划分，每个人负责一个模块，或者多个模块，方便协作开发。\\n（2）模块提供了独立的命名空间（全局命名空间），可以解决命名冲突问题。\\n（3）模块可以提供多人使用，提高程序的复用性。\\n\\n在python中一个模块可以支持多个class的建立\\n'"
      ]
     },
     "execution_count": 12,
     "metadata": {},
     "output_type": "execute_result"
    }
   ],
   "source": [
    "\"\"\"\n",
    "第十一章 模块和包\n",
    "一、模块\n",
    "1. 基本概念\n",
    "物理的角度：一个文件就是一个模块。\n",
    "逻辑的角度：模块（功能划分）\n",
    "\n",
    "模块中可以定义的内容： 类、函数、变量\n",
    "\n",
    "模块的名字就是文件的名字，被存储在模块命名空间。\n",
    "\n",
    "划分模块的好处：\n",
    "（1）有利于项目按照功能进行划分，每个人负责一个模块，或者多个模块，方便协作开发。\n",
    "（2）模块提供了独立的命名空间（全局命名空间），可以解决命名冲突问题。\n",
    "（3）模块可以提供多人使用，提高程序的复用性。\n",
    "\n",
    "在python中一个模块可以支持多个class的建立\n",
    "\"\"\""
   ]
  },
  {
   "cell_type": "code",
   "execution_count": 13,
   "metadata": {},
   "outputs": [],
   "source": [
    "# 2.模块的使用\n",
    "# 模块的导入：import     from ...import\n",
    "# （1）模块导入import\n",
    "# 导入的格式：import 模块名（如果有多个模块，可以使用,分隔）"
   ]
  },
  {
   "cell_type": "code",
   "execution_count": 15,
   "metadata": {},
   "outputs": [],
   "source": [
    "# 当我们导入一个模块之后，计算机会将该模块中所有的语句都编译执行\n",
    "# 但是只在第一次import执行，只执行一次，再次导入也不会再执行了。\n",
    "\n",
    "# 调用导入的模块格式： 模块名.模块下的方法、属性\n",
    "# 在当前模块中定义的变量或者函数不会跟导入模块中的变量或者函数名字冲突"
   ]
  },
  {
   "cell_type": "code",
   "execution_count": 16,
   "metadata": {},
   "outputs": [],
   "source": [
    "# （2）from...import：可以选择性导入模块中属性或者方法\n",
    "# from import 与import一样，在导入时，也会执行被导入模块下的所有代码\n",
    "# 格式： from 模块名 import 属性、方法、类（如果有多个，也可以用,分隔）\n",
    "\n",
    "# 使用from ...import模式可能会造成跟当前模块中的名字冲突。谁在后面定义，以后面定义的名字为准。\n",
    "\n",
    "# from day11another import x,y\n",
    "# 访问：直接使用import进来的名字即可\n",
    "#from day11another import x,y\n",
    "# print(x)\n",
    "#y()\n",
    "\n",
    "# from 模块名 import * 将模块中所有名一次性全部导入（慎用）\n",
    "\n",
    "# dir函数，返回指定对象相关绑定的名字，如果没有参数，会返回当前作用域下的名字\n",
    "# print(dir())"
   ]
  },
  {
   "cell_type": "code",
   "execution_count": 17,
   "metadata": {},
   "outputs": [],
   "source": [
    "#3. 模块的别名\n",
    "# 当导入模块的时候，可以是as为导入的模块名字进行重命名\n",
    "# 语法： import 模块名 as 模块别名\n",
    "#        from  模块名 import 名称 as 名称别名, 名称 as 名称别名,...\n",
    "# 一旦名字被重命名，原名字就不能再用了。"
   ]
  },
  {
   "cell_type": "code",
   "execution_count": 18,
   "metadata": {},
   "outputs": [],
   "source": [
    "# 4.隐藏模块的数据\n",
    "# 只对from import * 有用，对import不起作用\n",
    "# 两种方式：\n",
    "# （1）标明不能被导入的名字\n",
    "# 方法：名字前面_  例如：_w\n",
    "# 如果直接写明from 模块 import  变量名  ---不受不能导入的限制\n",
    "# from day11another import *\n",
    "# print(x)\n",
    "# y()\n",
    "# print(_w)\n",
    "\n",
    "\n",
    "# （2）标明能被导入的名字\n",
    "# 方式： __all__=[\"能够被导入的名字\",\"能够被导入的名字\"....]\n",
    "# from day11another import *\n",
    "# print(x)\n",
    "# y()\n",
    "# print(z)\n",
    "\n",
    "# 如果一个变量即被标注_w，同时又被加入到__all__列表里，能被导入。\n",
    "# 运行机制：先检索__all__列表下的所有变量，然后再去检索除了_以外的变量，再加入到模块中。"
   ]
  },
  {
   "cell_type": "markdown",
   "metadata": {},
   "source": [
    "# 刚看完python day11"
   ]
  },
  {
   "cell_type": "code",
   "execution_count": null,
   "metadata": {},
   "outputs": [],
   "source": [
    "###\n"
   ]
  }
 ],
 "metadata": {
  "kernelspec": {
   "display_name": "Python 3",
   "language": "python",
   "name": "python3"
  },
  "language_info": {
   "codemirror_mode": {
    "name": "ipython",
    "version": 3
   },
   "file_extension": ".py",
   "mimetype": "text/x-python",
   "name": "python",
   "nbconvert_exporter": "python",
   "pygments_lexer": "ipython3",
   "version": "3.7.3"
  }
 },
 "nbformat": 4,
 "nbformat_minor": 2
}
