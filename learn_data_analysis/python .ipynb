{
 "cells": [
  {
   "cell_type": "markdown",
   "metadata": {},
   "source": [
    "# stage0\n",
    "## day1"
   ]
  },
  {
   "cell_type": "markdown",
   "metadata": {},
   "source": [
    "#### 脚本执行\n",
    "输入命令：python 脚本的名字（文件名+扩展名）"
   ]
  },
  {
   "cell_type": "markdown",
   "metadata": {},
   "source": [
    "#### 内存\n",
    "1. 创建了123内存     \n",
    "2. 创建a的内存       \n",
    "3. 将a绑定到123上  \n",
    "\n",
    "#### 多个变量指向同一个内存\n",
    "只会新建变量名，然后绑定。  \n",
    "b=c  变量名不能进行绑定，而是绑定变量的值\n",
    "\n",
    "### 变量名必须是大小写英文字母，和数字、_的组合，不能以数字开头"
   ]
  },
  {
   "cell_type": "code",
   "execution_count": null,
   "metadata": {},
   "outputs": [],
   "source": [
    "# 平行赋值\n",
    "x=1\n",
    "y=2\n",
    "x,y=y,x # 简化了数据交换的过程。\n",
    "#等同于\n",
    "'''\n",
    "temp=x\n",
    "x=y\n",
    "y=temp\n",
    "'''"
   ]
  },
  {
   "cell_type": "code",
   "execution_count": 4,
   "metadata": {},
   "outputs": [
    {
     "name": "stdout",
     "output_type": "stream",
     "text": [
      "y= abc\n",
      "x= 123\n"
     ]
    }
   ],
   "source": [
    "x=\"abc\"\n",
    "y=x\n",
    "x=123\n",
    "print('y=',y)\n",
    "print('x=',x)"
   ]
  },
  {
   "cell_type": "markdown",
   "metadata": {},
   "source": [
    "### 注释\n",
    "单行注释，使用的是“#”   从#开始一直到当前行结束\n",
    "注意：三引号不是注释 ，只是定义了一个字符串，但是一般当作多行注释"
   ]
  },
  {
   "cell_type": "markdown",
   "metadata": {},
   "source": [
    "### print"
   ]
  },
  {
   "cell_type": "code",
   "execution_count": 6,
   "metadata": {},
   "outputs": [
    {
     "name": "stdout",
     "output_type": "stream",
     "text": [
      "hello world python java\n",
      "hello world*我是一个兵\n"
     ]
    }
   ],
   "source": [
    "print(\"hello world\",\"python\",\"java\") #逗号表示一个空格\n",
    "\n",
    "# print的结束字符  end参数默认\\n，可以对end结束字符进行修改\n",
    "print(\"hello world\",end=\"*\")\n",
    "print(\"我是一个兵\")"
   ]
  },
  {
   "cell_type": "markdown",
   "metadata": {},
   "source": [
    "### input"
   ]
  },
  {
   "cell_type": "code",
   "execution_count": null,
   "metadata": {},
   "outputs": [],
   "source": [
    "name=input(\"请输入名字：\")\n",
    "print(\"刚刚输入的名字是=\",name)\n",
    "print(\"ddddd\")"
   ]
  },
  {
   "cell_type": "markdown",
   "metadata": {},
   "source": [
    "### 游戏"
   ]
  },
  {
   "cell_type": "code",
   "execution_count": 7,
   "metadata": {},
   "outputs": [
    {
     "name": "stdin",
     "output_type": "stream",
     "text": [
      "请猜一下我心中的数字是多少？ 6\n"
     ]
    },
    {
     "name": "stdout",
     "output_type": "stream",
     "text": [
      "你猜错了！！\n",
      "little\n",
      "you have 2 chance\n"
     ]
    },
    {
     "name": "stdin",
     "output_type": "stream",
     "text": [
      "请猜一下我心中的数字是多少？ 8\n"
     ]
    },
    {
     "name": "stdout",
     "output_type": "stream",
     "text": [
      "你猜对了\n",
      "game over\n"
     ]
    }
   ],
   "source": [
    "result=8\n",
    "i=3\n",
    "while i:\n",
    "    temp=int(input(\"请猜一下我心中的数字是多少？\"))\n",
    "    # 注意在程序中判断是否相等使用==\n",
    "    # 8==\"8\" 不等于，必须把\"8\"变成数字8，使用int\n",
    "    if temp==result:\n",
    "        print(\"你猜对了\")\n",
    "        print('game over')\n",
    "        break\n",
    "        \n",
    "    else:\n",
    "        print(\"你猜错了！！\")\n",
    "        if temp<result:\n",
    "            print('little')\n",
    "        else:\n",
    "            print('big')\n",
    "        i-=1\n",
    "        print('you have %s chance' %i)  \n",
    "        \n"
   ]
  },
  {
   "cell_type": "code",
   "execution_count": 1,
   "metadata": {},
   "outputs": [
    {
     "name": "stdout",
     "output_type": "stream",
     "text": [
      "<class 'int'>\n",
      "4\n",
      "10\n",
      "123\n",
      "15\n",
      "10\n",
      "668\n",
      "0b1101111000\n",
      "0o1570\n",
      "0x378\n",
      "47 y+5\n",
      "<class 'bool'>\n",
      "6\n",
      "6\n",
      "0.25 <class 'float'>\n",
      "0.3333333333333333\n",
      "3.3333333333333335\n",
      "0.1\n",
      "0.30000000000000004\n",
      "<class 'complex'>\n",
      "1.0\n",
      "2.0\n",
      "0\n",
      "0\n",
      "0\n",
      "1.0\n",
      "0.0\n",
      "False bool的默认值\n",
      "True\n",
      "False\n",
      "True\n",
      "False\n",
      "(1+0j)\n",
      "(2+0j)\n",
      "4\n",
      "1\n",
      "2.0\n",
      "1.0\n",
      "(2+0j)\n",
      "(4.1+0j)\n",
      "(1+0j)\n",
      "True\n",
      "True\n",
      "True\n",
      "False\n",
      "<class 'complex'>\n",
      "<class 'float'>\n"
     ]
    }
   ],
   "source": [
    "\"\"\"\n",
    "第二章  数据类型\n",
    "\n",
    "数值类型：整数类型、浮点类型、复数类型\n",
    "布尔类型：是数值类型的子类型\n",
    "序列类型：列表、元组、字符串、字节\n",
    "映射类型：字典\n",
    "集合类型：集合\n",
    "\"\"\"\n",
    "\n",
    "\"\"\"\n",
    "数值类型\n",
    "一、整数 int\n",
    "1. 定义的方式：a=123\n",
    "\"\"\"\n",
    "a=123\n",
    "print(type(a))\n",
    "\n",
    "# 2.取值范围\n",
    "# 作业，找到python整数取值范围。\n",
    "\n",
    "# 3. 四种进制：逢n进位\n",
    "\"\"\"\n",
    "(1)二进制:0b或者0B开头\n",
    "\"\"\"\n",
    "b1=0b100\n",
    "# print默认打印的是十进制\n",
    "print(b1)\n",
    "b2=1001010222 # 二进制中不能有2\n",
    "\n",
    "#（2）八进制：0o或者0O开头\n",
    "c1=0o12\n",
    "print(c1)\n",
    "\n",
    "#（3）十进制：默认以十进制为准\n",
    "d=123\n",
    "print(d)\n",
    "\n",
    "#（4）十六进制：0x或者0X开头\n",
    "#  0-9 aA-fF\n",
    "f=0xf\n",
    "print(f)\n",
    "\n",
    "# 4.进制的转换\n",
    "# （1）其他进制转成十进制 乘幂法，底数--进制数  幂数--当前的位数-1\n",
    "x=0b1000\n",
    "# 1*2^3+0*2^2+...=8\n",
    "y=0b1010\n",
    "# 1*2^3+1*2^1=10\n",
    "print(y)\n",
    "z=0o1234\n",
    "# 1*8^3+2*8^2+3*8^1+4=668=512+128+24+4\n",
    "print(z)\n",
    "\n",
    "# （2）十进制转成其他进制：除2 取余法\n",
    "# 取的方向是从下到上\n",
    "a=9\n",
    "\n",
    "# 练习：\n",
    "# 1.1001\n",
    "# 如果二进制对应的十进制是多少？\n",
    "#1*2^3+1=9\n",
    "# 如果是八进制，对应十进制是多少？\n",
    "#1*8^3+1=513\n",
    "# 如果是十六进制是多少？\n",
    "#1*16^3+1=4097\n",
    "\n",
    "# 2.把10111010二进制转换成十进制。\n",
    "# 1*2^7+1*2^5+1*2^4+1*2^3+1*2^1=186\n",
    "\n",
    "# 3.888十进制的数，变成二进制？8进制是多少？16进制是多少？\n",
    "\n",
    "\n",
    "# 5.使用python的内部方法进行进制的转换\n",
    "# bin()  能够将对象转换成二进制\n",
    "x=888\n",
    "print(bin(x))\n",
    "# oct()  能够将对象转换成八进制\n",
    "print(oct(x))\n",
    "# hex()  能够将对象转换成十六进制\n",
    "print(hex(x))\n",
    "# int()  能够将对象转换成十进制，能够把字符转换成数字\n",
    "y=0b101010\n",
    "print(int(y)+5,\"y+5\")\n",
    "# 除了int方法以外，其他方法返回值都是str字符串\n",
    "# print(oct(x)+5)\n",
    "\n",
    "\n",
    "\n",
    "# 二、布尔类型  bool\n",
    "# 布尔类型是整数类型的子类型\n",
    "# True---1  False----0（注意大小写）\n",
    "t=True\n",
    "t2=False\n",
    "print(type(t2))\n",
    "print(1+5)\n",
    "print(True+5)   # 不要这样使用\n",
    "\n",
    "\n",
    "# 三、浮点类型 float\n",
    "# 小数，只支持十进制，不支持其他进制的浮点类型。\n",
    "# 1. 定义\n",
    "f=0.25\n",
    "print(f,type(f))\n",
    "\n",
    "# 2.支持科学计数法\n",
    "f1=0.000012\n",
    "f1=1.2e-5\n",
    "\n",
    "#3. 取值范围\n",
    "\n",
    "#4. 浮点类型的不精确性\n",
    "print(1/3)\n",
    "print(10/3)\n",
    "a=0.1\n",
    "print(a)\n",
    "print(0.1+0.2)\n",
    "\n",
    "\n",
    "\n",
    "# 四、复数  complex\n",
    "#1+2i\n",
    "x=1+2j\n",
    "print(type(x))\n",
    "# 复数类型的实部和虚部都是浮点类型\n",
    "print(x.real)\n",
    "print(x.imag)\n",
    "\n",
    "\n",
    "# 五、四种类型之间的转换\n",
    "# int(value)----将对象转换成整型，取整（不是四舍五入）\n",
    "print(int(0.1))\n",
    "print(int(0.9))\n",
    "print(int())# 默认返回0\n",
    "\n",
    "# float(value)----将对象转换成浮点类型\n",
    "print(float(1))\n",
    "print(float()) # 默认返回0.0\n",
    "\n",
    "#bool(value)-----将对象转换成布尔类型\n",
    "print(bool(),\"bool的默认值\")\n",
    "print(bool(2))\n",
    "print(bool(0))\n",
    "print(bool(0.1))\n",
    "print(bool(0.0))\n",
    "\n",
    "# complex(value)---将对象转换成复数类型\n",
    "print(complex(1))\n",
    "print(complex(2.0))\n",
    "\n",
    "i=2\n",
    "f=4.1\n",
    "c=1+2j\n",
    "b=True\n",
    "print(int(f))\n",
    "# print(int(c))  # 不能将复数类型转换成整型\n",
    "print(int(b))\n",
    "\n",
    "print(float(i))\n",
    "# print(float(c))  # 不能将复数类型转换成浮点类型\n",
    "print(float(b))\n",
    "\n",
    "# 其他三种类型都可以转换成浮点类型和布尔类型\n",
    "print(complex(i))\n",
    "print(complex(f))\n",
    "print(complex(b))\n",
    "\n",
    "print(bool(i))\n",
    "print(bool(f))\n",
    "print(bool(c))\n",
    "print(bool(0j))\n",
    "\n",
    "# 做算数运算，结果 取高级别的类型\n",
    "# 整型<  浮点类型  < 复数类型\n",
    "print(type(i+c))\n",
    "print(type(i+f))"
   ]
  },
  {
   "cell_type": "code",
   "execution_count": null,
   "metadata": {},
   "outputs": [],
   "source": []
  }
 ],
 "metadata": {
  "kernelspec": {
   "display_name": "Python 3",
   "language": "python",
   "name": "python3"
  },
  "language_info": {
   "codemirror_mode": {
    "name": "ipython",
    "version": 3
   },
   "file_extension": ".py",
   "mimetype": "text/x-python",
   "name": "python",
   "nbconvert_exporter": "python",
   "pygments_lexer": "ipython3",
   "version": "3.7.3"
  }
 },
 "nbformat": 4,
 "nbformat_minor": 2
}
