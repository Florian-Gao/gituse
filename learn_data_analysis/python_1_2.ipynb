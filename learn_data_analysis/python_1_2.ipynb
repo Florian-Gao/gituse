{
 "cells": [
  {
   "cell_type": "markdown",
   "metadata": {},
   "source": [
    "# python_1\n",
    "## day_3 and day_4"
   ]
  },
  {
   "cell_type": "code",
   "execution_count": 1,
   "metadata": {},
   "outputs": [
    {
     "name": "stdout",
     "output_type": "stream",
     "text": [
      "20013\n",
      "0b100111000101101\n",
      "0x4e2d\n",
      "中\n",
      "b'\\xe4\\xb8\\xad'\n",
      "b'\\xe4\\xb8\\xad'\n",
      "0b11100100 0b10111000 0b10101101\n"
     ]
    }
   ],
   "source": [
    "# 二、unicode 和 utf-8\n",
    "# 1. unicode\n",
    "a=\"中\"\n",
    "# 获得汉字的unicode编码\n",
    "# ord（chr）得到十进制数\n",
    "print(ord(a))\n",
    "print(bin(ord(a)))\n",
    "print(hex(ord(a)))  # 十六进制就是unicode编码：\\u十六进制\n",
    "print(\"\\u4e2d\") #\\uz转成汉字\n",
    "\n",
    "# 2. utf-8\n",
    "# 使用字符串下的encode方法获得\n",
    "# 在每个字节前面加\\x\n",
    "print(a.encode(\"utf-8\"))\n",
    "print(a.encode())\n",
    "print(bin(0xe4),bin(0xb8),bin(0xad))\n",
    "# 0b11100100 0b1011100010101101\n",
    "#           0b10011100010  1101\n",
    "# unicode码实际上可以看成utf-8编码的一部分，大量支持unicode码的历史软件仍然可以在utf-8下使用\n",
    "\n",
    "# 3.unicode和utf-8在计算机中工作方式\n",
    "# （1）计算机内存中统一使用unicode编码，当需要保存到硬盘，或者传输的时候，会转换成utf-8\n",
    "# （2）浏览网页的时候，服务器也会把动态生成的unicode内容转换成utf-8模式传输到浏览器。\n",
    "\n"
   ]
  },
  {
   "cell_type": "code",
   "execution_count": 2,
   "metadata": {},
   "outputs": [
    {
     "name": "stdout",
     "output_type": "stream",
     "text": [
      "b'abc\\xd6\\xd0\\xb9\\xfa'\n",
      "b'abc\\xe4\\xb8\\xad\\xe5\\x9b\\xbd'\n",
      "abc中国\n"
     ]
    }
   ],
   "source": [
    "\"\"\"\n",
    "第四章：数据类型\n",
    "\n",
    "字节和字符串之间的转换\n",
    "\"\"\"\n",
    "# 字节转换成字符：解码 decode\n",
    "# 字符转换成字节：编码 encode\n",
    "\n",
    "s=\"abc中国\"\n",
    "print(s.encode(\"gbk\"))\n",
    "print(s.encode(\"utf-8\"))\n",
    "b=s.encode()\n",
    "\n",
    "s1=b.decode()\n",
    "print(s1)"
   ]
  },
  {
   "cell_type": "code",
   "execution_count": 3,
   "metadata": {},
   "outputs": [],
   "source": [
    "# 4.\n",
    "# 输入一个三位正整数，输出该数值的百位，十位与个位。考虑再多一位呢？\n",
    "# 方式一：直接字符串的切片\n",
    "def que4():\n",
    "    x=input(\"输入一个N位整数\")\n",
    "    print(x[0],x[1],x[2])\n",
    "    for i in x:\n",
    "        print(i,end=\" \")\n",
    "\n",
    "def que42():\n",
    "    x=input(\"输入一个N位整数\")\n",
    "    for i in reversed(range (len(x))):\n",
    "        print(int(x)//10**i%10,end=\" \")"
   ]
  },
  {
   "cell_type": "code",
   "execution_count": 4,
   "metadata": {},
   "outputs": [
    {
     "name": "stdout",
     "output_type": "stream",
     "text": [
      "AadklfdfjDDJFAadfdkj\n"
     ]
    }
   ],
   "source": [
    "# 15.\n",
    "# 查资料，或者自己试一下str中的方法，将小写转大写，大写转小写\n",
    "s = \"aADKLFDFJddjfaADFDKJ\"\n",
    "print(s.swapcase())"
   ]
  },
  {
   "cell_type": "code",
   "execution_count": 5,
   "metadata": {},
   "outputs": [
    {
     "name": "stdout",
     "output_type": "stream",
     "text": [
      "-0b11011\n",
      "0b11100101\n",
      "216\n",
      "-4\n",
      "-216\n"
     ]
    }
   ],
   "source": [
    "# (2)-27 原码 10011011\n",
    "# （3）反码   11100100\n",
    "# （4）补码   11100101\n",
    "print(bin(-27))\n",
    "print(bin(-27&0b11111111))\n",
    "\n",
    "\n",
    "\n",
    "#这里左移与右移，如果是负数，先将补码的符号位拿出，\n",
    "#然后反码加一得原码，再加上符号位就行\n",
    "# 2.\n",
    "# 给出将 - 27 << 3  # 与 - 27 >> 3# 的过程。并在程序上验证是否正确\n",
    "# -27补码          10000000  01100101\n",
    "# -27补码          11111111  11100101\n",
    "# <<3 右侧以1填充  111111111  00101000\n",
    "# <<3 右侧以不填充 1      11  00101000\n",
    "# 反码            1      00  11010111\n",
    "# 原码            1      00  11011000    -216\n",
    "print(2**7+2**6+2**4+2**3)\n",
    "\n",
    "\n",
    "#>>3\n",
    "# -27补码                    11100101\n",
    "# >>3 左侧以1填充\n",
    "# 补码                       11111100\n",
    "# 反码                       10000011\n",
    "# 原码                       10000100   -4\n",
    "print(-27>>3)\n",
    "print(-27<<3)"
   ]
  },
  {
   "cell_type": "code",
   "execution_count": 6,
   "metadata": {},
   "outputs": [
    {
     "name": "stdout",
     "output_type": "stream",
     "text": [
      "hello1\n",
      "hello 1\n",
      "hello 1--- 2\n",
      "         hello world\n",
      "hello world\n",
      "hello world         \n",
      "he\n",
      "        he\n",
      "he        \n"
     ]
    }
   ],
   "source": [
    "\"\"\"\n",
    "%s  -----str(o)\n",
    "%d  ----带符号的十进制整数\n",
    "%f  ----浮点数，可以指定保留位数\n",
    "%r  -----repr(o)\n",
    "\"\"\"\n",
    "print(\"hello\"+str(1))\n",
    "print(\"hello %s\" % 1)\n",
    "print(\"hello %s--- %s\" % (1,2))\n",
    "#%ns------右对齐，占位符n位，>字符长度 的部分使用空格补齐。\n",
    "print(\"%20s\" % \"hello world\")\n",
    "print(\"%10s\" % \"hello world\")# 如果n<字符的长度，不会截断，会正常显示\n",
    "\n",
    "# 左对齐\n",
    "print(\"%-20s\" % \"hello world\")\n",
    "\n",
    "# 小数点后面的数代表取几位\n",
    "print(\"%.2s\" % \"hello world\")\n",
    "\n",
    "# %m.ns  m是占位符，如果是正数，右对齐，n取几位\n",
    "print(\"%10.2s\" % \"hello world\")\n",
    "print(\"%-10.2s\" % \"hello world\")"
   ]
  },
  {
   "cell_type": "code",
   "execution_count": 10,
   "metadata": {},
   "outputs": [
    {
     "name": "stdout",
     "output_type": "stream",
     "text": [
      "3\n",
      "3\n",
      "3\n",
      "3.14\n",
      "3.15\n",
      "3.145590\n",
      "3.14558999999999988617\n",
      "    3.15\n",
      "3.15\n",
      "00003.15\n"
     ]
    }
   ],
   "source": [
    "#%f 格式化浮点数\n",
    "# m.n%f  m占用多少位  n保留小数的位数\n",
    "print(\"%0.0f\" % 3.14159) #3\n",
    "print(\"%0.f\" % 3.14159) #3\n",
    "print(\"%.f\" % 3.14159) #3\n",
    "\n",
    "#保留n位，四舍五入\n",
    "print(\"%.2f\" % 3.14159)\n",
    "print(\"%.2f\" % 3.14559)\n",
    "print(\"%.6f\" % 3.14559)\n",
    "print(\"%.20f\" % 3.14559)\n",
    "\n",
    "# 整数部分 占位符，默认使用空格补齐\n",
    "print(\"%8.2f\" % 3.14559)\n",
    "print(\"%2.2f\" % 3.14559)#3.15\n",
    "# 可以指定是否使用0补齐，在整数前面加0\n",
    "print(\"%08.2f\" % 3.14559) #00003.15"
   ]
  },
  {
   "cell_type": "code",
   "execution_count": 13,
   "metadata": {},
   "outputs": [
    {
     "name": "stdout",
     "output_type": "stream",
     "text": [
      "hello and world\n",
      "hello      and world     \n",
      "hello      and      world\n",
      "  hello    and      world\n",
      "    he     and      world\n"
     ]
    }
   ],
   "source": [
    "# 二、format格式化\n",
    "# 格式：\n",
    "# {[参数/索引]:[对齐方式][占位数].[保留位数][s/f等格式(可省略)]}.format(要替换的值)\n",
    "# 默认<左对齐\n",
    "print(\"{} and {}\".format(\"hello\",\"world\"))\n",
    "print(\"{:10} and {:10}\".format(\"hello\",\"world\"))\n",
    "#  >右对齐\n",
    "print(\"{:<10s} and {:>10}\".format(\"hello\",\"world\"))\n",
    "# ^中间对齐\n",
    "print(\"{:^10} and {:>10s}\".format(\"hello\",\"world\"))\n",
    "#    he     and      world\n",
    "print(\"{:^10.2} and {:>10s}\".format(\"hello\",\"world\"))\n"
   ]
  },
  {
   "cell_type": "markdown",
   "metadata": {},
   "source": [
    "## control"
   ]
  },
  {
   "cell_type": "code",
   "execution_count": 15,
   "metadata": {},
   "outputs": [
    {
     "name": "stdout",
     "output_type": "stream",
     "text": [
      "1\n",
      "1\n",
      "输入错误\n"
     ]
    }
   ],
   "source": [
    "# 5. 三元表达式\n",
    "# 语句：x if 条件 else y\n",
    "x=1\n",
    "y=10\n",
    "if x<y:\n",
    "    min=x\n",
    "else:\n",
    "    min=y\n",
    "print(min)\n",
    "print(x if x<y else y)\n",
    "\n",
    "day=8\n",
    "print(\"工作日\" if day<=6 else (\"休息日\" if day==7 else \"输入错误\"))"
   ]
  },
  {
   "cell_type": "code",
   "execution_count": 16,
   "metadata": {},
   "outputs": [
    {
     "data": {
      "text/plain": [
       "'\\nassert 表达式 [,错误信息]\\n'"
      ]
     },
     "execution_count": 16,
     "metadata": {},
     "output_type": "execute_result"
    }
   ],
   "source": [
    "# 6. 断言\n",
    "# 判断某些语句是否正确 assert\n",
    "\"\"\"\n",
    "assert 表达式 [,错误信息]\n",
    "\"\"\"\n",
    "# assert 1<0  ,\"谁告诉你 1<0\"\n",
    "# print(\"其他模块执行\")"
   ]
  },
  {
   "cell_type": "code",
   "execution_count": 24,
   "metadata": {},
   "outputs": [
    {
     "name": "stdout",
     "output_type": "stream",
     "text": [
      "for循环中的其他代码\n",
      "找到3 了\n",
      "for循环中的其他代码\n",
      "找到3 了\n",
      "for循环中的其他代码\n",
      "找到3 了\n",
      "for循环中的其他代码\n",
      "找到3 了\n",
      "for循环中的其他代码\n",
      "找到3 了\n",
      "其他的代码段\n",
      "\n",
      "\n",
      "for循环中的其他代码\n",
      "for循环中的其他代码\n",
      "找到3 了\n",
      "for循环中的其他代码\n",
      "其他的代码段\n"
     ]
    }
   ],
   "source": [
    "# 3.跳出循环\n",
    "\"\"\"\n",
    "(1) break 跳出当前循环\n",
    "（2）continue  跳出循环后继续执行下一次循环\n",
    "\"\"\"\n",
    "# break\n",
    "for i in range(0,5):\n",
    "    for j in range(2,5):\n",
    "        if j==3:\n",
    "            print(\"找到3 了\")\n",
    "            break #跳出一层\n",
    "        print('for循环中的其他代码')\n",
    "print(\"其他的代码段\")\n",
    "\n",
    "print('\\n')\n",
    "# continue\n",
    "for i in range(1,5):\n",
    "    if i==3:\n",
    "        print(\"找到3 了\")\n",
    "        continue #开始下一个循环\n",
    "    print(\"for循环中的其他代码\")\n",
    "\n",
    "print(\"其他的代码段\")"
   ]
  },
  {
   "cell_type": "code",
   "execution_count": 25,
   "metadata": {},
   "outputs": [
    {
     "name": "stdout",
     "output_type": "stream",
     "text": [
      "没找到\n"
     ]
    }
   ],
   "source": [
    "# 4.在循环后面使用else\n",
    "# else：在循环迭代正常完成之后执行的代码段\n",
    "# 当for循环、while循环异常结束（break），就不执行else\n",
    "for i in range(4,100):\n",
    "    if i==3:\n",
    "        print(\"找到3了\")\n",
    "        break\n",
    "else:\n",
    "    print(\"没找到\")\n"
   ]
  },
  {
   "cell_type": "code",
   "execution_count": 26,
   "metadata": {},
   "outputs": [
    {
     "name": "stdout",
     "output_type": "stream",
     "text": [
      "a 0\n",
      "b 1\n",
      "c 2\n",
      "=====\n",
      "0 a\n",
      "a 0\n",
      "1 b\n",
      "b 1\n",
      "2 c\n",
      "c 2\n"
     ]
    }
   ],
   "source": [
    "#5. enumerate\n",
    "index=0\n",
    "for i in \"abc\":\n",
    "    print(i,index)\n",
    "    index+=1\n",
    "print(\"=====\")\n",
    "# 使用enumerate产生的对象，包含两个内容，一个是index 一个是当前元素\n",
    "# index就是第一个元素\n",
    "for a,b in enumerate(\"abc\"):\n",
    "    # print(i,index)\n",
    "    print(a,b)\n",
    "    print(b,a)"
   ]
  },
  {
   "cell_type": "code",
   "execution_count": 30,
   "metadata": {},
   "outputs": [
    {
     "ename": "AssertionError",
     "evalue": "谁告诉你 1<0",
     "output_type": "error",
     "traceback": [
      "\u001b[0;31m---------------------------------------------------------------------------\u001b[0m",
      "\u001b[0;31mAssertionError\u001b[0m                            Traceback (most recent call last)",
      "\u001b[0;32m<ipython-input-30-5759fbf9e200>\u001b[0m in \u001b[0;36m<module>\u001b[0;34m\u001b[0m\n\u001b[1;32m      4\u001b[0m \u001b[0;32massert\u001b[0m \u001b[0m表达式\u001b[0m \u001b[0;34m[\u001b[0m\u001b[0;34m,\u001b[0m\u001b[0m错误信息\u001b[0m\u001b[0;34m]\u001b[0m\u001b[0;34m\u001b[0m\u001b[0;34m\u001b[0m\u001b[0m\n\u001b[1;32m      5\u001b[0m \"\"\"\n\u001b[0;32m----> 6\u001b[0;31m \u001b[0;32massert\u001b[0m \u001b[0;36m1\u001b[0m\u001b[0;34m<\u001b[0m\u001b[0;36m0\u001b[0m \u001b[0;34m,\u001b[0m\u001b[0;34m\"谁告诉你 1<0\"\u001b[0m\u001b[0;34m\u001b[0m\u001b[0;34m\u001b[0m\u001b[0m\n\u001b[0m\u001b[1;32m      7\u001b[0m \u001b[0mprint\u001b[0m\u001b[0;34m(\u001b[0m\u001b[0;34m\"其他模块执行\"\u001b[0m\u001b[0;34m)\u001b[0m\u001b[0;34m\u001b[0m\u001b[0;34m\u001b[0m\u001b[0m\n",
      "\u001b[0;31mAssertionError\u001b[0m: 谁告诉你 1<0"
     ]
    }
   ],
   "source": [
    "# 6. 断言\n",
    "# 判断某些语句是否正确 assert\n",
    "\"\"\"\n",
    "assert 表达式 [,错误信息]\n",
    "\"\"\"\n",
    "assert 1<0 ,\"谁告诉你 1<0\"\n",
    "print(\"其他模块执行\")\n"
   ]
  },
  {
   "cell_type": "code",
   "execution_count": 36,
   "metadata": {},
   "outputs": [
    {
     "name": "stdout",
     "output_type": "stream",
     "text": [
      "提高了18.1%\n",
      "提高了18.1%\n"
     ]
    }
   ],
   "source": [
    "s1 = 72\n",
    "s2 = 85\n",
    "r = (s2 - s1) / s1\n",
    "print(\"提高了{:.1f}%\".format(r * 100))\n",
    "\n",
    "# 方式二 %\n",
    "print(\"提高了%.1f%%\" % (r * 100)) #用%转义%"
   ]
  },
  {
   "cell_type": "code",
   "execution_count": 48,
   "metadata": {},
   "outputs": [
    {
     "name": "stdout",
     "output_type": "stream",
     "text": [
      "['KATE', 'LILY', 'ALICE', 'JERRY']\n"
     ]
    }
   ],
   "source": [
    "#列表推导式\n",
    "names=[\"bob\",\"tom\",\"kate\",\"lily\",\"alice\",\"jerry\"]\n",
    "print([i.upper() for i in names if len(i)>3]) #带【】，原因是因为输出的是list"
   ]
  },
  {
   "cell_type": "code",
   "execution_count": 49,
   "metadata": {},
   "outputs": [
    {
     "name": "stdout",
     "output_type": "stream",
     "text": [
      "(1, 2, 3, 4)\n"
     ]
    }
   ],
   "source": [
    "print((1,2)+(3,4))"
   ]
  },
  {
   "cell_type": "code",
   "execution_count": 51,
   "metadata": {},
   "outputs": [
    {
     "name": "stdout",
     "output_type": "stream",
     "text": [
      "(1, 2, 3, [23], 6, -5) <class 'str'>\n"
     ]
    }
   ],
   "source": [
    "t=(1,2,3,[23],6,-5)\n",
    "print(str(t),type(str(t)))  # 可以将元组变成字符串，但是包含()"
   ]
  },
  {
   "cell_type": "code",
   "execution_count": 57,
   "metadata": {},
   "outputs": [
    {
     "name": "stdin",
     "output_type": "stream",
     "text": [
      "输入一个值 55\n"
     ]
    },
    {
     "name": "stdout",
     "output_type": "stream",
     "text": [
      "[1, 4, 5, 7, 9, 55, 99, 100]\n"
     ]
    }
   ],
   "source": [
    "# 有一个已经排好序的升序列表。现输入一个数，要求按排序将它插入数组中。\n",
    "def que2_1(a):\n",
    "    for index,i in enumerate(li):\n",
    "        if a<i:\n",
    "            li.insert(index,a)\n",
    "            break\n",
    "    print(li)\n",
    "\n",
    "li = [1, 4, 7, 99, 5, 9,100]\n",
    "li.sort()\n",
    "a = int(input(\"输入一个值\"))\n",
    "que2_1(a)\n",
    "    "
   ]
  },
  {
   "cell_type": "code",
   "execution_count": 60,
   "metadata": {},
   "outputs": [
    {
     "name": "stdout",
     "output_type": "stream",
     "text": [
      "[[1, 4, 7], [2, 5, 8], [3, 6, 9]]\n"
     ]
    }
   ],
   "source": [
    "# 实现二维列表（矩阵）的转置。如\n",
    "li = [[1, 2, 3],\n",
    "      [4, 5, 6],\n",
    "      [7, 8, 9]]\n",
    "l=[]\n",
    "for i in range(len(li)):\n",
    "    a=[]\n",
    "    for j in li:\n",
    "        a.append(j[i])\n",
    "    l.append(a)\n",
    "print(l)"
   ]
  },
  {
   "cell_type": "code",
   "execution_count": 76,
   "metadata": {},
   "outputs": [
    {
     "name": "stdout",
     "output_type": "stream",
     "text": [
      "['-12.22℃', '-11.67℃', '-11.11℃']\n"
     ]
    }
   ],
   "source": [
    "h=[10,11,12]\n",
    "print(['{:.2f}℃'.format((i-32)/1.8) for i in h])\n"
   ]
  },
  {
   "cell_type": "code",
   "execution_count": 71,
   "metadata": {},
   "outputs": [
    {
     "name": "stdin",
     "output_type": "stream",
     "text": [
      "输入一个温度 55\n"
     ]
    },
    {
     "name": "stdout",
     "output_type": "stream",
     "text": [
      "['12.78℃']\n",
      "[12.78]\n"
     ]
    }
   ],
   "source": [
    "h=[]\n",
    "h1=[]\n",
    "for i in range(1):\n",
    "    x=float(input(\"输入一个温度\"))\n",
    "    h.append(\"{:.2f}℃\".format((x-32)/1.8))\n",
    "    h1.append(float(\"{:.2f}\".format((x-32)/1.8)))\n",
    "print(h)\n",
    "print(h1)\n",
    "h=[10,11,12]"
   ]
  },
  {
   "cell_type": "code",
   "execution_count": 84,
   "metadata": {},
   "outputs": [
    {
     "name": "stdout",
     "output_type": "stream",
     "text": [
      "[['new', 2, 3], [4, 5, 6]] [['new', 2, 3], [4, 5, 6], ['new', 2, 3], [4, 5, 6]]\n",
      "4496323280 4495685096\n",
      "4495727048 4495727048\n",
      "{4: 'php_new', 5: 'c++', 9: ['new', 2, 3]} {4: 'php', 5: 'c++', 9: ['new', 2, 3]}\n"
     ]
    }
   ],
   "source": [
    "b = [[1, 2, 3], [4, 5, 6]]\n",
    "b2=b*2\n",
    "b2[0][0]=\"new\" #只会copy第一层\n",
    "print(b,b2)\n",
    "\n",
    "b={4:\"php\",5:\"c++\",9:[1,2,3]}\n",
    "b2=b.copy() #只是copy第一层\n",
    "print(id(b),id(b2))\n",
    "print(id(b[9]),id(b2[9]))\n",
    "b[4]=\"php_new\"\n",
    "b[9][0]=\"new\"\n",
    "print(b,b2) \n"
   ]
  },
  {
   "cell_type": "code",
   "execution_count": 82,
   "metadata": {},
   "outputs": [
    {
     "name": "stdout",
     "output_type": "stream",
     "text": [
      "time.struct_time(tm_year=2020, tm_mon=3, tm_mday=10, tm_hour=22, tm_min=56, tm_sec=21, tm_wday=1, tm_yday=70, tm_isdst=0)\n",
      "2020-03-10 22:56:21\n",
      "2020-03-10 22:56:22\n"
     ]
    }
   ],
   "source": [
    "import time\n",
    "print(time.localtime())\n",
    "print(time.strftime(\"%Y-%m-%d %H:%M:%S\",time.localtime()))\n",
    "time.sleep(1)\n",
    "print(time.strftime(\"%Y-%m-%d %H:%M:%S\",time.localtime()))"
   ]
  },
  {
   "cell_type": "markdown",
   "metadata": {},
   "source": [
    "## 集合"
   ]
  },
  {
   "cell_type": "code",
   "execution_count": 85,
   "metadata": {},
   "outputs": [
    {
     "name": "stdout",
     "output_type": "stream",
     "text": [
      "{'d', 'b'}\n",
      "{'g', 'f'}\n",
      "{'a', 'j', 'c', 'd', 'f', 'b', 'h', 'g'}\n",
      "{'a', 'j', 'c', 'd', 'f', 'b', 'h', 'g'}\n",
      "{'h', 'a', 'j', 'c'}\n",
      "{'h', 'a', 'j', 'c'}\n",
      "{'b', 'd', 'g', 'f'}\n"
     ]
    }
   ],
   "source": [
    "#差集-  、并集| 、交集&、相对差集^4\n",
    "s1={\"a\",\"b\",\"c\",\"d\",\"h\",\"j\"}\n",
    "s2={\"a\",\"g\",\"c\",\"f\",\"h\",\"j\"}\n",
    "# 差集：\n",
    "print(s1-s2)\n",
    "print(s2-s1)\n",
    "\n",
    "# 并集 合并两个集合，去除重复的元素\n",
    "print(s1|s2)\n",
    "print(s2|s1)\n",
    "s3=s1|s2\n",
    "s4=s2|s1\n",
    "# print(id(s3),id(s4)) False\n",
    "\n",
    "# 交集 &\n",
    "print(s1&s2)\n",
    "print(s2&s1)\n",
    "\n",
    "# 相对差集：两个集合中不同时出现的元素\n",
    "print(s1^s2)\n"
   ]
  },
  {
   "cell_type": "code",
   "execution_count": 87,
   "metadata": {},
   "outputs": [
    {
     "name": "stdout",
     "output_type": "stream",
     "text": [
      "{'c', 'b'}\n",
      "{'c', 'b'}\n"
     ]
    }
   ],
   "source": [
    "#(2)删除\n",
    "# 通过指定删除的元素\n",
    "# 如果元素不存在，会报错\n",
    "a={\"a\",\"b\",\"c\"}\n",
    "a.remove(\"a\")\n",
    "print(a)\n",
    "# a.remove(\"aa\")\n",
    "# discard如果元素不存在，不报错\n",
    "\n",
    "a.discard(\"aa\")\n",
    "print(a)"
   ]
  },
  {
   "cell_type": "code",
   "execution_count": 88,
   "metadata": {},
   "outputs": [
    {
     "name": "stdout",
     "output_type": "stream",
     "text": [
      "{'i'}\n",
      "{'i'}\n",
      "{'i', 'a', 'c'}\n",
      "{'i'}\n",
      "{'a', 'c'}\n",
      "{'a', 'c'}\n",
      "{'a', 'c', 'd', 'f', 'i', 'b', 'h'}\n",
      "{'a', 'c', 'd', 'f', 'i', 'b', 'h'}\n",
      "{'i', 'b', 'd', 'h', 'f'}\n",
      "{'i', 'b', 'd', 'h', 'f'}\n",
      "{'d', 'f', 'i', 'b', 'h'}\n",
      "False\n",
      "True\n",
      "True\n"
     ]
    }
   ],
   "source": [
    "#（4）交集、并集、差集、相对差集\n",
    "a={\"a\",\"i\",\"c\"}\n",
    "b={\"a\",\"b\",\"c\",\"d\",\"f\",\"h\"}\n",
    "# 差集：返回在当前集合中存在，但不在参数集合中的元素\n",
    "# a-b\n",
    "print(a.difference(b))\n",
    "print(a-b)\n",
    "print(a)\n",
    "# 带update的代表原地修改\n",
    "a.difference_update(b)\n",
    "print(a)\n",
    "\n",
    "# 交集\n",
    "a={\"a\",\"i\",\"c\"}\n",
    "b={\"a\",\"b\",\"c\",\"d\",\"f\",\"h\"}\n",
    "print(a.intersection(b))\n",
    "a.intersection_update(b)\n",
    "print(a)\n",
    "\n",
    "# 并集\n",
    "a={\"a\",\"i\",\"c\"}\n",
    "b={\"a\",\"b\",\"c\",\"d\",\"f\",\"h\"}\n",
    "print(a.union(b))\n",
    "a.update(b)\n",
    "print(a)\n",
    "\n",
    "# 对称差集\n",
    "a={\"a\",\"i\",\"c\"}\n",
    "b={\"a\",\"b\",\"c\",\"d\",\"f\",\"h\"}\n",
    "print(a.symmetric_difference(b))\n",
    "print(a^b)\n",
    "a.symmetric_difference_update(b)\n",
    "print(a)\n",
    "\n",
    "# 判断交集是否为空\n",
    "a={\"a\",\"i\",\"c\"}\n",
    "b={\"a\",\"b\",\"c\",\"d\",\"f\",\"h\"}\n",
    "print(a.isdisjoint(b))\n",
    "\n",
    "# 判断当前是否为参数集合的子集\n",
    "a={\"a\",\"c\"}\n",
    "b={\"a\",\"b\",\"c\",\"d\",\"f\",\"h\"}\n",
    "print(a.issubset(b))\n",
    "\n",
    "# 判断当前集合是否为参数集合的父集\n",
    "a={\"a\",\"c\"}\n",
    "b={\"a\",\"b\",\"c\",\"d\",\"f\",\"h\"}\n",
    "print(b.issuperset(a))\n"
   ]
  },
  {
   "cell_type": "code",
   "execution_count": 89,
   "metadata": {},
   "outputs": [
    {
     "name": "stdout",
     "output_type": "stream",
     "text": [
      "{'c_new', 'a_new', 'b_new'} 集合推导式\n"
     ]
    }
   ],
   "source": [
    "b={\"a\",\"b\",\"c\"}\n",
    "print({i+\"_new\" for i in b},\"集合推导式\")"
   ]
  },
  {
   "cell_type": "code",
   "execution_count": 90,
   "metadata": {},
   "outputs": [
    {
     "name": "stdout",
     "output_type": "stream",
     "text": [
      "3\n"
     ]
    }
   ],
   "source": [
    "# 3.现存任意两个字符串s1与s2，判断s1中的字符在s2中存在的个数\n",
    "# （重复的算1个，一条语句实现）\n",
    "s1=\"abco\"\n",
    "s2=\"djkcdcdlfadjflbldjdlfc\"\n",
    "#思路：去重复，求交集，len\n",
    "print(len(set(s1) & set(s2)))"
   ]
  },
  {
   "cell_type": "code",
   "execution_count": 92,
   "metadata": {},
   "outputs": [
    {
     "name": "stdout",
     "output_type": "stream",
     "text": [
      "Help on method_descriptor:\n",
      "\n",
      "update(...)\n",
      "    Update a set with the union of itself and others.\n",
      "\n"
     ]
    }
   ],
   "source": [
    "help(set.update)"
   ]
  },
  {
   "cell_type": "code",
   "execution_count": 97,
   "metadata": {},
   "outputs": [
    {
     "name": "stdout",
     "output_type": "stream",
     "text": [
      "False\n"
     ]
    }
   ],
   "source": [
    "# 8.不使用for循环判断search字符串中的字母是否存在在a字符串中。\n",
    "search=\"abc\"\n",
    "a=\"djkldfjalkdajbfsk\"\n",
    "\"\"\"\n",
    "1. set\n",
    "\"\"\"\n",
    "search_set=set(search)\n",
    "a_set=set(a)\n",
    "a_set.update(search_set)\n",
    "#b=a_set^search_set\n",
    "print(len(a_set)==len(set(a)))"
   ]
  },
  {
   "cell_type": "code",
   "execution_count": 99,
   "metadata": {},
   "outputs": [
    {
     "name": "stdout",
     "output_type": "stream",
     "text": [
      "aassbbccdd853AJDKAFJd\n",
      "['a', 's', 'D', 'c', 'K', 'd', 'F', 'A', '5', '3', '8', 'b', 'J']\n",
      "['a', 's', 'b', 'c', 'd', '8', '5', '3', 'A', 'J', 'D', 'K', 'F']\n",
      "asbcd853AJDKF\n"
     ]
    }
   ],
   "source": [
    "# 7.请去除a字符串多次出现的字母，仅留最先出现的一个。例 ‘abcabb’，\n",
    "# 经过去除后，按照之前顺序输出 ‘abc’\n",
    "\n",
    "a=\"aassbbccdd853AJDKAFJd\"\n",
    "print(a)\n",
    "a_list=list(set(a)) #先变成元组，再用list表示\n",
    "print(a_list)\n",
    "a_list.sort(key=a.index) #按照之前的顺序输出a_list\n",
    "print(a_list)\n",
    "print(\"\".join(a_list)) #把a_list连接"
   ]
  },
  {
   "cell_type": "code",
   "execution_count": 101,
   "metadata": {},
   "outputs": [
    {
     "name": "stdout",
     "output_type": "stream",
     "text": [
      "{1: 'a_new', 2: 'b', 3: 'c', 4: ['1_new', 2]} {1: 'a', 2: 'b', 3: 'c', 4: ['1_new', 2]} {1: 'a', 2: 'b', 3: 'c', 4: [1, 2]}\n"
     ]
    }
   ],
   "source": [
    "import copy\n",
    "d={1:\"a\",2:\"b\",3:\"c\",4:[1,2]}\n",
    "d1=copy.copy(d)\n",
    "d2=copy.deepcopy(d) #deepcopy是全都自己建一个新的\n",
    "d[1]=\"a_new\"\n",
    "d[4][0]=\"1_new\"\n",
    "#print(id(d),id(d1),id(d2))\n",
    "print(d,d1,d2)"
   ]
  },
  {
   "cell_type": "code",
   "execution_count": null,
   "metadata": {},
   "outputs": [],
   "source": []
  }
 ],
 "metadata": {
  "kernelspec": {
   "display_name": "Python 3",
   "language": "python",
   "name": "python3"
  },
  "language_info": {
   "codemirror_mode": {
    "name": "ipython",
    "version": 3
   },
   "file_extension": ".py",
   "mimetype": "text/x-python",
   "name": "python",
   "nbconvert_exporter": "python",
   "pygments_lexer": "ipython3",
   "version": "3.7.3"
  }
 },
 "nbformat": 4,
 "nbformat_minor": 2
}
