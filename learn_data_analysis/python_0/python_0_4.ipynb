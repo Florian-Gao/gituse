{
 "cells": [
  {
   "cell_type": "markdown",
   "metadata": {},
   "source": [
    "# stage0\n",
    "## day7 and day8"
   ]
  },
  {
   "cell_type": "markdown",
   "metadata": {},
   "source": [
    "## 字典"
   ]
  },
  {
   "cell_type": "code",
   "execution_count": 1,
   "metadata": {},
   "outputs": [
    {
     "name": "stdout",
     "output_type": "stream",
     "text": [
      "{'tom': 90, 'jerry': 60, 'kate': 50} <class 'dict'>\n",
      "90\n"
     ]
    }
   ],
   "source": [
    "s={\"tom\":90,\"jerry\":60,\"kate\":50}\n",
    "print(s,type(s))\n",
    "\n",
    "# 字典查询速度快：字典的key会使用hash函数映射成一个hashcode（整数），hashcode指向的是值的地址。\n",
    "# 字典的特点\n",
    "#（1）字典中的键值对是无序存储\n",
    "#（2）字典中的key必须是不可变类型 \n",
    "# 在字典中key要求是不可变类型（字符串、数值、元组（所有元素必须是不可变类型））\n",
    "#（3）字典中的key不能重复\n",
    "\n",
    "# 字典的key和value的访问\n",
    "# 格式: 字典名[key]\n",
    "print(s[\"tom\"])\n",
    "\n",
    "# 2. 字典的操作： 运算符\n",
    "# 不支持+ * >  <\n",
    "# print(s+{\"lucky\":88})"
   ]
  },
  {
   "cell_type": "code",
   "execution_count": 2,
   "metadata": {},
   "outputs": [
    {
     "name": "stdout",
     "output_type": "stream",
     "text": [
      "True\n",
      "False\n",
      "4551884016 4551839248\n",
      "4496519360 4496519360\n"
     ]
    }
   ],
   "source": [
    "# is  ==\n",
    "s1={\"tom\":90,\"jerry\":60,\"kate\":50}\n",
    "s2={\"tom\":90,\"jerry\":60,\"kate\":50}\n",
    "print(s1==s2)\n",
    "print(s1 is s2)\n",
    "print(id(s1),id(s2))\n",
    "print(id(s1[\"tom\"]),id(s2[\"tom\"]))  #元组很相似，最后指的值一样，但是中间的哪个指针不同"
   ]
  },
  {
   "cell_type": "code",
   "execution_count": 3,
   "metadata": {},
   "outputs": [
    {
     "name": "stdout",
     "output_type": "stream",
     "text": [
      "True\n"
     ]
    }
   ],
   "source": [
    "# in  not in : key是否存在在字典中。\n",
    "print(\"tom\" in s1)\n",
    "#print(90 in s1) 不能直接判断value在不在字典中"
   ]
  },
  {
   "cell_type": "code",
   "execution_count": 4,
   "metadata": {},
   "outputs": [
    {
     "name": "stdout",
     "output_type": "stream",
     "text": [
      "<class 'dict'>\n",
      "{1: None, 2: None, 3: None}\n",
      "{1: 'number', 2: 'number', 3: 'number'}\n",
      "{1: ('one', 'two', 'three'), 2: ('one', 'two', 'three'), 3: ('one', 'two', 'three')}\n"
     ]
    }
   ],
   "source": [
    "# 3. 字典相关方法\n",
    "# （1）创建类别\n",
    "# fromkeys：使用序列中的每一个元素作为key生成字典,value使用统一的值\n",
    "d={}\n",
    "print(type(d))\n",
    "print(d.fromkeys((1,2,3)))\n",
    "print(d.fromkeys((1,2,3),\"number\"))\n",
    "print(d.fromkeys((1,2,3),(\"one\",\"two\",\"three\")))#容易记错"
   ]
  },
  {
   "cell_type": "code",
   "execution_count": 5,
   "metadata": {},
   "outputs": [
    {
     "name": "stdout",
     "output_type": "stream",
     "text": [
      "60\n",
      "{'tom': 90, 'kate': 50}\n"
     ]
    }
   ],
   "source": [
    "# （2）删除\n",
    "# pop :删除指定的键值对，同时会返回该键绑定的值\n",
    "s1={\"tom\":90,\"jerry\":60,\"kate\":50}\n",
    "print(s1.pop(\"jerry\"))\n",
    "print(s1)\n",
    "# print(s1.pop(\"aa\"))  # 如果键不存在，会报错"
   ]
  },
  {
   "cell_type": "code",
   "execution_count": 6,
   "metadata": {},
   "outputs": [
    {
     "name": "stdout",
     "output_type": "stream",
     "text": [
      "90\n",
      "90\n",
      "None\n",
      "没有这个key！！\n",
      "90\n"
     ]
    }
   ],
   "source": [
    "# （3）获取\n",
    "# get(key)\n",
    "s1={\"tom\":90,\"jerry\":60,\"kate\":50}\n",
    "print(s1.get(\"tom\"))\n",
    "print(s1[\"tom\"])\n",
    "print(s1.get(\"aa\")) # 跟字典[key]方式比起来，\n",
    "# get方法如果key不存在，不会报错，返回None\n",
    "# 使用print的时候，可以指定错误信息\n",
    "# 第一个参数是要查找的key，第二个参数：如果key不存在会返回的值\n",
    "print(s1.get(\"aa\",\"没有这个key！！\"))\n",
    "print(s1.get(\"tom\",\"没有这个key！！\"))"
   ]
  },
  {
   "cell_type": "code",
   "execution_count": 7,
   "metadata": {},
   "outputs": [
    {
     "name": "stdout",
     "output_type": "stream",
     "text": [
      "dict_keys(['tom', 'jerry', 'kate'])\n",
      "tom\n",
      "jerry\n",
      "kate\n",
      "dict_values([90, 60, 50])\n",
      "90\n",
      "60\n",
      "50\n",
      "dict_items([('tom', 90), ('jerry', 60), ('kate', 50)])\n",
      "tom 90\n",
      "jerry 60\n",
      "kate 50\n",
      "('tom', 90)\n",
      "('jerry', 60)\n",
      "('kate', 50)\n",
      "90 tom\n",
      "60 jerry\n",
      "50 kate\n",
      "tom 90\n",
      "jerry 60\n",
      "kate 50\n"
     ]
    }
   ],
   "source": [
    "# 4. 字典的遍历\n",
    "s1={\"tom\":90,\"jerry\":60,\"kate\":50}\n",
    "# （1）返回所有的键\n",
    "print(s1.keys())\n",
    "for i in s1.keys():\n",
    "    print(i)\n",
    "#（2）返回所有的值\n",
    "print(s1.values())\n",
    "for i in s1.values():\n",
    "    print(i)\n",
    "\n",
    "# (3)返回所有的键值对\n",
    "print(s1.items())\n",
    "for k,v in s1.items():\n",
    "    print(k,v)\n",
    "for k in s1.items():\n",
    "    print(k)\n",
    "for t in s1.items():\n",
    "    # print(t[0],t[1])\n",
    "    print(t[1],t[0])\n",
    "for t in s1.keys():\n",
    "    print(t,s1[t])"
   ]
  },
  {
   "cell_type": "markdown",
   "metadata": {},
   "source": [
    "## 集合\n",
    "\n"
   ]
  },
  {
   "cell_type": "code",
   "execution_count": 9,
   "metadata": {},
   "outputs": [
    {
     "data": {
      "text/plain": [
       "'\\n集合跟字典相比，就像只存储了字典中的key： \\n   （1）不能重复\\n   （2）元素是不可变类型\\n   （3）无序\\n# 一定注意，集合不能使用索引去获取元素\\n'"
      ]
     },
     "execution_count": 9,
     "metadata": {},
     "output_type": "execute_result"
    }
   ],
   "source": [
    "\"\"\"\n",
    "集合 set\n",
    "\"\"\"\n",
    "'''\n",
    "集合跟字典相比，就像只存储了字典中的key： \n",
    "   （1）不能重复\n",
    "   （2）元素是不可变类型\n",
    "   （3）无序\n",
    "# 一定注意，集合不能使用索引去获取元素\n",
    "'''"
   ]
  },
  {
   "cell_type": "code",
   "execution_count": 10,
   "metadata": {},
   "outputs": [
    {
     "name": "stdout",
     "output_type": "stream",
     "text": [
      "{1, (1, 2, 3)}\n"
     ]
    }
   ],
   "source": [
    "# 集合中的元素必须是不可变类型。\n",
    "# c={[1,2,3],1}\n",
    "# print(c)\n",
    "c={(1,2,3),1}\n",
    "print(c)\n"
   ]
  },
  {
   "cell_type": "code",
   "execution_count": 15,
   "metadata": {},
   "outputs": [
    {
     "name": "stdout",
     "output_type": "stream",
     "text": [
      "{1, 2, 3, 4}\n",
      "{1, 2, 3}\n"
     ]
    }
   ],
   "source": [
    "# 3. 集合的相关方法\n",
    "# （1）添加\n",
    "s={1,2,3}\n",
    "s.add(4)\n",
    "#没有append和insert\n",
    "print(s)\n",
    "\n",
    "# (2) 删除 删除指定内容的元素，如果不存在会报错\n",
    "s.remove(4)\n",
    "#s.pop(4) 字典是pop，集合只能用remove\n",
    "print(s)\n",
    "# s.remove(\"dd\")"
   ]
  },
  {
   "cell_type": "code",
   "execution_count": 16,
   "metadata": {},
   "outputs": [
    {
     "name": "stdout",
     "output_type": "stream",
     "text": [
      "['a', 'b', 'c']\n",
      "('a', 'b', 'c')\n",
      "{'b', 'a', 'c'}\n",
      "{'tom': 90, 'jerry': 60, 'kate': 50}\n",
      "[1, 2, 3, 4, 5, 6, 7, 8, 9, 10, 11, 12, 13, 14, 15, 16, 17, 18, 19]\n"
     ]
    }
   ],
   "source": [
    "# 数据转换\n",
    "# 列表 list\n",
    "# 元组 tuple\n",
    "# 字典 dict\n",
    "# 集合 set\n",
    "\n",
    "s=\"abc\"\n",
    "print(list(s))\n",
    "print(tuple(s))\n",
    "print(set(s))\n",
    "# print(dict(key=value,key=value))\n",
    "print(dict(tom=90,jerry=60,kate=50))\n",
    "\n",
    "print(list(range(1,20)))"
   ]
  },
  {
   "cell_type": "code",
   "execution_count": 17,
   "metadata": {},
   "outputs": [
    {
     "name": "stdout",
     "output_type": "stream",
     "text": [
      "[1, 2, 5, 4, 6, 8, 0]\n",
      "[0, 1, 2, 4, 5, 6, 8]\n"
     ]
    }
   ],
   "source": [
    "# 3.\n",
    "# 现在有一个列表list = [1, 2, 5, 4, 1, 5, 6, 8, 0, 2]，\n",
    "# 希望去除重复元素，使用set和不使用set两种方式\n",
    "\n",
    "list1 = [1, 2, 5, 4, 1, 5, 6, 8, 0, 2]\n",
    "temp=[]\n",
    "for x in list1:\n",
    "    if x not in temp:\n",
    "        temp.append(x)\n",
    "list1=temp\n",
    "print(list1)\n",
    "\n",
    "list1 = [1, 2, 5, 4, 1, 5, 6, 8, 0, 2]\n",
    "print(list(set(list1)))\n"
   ]
  },
  {
   "cell_type": "code",
   "execution_count": 23,
   "metadata": {},
   "outputs": [
    {
     "name": "stdout",
     "output_type": "stream",
     "text": [
      "None [1, 2, 3]\n"
     ]
    }
   ],
   "source": [
    "li=[1,2,3]\n",
    "\n",
    "print(li.sort(),li) #注意这里的li.sort()是一种方法，直接放进到li里面去了\n"
   ]
  },
  {
   "cell_type": "markdown",
   "metadata": {},
   "source": [
    "## 函数"
   ]
  },
  {
   "cell_type": "code",
   "execution_count": 24,
   "metadata": {},
   "outputs": [
    {
     "name": "stdout",
     "output_type": "stream",
     "text": [
      "****\n",
      "****\n",
      "**\n",
      "**\n",
      "**\n",
      "**\n",
      "******\n",
      "******\n",
      "******\n",
      "******\n",
      "******\n"
     ]
    }
   ],
   "source": [
    "#(2)默认参数\n",
    "# 当定义的时候，指定参数的名字和参数的默认值；\n",
    "# 应用的场合：当调用者有的时候不希望出入参数时，可以直接使用默认值赋值的情况\n",
    "\"\"\"\n",
    "格式\n",
    "def 函数名(参数名=默认值,....):\n",
    "  函数体\n",
    "\"\"\"\n",
    "def psNew(x,line=5):\n",
    "    for i in range(line):\n",
    "        print(\"*\" * x)\n",
    "psNew(4,2)\n",
    "psNew(2,4)\n",
    "psNew(6)"
   ]
  },
  {
   "cell_type": "code",
   "execution_count": 29,
   "metadata": {},
   "outputs": [
    {
     "name": "stdout",
     "output_type": "stream",
     "text": [
      "4555624712\n",
      "[1, 2, 3, 20]\n",
      "4554791944\n",
      "[1, 2, 3, 20]\n",
      "4555624776\n",
      "[20]\n",
      "4555624776\n",
      "[20, 20]\n"
     ]
    },
    {
     "data": {
      "text/plain": [
       "'\\n4. 如果全部都是默认参数，那么赋值的顺序按照默认参数定义的顺序。\\n'"
      ]
     },
     "execution_count": 29,
     "metadata": {},
     "output_type": "execute_result"
    }
   ],
   "source": [
    "# 注意：\n",
    "\"\"\"\n",
    "1. 默认值参数，如果自己传入了对应的参数值，那么使用自己传入的参数值进行赋值。\n",
    "              如果不传入参数值，会使用默认的值进行赋值\n",
    "2. 定义的时候，位置参数必须放在默认参数之前，如果放在默认参数之后，会被认为是默认参数。\n",
    "3. 使用默认值参数，默认值不能是可变类型。\n",
    "   如果是可变类型，那么调用时候，结果会跟调用次数相关\n",
    "\"\"\"\n",
    "def f(a=[]):\n",
    "    print(id(a))\n",
    "    a.append(20)\n",
    "    print(a)\n",
    "f([1,2,3])\n",
    "f([1,2,3])\n",
    "f()\n",
    "f() #这里因为a=[],所以在后面调用时，进行了累加\n",
    "'''\n",
    "4. 如果全部都是默认参数，那么赋值的顺序按照默认参数定义的顺序。\n",
    "'''"
   ]
  },
  {
   "cell_type": "code",
   "execution_count": 30,
   "metadata": {},
   "outputs": [
    {
     "name": "stdout",
     "output_type": "stream",
     "text": [
      "正在学习python，已经学了8天\n",
      "正在学习8，已经学了java天\n",
      "正在学习java，已经学了8天\n",
      "正在学习java，已经学了6天\n"
     ]
    }
   ],
   "source": [
    "def study(content=\"python\",day=8):\n",
    "    print(\"正在学习{}，已经学了{}天\".format(content,day))\n",
    "study()\n",
    "study(8,\"java\")\n",
    "study(\"java\",8)\n",
    "study(content=\"java\",day=6)"
   ]
  },
  {
   "cell_type": "code",
   "execution_count": 32,
   "metadata": {},
   "outputs": [
    {
     "name": "stdout",
     "output_type": "stream",
     "text": [
      "***\n",
      "***\n",
      "***\n",
      "***\n"
     ]
    }
   ],
   "source": [
    "#（3）命名关键字参数\n",
    "# 通过名字调用参数\n",
    "# 定义：\n",
    "\"\"\"\n",
    "def  函数名(*,命名关键字参数):\n",
    "   函数\n",
    "# 如果这样定义了函数的参数，所有命名关键字参数，必须通过传入参数的名字来传入对应参数\n",
    "  传入的格式 名字=值\n",
    "需要注意的问题：\n",
    "1. 命名关键字参数，必须通过名字传入\n",
    "2. 只要定义了命名关键字参数，就必须传入，除非给了默认值\n",
    "3. 参数传入的顺序可以任意，只要指定名字就可以。\n",
    "4. 命名关键字参数在调用 的时候，必须在定义函数时，已经定义了该名字，否则会报错\n",
    "\n",
    "命名关键字参数作用：\n",
    "（1）代码可读性强\n",
    "（2）可以忽略参数的顺序\n",
    "（3）如果有默认值，则更加简化调用\n",
    "\"\"\"\n",
    "def psNew(*,x,line=5):\n",
    "    for i in range(line):\n",
    "         print(\"*\" * x)\n",
    "psNew(x=3,line=4)"
   ]
  },
  {
   "cell_type": "code",
   "execution_count": 38,
   "metadata": {},
   "outputs": [
    {
     "name": "stdout",
     "output_type": "stream",
     "text": [
      "****\n",
      "****\n",
      "****\n",
      "\n",
      "\n",
      "****\n",
      "****\n",
      "****\n"
     ]
    }
   ],
   "source": [
    "# 注意：在顺序上，如果还有位置参数，那么命名关键字参数一定放在位置参数的后面\n",
    "def psNew(x,*,line):\n",
    "    for i in range(line):\n",
    "        print(\"*\" * x)\n",
    "psNew(4,line=3)\n",
    "print('\\n')\n",
    "psNew(line=3,x=4) # 位置参数也可以通过名字传入"
   ]
  },
  {
   "cell_type": "code",
   "execution_count": 42,
   "metadata": {},
   "outputs": [
    {
     "name": "stdout",
     "output_type": "stream",
     "text": [
      "[-7, 3, 2, 1]\n"
     ]
    }
   ],
   "source": [
    "li=[1,3,-7,2]\n",
    "# sort 中key是命名关键字参数。传入的是函数的名字,带括号表示调用\n",
    "li.sort(key=abs,reverse=True)\n",
    "print(li)"
   ]
  },
  {
   "cell_type": "code",
   "execution_count": 44,
   "metadata": {},
   "outputs": [
    {
     "name": "stdout",
     "output_type": "stream",
     "text": [
      "14\n"
     ]
    }
   ],
   "source": [
    "# (4)可变参数(收集参数)\n",
    "# 可以接受任意数量的位置参数，把参数以元组的形式存在\n",
    "# 问题：需要求两个数平方和\n",
    "# 格式\n",
    "\"\"\"\n",
    "def 函数名(* args):\n",
    "   函数体\n",
    "\"\"\"\n",
    "def s(* args):\n",
    "    sums=0\n",
    "    for i in args:\n",
    "        sums+=i**2\n",
    "    print(sums)\n",
    "s(1,2,3)"
   ]
  },
  {
   "cell_type": "code",
   "execution_count": 45,
   "metadata": {},
   "outputs": [
    {
     "name": "stdout",
     "output_type": "stream",
     "text": [
      "14\n",
      "14\n"
     ]
    }
   ],
   "source": [
    "# 定义函数的时候，* 代表打包\n",
    "# 调用函数的时候，使用 * 代表拆包，在参数的前面 *\n",
    "# s(* a)\n",
    "b=[1,2,3]\n",
    "s(* b)\n",
    "s(* [1,2,3])"
   ]
  },
  {
   "cell_type": "code",
   "execution_count": 46,
   "metadata": {},
   "outputs": [
    {
     "name": "stdout",
     "output_type": "stream",
     "text": [
      "张三\n",
      "20\n",
      "{}\n",
      "张三\n",
      "20\n",
      "{'city': '北京', 'gender': '女'}\n",
      "张三\n",
      "20\n",
      "{'city': '北京', 'gender': '女'}\n",
      "张三\n",
      "20\n",
      "{'city': '北京', 'gender': '女'}\n"
     ]
    }
   ],
   "source": [
    "# (5)关键字参数（收集参数）\n",
    "# 将命名关键字参数打包成字典。\n",
    "\"\"\"\n",
    "def 函数名(** kwargs):\n",
    "   函数体\n",
    "\"\"\"\n",
    "# 注册\n",
    "def register(name,age,**kwargs):\n",
    "    print(name)\n",
    "    print(age)\n",
    "    print(kwargs)\n",
    "# 名=值\n",
    "register(\"张三\",20)\n",
    "register(\"张三\",20,city=\"北京\",gender=\"女\")\n",
    "\n",
    "# 收集参数：可变参数、关键字：扩展函数的功能\n",
    "d={\"city\":\"北京\",\"gender\":\"女\"}\n",
    "\n",
    "# 拆包：调用函数时，可以是用**进行拆包\n",
    "register(\"张三\",20,**d)\n",
    "register(\"张三\",20,city=d[\"city\"],gender=d[\"gender\"])\n",
    "\n",
    "#注意：命名关键字参数跟可变参数，不能同时使用。"
   ]
  },
  {
   "cell_type": "code",
   "execution_count": 47,
   "metadata": {},
   "outputs": [
    {
     "name": "stdout",
     "output_type": "stream",
     "text": [
      "[5, 3, 1] dd\n",
      "[1, 3, 5]\n"
     ]
    }
   ],
   "source": [
    "def reverse1(li):\n",
    "    return li[::-1]\n",
    "l=[1,3,5]\n",
    "print(reverse1(l),\"dd\")\n",
    "print(l)"
   ]
  },
  {
   "cell_type": "code",
   "execution_count": 49,
   "metadata": {},
   "outputs": [
    {
     "name": "stdout",
     "output_type": "stream",
     "text": [
      "(22, 18, 10.0, 40)\n",
      "22 18 10.0 40\n"
     ]
    }
   ],
   "source": [
    "# 函数的多个返回值，都是以一个元组的形式存在\n",
    "def c(a,b):\n",
    "    return a+b,a-b,a/b,a*b\n",
    "    # return a-b\n",
    "    # return a/b\n",
    "    # return a*b\n",
    "print(c(20,2)) \n",
    "\n",
    "# 多个函数的返回值，如果使用多个参数进行接收，只能一一对应\n",
    "x,y,z,i=c(20,2)\n",
    "print(x,y,z,i)"
   ]
  },
  {
   "cell_type": "code",
   "execution_count": 62,
   "metadata": {},
   "outputs": [
    {
     "name": "stdout",
     "output_type": "stream",
     "text": [
      "\n",
      "    函数功能的基本介绍\n",
      "    :return: 传入的参数，返回值\n",
      "    \n",
      "Help on function fun in module __main__:\n",
      "\n",
      "fun()\n",
      "    函数功能的基本介绍\n",
      "    :return: 传入的参数，返回值\n",
      "\n",
      "Help on built-in function sum in module builtins:\n",
      "\n",
      "sum(iterable, start=0, /)\n",
      "    Return the sum of a 'start' value (default: 0) plus an iterable of numbers\n",
      "    \n",
      "    When the iterable is empty, return the start value.\n",
      "    This function is intended specifically for use with numeric values and may\n",
      "    reject non-numeric types.\n",
      "\n",
      "2 3 4\n"
     ]
    }
   ],
   "source": [
    "# 4. 函数的文档\n",
    "def fun():\n",
    "    \"\"\"\n",
    "    函数功能的基本介绍\n",
    "    :return: 传入的参数，返回值\n",
    "    \"\"\"\n",
    "print(fun.__doc__)\n",
    "help(fun)\n",
    "help(sum)\n",
    "def a(y,* args,**kwargs):\n",
    "    print(*args)\n",
    "a(1,2,3,4,z=\"vv\",a=\"dd\",b=\"\")"
   ]
  },
  {
   "cell_type": "code",
   "execution_count": 63,
   "metadata": {},
   "outputs": [
    {
     "name": "stdout",
     "output_type": "stream",
     "text": [
      "执行了a方法\n",
      "执行了b方法\n",
      "执行了c方法\n"
     ]
    },
    {
     "data": {
      "text/plain": [
       "28"
      ]
     },
     "execution_count": 63,
     "metadata": {},
     "output_type": "execute_result"
    }
   ],
   "source": [
    "# 3.证明运算符优先级高会影响结合性，但不会像数学上那样，先进行计算。\n",
    "# 例如：a + b * c，首先计算a（使用函数来证明）。\n",
    "# 8+4*5\n",
    "\n",
    "def b():\n",
    "    print(\"执行了b方法\")\n",
    "    return 4\n",
    "def c():\n",
    "    print(\"执行了c方法\")\n",
    "    return 5\n",
    "def a():\n",
    "    print(\"执行了a方法\")\n",
    "    return 8\n",
    "a()+b()*c()"
   ]
  },
  {
   "cell_type": "code",
   "execution_count": null,
   "metadata": {},
   "outputs": [],
   "source": []
  }
 ],
 "metadata": {
  "kernelspec": {
   "display_name": "Python 3",
   "language": "python",
   "name": "python3"
  },
  "language_info": {
   "codemirror_mode": {
    "name": "ipython",
    "version": 3
   },
   "file_extension": ".py",
   "mimetype": "text/x-python",
   "name": "python",
   "nbconvert_exporter": "python",
   "pygments_lexer": "ipython3",
   "version": "3.7.3"
  }
 },
 "nbformat": 4,
 "nbformat_minor": 2
}
