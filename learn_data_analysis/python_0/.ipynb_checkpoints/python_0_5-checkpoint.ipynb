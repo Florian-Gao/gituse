{
 "cells": [
  {
   "cell_type": "markdown",
   "metadata": {},
   "source": [
    "# stage0\n",
    "## day9"
   ]
  },
  {
   "cell_type": "markdown",
   "metadata": {},
   "source": [
    "### class"
   ]
  },
  {
   "cell_type": "code",
   "execution_count": 7,
   "metadata": {},
   "outputs": [
    {
     "data": {
      "text/plain": [
       "'\\n# 1. 类的定义\\n\"\"\"\\n格式：\\nclass 类名[(父类)]:\\n    类体 \\n'"
      ]
     },
     "execution_count": 7,
     "metadata": {},
     "output_type": "execute_result"
    }
   ],
   "source": [
    "'''\n",
    "# 1. 类的定义\n",
    "\"\"\"\n",
    "格式：\n",
    "class 类名[(父类)]:\n",
    "    类体 \n",
    "'''"
   ]
  },
  {
   "cell_type": "code",
   "execution_count": 4,
   "metadata": {},
   "outputs": [],
   "source": [
    "# 一、概念\n",
    "# 1. 对象： 对象也叫做实例。万物皆对象。 对象是具有行为和属性的。\n",
    "# 举例：桌子，椅子，你，你同桌，小猫，小狗。。。。\n",
    "# 属性： 名词\n",
    "# 行为： 动词\n",
    "\n",
    "# 2. 类：一个类别，按照需求划分，把具有相同属性和行为的对象划分成一个类。\n",
    "# 学生管理系统， Student  Teacher\n",
    "# 公交刷卡系统， Person ticket\n",
    "# 划分的时候，一般来说，相同类别的对象之间总是比不同类别的对象之间更加相似。\n",
    "\n",
    "# 3. 类和对象之间的关系\n",
    "# 类是对象的抽象，对象是类的具体体现\n"
   ]
  },
  {
   "cell_type": "code",
   "execution_count": 5,
   "metadata": {},
   "outputs": [
    {
     "name": "stdout",
     "output_type": "stream",
     "text": [
      "执行__init__方法\n",
      "张三\n",
      "20\n"
     ]
    }
   ],
   "source": [
    "# (2) 在类中定义属性：对象的初始化__init__,\n",
    "# init方法虽然是创建对象的时候执行的方法，但是init方法不是创建对象的方法\n",
    "class Person:\n",
    "    def __init__(self):\n",
    "        print(\"执行__init__方法\")\n",
    "        # 对象的属性通过  self.属性名=属性值\n",
    "        # 对于当前的Person类产生的所有对象都有作用，所有对象都会包含name属性\n",
    "        self.name=\"张三\"\n",
    "        self.age=\"20\"\n",
    "p1=Person()\n",
    "# 获得对象的属性\n",
    "print(p1.name)\n",
    "print(p1.age)"
   ]
  },
  {
   "cell_type": "code",
   "execution_count": 6,
   "metadata": {},
   "outputs": [
    {
     "name": "stdout",
     "output_type": "stream",
     "text": [
      "执行__init__方法\n",
      "张三\n",
      "20\n",
      "执行__init__方法\n",
      "李四\n",
      "30\n"
     ]
    }
   ],
   "source": [
    "# 上面的定义，所有的对象都叫张三，都是20，所以改进\n",
    "# 通过参数传入的形式来创建对象\n",
    "# 如果信息跟人本身的对象没有太多关系，尽量不要定义成他的属性\n",
    "# 如果需要使用，可以采用参数的形式传递进来\n",
    "class Person:\n",
    "    def __init__(self,name,age):\n",
    "        print(\"执行__init__方法\")\n",
    "        self.name=name\n",
    "        self.age=age\n",
    "    # 在类的实例方法中调用实例属性，需要通过self（因为self就是当前对象）\n",
    "    def run(self,place):\n",
    "        print(\"{}在{}跑步\".format(self.name,place))\n",
    "    def walk(self):\n",
    "        print(\"我在走路\")\n",
    "p1=Person(\"张三\",20)\n",
    "# print(p1.name)\n",
    "# print(p1.age)\n",
    "p1.run(\"公路\")\n"
   ]
  },
  {
   "cell_type": "code",
   "execution_count": 8,
   "metadata": {},
   "outputs": [
    {
     "name": "stdout",
     "output_type": "stream",
     "text": [
      "旺财\n",
      "3\n",
      "中华小神犬\n",
      "汪汪汪\n",
      "旺财正在吃A牌子狗粮\n",
      "睡觉~~~\n"
     ]
    }
   ],
   "source": [
    "# 能够定义在init方法中的属性，一定是类的强依赖关系。\n",
    "class Dog:\n",
    "    def __init__(self,name):\n",
    "        self.name=name\n",
    "        self.age=None\n",
    "        self.type=None\n",
    "    def bark(self):\n",
    "        print(\"汪汪汪\")\n",
    "    def eating(self,b):\n",
    "        print(\"{}正在吃{}牌子狗粮\".format(self.name,b))\n",
    "    def sleep(self):\n",
    "        print(\"睡觉~~~\")\n",
    "dog1=Dog(\"旺财\")\n",
    "dog1.age=2\n",
    "dog1.type=\"中华小神犬\"\n",
    "dog1.age=3\n",
    "print(dog1.name)\n",
    "print(dog1.age)\n",
    "print(dog1.type)\n",
    "dog1.bark()\n",
    "dog1.eating(\"A\")\n",
    "dog1.sleep()"
   ]
  },
  {
   "cell_type": "code",
   "execution_count": 9,
   "metadata": {},
   "outputs": [],
   "source": [
    "# 3. 类中的成员\n",
    "\"\"\"\n",
    "类中的成员：实例属性和实例方法（上午）\n",
    "类属性、类方法\n",
    "静态方法\n",
    "\"\"\"\n",
    "# （1）类属性\n",
    "# 类属性，直接定义在类下，不需要通过init方法，以变量名绑定的形式来进行赋值\n",
    "# 实例属性是跟每一个对象（实例）相关，不是公用的（独享）\n",
    "# 类属性只跟类有关，跟每一个对象无关，所有对象公用（共享）\n",
    "class Person:\n",
    "    desc=\"人的描述\"  #类属性\n",
    "    def __init__(self,name):\n",
    "        self.name=name  # 实例属性\n"
   ]
  },
  {
   "cell_type": "code",
   "execution_count": 16,
   "metadata": {},
   "outputs": [
    {
     "name": "stdout",
     "output_type": "stream",
     "text": [
      "张三\n",
      "人的描述_new\n",
      "人的描述_new\n"
     ]
    }
   ],
   "source": [
    "# 访问\n",
    "# 实例属性访问：必须先有实例，通过实例才能访问到实例属性\n",
    "p1=Person(\"张三\")\n",
    "print(p1.name)\n",
    "p1.name=\"李四\"\n",
    "\n",
    "# 类属性访问：有两种方式：类名.类属性；  对象.类属性\n",
    "# 类名.类属性，可以访问，可以修改\n",
    "# 对象.类属性，可以访问，但是不能修改，只能给对象加一个新的属性\n",
    "\n",
    "# 建议访问的时候，就使用类名.类属性\n",
    "# 类名.类属性\n",
    "print(Person.desc)\n",
    "# 对象.类属性\n",
    "print(p1.desc)"
   ]
  },
  {
   "cell_type": "code",
   "execution_count": 17,
   "metadata": {},
   "outputs": [
    {
     "name": "stdout",
     "output_type": "stream",
     "text": [
      "人的描述_new\n",
      "人的描述_new\n",
      "\n",
      "\n",
      "人的描述\n",
      "人的描述_new\n"
     ]
    }
   ],
   "source": [
    "p1.desc=\"人的描述_new\"  # 给某一个实例，加了一个实例属性\n",
    "print(Person.desc)\n",
    "print(p1.desc)\n",
    "print('\\n')\n",
    "Person.desc=\"人的描述\"\n",
    "print(Person.desc)\n",
    "print(p1.desc)"
   ]
  },
  {
   "cell_type": "code",
   "execution_count": 18,
   "metadata": {},
   "outputs": [],
   "source": [
    "# (2) 类方法\n",
    "# 实例方法：跟每一个对象相关联的方法（上午）\n",
    "# 类方法：只跟类相关的方法\n",
    "#\n",
    "class Person:\n",
    "    # cls当前类\n",
    "    @classmethod  # 类方法定义的时候，需要加一个classmethod装饰器\n",
    "    def class_method(cls):\n",
    "        print(\"这是类方法\")\n",
    "        print(cls is Person)\n",
    "    def run(self):  #实例方法\n",
    "        print(\"在跑步\")\n"
   ]
  },
  {
   "cell_type": "code",
   "execution_count": 19,
   "metadata": {},
   "outputs": [
    {
     "name": "stdout",
     "output_type": "stream",
     "text": [
      "这是类方法\n",
      "True\n",
      "这是类方法\n",
      "True\n"
     ]
    }
   ],
   "source": [
    "# 访问\n",
    "# 实例方法：需要通过实例，才能访问实例下的访问\n",
    "# 类方法：类名.类方法(建议)     对象.类方法\n",
    "p1=Person()\n",
    "Person.class_method()\n",
    "p1.class_method()"
   ]
  },
  {
   "cell_type": "code",
   "execution_count": 20,
   "metadata": {},
   "outputs": [
    {
     "name": "stdout",
     "output_type": "stream",
     "text": [
      "张三 20\n",
      "False\n"
     ]
    }
   ],
   "source": [
    "# 应用场合：给类方法实现复制对象的功能\n",
    "class Person:\n",
    "    def __init__(self,name,age):\n",
    "        self.name=name\n",
    "        self.age=age\n",
    "    # cls当前类\n",
    "    @classmethod  # 类方法定义的时候，需要加一个classmethod装饰器\n",
    "    def class_method(cls):\n",
    "        print(\"这是类方法\")\n",
    "        print(cls is Person)\n",
    "    @classmethod\n",
    "    def copy(cls,p):\n",
    "        return Person(p.name,p.age)\n",
    "    def run(self):  #实例方法\n",
    "        print(\"在跑步\")\n",
    "p1=Person(\"张三\",20)\n",
    "p2=Person.copy(p1)\n",
    "print(p2.name,p2.age)\n",
    "print(p1 is p2)"
   ]
  },
  {
   "cell_type": "code",
   "execution_count": 23,
   "metadata": {},
   "outputs": [],
   "source": [
    "'''\n",
    "问题：类方法和实例方法对于类属性、实例属性的访问\n",
    "1. 类方法访问类属性\n",
    "2. 类方法访问实例属性\n",
    "3. 实例方法访问类属性\n",
    "4. 实例方法访问实例属性\n",
    "'''\n",
    "class Person:\n",
    "    desc=\"人的描述\"\n",
    "    def __init__(self,name,age):\n",
    "        self.name=name\n",
    "        self.age=age\n",
    "    # cls当前类\n",
    "    @classmethod  # 类方法定义的时候，需要加一个classmethod装饰器\n",
    "    def class_method(cls,p):\n",
    "        print(\"这是类方法\")\n",
    "        print(cls is Person)\n",
    "        # 类属性访问：类.属性\n",
    "        print(\"在类方法下访问类属性：\",Person.desc)\n",
    "        # 在类方法下访问类属性，建议使用cls\n",
    "        print(\"在类方法下访问类属性：\",cls.desc)\n",
    "\n",
    "        # 一般不存在这种情况\n",
    "        print(\"在类方法下访问实例属性\",p.name)\n",
    "\n",
    "    def run(self):  #实例方法\n",
    "        # 实例方法中访问类属性\n",
    "        print(\"实例方法中访问类属性：\",Person.desc)\n",
    "        # self.__class__表示当前对象所在的类：通过self去找cls  (建议使用)\n",
    "        print(\"实例方法中访问类属性：\",self.__class__.desc)\n",
    "\n",
    "        #实例方法中访问实例属性，直接使用self\n",
    "        print(\"{}在跑步\".format(self.name))"
   ]
  },
  {
   "cell_type": "code",
   "execution_count": 24,
   "metadata": {},
   "outputs": [
    {
     "name": "stdout",
     "output_type": "stream",
     "text": [
      "这是类方法\n",
      "True\n",
      "在类方法下访问类属性： 人的描述\n",
      "在类方法下访问类属性： 人的描述\n",
      "在类方法下访问实例属性 张三\n",
      "实例方法中访问类属性： 人的描述\n",
      "实例方法中访问类属性： 人的描述\n",
      "张三在跑步\n"
     ]
    }
   ],
   "source": [
    "# （1）类方法访问类属性\n",
    "#   在类方法下访问类属性，建议使用【cls.类属性名】\n",
    "\n",
    "# （2）类方法访问实例属性\n",
    "#  类方法：承诺只跟类有关，跟对象无关，所以在类方法下访问实例属性 ，不合理\n",
    "p1=Person(\"张三\",20)\n",
    "Person.class_method(p1)\n",
    "p1.run()"
   ]
  },
  {
   "cell_type": "code",
   "execution_count": 26,
   "metadata": {},
   "outputs": [],
   "source": [
    "# （3）实例方法访问类属性\n",
    "# 通过类名.类属性\n",
    "# print(\"实例方法中访问类属性：\", Person.desc)\n",
    "# 通过self.__class__.类属性（建议使用）\n",
    "# print(\"实例方法中访问类属性：\", self.__class__.desc)\n",
    "\n",
    "# （4）实例方法访问实例属性\n",
    "#实例方法中访问实例属性，直接使用self"
   ]
  },
  {
   "cell_type": "markdown",
   "metadata": {},
   "source": [
    "###  魔法方法"
   ]
  },
  {
   "cell_type": "code",
   "execution_count": 27,
   "metadata": {},
   "outputs": [
    {
     "name": "stdout",
     "output_type": "stream",
     "text": [
      "执行new方法\n",
      "执行init方法\n"
     ]
    }
   ],
   "source": [
    "\n",
    "# python中定义了特殊方法   格式  __xx__ 魔法方法\n",
    "# 不需要主动调用，也不是显示调用，当符合一定条件的时候，自动调用\n",
    "# 1. __new__\n",
    "# 静态方法\n",
    "# 在创建实例的时候，真正创建实例的方法，方法中有return ，返回的值是真正创建的实例\n",
    "class Person:\n",
    "    def __new__(cls, *args, **kwargs):\n",
    "        print(\"执行new方法\")\n",
    "        return super().__new__(cls) #super：调动父类的方法\n",
    "    def __init__(self,name):\n",
    "        print(\"执行init方法\")\n",
    "        self.name=name\n",
    "p1=Person(\"张三\")\n",
    "# print(p1.name)\n",
    "\n",
    "# 2. __init__\n",
    "#实例方法。如果在new中return的新创建的对象，才会执行init对属性进行初始化。\n",
    "# 否则不会执行init"
   ]
  },
  {
   "cell_type": "code",
   "execution_count": null,
   "metadata": {},
   "outputs": [],
   "source": []
  }
 ],
 "metadata": {
  "kernelspec": {
   "display_name": "Python 3",
   "language": "python",
   "name": "python3"
  },
  "language_info": {
   "codemirror_mode": {
    "name": "ipython",
    "version": 3
   },
   "file_extension": ".py",
   "mimetype": "text/x-python",
   "name": "python",
   "nbconvert_exporter": "python",
   "pygments_lexer": "ipython3",
   "version": "3.7.3"
  }
 },
 "nbformat": 4,
 "nbformat_minor": 2
}
